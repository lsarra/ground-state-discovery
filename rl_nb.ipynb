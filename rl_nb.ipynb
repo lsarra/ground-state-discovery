{
 "cells": [
  {
   "cell_type": "code",
   "execution_count": 1,
   "metadata": {},
   "outputs": [],
   "source": [
    "from datetime import datetime\n",
    "import numpy as np\n",
    "\n",
    "import dreamcoder as dc\n",
    "from dreamcoder.frontier import Frontier, FrontierEntry\n",
    "from dreamcoder.fragmentGrammar import FragmentGrammar\n",
    "from dreamcoder.grammar import Grammar\n",
    "from dreamcoder.program import Program\n",
    "from dreamcoder.program import Abstraction\n",
    "from dreamcoder.utilities import numberOfCPUs\n",
    "\n",
    "import dreamcoder.domains.quantum_circuits.primitives as pr\n",
    "from dreamcoder.domains.quantum_circuits.primitives import execute_program, get_qiskit_circuit, tcircuit, no_op\n",
    "from dreamcoder.domains.quantum_circuits.tasks import QuantumTask\n",
    "\n",
    "\n",
    "%load_ext line_profiler\n",
    "%load_ext autoreload\n",
    "%autoreload 2\n"
   ]
  },
  {
   "cell_type": "code",
   "execution_count": 2,
   "metadata": {},
   "outputs": [],
   "source": [
    "n_qubit_tasks = 3\n",
    "evaluationTimeout = 0.01\n",
    "\n",
    "enum_settings = {\n",
    "    \"maximumFrontier\": 1,\n",
    "    \n",
    "}\n",
    "library_settings = {\n",
    "    \"structurePenalty\": 6,  # increase regularization 3 4 (it was 1), look at a few in [1,15]\n",
    "    \"pseudoCounts\": 10,  # increase to 100, test a few values\n",
    "    \"topK\": 2,\n",
    "    \"arity\": 3,\n",
    "}\n",
    "\n",
    "# Unfortunately these flags are set globally\n",
    "dc.domains.quantum_circuits.primitives.GLOBAL_LIMITED_CONNECTIVITY = False\n",
    "dc.domains.quantum_circuits.primitives.GLOBAL_NQUBIT_TASK = n_qubit_tasks "
   ]
  },
  {
   "cell_type": "code",
   "execution_count": 3,
   "metadata": {},
   "outputs": [],
   "source": [
    "def visualize_program(code: str):\n",
    "    \"Helper function to plot a circuit program\"\n",
    "    arguments = (*range(n_qubit_tasks), (n_qubit_tasks, ()))\n",
    "    program = Program.parse(code)\n",
    "    circuit = execute_program(program, arguments)\n",
    "    reconstructed_circuit = get_qiskit_circuit(circuit)\n",
    "    print(code)\n",
    "    print(reconstructed_circuit.circuit)"
   ]
  },
  {
   "cell_type": "code",
   "execution_count": 4,
   "metadata": {},
   "outputs": [],
   "source": [
    "primitives = [\n",
    "    pr.p_hadamard,\n",
    "    pr.p_t,\n",
    "    pr.p_tdg,\n",
    "    pr.p_cnot,\n",
    "    pr.p_x,\n",
    "]\n",
    "grammar = Grammar.uniform(primitives) # continuationType=tcircuit not supported (non-unary argument)"
   ]
  },
  {
   "cell_type": "code",
   "execution_count": 15,
   "metadata": {},
   "outputs": [
    {
     "name": "stdout",
     "output_type": "stream",
     "text": [
      "(lambda (lambda (lambda (lambda (cnot (x (x (x $0 $1) $1) $1) $1 $2)))))\n",
      "     ┌───┐┌───┐┌───┐     \n",
      "q_0: ┤ X ├┤ X ├┤ X ├──■──\n",
      "     └───┘└───┘└───┘┌─┴─┐\n",
      "q_1: ───────────────┤ X ├\n",
      "                    └───┘\n",
      "q_2: ────────────────────\n",
      "                         \n"
     ]
    }
   ],
   "source": [
    "programs = [\n",
    "    \"(lambda (lambda (lambda (lambda (cnot (x $0 $1) $1 $2)))))\",\n",
    "    \"(lambda (lambda (lambda (lambda (cnot (x (x (x $0 $1) $1) $1) $1 $2)))))\",\n",
    "    \"(lambda (lambda (lambda (lambda (x (x (x $0 $1) $1) $1) ))))\",\n",
    "    \"(lambda (lambda (lambda (lambda (cnot (x (h (x $0 $2) $2) $2) $2 $1)))))\",\n",
    "    \"(lambda (lambda (lambda (lambda (cnot (x (h (x (h $0 $2) $2) $2) $2) $2 $1)))))\",\n",
    "    \"(lambda (lambda (lambda (lambda (cnot (x (h (x (h (x (h (x $0 $2) $2) $2) $2) $2) $2) $2) $2 $1)))))\",\n",
    "]\n",
    "visualize_program(programs[1])"
   ]
  },
  {
   "cell_type": "code",
   "execution_count": 19,
   "metadata": {},
   "outputs": [],
   "source": [
    "# Generate a few example tasks\n",
    "solutions = {}  # dict of task:solution\n",
    "\n",
    "for code in programs:\n",
    "    arguments = (*range(n_qubit_tasks), (n_qubit_tasks, ()))\n",
    "    program = Program.parse(code)\n",
    "    circuit = execute_program(program, arguments)\n",
    "    task = QuantumTask(f\"t_{len(solutions):03d}_{code}\", circuit)\n",
    "\n",
    "    # 0 = solved, -inf = not solved\n",
    "    likelihood = task.logLikelihood(program, evaluationTimeout)\n",
    "    prior = grammar.logLikelihood(task.request, program)\n",
    "\n",
    "    frontier_entry = FrontierEntry(\n",
    "        program=program, logLikelihood=likelihood, logPrior=prior\n",
    "    )\n",
    "\n",
    "    solutions[task] = Frontier(\n",
    "        frontier=[frontier_entry],  # multiple solutions are allowed\n",
    "        task=task,\n",
    "    )\n",
    "tasks = list(solutions.keys())"
   ]
  },
  {
   "cell_type": "code",
   "execution_count": 20,
   "metadata": {},
   "outputs": [],
   "source": [
    "generator = dc.dreamcoder.ecIterator(\n",
    "    grammar=grammar,\n",
    "    tasks=tasks,\n",
    "    testingTasks=[],\n",
    "    outputPrefix=f\"experimentOutputs/quantum/{datetime.now().isoformat()}\",\n",
    "    enumerationTimeout=10,\n",
    "    iterations=3,\n",
    "    taskBatchSize=len(tasks),  # smaller should be faster\n",
    "    taskReranker=\"randomShuffle\",  # default\n",
    "    CPUs=1,#numberOfCPUs(),\n",
    "    solver=\"bottom\",\n",
    "    compressor=\"pypy\",\n",
    "    **enum_settings,\n",
    "    **library_settings,\n",
    ")"
   ]
  },
  {
   "cell_type": "code",
   "execution_count": 21,
   "metadata": {},
   "outputs": [
    {
     "name": "stderr",
     "output_type": "stream",
     "text": [
      "\u001b[94mdreamcoder.py:191\u001b[0m > Warning: Recognition model needs feature extractor. Ignoring recognition model.\n",
      "\u001b[94mdreamcoder.py:270\u001b[0m > Running EC on polymathiclin033.flatironinstitute.org @ 2024-08-20 08:35:48.819377 with 1 CPUs and parameters:\n",
      "\u001b[94mdreamcoder.py:273\u001b[0m > \t noConsolidation  =  False\n",
      "\u001b[94mdreamcoder.py:273\u001b[0m > \t iterations  =  3\n",
      "\u001b[94mdreamcoder.py:273\u001b[0m > \t enumerationTimeout  =  10\n",
      "\u001b[94mdreamcoder.py:273\u001b[0m > \t useRecognitionModel  =  False\n",
      "\u001b[94mdreamcoder.py:273\u001b[0m > \t topk_use_only_likelihood  =  False\n",
      "\u001b[94mdreamcoder.py:273\u001b[0m > \t pseudoCounts  =  10\n",
      "\u001b[94mdreamcoder.py:273\u001b[0m > \t aic  =  1.0\n",
      "\u001b[94mdreamcoder.py:273\u001b[0m > \t structurePenalty  =  6\n",
      "\u001b[94mdreamcoder.py:273\u001b[0m > \t arity  =  3\n",
      "\u001b[94mdreamcoder.py:273\u001b[0m > \t taskBatchSize  =  6\n",
      "\u001b[94mdreamcoder.py:273\u001b[0m > \t taskReranker  =  randomShuffle\n",
      "\u001b[94mdreamcoder.py:273\u001b[0m > \t storeTaskMetrics  =  False\n",
      "\u001b[94mdreamcoder.py:273\u001b[0m > \t rewriteTaskMetrics  =  True\n",
      "\u001b[94mdreamcoder.py:273\u001b[0m > \t maximumFrontier  =  1\n",
      "\u001b[94mdreamcoder.py:273\u001b[0m > \t solver  =  bottom\n",
      "\u001b[94mdreamcoder.py:273\u001b[0m > \t topK  =  2\n",
      "\u001b[94mdreamcoder.py:274\u001b[0m > \t evaluationTimeout  =  1.0\n",
      "\u001b[94mdreamcoder.py:275\u001b[0m > \t cuda  =  False\n",
      "\u001b[94mdreamcoder.py:276\u001b[0m >\n",
      "\u001b[94mdreamcoder.py:282\u001b[0m > Currently using this much memory: 901074944\n",
      "\u001b[94mdreamcoder.py:282\u001b[0m > Currently using this much memory: 901074944\n",
      "\u001b[94mdreamcoder.py:403\u001b[0m > Using a waking task batch of size: 6\n",
      "\u001b[94menumeration.py:78\u001b[0m > Disabling parallelism on the Python side because we only have one job.\n",
      "\u001b[94menumeration.py:79\u001b[0m > If you are using ocaml or bottom, there could still be parallelism.\n",
      "\u001b[94menumeration.py:163\u001b[0m > (frontend) Launching int -> int -> int -> tcircuit -> tcircuit (6 tasks) w/ 1 CPUs. 0.000000 <= MDL < 100.000000. Timeout 10.000000.\n",
      "\u001b[94mgrammar.py:2048\u001b[0m >  -- Bottom up enumeration, cost 0\n",
      "\u001b[94mgrammar.py:2048\u001b[0m >  -- Bottom up enumeration, cost 1\n",
      "\u001b[94mgrammar.py:2048\u001b[0m >  -- Bottom up enumeration, cost 2\n",
      "\u001b[94mgrammar.py:2048\u001b[0m >  -- Bottom up enumeration, cost 3\n",
      "\u001b[94mgrammar.py:2048\u001b[0m >  -- Bottom up enumeration, cost 4\n",
      "\u001b[94mgrammar.py:2048\u001b[0m >  -- Bottom up enumeration, cost 5\n",
      "\u001b[94mgrammar.py:2048\u001b[0m >  -- Bottom up enumeration, cost 6\n",
      "\u001b[94mgrammar.py:2048\u001b[0m >  -- Bottom up enumeration, cost 7\n",
      "\u001b[94mgrammar.py:2048\u001b[0m >  -- Bottom up enumeration, cost 8\n",
      "\u001b[94mgrammar.py:2048\u001b[0m >  -- Bottom up enumeration, cost 9\n",
      "\u001b[94mgrammar.py:2048\u001b[0m >  -- Bottom up enumeration, cost 10\n",
      "\u001b[94mgrammar.py:2048\u001b[0m >  -- Bottom up enumeration, cost 11\n",
      "\u001b[94mgrammar.py:2048\u001b[0m >  -- Bottom up enumeration, cost 12\n",
      "\u001b[94mgrammar.py:2048\u001b[0m >  -- Bottom up enumeration, cost 13\n",
      "\u001b[94mgrammar.py:2048\u001b[0m >  -- Bottom up enumeration, cost 14\n",
      "\u001b[94mgrammar.py:2048\u001b[0m >  -- Bottom up enumeration, cost 15\n",
      "\u001b[94mgrammar.py:2048\u001b[0m >  -- Bottom up enumeration, cost 16\n",
      "\u001b[94mgrammar.py:2048\u001b[0m >  -- Bottom up enumeration, cost 17\n",
      "\u001b[94mgrammar.py:2048\u001b[0m >  -- Bottom up enumeration, cost 18\n",
      "\u001b[94mgrammar.py:2048\u001b[0m >  -- Bottom up enumeration, cost 19\n",
      "\u001b[94mgrammar.py:2048\u001b[0m >  -- Bottom up enumeration, cost 20\n",
      "\u001b[94mgrammar.py:2048\u001b[0m >  -- Bottom up enumeration, cost 21\n",
      "\u001b[94mgrammar.py:2048\u001b[0m >  -- Bottom up enumeration, cost 22\n",
      "\u001b[94mgrammar.py:2048\u001b[0m >  -- Bottom up enumeration, cost 23\n",
      "\u001b[94mgrammar.py:2048\u001b[0m >  -- Bottom up enumeration, cost 24\n"
     ]
    },
    {
     "name": "stderr",
     "output_type": "stream",
     "text": [
      "\u001b[94mgrammar.py:2048\u001b[0m >  -- Bottom up enumeration, cost 25\n",
      "\u001b[94mgrammar.py:2048\u001b[0m >  -- Bottom up enumeration, cost 26\n",
      "\u001b[94mgrammar.py:2048\u001b[0m >  -- Bottom up enumeration, cost 27\n",
      "\u001b[94mgrammar.py:2048\u001b[0m >  -- Bottom up enumeration, cost 28\n",
      "\u001b[94mgrammar.py:2048\u001b[0m >  -- Bottom up enumeration, cost 29\n",
      "\u001b[94mgrammar.py:2048\u001b[0m >  -- Bottom up enumeration, cost 30\n",
      "\u001b[94mgrammar.py:2048\u001b[0m >  -- Bottom up enumeration, cost 31\n",
      "\u001b[94mgrammar.py:2048\u001b[0m >  -- Bottom up enumeration, cost 32\n",
      "\u001b[94mgrammar.py:2048\u001b[0m >  -- Bottom up enumeration, cost 33\n",
      "\u001b[94mgrammar.py:2048\u001b[0m >  -- Bottom up enumeration, cost 34\n",
      "\u001b[94mgrammar.py:2048\u001b[0m >  -- Bottom up enumeration, cost 35\n",
      "\u001b[94mgrammar.py:2048\u001b[0m >  -- Bottom up enumeration, cost 36\n",
      "\u001b[94menumeration.py:446\u001b[0m > Enumerated 33140 programs\n",
      "\u001b[94mdreamcoder.py:565\u001b[0m > Generative model enumeration results:\n",
      "\u001b[94mdreamcoder.py:566\u001b[0m > HIT t_003_(lambda (lambda (lambda (lambda (cnot (x (h (x $0 $2) $2) $2) $2 $1))))) w/ (lambda (lambda (lambda (lambda (cnot (x (h (x $0 $2) $2) $2) $2 $1))))) ; log prior = -14.451859 ; log likelihood = 0.000000\n",
      "HIT t_002_(lambda (lambda (lambda (lambda (x (x (x $0 $1) $1) $1) )))) w/ (lambda (lambda (lambda (lambda (x $0 $1))))) ; log prior = -4.682131 ; log likelihood = 0.000000\n",
      "HIT t_001_(lambda (lambda (lambda (lambda (cnot (x (x (x $0 $1) $1) $1) $1 $2))))) w/ (lambda (lambda (lambda (lambda (cnot (x $0 $1) $1 $2))))) ; log prior = -8.671115 ; log likelihood = 0.000000\n",
      "HIT t_005_(lambda (lambda (lambda (lambda (cnot (x (h (x (h (x (h (x $0 $2) $2) $2) $2) $2) $2) $2) $2 $1))))) w/ (lambda (lambda (lambda (lambda (cnot (h $0 $2) $2 $1))))) ; log prior = -8.671115 ; log likelihood = 0.000000\n",
      "HIT t_000_(lambda (lambda (lambda (lambda (cnot (x $0 $1) $1 $2))))) w/ (lambda (lambda (lambda (lambda (cnot (x $0 $1) $1 $2))))) ; log prior = -8.671115 ; log likelihood = 0.000000\n",
      "HIT t_004_(lambda (lambda (lambda (lambda (cnot (x (h (x (h $0 $2) $2) $2) $2) $2 $1))))) w/ (lambda (lambda (lambda (lambda (h (x (h (cnot (x $0 $2) $2 $1) $2) $2) $2))))) ; log prior = -17.342231 ; log likelihood = 0.000000\n",
      "Hits 6/6 tasks\n",
      "Average description length of a program solving a task: 10.414928 nats\n",
      "\u001b[94mutilities.py:160\u001b[0m > Generative model average:  1 sec.\tmedian: 0 \tmax: 5 \tstandard deviation 2\n",
      "\u001b[94mdreamcoder.py:282\u001b[0m > Currently using this much memory: 953163776\n",
      "\u001b[94mdreamcoder.py:428\u001b[0m > Frontiers discovered top down: 6\n",
      "\u001b[94mdreamcoder.py:429\u001b[0m > Total frontiers: 6\n",
      "\u001b[94mdreamcoder.py:470\u001b[0m > Currently using this much memory: 953163776\n",
      "\u001b[94mdreamcoder.py:675\u001b[0m > Showing the top 5 programs in each frontier being sent to the compressor:\n",
      "\u001b[94mdreamcoder.py:679\u001b[0m > t_000_(lambda (lambda (lambda (lambda (cnot (x $0 $1) $1 $2)))))\n",
      "\u001b[94mdreamcoder.py:681\u001b[0m > 0.00\t(lambda (lambda (lambda (lambda (cnot (x $0 $1) $1 $2)))))\n",
      "\u001b[94mdreamcoder.py:682\u001b[0m >\n",
      "\u001b[94mdreamcoder.py:679\u001b[0m > t_001_(lambda (lambda (lambda (lambda (cnot (x (x (x $0 $1) $1) $1) $1 $2)))))\n",
      "\u001b[94mdreamcoder.py:681\u001b[0m > 0.00\t(lambda (lambda (lambda (lambda (cnot (x $0 $1) $1 $2)))))\n",
      "\u001b[94mdreamcoder.py:682\u001b[0m >\n",
      "\u001b[94mdreamcoder.py:679\u001b[0m > t_002_(lambda (lambda (lambda (lambda (x (x (x $0 $1) $1) $1) ))))\n",
      "\u001b[94mdreamcoder.py:681\u001b[0m > 0.00\t(lambda (lambda (lambda (lambda (x $0 $1)))))\n",
      "\u001b[94mdreamcoder.py:682\u001b[0m >\n",
      "\u001b[94mdreamcoder.py:679\u001b[0m > t_003_(lambda (lambda (lambda (lambda (cnot (x (h (x $0 $2) $2) $2) $2 $1)))))\n",
      "\u001b[94mdreamcoder.py:681\u001b[0m > 0.00\t(lambda (lambda (lambda (lambda (cnot (x (h (x $0 $2) $2) $2) $2 $1)))))\n",
      "\u001b[94mdreamcoder.py:682\u001b[0m >\n",
      "\u001b[94mdreamcoder.py:679\u001b[0m > t_004_(lambda (lambda (lambda (lambda (cnot (x (h (x (h $0 $2) $2) $2) $2) $2 $1)))))\n",
      "\u001b[94mdreamcoder.py:681\u001b[0m > 0.00\t(lambda (lambda (lambda (lambda (h (x (h (cnot (x $0 $2) $2 $1) $2) $2) $2)))))\n",
      "\u001b[94mdreamcoder.py:682\u001b[0m >\n",
      "\u001b[94mdreamcoder.py:679\u001b[0m > t_005_(lambda (lambda (lambda (lambda (cnot (x (h (x (h (x (h (x $0 $2) $2) $2) $2) $2) $2) $2) $2 $1)))))\n",
      "\u001b[94mdreamcoder.py:681\u001b[0m > 0.00\t(lambda (lambda (lambda (lambda (cnot (h $0 $2) $2 $1)))))\n",
      "\u001b[94mdreamcoder.py:682\u001b[0m >\n",
      "\u001b[94mfragmentGrammar.py:298\u001b[0m > Inducing a grammar from 6 frontiers\n",
      "\u001b[94mfragmentGrammar.py:327\u001b[0m > Starting score -94.09252013322114\n",
      "\u001b[94mfragmentGrammar.py:334\u001b[0m > Proposed 52 fragments.\n",
      "\u001b[94mfragmentGrammar.py:397\u001b[0m > Old joint = -62.489566\tNew joint = -59.092520\n",
      "\n",
      "\u001b[94mfragmentGrammar.py:417\u001b[0m > 4.000000 / 22.000000\th\n",
      "\u001b[94mfragmentGrammar.py:417\u001b[0m > 0.000000 / 22.000000\tt\n",
      "\u001b[94mfragmentGrammar.py:417\u001b[0m > 0.000000 / 22.000000\ttdg\n",
      "\u001b[94mfragmentGrammar.py:417\u001b[0m > 5.000000 / 22.000000\tcnot\n",
      "\u001b[94mfragmentGrammar.py:417\u001b[0m > 7.000000 / 22.000000\tx\n",
      "\u001b[94mutilities.py:486\u001b[0m > Induced a grammar in 0.3 seconds\n",
      "\u001b[94mdreamcoder.py:705\u001b[0m > Grammar after iteration 1:\n",
      "\u001b[94mdreamcoder.py:706\u001b[0m > -0.150282\tt0\t$_\n",
      "-0.632523\ttcircuit -> int -> tcircuit\tx\n",
      "-0.757686\ttcircuit -> int -> int -> tcircuit\tcnot\n",
      "-0.826679\ttcircuit -> int -> tcircuit\th\n",
      "-1.163151\ttcircuit -> int -> tcircuit\tt\n",
      "-1.163151\ttcircuit -> int -> tcircuit\ttdg\n",
      "\u001b[94mdreamcoder.py:474\u001b[0m > Currently using this much memory: 953163776\n",
      "\u001b[94mdreamcoder.py:488\u001b[0m > Exported checkpoint to experimentOutputs/quantum/2024-08-20T08:35:48.784260_aic=1.0_arity=3_ET=10_it=1_MF=1_noConsolidation=False_pc=10_RW=True_solver=bottom_STM=False_L=6_batch=6_TRR=randomShuffle_K=2_topkNotMAP=False_rec=False.pickle\n",
      "\u001b[94mprimitiveGraph.py:171\u001b[0m > Exporting primitive graph to experimentOutputs/quantum/2024-08-20T08:35:48.784260_primitives_0_depth.pdf\n",
      "\u001b[94mprimitiveGraph.py:132\u001b[0m > Exported primitive graph to experimentOutputs/quantum/2024-08-20T08:35:48.784260_primitives_0_unordered.pdf\n",
      "\u001b[94mdreamcoder.py:282\u001b[0m > Currently using this much memory: 953167872\n",
      "\u001b[94mdreamcoder.py:282\u001b[0m > Currently using this much memory: 953167872\n",
      "\u001b[94mdreamcoder.py:403\u001b[0m > Using a waking task batch of size: 6\n",
      "\u001b[94menumeration.py:78\u001b[0m > Disabling parallelism on the Python side because we only have one job.\n",
      "\u001b[94menumeration.py:79\u001b[0m > If you are using ocaml or bottom, there could still be parallelism.\n",
      "\u001b[94menumeration.py:163\u001b[0m > (frontend) Launching int -> int -> int -> tcircuit -> tcircuit (6 tasks) w/ 1 CPUs. 0.000000 <= MDL < 100.000000. Timeout 10.000000.\n",
      "\u001b[94mgrammar.py:2048\u001b[0m >  -- Bottom up enumeration, cost 0\n",
      "\u001b[94mgrammar.py:2048\u001b[0m >  -- Bottom up enumeration, cost 1\n",
      "\u001b[94mgrammar.py:2048\u001b[0m >  -- Bottom up enumeration, cost 2\n",
      "\u001b[94mgrammar.py:2048\u001b[0m >  -- Bottom up enumeration, cost 3\n",
      "\u001b[94mgrammar.py:2048\u001b[0m >  -- Bottom up enumeration, cost 4\n",
      "\u001b[94mgrammar.py:2048\u001b[0m >  -- Bottom up enumeration, cost 5\n",
      "\u001b[94mgrammar.py:2048\u001b[0m >  -- Bottom up enumeration, cost 6\n",
      "\u001b[94mgrammar.py:2048\u001b[0m >  -- Bottom up enumeration, cost 7\n",
      "\u001b[94mgrammar.py:2048\u001b[0m >  -- Bottom up enumeration, cost 8\n",
      "\u001b[94mgrammar.py:2048\u001b[0m >  -- Bottom up enumeration, cost 9\n",
      "\u001b[94mgrammar.py:2048\u001b[0m >  -- Bottom up enumeration, cost 10\n",
      "\u001b[94mgrammar.py:2048\u001b[0m >  -- Bottom up enumeration, cost 11\n",
      "\u001b[94mgrammar.py:2048\u001b[0m >  -- Bottom up enumeration, cost 12\n",
      "\u001b[94mgrammar.py:2048\u001b[0m >  -- Bottom up enumeration, cost 13\n",
      "\u001b[94mgrammar.py:2048\u001b[0m >  -- Bottom up enumeration, cost 14\n",
      "\u001b[94mgrammar.py:2048\u001b[0m >  -- Bottom up enumeration, cost 15\n",
      "\u001b[94mgrammar.py:2048\u001b[0m >  -- Bottom up enumeration, cost 16\n",
      "\u001b[94mgrammar.py:2048\u001b[0m >  -- Bottom up enumeration, cost 17\n",
      "\u001b[94mgrammar.py:2048\u001b[0m >  -- Bottom up enumeration, cost 18\n",
      "\u001b[94mgrammar.py:2048\u001b[0m >  -- Bottom up enumeration, cost 19\n",
      "\u001b[94mgrammar.py:2048\u001b[0m >  -- Bottom up enumeration, cost 20\n",
      "\u001b[94mgrammar.py:2048\u001b[0m >  -- Bottom up enumeration, cost 21\n",
      "\u001b[94mgrammar.py:2048\u001b[0m >  -- Bottom up enumeration, cost 22\n",
      "\u001b[94mgrammar.py:2048\u001b[0m >  -- Bottom up enumeration, cost 23\n",
      "\u001b[94mgrammar.py:2048\u001b[0m >  -- Bottom up enumeration, cost 24\n",
      "\u001b[94mgrammar.py:2048\u001b[0m >  -- Bottom up enumeration, cost 25\n",
      "\u001b[94mgrammar.py:2048\u001b[0m >  -- Bottom up enumeration, cost 26\n",
      "\u001b[94mgrammar.py:2048\u001b[0m >  -- Bottom up enumeration, cost 27\n",
      "\u001b[94mgrammar.py:2048\u001b[0m >  -- Bottom up enumeration, cost 28\n",
      "\u001b[94mgrammar.py:2048\u001b[0m >  -- Bottom up enumeration, cost 29\n",
      "\u001b[94mgrammar.py:2048\u001b[0m >  -- Bottom up enumeration, cost 30\n",
      "\u001b[94mgrammar.py:2048\u001b[0m >  -- Bottom up enumeration, cost 31\n",
      "\u001b[94mgrammar.py:2048\u001b[0m >  -- Bottom up enumeration, cost 32\n",
      "\u001b[94menumeration.py:446\u001b[0m > Enumerated 20852 programs\n",
      "\u001b[94mdreamcoder.py:565\u001b[0m > Generative model enumeration results:\n",
      "\u001b[94mdreamcoder.py:566\u001b[0m > HIT t_003_(lambda (lambda (lambda (lambda (cnot (x (h (x $0 $2) $2) $2) $2 $1))))) w/ (lambda (lambda (lambda (lambda (cnot (x (h (x $0 $2) $2) $2) $2 $1))))) ; log prior = -13.855746 ; log likelihood = 0.000000\n",
      "HIT t_002_(lambda (lambda (lambda (lambda (x (x (x $0 $1) $1) $1) )))) w/ (lambda (lambda (lambda (lambda (x $0 $1))))) ; log prior = -4.026614 ; log likelihood = 0.000000\n",
      "HIT t_001_(lambda (lambda (lambda (lambda (cnot (x (x (x $0 $1) $1) $1) $1 $2))))) w/ (lambda (lambda (lambda (lambda (cnot (x $0 $1) $1 $2))))) ; log prior = -8.054123 ; log likelihood = 0.000000\n",
      "HIT t_005_(lambda (lambda (lambda (lambda (cnot (x (h (x (h (x (h (x $0 $2) $2) $2) $2) $2) $2) $2) $2 $1))))) w/ (lambda (lambda (lambda (lambda (cnot (h $0 $2) $2 $1))))) ; log prior = -8.248279 ; log likelihood = 0.000000\n",
      "HIT t_000_(lambda (lambda (lambda (lambda (cnot (x $0 $1) $1 $2))))) w/ (lambda (lambda (lambda (lambda (cnot (x $0 $1) $1 $2))))) ; log prior = -8.054123 ; log likelihood = 0.000000\n",
      "HIT t_004_(lambda (lambda (lambda (lambda (cnot (x (h (x (h $0 $2) $2) $2) $2) $2 $1))))) w/ (lambda (lambda (lambda (lambda (h (x (h (cnot (x $0 $2) $2 $1) $2) $2) $2))))) ; log prior = -16.853635 ; log likelihood = 0.000000\n",
      "Hits 6/6 tasks\n",
      "Average description length of a program solving a task: 9.848753 nats\n",
      "\u001b[94mutilities.py:160\u001b[0m > Generative model average:  0 sec.\tmedian: 0 \tmax: 2 \tstandard deviation 1\n",
      "\u001b[94mdreamcoder.py:282\u001b[0m > Currently using this much memory: 931467264\n",
      "\u001b[94mfrontier.py:209\u001b[0m > WARNING: Log priors differed during frontier combining: -14.451859 vs -13.855746\n",
      "\u001b[94mfrontier.py:212\u001b[0m > WARNING: \tThe program is (lambda (lambda (lambda (lambda (cnot (x (h (x $0 $2) $2) $2) $2 $1)))))\n",
      "\u001b[94mfrontier.py:213\u001b[0m >\n",
      "\u001b[94mfrontier.py:209\u001b[0m > WARNING: Log priors differed during frontier combining: -4.682131 vs -4.026614\n",
      "\u001b[94mfrontier.py:212\u001b[0m > WARNING: \tThe program is (lambda (lambda (lambda (lambda (x $0 $1)))))\n",
      "\u001b[94mfrontier.py:213\u001b[0m >\n",
      "\u001b[94mfrontier.py:209\u001b[0m > WARNING: Log priors differed during frontier combining: -8.671115 vs -8.054123\n",
      "\u001b[94mfrontier.py:212\u001b[0m > WARNING: \tThe program is (lambda (lambda (lambda (lambda (cnot (x $0 $1) $1 $2)))))\n",
      "\u001b[94mfrontier.py:213\u001b[0m >\n",
      "\u001b[94mfrontier.py:209\u001b[0m > WARNING: Log priors differed during frontier combining: -8.671115 vs -8.248279\n",
      "\u001b[94mfrontier.py:212\u001b[0m > WARNING: \tThe program is (lambda (lambda (lambda (lambda (cnot (h $0 $2) $2 $1)))))\n",
      "\u001b[94mfrontier.py:213\u001b[0m >\n",
      "\u001b[94mfrontier.py:209\u001b[0m > WARNING: Log priors differed during frontier combining: -8.671115 vs -8.054123\n",
      "\u001b[94mfrontier.py:212\u001b[0m > WARNING: \tThe program is (lambda (lambda (lambda (lambda (cnot (x $0 $1) $1 $2)))))\n",
      "\u001b[94mfrontier.py:213\u001b[0m >\n",
      "\u001b[94mfrontier.py:209\u001b[0m > WARNING: Log priors differed during frontier combining: -17.342231 vs -16.853635\n",
      "\u001b[94mfrontier.py:212\u001b[0m > WARNING: \tThe program is (lambda (lambda (lambda (lambda (h (x (h (cnot (x $0 $2) $2 $1) $2) $2) $2)))))\n",
      "\u001b[94mfrontier.py:213\u001b[0m >\n",
      "\u001b[94mdreamcoder.py:428\u001b[0m > Frontiers discovered top down: 6\n",
      "\u001b[94mdreamcoder.py:429\u001b[0m > Total frontiers: 6\n",
      "\u001b[94mdreamcoder.py:470\u001b[0m > Currently using this much memory: 931467264\n",
      "\u001b[94mdreamcoder.py:675\u001b[0m > Showing the top 5 programs in each frontier being sent to the compressor:\n",
      "\u001b[94mdreamcoder.py:679\u001b[0m > t_000_(lambda (lambda (lambda (lambda (cnot (x $0 $1) $1 $2)))))\n",
      "\u001b[94mdreamcoder.py:681\u001b[0m > 0.00\t(lambda (lambda (lambda (lambda (cnot (x $0 $1) $1 $2)))))\n",
      "\u001b[94mdreamcoder.py:682\u001b[0m >\n",
      "\u001b[94mdreamcoder.py:679\u001b[0m > t_001_(lambda (lambda (lambda (lambda (cnot (x (x (x $0 $1) $1) $1) $1 $2)))))\n",
      "\u001b[94mdreamcoder.py:681\u001b[0m > 0.00\t(lambda (lambda (lambda (lambda (cnot (x $0 $1) $1 $2)))))\n",
      "\u001b[94mdreamcoder.py:682\u001b[0m >\n",
      "\u001b[94mdreamcoder.py:679\u001b[0m > t_002_(lambda (lambda (lambda (lambda (x (x (x $0 $1) $1) $1) ))))\n",
      "\u001b[94mdreamcoder.py:681\u001b[0m > 0.00\t(lambda (lambda (lambda (lambda (x $0 $1)))))\n",
      "\u001b[94mdreamcoder.py:682\u001b[0m >\n",
      "\u001b[94mdreamcoder.py:679\u001b[0m > t_003_(lambda (lambda (lambda (lambda (cnot (x (h (x $0 $2) $2) $2) $2 $1)))))\n",
      "\u001b[94mdreamcoder.py:681\u001b[0m > 0.00\t(lambda (lambda (lambda (lambda (cnot (x (h (x $0 $2) $2) $2) $2 $1)))))\n",
      "\u001b[94mdreamcoder.py:682\u001b[0m >\n",
      "\u001b[94mdreamcoder.py:679\u001b[0m > t_004_(lambda (lambda (lambda (lambda (cnot (x (h (x (h $0 $2) $2) $2) $2) $2 $1)))))\n",
      "\u001b[94mdreamcoder.py:681\u001b[0m > 0.00\t(lambda (lambda (lambda (lambda (h (x (h (cnot (x $0 $2) $2 $1) $2) $2) $2)))))\n",
      "\u001b[94mdreamcoder.py:682\u001b[0m >\n",
      "\u001b[94mdreamcoder.py:679\u001b[0m > t_005_(lambda (lambda (lambda (lambda (cnot (x (h (x (h (x (h (x $0 $2) $2) $2) $2) $2) $2) $2) $2 $1)))))\n",
      "\u001b[94mdreamcoder.py:681\u001b[0m > 0.00\t(lambda (lambda (lambda (lambda (cnot (h $0 $2) $2 $1)))))\n",
      "\u001b[94mdreamcoder.py:682\u001b[0m >\n",
      "\u001b[94mfragmentGrammar.py:298\u001b[0m > Inducing a grammar from 6 frontiers\n",
      "\u001b[94mfragmentGrammar.py:327\u001b[0m > Starting score -94.09252013322114\n",
      "\u001b[94mfragmentGrammar.py:334\u001b[0m > Proposed 52 fragments.\n",
      "\u001b[94mfragmentGrammar.py:397\u001b[0m > Old joint = -59.092520\tNew joint = -59.092520\n",
      "\n",
      "\u001b[94mfragmentGrammar.py:417\u001b[0m > 4.000000 / 22.000000\th\n",
      "\u001b[94mfragmentGrammar.py:417\u001b[0m > 0.000000 / 22.000000\tt\n",
      "\u001b[94mfragmentGrammar.py:417\u001b[0m > 0.000000 / 22.000000\ttdg\n",
      "\u001b[94mfragmentGrammar.py:417\u001b[0m > 5.000000 / 22.000000\tcnot\n",
      "\u001b[94mfragmentGrammar.py:417\u001b[0m > 7.000000 / 22.000000\tx\n",
      "\u001b[94mutilities.py:486\u001b[0m > Induced a grammar in 0.6 seconds\n",
      "\u001b[94mdreamcoder.py:705\u001b[0m > Grammar after iteration 2:\n",
      "\u001b[94mdreamcoder.py:706\u001b[0m > -0.150282\tt0\t$_\n",
      "-0.632523\ttcircuit -> int -> tcircuit\tx\n",
      "-0.757686\ttcircuit -> int -> int -> tcircuit\tcnot\n",
      "-0.826679\ttcircuit -> int -> tcircuit\th\n",
      "-1.163151\ttcircuit -> int -> tcircuit\tt\n",
      "-1.163151\ttcircuit -> int -> tcircuit\ttdg\n",
      "\u001b[94mdreamcoder.py:474\u001b[0m > Currently using this much memory: 911613952\n",
      "\u001b[94mdreamcoder.py:488\u001b[0m > Exported checkpoint to experimentOutputs/quantum/2024-08-20T08:35:48.784260_aic=1.0_arity=3_ET=10_it=2_MF=1_noConsolidation=False_pc=10_RW=True_solver=bottom_STM=False_L=6_batch=6_TRR=randomShuffle_K=2_topkNotMAP=False_rec=False.pickle\n",
      "\u001b[94mprimitiveGraph.py:171\u001b[0m > Exporting primitive graph to experimentOutputs/quantum/2024-08-20T08:35:48.784260_primitives_1_depth.pdf\n",
      "\u001b[94mprimitiveGraph.py:132\u001b[0m > Exported primitive graph to experimentOutputs/quantum/2024-08-20T08:35:48.784260_primitives_1_unordered.pdf\n",
      "\u001b[94mdreamcoder.py:282\u001b[0m > Currently using this much memory: 911613952\n",
      "\u001b[94mdreamcoder.py:282\u001b[0m > Currently using this much memory: 911613952\n",
      "\u001b[94mdreamcoder.py:403\u001b[0m > Using a waking task batch of size: 6\n",
      "\u001b[94menumeration.py:78\u001b[0m > Disabling parallelism on the Python side because we only have one job.\n",
      "\u001b[94menumeration.py:79\u001b[0m > If you are using ocaml or bottom, there could still be parallelism.\n",
      "\u001b[94menumeration.py:163\u001b[0m > (frontend) Launching int -> int -> int -> tcircuit -> tcircuit (6 tasks) w/ 1 CPUs. 0.000000 <= MDL < 100.000000. Timeout 10.000000.\n",
      "\u001b[94mgrammar.py:2048\u001b[0m >  -- Bottom up enumeration, cost 0\n",
      "\u001b[94mgrammar.py:2048\u001b[0m >  -- Bottom up enumeration, cost 1\n",
      "\u001b[94mgrammar.py:2048\u001b[0m >  -- Bottom up enumeration, cost 2\n",
      "\u001b[94mgrammar.py:2048\u001b[0m >  -- Bottom up enumeration, cost 3\n",
      "\u001b[94mgrammar.py:2048\u001b[0m >  -- Bottom up enumeration, cost 4\n",
      "\u001b[94mgrammar.py:2048\u001b[0m >  -- Bottom up enumeration, cost 5\n",
      "\u001b[94mgrammar.py:2048\u001b[0m >  -- Bottom up enumeration, cost 6\n",
      "\u001b[94mgrammar.py:2048\u001b[0m >  -- Bottom up enumeration, cost 7\n",
      "\u001b[94mgrammar.py:2048\u001b[0m >  -- Bottom up enumeration, cost 8\n",
      "\u001b[94mgrammar.py:2048\u001b[0m >  -- Bottom up enumeration, cost 9\n",
      "\u001b[94mgrammar.py:2048\u001b[0m >  -- Bottom up enumeration, cost 10\n",
      "\u001b[94mgrammar.py:2048\u001b[0m >  -- Bottom up enumeration, cost 11\n",
      "\u001b[94mgrammar.py:2048\u001b[0m >  -- Bottom up enumeration, cost 12\n",
      "\u001b[94mgrammar.py:2048\u001b[0m >  -- Bottom up enumeration, cost 13\n",
      "\u001b[94mgrammar.py:2048\u001b[0m >  -- Bottom up enumeration, cost 14\n",
      "\u001b[94mgrammar.py:2048\u001b[0m >  -- Bottom up enumeration, cost 15\n",
      "\u001b[94mgrammar.py:2048\u001b[0m >  -- Bottom up enumeration, cost 16\n",
      "\u001b[94mgrammar.py:2048\u001b[0m >  -- Bottom up enumeration, cost 17\n",
      "\u001b[94mgrammar.py:2048\u001b[0m >  -- Bottom up enumeration, cost 18\n",
      "\u001b[94mgrammar.py:2048\u001b[0m >  -- Bottom up enumeration, cost 19\n",
      "\u001b[94mgrammar.py:2048\u001b[0m >  -- Bottom up enumeration, cost 20\n",
      "\u001b[94mgrammar.py:2048\u001b[0m >  -- Bottom up enumeration, cost 21\n",
      "\u001b[94mgrammar.py:2048\u001b[0m >  -- Bottom up enumeration, cost 22\n",
      "\u001b[94mgrammar.py:2048\u001b[0m >  -- Bottom up enumeration, cost 23\n",
      "\u001b[94mgrammar.py:2048\u001b[0m >  -- Bottom up enumeration, cost 24\n",
      "\u001b[94mgrammar.py:2048\u001b[0m >  -- Bottom up enumeration, cost 25\n",
      "\u001b[94mgrammar.py:2048\u001b[0m >  -- Bottom up enumeration, cost 26\n",
      "\u001b[94mgrammar.py:2048\u001b[0m >  -- Bottom up enumeration, cost 27\n",
      "\u001b[94mgrammar.py:2048\u001b[0m >  -- Bottom up enumeration, cost 28\n",
      "\u001b[94mgrammar.py:2048\u001b[0m >  -- Bottom up enumeration, cost 29\n",
      "\u001b[94mgrammar.py:2048\u001b[0m >  -- Bottom up enumeration, cost 30\n",
      "\u001b[94mgrammar.py:2048\u001b[0m >  -- Bottom up enumeration, cost 31\n",
      "\u001b[94mgrammar.py:2048\u001b[0m >  -- Bottom up enumeration, cost 32\n",
      "\u001b[94menumeration.py:446\u001b[0m > Enumerated 20852 programs\n",
      "\u001b[94mdreamcoder.py:565\u001b[0m > Generative model enumeration results:\n",
      "\u001b[94mdreamcoder.py:566\u001b[0m > HIT t_003_(lambda (lambda (lambda (lambda (cnot (x (h (x $0 $2) $2) $2) $2 $1))))) w/ (lambda (lambda (lambda (lambda (cnot (x (h (x $0 $2) $2) $2) $2 $1))))) ; log prior = -13.855746 ; log likelihood = 0.000000\n",
      "HIT t_002_(lambda (lambda (lambda (lambda (x (x (x $0 $1) $1) $1) )))) w/ (lambda (lambda (lambda (lambda (x $0 $1))))) ; log prior = -4.026614 ; log likelihood = 0.000000\n",
      "HIT t_001_(lambda (lambda (lambda (lambda (cnot (x (x (x $0 $1) $1) $1) $1 $2))))) w/ (lambda (lambda (lambda (lambda (cnot (x $0 $1) $1 $2))))) ; log prior = -8.054123 ; log likelihood = 0.000000\n",
      "HIT t_005_(lambda (lambda (lambda (lambda (cnot (x (h (x (h (x (h (x $0 $2) $2) $2) $2) $2) $2) $2) $2 $1))))) w/ (lambda (lambda (lambda (lambda (cnot (h $0 $2) $2 $1))))) ; log prior = -8.248279 ; log likelihood = 0.000000\n",
      "HIT t_000_(lambda (lambda (lambda (lambda (cnot (x $0 $1) $1 $2))))) w/ (lambda (lambda (lambda (lambda (cnot (x $0 $1) $1 $2))))) ; log prior = -8.054123 ; log likelihood = 0.000000\n",
      "HIT t_004_(lambda (lambda (lambda (lambda (cnot (x (h (x (h $0 $2) $2) $2) $2) $2 $1))))) w/ (lambda (lambda (lambda (lambda (h (x (h (cnot (x $0 $2) $2 $1) $2) $2) $2))))) ; log prior = -16.853635 ; log likelihood = 0.000000\n",
      "Hits 6/6 tasks\n",
      "Average description length of a program solving a task: 9.848753 nats\n",
      "\u001b[94mutilities.py:160\u001b[0m > Generative model average:  0 sec.\tmedian: 0 \tmax: 3 \tstandard deviation 1\n",
      "\u001b[94mdreamcoder.py:282\u001b[0m > Currently using this much memory: 911089664\n",
      "\u001b[94mfrontier.py:209\u001b[0m > WARNING: Log priors differed during frontier combining: -14.451859 vs -13.855746\n",
      "\u001b[94mfrontier.py:212\u001b[0m > WARNING: \tThe program is (lambda (lambda (lambda (lambda (cnot (x (h (x $0 $2) $2) $2) $2 $1)))))\n",
      "\u001b[94mfrontier.py:213\u001b[0m >\n",
      "\u001b[94mfrontier.py:209\u001b[0m > WARNING: Log priors differed during frontier combining: -4.682131 vs -4.026614\n",
      "\u001b[94mfrontier.py:212\u001b[0m > WARNING: \tThe program is (lambda (lambda (lambda (lambda (x $0 $1)))))\n",
      "\u001b[94mfrontier.py:213\u001b[0m >\n",
      "\u001b[94mfrontier.py:209\u001b[0m > WARNING: Log priors differed during frontier combining: -8.671115 vs -8.054123\n",
      "\u001b[94mfrontier.py:212\u001b[0m > WARNING: \tThe program is (lambda (lambda (lambda (lambda (cnot (x $0 $1) $1 $2)))))\n",
      "\u001b[94mfrontier.py:213\u001b[0m >\n",
      "\u001b[94mfrontier.py:209\u001b[0m > WARNING: Log priors differed during frontier combining: -8.671115 vs -8.248279\n",
      "\u001b[94mfrontier.py:212\u001b[0m > WARNING: \tThe program is (lambda (lambda (lambda (lambda (cnot (h $0 $2) $2 $1)))))\n",
      "\u001b[94mfrontier.py:213\u001b[0m >\n",
      "\u001b[94mfrontier.py:209\u001b[0m > WARNING: Log priors differed during frontier combining: -8.671115 vs -8.054123\n",
      "\u001b[94mfrontier.py:212\u001b[0m > WARNING: \tThe program is (lambda (lambda (lambda (lambda (cnot (x $0 $1) $1 $2)))))\n",
      "\u001b[94mfrontier.py:213\u001b[0m >\n",
      "\u001b[94mfrontier.py:209\u001b[0m > WARNING: Log priors differed during frontier combining: -17.342231 vs -16.853635\n",
      "\u001b[94mfrontier.py:212\u001b[0m > WARNING: \tThe program is (lambda (lambda (lambda (lambda (h (x (h (cnot (x $0 $2) $2 $1) $2) $2) $2)))))\n",
      "\u001b[94mfrontier.py:213\u001b[0m >\n",
      "\u001b[94mdreamcoder.py:428\u001b[0m > Frontiers discovered top down: 6\n",
      "\u001b[94mdreamcoder.py:429\u001b[0m > Total frontiers: 6\n",
      "\u001b[94mdreamcoder.py:470\u001b[0m > Currently using this much memory: 911089664\n",
      "\u001b[94mdreamcoder.py:675\u001b[0m > Showing the top 5 programs in each frontier being sent to the compressor:\n",
      "\u001b[94mdreamcoder.py:679\u001b[0m > t_000_(lambda (lambda (lambda (lambda (cnot (x $0 $1) $1 $2)))))\n",
      "\u001b[94mdreamcoder.py:681\u001b[0m > 0.00\t(lambda (lambda (lambda (lambda (cnot (x $0 $1) $1 $2)))))\n",
      "\u001b[94mdreamcoder.py:682\u001b[0m >\n",
      "\u001b[94mdreamcoder.py:679\u001b[0m > t_001_(lambda (lambda (lambda (lambda (cnot (x (x (x $0 $1) $1) $1) $1 $2)))))\n",
      "\u001b[94mdreamcoder.py:681\u001b[0m > 0.00\t(lambda (lambda (lambda (lambda (cnot (x $0 $1) $1 $2)))))\n",
      "\u001b[94mdreamcoder.py:682\u001b[0m >\n",
      "\u001b[94mdreamcoder.py:679\u001b[0m > t_002_(lambda (lambda (lambda (lambda (x (x (x $0 $1) $1) $1) ))))\n",
      "\u001b[94mdreamcoder.py:681\u001b[0m > 0.00\t(lambda (lambda (lambda (lambda (x $0 $1)))))\n",
      "\u001b[94mdreamcoder.py:682\u001b[0m >\n",
      "\u001b[94mdreamcoder.py:679\u001b[0m > t_003_(lambda (lambda (lambda (lambda (cnot (x (h (x $0 $2) $2) $2) $2 $1)))))\n",
      "\u001b[94mdreamcoder.py:681\u001b[0m > 0.00\t(lambda (lambda (lambda (lambda (cnot (x (h (x $0 $2) $2) $2) $2 $1)))))\n",
      "\u001b[94mdreamcoder.py:682\u001b[0m >\n",
      "\u001b[94mdreamcoder.py:679\u001b[0m > t_004_(lambda (lambda (lambda (lambda (cnot (x (h (x (h $0 $2) $2) $2) $2) $2 $1)))))\n",
      "\u001b[94mdreamcoder.py:681\u001b[0m > 0.00\t(lambda (lambda (lambda (lambda (h (x (h (cnot (x $0 $2) $2 $1) $2) $2) $2)))))\n",
      "\u001b[94mdreamcoder.py:682\u001b[0m >\n",
      "\u001b[94mdreamcoder.py:679\u001b[0m > t_005_(lambda (lambda (lambda (lambda (cnot (x (h (x (h (x (h (x $0 $2) $2) $2) $2) $2) $2) $2) $2 $1)))))\n",
      "\u001b[94mdreamcoder.py:681\u001b[0m > 0.00\t(lambda (lambda (lambda (lambda (cnot (h $0 $2) $2 $1)))))\n",
      "\u001b[94mdreamcoder.py:682\u001b[0m >\n",
      "\u001b[94mfragmentGrammar.py:298\u001b[0m > Inducing a grammar from 6 frontiers\n",
      "\u001b[94mfragmentGrammar.py:327\u001b[0m > Starting score -94.09252013322114\n",
      "\u001b[94mfragmentGrammar.py:334\u001b[0m > Proposed 52 fragments.\n",
      "\u001b[94mfragmentGrammar.py:397\u001b[0m > Old joint = -59.092520\tNew joint = -59.092520\n",
      "\n",
      "\u001b[94mfragmentGrammar.py:417\u001b[0m > 4.000000 / 22.000000\th\n",
      "\u001b[94mfragmentGrammar.py:417\u001b[0m > 0.000000 / 22.000000\tt\n",
      "\u001b[94mfragmentGrammar.py:417\u001b[0m > 0.000000 / 22.000000\ttdg\n",
      "\u001b[94mfragmentGrammar.py:417\u001b[0m > 5.000000 / 22.000000\tcnot\n",
      "\u001b[94mfragmentGrammar.py:417\u001b[0m > 7.000000 / 22.000000\tx\n",
      "\u001b[94mutilities.py:486\u001b[0m > Induced a grammar in 0.3 seconds\n",
      "\u001b[94mdreamcoder.py:705\u001b[0m > Grammar after iteration 3:\n",
      "\u001b[94mdreamcoder.py:706\u001b[0m > -0.150282\tt0\t$_\n",
      "-0.632523\ttcircuit -> int -> tcircuit\tx\n",
      "-0.757686\ttcircuit -> int -> int -> tcircuit\tcnot\n",
      "-0.826679\ttcircuit -> int -> tcircuit\th\n",
      "-1.163151\ttcircuit -> int -> tcircuit\tt\n",
      "-1.163151\ttcircuit -> int -> tcircuit\ttdg\n",
      "\u001b[94mdreamcoder.py:474\u001b[0m > Currently using this much memory: 911089664\n",
      "\u001b[94mdreamcoder.py:488\u001b[0m > Exported checkpoint to experimentOutputs/quantum/2024-08-20T08:35:48.784260_aic=1.0_arity=3_ET=10_it=3_MF=1_noConsolidation=False_pc=10_RW=True_solver=bottom_STM=False_L=6_batch=6_TRR=randomShuffle_K=2_topkNotMAP=False_rec=False.pickle\n",
      "\u001b[94mprimitiveGraph.py:171\u001b[0m > Exporting primitive graph to experimentOutputs/quantum/2024-08-20T08:35:48.784260_primitives_2_depth.pdf\n",
      "\u001b[94mprimitiveGraph.py:132\u001b[0m > Exported primitive graph to experimentOutputs/quantum/2024-08-20T08:35:48.784260_primitives_2_unordered.pdf\n"
     ]
    }
   ],
   "source": [
    "for result in generator:\n",
    "    ..."
   ]
  },
  {
   "cell_type": "code",
   "execution_count": 46,
   "metadata": {},
   "outputs": [
    {
     "data": {
      "text/plain": [
       "-13.89130210503095"
      ]
     },
     "execution_count": 46,
     "metadata": {},
     "output_type": "execute_result"
    }
   ],
   "source": [
    "result.grammars[2].logLikelihood(tasks[1].request, Program.parse(programs[1]))"
   ]
  },
  {
   "cell_type": "code",
   "execution_count": 48,
   "metadata": {},
   "outputs": [
    {
     "data": {
      "text/plain": [
       "0.0"
      ]
     },
     "execution_count": 48,
     "metadata": {},
     "output_type": "execute_result"
    }
   ],
   "source": [
    "tasks[0].logLikelihood(programs[0])"
   ]
  },
  {
   "cell_type": "code",
   "execution_count": 25,
   "metadata": {},
   "outputs": [
    {
     "name": "stdout",
     "output_type": "stream",
     "text": [
      "0.000000\tt0\t$_\n",
      "0.000000\ttcircuit -> int -> tcircuit\th\n",
      "0.000000\ttcircuit -> int -> tcircuit\tt\n",
      "0.000000\ttcircuit -> int -> tcircuit\ttdg\n",
      "0.000000\ttcircuit -> int -> int -> tcircuit\tcnot\n",
      "0.000000\ttcircuit -> int -> tcircuit\tx\n",
      "-0.092373\tt0\t$_\n",
      "-0.587787\ttcircuit -> int -> tcircuit\tx\n",
      "-0.656780\ttcircuit -> int -> tcircuit\th\n",
      "-0.656780\ttcircuit -> int -> int -> tcircuit\tcnot\n",
      "-0.993252\ttcircuit -> int -> tcircuit\tt\n",
      "-0.993252\ttcircuit -> int -> tcircuit\ttdg\n"
     ]
    }
   ],
   "source": [
    "print(grammar)\n",
    "\n",
    "print(result.grammars[-1])"
   ]
  },
  {
   "cell_type": "code",
   "execution_count": 29,
   "metadata": {},
   "outputs": [
    {
     "name": "stdout",
     "output_type": "stream",
     "text": [
      "0.000000\tt0\t$_\n",
      "0.000000\ttcircuit -> int -> tcircuit\th\n",
      "0.000000\ttcircuit -> int -> tcircuit\tt\n",
      "0.000000\ttcircuit -> int -> tcircuit\ttdg\n",
      "0.000000\ttcircuit -> int -> int -> tcircuit\tcnot\n",
      "0.000000\ttcircuit -> int -> tcircuit\tx\n",
      "[Frontier(entries=[FrontierEntry(program=(lambda (lambda (lambda (lambda (cnot (x $0 $1) $1 $2))))), logPrior=-8.671115273688494, logLikelihood=0.0], task=t_000_(lambda (lambda (lambda (lambda (cnot (x $0 $1) $1 $2)))))), Frontier(entries=[FrontierEntry(program=(lambda (lambda (lambda (lambda (cnot (x (h (x $0 $2) $2) $2) $2 $1))))), logPrior=-14.451858789480823, logLikelihood=0.0], task=t_001_(lambda (lambda (lambda (lambda (cnot (x (h (x $0 $2) $2) $2) $2 $1)))))), Frontier(entries=[FrontierEntry(program=(lambda (lambda (lambda (lambda (cnot (x (h (x (h $0 $2) $2) $2) $2) $2 $1))))), logPrior=-17.34223054737699, logLikelihood=0.0], task=t_002_(lambda (lambda (lambda (lambda (cnot (x (h (x (h $0 $2) $2) $2) $2) $2 $1)))))), Frontier(entries=[FrontierEntry(program=(lambda (lambda (lambda (lambda (cnot (x (h (x (h (x (h (x $0 $2) $2) $2) $2) $2) $2) $2) $2 $1))))), logPrior=-26.01334582106548, logLikelihood=0.0], task=t_003_(lambda (lambda (lambda (lambda (cnot (x (h (x (h (x (h (x $0 $2) $2) $2) $2) $2) $2) $2) $2 $1))))))]\n",
      "3\n",
      "2\n",
      "10\n",
      "1.0\n",
      "6\n",
      "1\n"
     ]
    },
    {
     "name": "stderr",
     "output_type": "stream",
     "text": [
      "\u001b[94mfragmentGrammar.py:300\u001b[0m > Inducing a grammar from 4 frontiers\n",
      "\u001b[94mfragmentGrammar.py:329\u001b[0m > Starting score -98.33160637797658\n",
      "\u001b[94mfragmentGrammar.py:336\u001b[0m > Proposed 798 fragments.\n",
      "\u001b[94mfragmentGrammar.py:367\u001b[0m > New primitive of type tcircuit\t(x (h $0 $1) $1)\t\n",
      "(score = -96.948606; dScore = 1.383000; <uses> = 5.828075)\n",
      "\u001b[94mfragmentGrammar.py:380\u001b[0m > \t(<uses> in rewritten frontiers: 6.000000)\n",
      "\u001b[94mfragmentGrammar.py:336\u001b[0m > Proposed 76 fragments.\n",
      "\u001b[94mfragmentGrammar.py:399\u001b[0m > Old joint = -66.478550\tNew joint = -48.853936\n",
      "\n",
      "\u001b[94mfragmentGrammar.py:419\u001b[0m > 0.000000 / 17.000000\th\n",
      "\u001b[94mfragmentGrammar.py:419\u001b[0m > 0.000000 / 17.000000\tt\n",
      "\u001b[94mfragmentGrammar.py:419\u001b[0m > 0.000000 / 17.000000\ttdg\n",
      "\u001b[94mfragmentGrammar.py:419\u001b[0m > 4.000000 / 17.000000\tcnot\n",
      "\u001b[94mfragmentGrammar.py:419\u001b[0m > 3.000000 / 17.000000\tx\n",
      "\u001b[94mfragmentGrammar.py:419\u001b[0m > 6.000000 / 17.000000\t#(lambda (lambda (x (h $0 $1) $1)))\n"
     ]
    },
    {
     "data": {
      "text/plain": [
       "(<dreamcoder.grammar.Grammar at 0x7fa06076f310>,\n",
       " [Frontier(entries=[FrontierEntry(program=(lambda (lambda (lambda (lambda (cnot (x $0 $1) $1 $2))))), logPrior=-8.618441027513024, logLikelihood=0.0], task=t_000_(lambda (lambda (lambda (lambda (cnot (x $0 $1) $1 $2)))))),\n",
       "  Frontier(entries=[FrontierEntry(program=(lambda (lambda (lambda (lambda (cnot (#(lambda (lambda (x (h $0 $1) $1))) $2 (x $0 $2)) $2 $1))))), logPrior=-11.546233809996629, logLikelihood=0.0], task=t_001_(lambda (lambda (lambda (lambda (cnot (x (h (x $0 $2) $2) $2) $2 $1)))))),\n",
       "  Frontier(entries=[FrontierEntry(program=(lambda (lambda (lambda (lambda (cnot (#(lambda (lambda (x (h $0 $1) $1))) $2 (#(lambda (lambda (x (h $0 $1) $1))) $2 $0)) $2 $1))))), logPrior=-11.376548837207187, logLikelihood=0.0], task=t_002_(lambda (lambda (lambda (lambda (cnot (x (h (x (h $0 $2) $2) $2) $2) $2 $1)))))),\n",
       "  Frontier(entries=[FrontierEntry(program=(lambda (lambda (lambda (lambda (cnot (#(lambda (lambda (x (h $0 $1) $1))) $2 (#(lambda (lambda (x (h $0 $1) $1))) $2 (#(lambda (lambda (x (h $0 $1) $1))) $2 (x $0 $2)))) $2 $1))))), logPrior=-17.401819374963846, logLikelihood=0.0], task=t_003_(lambda (lambda (lambda (lambda (cnot (x (h (x (h (x (h (x $0 $2) $2) $2) $2) $2) $2) $2) $2 $1))))))])"
      ]
     },
     "execution_count": 29,
     "metadata": {},
     "output_type": "execute_result"
    }
   ],
   "source": [
    "frontiers = [f for f in solutions.values()]\n",
    "\n",
    "new_grammar, new_frontiers = FragmentGrammar.induceFromFrontiers(\n",
    "    g0=grammar, frontiers=frontiers, **library_settings\n",
    ")\n",
    "\n",
    "new_grammar, new_frontiers"
   ]
  },
  {
   "cell_type": "code",
   "execution_count": 16,
   "metadata": {},
   "outputs": [
    {
     "data": {
      "text/plain": [
       "dreamcoder.program.Invented"
      ]
     },
     "execution_count": 16,
     "metadata": {},
     "output_type": "execute_result"
    }
   ],
   "source": [
    "type(new_grammar.primitives[-1])"
   ]
  },
  {
   "cell_type": "code",
   "execution_count": 17,
   "metadata": {},
   "outputs": [
    {
     "data": {
      "text/plain": [
       "#(lambda (lambda (x (h $0 $1) $1)))"
      ]
     },
     "execution_count": 17,
     "metadata": {},
     "output_type": "execute_result"
    }
   ],
   "source": [
    "new_grammar.primitives[-1]"
   ]
  },
  {
   "cell_type": "code",
   "execution_count": 18,
   "metadata": {},
   "outputs": [
    {
     "name": "stdout",
     "output_type": "stream",
     "text": [
      "-0.173272\tt0\t$_\n",
      "-0.693147\ttcircuit -> int -> tcircuit\tx\n",
      "-0.757686\ttcircuit -> int -> int -> tcircuit\tcnot\n",
      "-1.163151\ttcircuit -> int -> tcircuit\th\n",
      "-1.163151\ttcircuit -> int -> tcircuit\tt\n",
      "-1.163151\ttcircuit -> int -> tcircuit\ttdg\n",
      "-0.693147\tint -> tcircuit -> tcircuit\t#(lambda (lambda (x (h $0 $1) $1)))\n"
     ]
    }
   ],
   "source": [
    "print(new_grammar)"
   ]
  },
  {
   "cell_type": "code",
   "execution_count": 19,
   "metadata": {},
   "outputs": [],
   "source": [
    "p = new_frontiers[0].entries[0].program"
   ]
  },
  {
   "cell_type": "code",
   "execution_count": 20,
   "metadata": {},
   "outputs": [
    {
     "data": {
      "text/plain": [
       "(cnot (x $0 $1) $1 $2)"
      ]
     },
     "execution_count": 20,
     "metadata": {},
     "output_type": "execute_result"
    }
   ],
   "source": [
    "p.body.body.body.body"
   ]
  },
  {
   "cell_type": "markdown",
   "metadata": {},
   "source": [
    "### Defining a program"
   ]
  },
  {
   "cell_type": "code",
   "execution_count": 15,
   "metadata": {},
   "outputs": [],
   "source": [
    "arguments = (*range(n_qubit_tasks), (n_qubit_tasks, ()))\n",
    "program = Program.parse(code)\n",
    "circuit = execute_program(program, arguments)\n",
    "reconstructed_circuit = get_qiskit_circuit(circuit)"
   ]
  },
  {
   "cell_type": "code",
   "execution_count": 16,
   "metadata": {},
   "outputs": [
    {
     "data": {
      "text/plain": [
       "(lambda $1)"
      ]
     },
     "execution_count": 16,
     "metadata": {},
     "output_type": "execute_result"
    }
   ],
   "source": [
    "# p =Program.parse(\"(lambda (lambda (lambda (lambda (cnot (#(lambda (lambda (x (h $0 $1) $1))) $2 (x $0 $2)) $2 $1)))))\")\n",
    "# p =Program.parse(\"cnot\")\n",
    "p = Program.parse(\"(lambda $1)\")\n",
    "p"
   ]
  },
  {
   "cell_type": "code",
   "execution_count": 17,
   "metadata": {},
   "outputs": [
    {
     "data": {
      "text/plain": [
       "3"
      ]
     },
     "execution_count": 17,
     "metadata": {},
     "output_type": "execute_result"
    }
   ],
   "source": [
    "p.evaluate([3])([])"
   ]
  },
  {
   "cell_type": "code",
   "execution_count": 18,
   "metadata": {},
   "outputs": [
    {
     "ename": "AttributeError",
     "evalue": "'Index' object has no attribute 'body'",
     "output_type": "error",
     "traceback": [
      "\u001b[0;31m---------------------------------------------------------------------------\u001b[0m",
      "\u001b[0;31mAttributeError\u001b[0m                            Traceback (most recent call last)",
      "Cell \u001b[0;32mIn[18], line 1\u001b[0m\n\u001b[0;32m----> 1\u001b[0m \u001b[43mp\u001b[49m\u001b[38;5;241;43m.\u001b[39;49m\u001b[43mbody\u001b[49m\u001b[38;5;241;43m.\u001b[39;49m\u001b[43mbody\u001b[49m\u001b[38;5;241m.\u001b[39mbody\u001b[38;5;241m.\u001b[39mbody\u001b[38;5;241m.\u001b[39mf\u001b[38;5;241m.\u001b[39mf\u001b[38;5;241m.\u001b[39mx\u001b[38;5;241m.\u001b[39mf\u001b[38;5;241m.\u001b[39mf\u001b[38;5;241m.\u001b[39mbody\u001b[38;5;241m.\u001b[39mbody\u001b[38;5;241m.\u001b[39mbody\u001b[38;5;241m.\u001b[39mf\u001b[38;5;241m.\u001b[39mx\u001b[38;5;241m.\u001b[39mx\n",
      "\u001b[0;31mAttributeError\u001b[0m: 'Index' object has no attribute 'body'"
     ]
    }
   ],
   "source": [
    "p.body.body.body.body.f.f.x.f.f.body.body.body.f.x.x"
   ]
  },
  {
   "cell_type": "code",
   "execution_count": 19,
   "metadata": {},
   "outputs": [
    {
     "data": {
      "text/plain": [
       "dreamcoder.program.Abstraction"
      ]
     },
     "execution_count": 19,
     "metadata": {},
     "output_type": "execute_result"
    }
   ],
   "source": [
    "type(p)"
   ]
  },
  {
   "cell_type": "code",
   "execution_count": 20,
   "metadata": {},
   "outputs": [
    {
     "ename": "AttributeError",
     "evalue": "'Index' object has no attribute 'x'",
     "output_type": "error",
     "traceback": [
      "\u001b[0;31m---------------------------------------------------------------------------\u001b[0m",
      "\u001b[0;31mAttributeError\u001b[0m                            Traceback (most recent call last)",
      "Cell \u001b[0;32mIn[20], line 1\u001b[0m\n\u001b[0;32m----> 1\u001b[0m \u001b[43mp\u001b[49m\u001b[38;5;241;43m.\u001b[39;49m\u001b[43mbody\u001b[49m\u001b[38;5;241;43m.\u001b[39;49m\u001b[43mx\u001b[49m\u001b[38;5;241m.\u001b[39mevaluate\n",
      "\u001b[0;31mAttributeError\u001b[0m: 'Index' object has no attribute 'x'"
     ]
    }
   ],
   "source": [
    "p.body.x.evaluate"
   ]
  },
  {
   "cell_type": "code",
   "execution_count": 22,
   "metadata": {},
   "outputs": [
    {
     "ename": "TypeError",
     "evalue": "'int' object is not callable",
     "output_type": "error",
     "traceback": [
      "\u001b[0;31m---------------------------------------------------------------------------\u001b[0m",
      "\u001b[0;31mTypeError\u001b[0m                                 Traceback (most recent call last)",
      "Cell \u001b[0;32mIn[22], line 2\u001b[0m\n\u001b[1;32m      1\u001b[0m ee \u001b[38;5;241m=\u001b[39m p\u001b[38;5;241m.\u001b[39mevaluate([\u001b[38;5;241m1\u001b[39m])\n\u001b[0;32m----> 2\u001b[0m \u001b[43mee\u001b[49m\u001b[43m(\u001b[49m\u001b[43mno_op\u001b[49m\u001b[43m(\u001b[49m\u001b[38;5;241;43m2\u001b[39;49m\u001b[43m)\u001b[49m\u001b[43m)\u001b[49m\u001b[43m(\u001b[49m\u001b[38;5;241;43m1\u001b[39;49m\u001b[43m)\u001b[49m(\u001b[38;5;241m0\u001b[39m)\n",
      "\u001b[0;31mTypeError\u001b[0m: 'int' object is not callable"
     ]
    }
   ],
   "source": [
    "ee = p.evaluate([1])\n",
    "ee(no_op(2))(1)(0)"
   ]
  },
  {
   "cell_type": "code",
   "execution_count": 21,
   "metadata": {},
   "outputs": [
    {
     "ename": "NameError",
     "evalue": "name 'ee' is not defined",
     "output_type": "error",
     "traceback": [
      "\u001b[0;31m---------------------------------------------------------------------------\u001b[0m",
      "\u001b[0;31mNameError\u001b[0m                                 Traceback (most recent call last)",
      "Cell \u001b[0;32mIn[21], line 2\u001b[0m\n\u001b[1;32m      1\u001b[0m \u001b[38;5;28;01mimport\u001b[39;00m \u001b[38;5;21;01minspect\u001b[39;00m\n\u001b[0;32m----> 2\u001b[0m inspect\u001b[38;5;241m.\u001b[39mgetsource(\u001b[43mee\u001b[49m)\n",
      "\u001b[0;31mNameError\u001b[0m: name 'ee' is not defined"
     ]
    }
   ],
   "source": [
    "import inspect\n",
    "\n",
    "inspect.getsource(ee)"
   ]
  },
  {
   "cell_type": "code",
   "execution_count": null,
   "metadata": {},
   "outputs": [],
   "source": []
  }
 ],
 "metadata": {
  "kernelspec": {
   "display_name": "sun",
   "language": "python",
   "name": "python3"
  },
  "language_info": {
   "codemirror_mode": {
    "name": "ipython",
    "version": 3
   },
   "file_extension": ".py",
   "mimetype": "text/x-python",
   "name": "python",
   "nbconvert_exporter": "python",
   "pygments_lexer": "ipython3",
   "version": "3.9.19"
  }
 },
 "nbformat": 4,
 "nbformat_minor": 2
}
