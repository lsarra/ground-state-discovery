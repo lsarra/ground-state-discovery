{
 "cells": [
  {
   "cell_type": "code",
   "execution_count": 1,
   "metadata": {},
   "outputs": [],
   "source": [
    "# This branch of qiskit is required:  pip install git+https://github.com/LNoorl/qiskit-terra.git@feature/sk-pass\n",
    "\n",
    "import numpy as np\n",
    "import dreamcoder as dc\n",
    "from dreamcoder.domains.quantum_circuits.primitives import *\n",
    "from dreamcoder.domains.quantum_circuits.tasks import *\n",
    "import dill as pickle\n",
    "import time\n",
    "from tqdm import trange\n",
    "import random\n",
    "import bin.binutil\n",
    "import datetime\n",
    "dc.domains.quantum_circuits.primitives.GLOBAL_LIMITED_CONNECTIVITY = False\n",
    "%load_ext line_profiler\n",
    "%load_ext autoreload\n",
    "%autoreload 2\n"
   ]
  },
  {
   "cell_type": "code",
   "execution_count": 2,
   "metadata": {},
   "outputs": [],
   "source": [
    "from dreamcoder.frontier import Frontier, FrontierEntry\n",
    "from dreamcoder.fragmentGrammar import FragmentGrammar\n",
    "from dreamcoder.grammar import Grammar\n",
    "from dreamcoder.program import Program\n",
    "from dreamcoder.program import Abstraction\n"
   ]
  },
  {
   "cell_type": "code",
   "execution_count": 3,
   "metadata": {},
   "outputs": [],
   "source": [
    "n_qubit_tasks = 3\n",
    "evaluationTimeout = 0.01\n",
    "settings = {\n",
    "    \"structurePenalty\": 6,  # increase regularization 3 4 (it awas 1) look at a few [1,15]\n",
    "    \"pseudoCounts\": 10,  # increase 100 test a few values\n",
    "    \"a\": 3,\n",
    "    \"topK\": 2,\n",
    "}"
   ]
  },
  {
   "cell_type": "code",
   "execution_count": 11,
   "metadata": {},
   "outputs": [],
   "source": [
    "def visualize_program(code:str):\n",
    "    \"Helper function to plot a circuit program\"\n",
    "    arguments = (*range(n_qubit_tasks), (n_qubit_tasks, ()))\n",
    "    program =  Program.parse(code)\n",
    "    circuit = execute_program(program, arguments)\n",
    "    reconstructed_circuit = get_qiskit_circuit(circuit)\n",
    "    print(code)\n",
    "    print(reconstructed_circuit.circuit)"
   ]
  },
  {
   "cell_type": "code",
   "execution_count": 12,
   "metadata": {},
   "outputs": [],
   "source": [
    "primitives = [\n",
    "    p_hadamard,\n",
    "    p_t,\n",
    "    p_tdg,\n",
    "    p_cnot,\n",
    "    p_x,\n",
    "]\n",
    "grammar = Grammar.uniform(primitives, continuationType=tcircuit)"
   ]
  },
  {
   "cell_type": "code",
   "execution_count": 13,
   "metadata": {},
   "outputs": [],
   "source": [
    "programs = [\n",
    "    \"(lambda (lambda (lambda (lambda (cnot (x $0 $1) $1 $2)))))\",\n",
    "    \"(lambda (lambda (lambda (lambda (cnot (x (x (x $0 $1) $1) $1) $1 $2)))))\",\n",
    "    \"(lambda (lambda (lambda (lambda (cnot (x (h (x $0 $2) $2) $2) $2 $1)))))\",\n",
    "    \"(lambda (lambda (lambda (lambda (cnot (x (h (x (h $0 $2) $2) $2) $2) $2 $1)))))\",\n",
    "    \"(lambda (lambda (lambda (lambda (cnot (x (h (x (h (x (h (x $0 $2) $2) $2) $2) $2) $2) $2) $2 $1)))))\",\n",
    "    \n",
    "]"
   ]
  },
  {
   "cell_type": "code",
   "execution_count": 14,
   "metadata": {},
   "outputs": [
    {
     "name": "stdout",
     "output_type": "stream",
     "text": [
      "(lambda (lambda (lambda (lambda (cnot (x (x (x $0 $1) $1) $1) $1 $2)))))\n",
      "     ┌───┐┌───┐┌───┐     \n",
      "q_0: ┤ X ├┤ X ├┤ X ├──■──\n",
      "     └───┘└───┘└───┘┌─┴─┐\n",
      "q_1: ───────────────┤ X ├\n",
      "                    └───┘\n",
      "q_2: ────────────────────\n",
      "                         \n"
     ]
    }
   ],
   "source": [
    "visualize_program(programs[1])"
   ]
  },
  {
   "cell_type": "code",
   "execution_count": 15,
   "metadata": {},
   "outputs": [],
   "source": [
    "tasks = {}  # dict of task:solution\n",
    "\n",
    "for code in programs:\n",
    "    arguments = (*range(n_qubit_tasks), (n_qubit_tasks, ()))\n",
    "    program = Program.parse(code)\n",
    "    circuit = execute_program(program, arguments)\n",
    "    task = QuantumTask(f\"t_{len(tasks):03d}_{code}\", circuit)\n",
    "\n",
    "    # 0 = solved, -inf = not solved\n",
    "    likelihood = task.logLikelihood(program, evaluationTimeout)\n",
    "    prior = grammar.logLikelihood(task.request, program)\n",
    "\n",
    "    frontier_entry = FrontierEntry(\n",
    "        program=program, logLikelihood=likelihood, logPrior=prior\n",
    "    )\n",
    "\n",
    "    tasks[task] = Frontier(\n",
    "        frontier=[frontier_entry],  # multiple solutions are allowed\n",
    "        task=task,\n",
    "    )"
   ]
  },
  {
   "cell_type": "code",
   "execution_count": 16,
   "metadata": {},
   "outputs": [
    {
     "name": "stderr",
     "output_type": "stream",
     "text": [
      "\u001b[94mfragmentGrammar.py:298\u001b[0m > Inducing a grammar from 5 frontiers\n",
      "\u001b[94mfragmentGrammar.py:327\u001b[0m > Starting score -111.17389390053093\n",
      "\u001b[94mfragmentGrammar.py:334\u001b[0m > Proposed 825 fragments.\n",
      "\u001b[94mfragmentGrammar.py:365\u001b[0m > New primitive of type tcircuit\t(x (h $0 $1) $1)\t\n",
      "(score = -111.094551; dScore = 0.079343; <uses> = 5.802837)\n",
      "\u001b[94mfragmentGrammar.py:378\u001b[0m > \t(<uses> in rewritten frontiers: 6.000000)\n",
      "\u001b[94mfragmentGrammar.py:334\u001b[0m > Proposed 81 fragments.\n",
      "\u001b[94mfragmentGrammar.py:397\u001b[0m > Old joint = -80.930409\tNew joint = -63.053194\n",
      "\n",
      "\u001b[94mfragmentGrammar.py:417\u001b[0m > 0.000000 / 22.000000\th\n",
      "\u001b[94mfragmentGrammar.py:417\u001b[0m > 0.000000 / 22.000000\tt\n",
      "\u001b[94mfragmentGrammar.py:417\u001b[0m > 0.000000 / 22.000000\ttdg\n",
      "\u001b[94mfragmentGrammar.py:417\u001b[0m > 5.000000 / 22.000000\tcnot\n",
      "\u001b[94mfragmentGrammar.py:417\u001b[0m > 6.000000 / 22.000000\tx\n",
      "\u001b[94mfragmentGrammar.py:417\u001b[0m > 6.000000 / 22.000000\t#(lambda (lambda (x (h $0 $1) $1)))\n"
     ]
    },
    {
     "data": {
      "text/plain": [
       "(<dreamcoder.grammar.Grammar at 0x7fe42ad45250>,\n",
       " [Frontier(entries=[FrontierEntry(program=(lambda (lambda (lambda (lambda (cnot (x $0 $1) $1 $2))))), logPrior=-8.443458133549708, logLikelihood=0.0], task=t_000_(lambda (lambda (lambda (lambda (cnot (x $0 $1) $1 $2)))))),\n",
       "  Frontier(entries=[FrontierEntry(program=(lambda (lambda (lambda (lambda (cnot (x (x (x $0 $1) $1) $1) $1 $2))))), logPrior=-14.355792502774959, logLikelihood=0.0], task=t_001_(lambda (lambda (lambda (lambda (cnot (x (x (x $0 $1) $1) $1) $1 $2)))))),\n",
       "  Frontier(entries=[FrontierEntry(program=(lambda (lambda (lambda (lambda (cnot (#(lambda (lambda (x (h $0 $1) $1))) $2 (x $0 $2)) $2 $1))))), logPrior=-11.433719529505309, logLikelihood=0.0], task=t_002_(lambda (lambda (lambda (lambda (cnot (x (h (x $0 $2) $2) $2) $2 $1)))))),\n",
       "  Frontier(entries=[FrontierEntry(program=(lambda (lambda (lambda (lambda (cnot (#(lambda (lambda (x (h $0 $1) $1))) $2 (#(lambda (lambda (x (h $0 $1) $1))) $2 $0)) $2 $1))))), logPrior=-11.467813740848285, logLikelihood=0.0], task=t_003_(lambda (lambda (lambda (lambda (cnot (x (h (x (h $0 $2) $2) $2) $2) $2 $1)))))),\n",
       "  Frontier(entries=[FrontierEntry(program=(lambda (lambda (lambda (lambda (cnot (#(lambda (lambda (x (h $0 $1) $1))) $2 (#(lambda (lambda (x (h $0 $1) $1))) $2 (#(lambda (lambda (x (h $0 $1) $1))) $2 (x $0 $2)))) $2 $1))))), logPrior=-17.414242321416516, logLikelihood=0.0], task=t_004_(lambda (lambda (lambda (lambda (cnot (x (h (x (h (x (h (x $0 $2) $2) $2) $2) $2) $2) $2) $2 $1))))))])"
      ]
     },
     "execution_count": 16,
     "metadata": {},
     "output_type": "execute_result"
    }
   ],
   "source": [
    "frontiers = [f for f in tasks.values()]\n",
    "\n",
    "new_grammar, new_frontiers = FragmentGrammar.induceFromFrontiers(\n",
    "    g0 =grammar,\n",
    "    frontiers = frontiers,\n",
    "    **settings\n",
    ")\n",
    "\n",
    "new_grammar, new_frontiers"
   ]
  },
  {
   "cell_type": "code",
   "execution_count": 15,
   "metadata": {},
   "outputs": [
    {
     "data": {
      "text/plain": [
       "dreamcoder.program.Invented"
      ]
     },
     "execution_count": 15,
     "metadata": {},
     "output_type": "execute_result"
    }
   ],
   "source": [
    "type(new_grammar.primitives[-1])"
   ]
  },
  {
   "cell_type": "code",
   "execution_count": 39,
   "metadata": {},
   "outputs": [
    {
     "data": {
      "text/plain": [
       "#(lambda (lambda (x (h $0 $1) $1)))"
      ]
     },
     "execution_count": 39,
     "metadata": {},
     "output_type": "execute_result"
    }
   ],
   "source": [
    "new_grammar.primitives[-1]"
   ]
  },
  {
   "cell_type": "code",
   "execution_count": 40,
   "metadata": {},
   "outputs": [
    {
     "name": "stdout",
     "output_type": "stream",
     "text": [
      "-0.173272\tt0\t$_\n",
      "-0.693147\ttcircuit -> int -> tcircuit\tx\n",
      "-0.757686\ttcircuit -> int -> int -> tcircuit\tcnot\n",
      "-1.163151\ttcircuit -> int -> tcircuit\th\n",
      "-1.163151\ttcircuit -> int -> tcircuit\tt\n",
      "-1.163151\ttcircuit -> int -> tcircuit\ttdg\n",
      "-0.693147\tint -> tcircuit -> tcircuit\t#(lambda (lambda (x (h $0 $1) $1)))\n"
     ]
    }
   ],
   "source": [
    "print(new_grammar)"
   ]
  },
  {
   "cell_type": "code",
   "execution_count": 51,
   "metadata": {},
   "outputs": [],
   "source": [
    "p = new_frontiers[0].entries[0].program"
   ]
  },
  {
   "cell_type": "code",
   "execution_count": 69,
   "metadata": {},
   "outputs": [
    {
     "data": {
      "text/plain": [
       "(cnot (x $0 $1) $1 $2)"
      ]
     },
     "execution_count": 69,
     "metadata": {},
     "output_type": "execute_result"
    }
   ],
   "source": [
    "p.body.body.body.body"
   ]
  },
  {
   "cell_type": "markdown",
   "metadata": {},
   "source": [
    "### Defining a program"
   ]
  },
  {
   "cell_type": "code",
   "execution_count": 4,
   "metadata": {},
   "outputs": [
    {
     "ename": "NameError",
     "evalue": "name 'code' is not defined",
     "output_type": "error",
     "traceback": [
      "\u001b[0;31m---------------------------------------------------------------------------\u001b[0m",
      "\u001b[0;31mNameError\u001b[0m                                 Traceback (most recent call last)",
      "Cell \u001b[0;32mIn[4], line 2\u001b[0m\n\u001b[1;32m      1\u001b[0m arguments \u001b[38;5;241m=\u001b[39m (\u001b[38;5;241m*\u001b[39m\u001b[38;5;28mrange\u001b[39m(n_qubit_tasks), (n_qubit_tasks, ()))\n\u001b[0;32m----> 2\u001b[0m program \u001b[38;5;241m=\u001b[39m  Program\u001b[38;5;241m.\u001b[39mparse(\u001b[43mcode\u001b[49m)\n\u001b[1;32m      3\u001b[0m circuit \u001b[38;5;241m=\u001b[39m execute_program(program, arguments)\n\u001b[1;32m      4\u001b[0m reconstructed_circuit \u001b[38;5;241m=\u001b[39m get_qiskit_circuit(circuit)\n",
      "\u001b[0;31mNameError\u001b[0m: name 'code' is not defined"
     ]
    }
   ],
   "source": [
    "arguments = (*range(n_qubit_tasks), (n_qubit_tasks, ()))\n",
    "program =  Program.parse(code)\n",
    "circuit = execute_program(program, arguments)\n",
    "reconstructed_circuit = get_qiskit_circuit(circuit)"
   ]
  },
  {
   "cell_type": "code",
   "execution_count": 19,
   "metadata": {},
   "outputs": [
    {
     "data": {
      "text/plain": [
       "(lambda $1)"
      ]
     },
     "execution_count": 19,
     "metadata": {},
     "output_type": "execute_result"
    }
   ],
   "source": [
    "# p =Program.parse(\"(lambda (lambda (lambda (lambda (cnot (#(lambda (lambda (x (h $0 $1) $1))) $2 (x $0 $2)) $2 $1)))))\")\n",
    "# p =Program.parse(\"cnot\")\n",
    "p = Program.parse(\"(lambda $1)\")\n",
    "p"
   ]
  },
  {
   "cell_type": "code",
   "execution_count": 23,
   "metadata": {},
   "outputs": [
    {
     "data": {
      "text/plain": [
       "3"
      ]
     },
     "execution_count": 23,
     "metadata": {},
     "output_type": "execute_result"
    }
   ],
   "source": [
    "p.evaluate([3])([])"
   ]
  },
  {
   "cell_type": "code",
   "execution_count": 57,
   "metadata": {},
   "outputs": [
    {
     "data": {
      "text/plain": [
       "$1"
      ]
     },
     "execution_count": 57,
     "metadata": {},
     "output_type": "execute_result"
    }
   ],
   "source": [
    "p.body.body.body.body.f.f.x.f.f.body.body.body.f.x.x"
   ]
  },
  {
   "cell_type": "code",
   "execution_count": 7,
   "metadata": {},
   "outputs": [
    {
     "data": {
      "text/plain": [
       "dreamcoder.program.Abstraction"
      ]
     },
     "execution_count": 7,
     "metadata": {},
     "output_type": "execute_result"
    }
   ],
   "source": [
    "type(p)"
   ]
  },
  {
   "cell_type": "code",
   "execution_count": 8,
   "metadata": {},
   "outputs": [
    {
     "data": {
      "text/plain": [
       "<bound method Index.evaluate of $0>"
      ]
     },
     "execution_count": 8,
     "metadata": {},
     "output_type": "execute_result"
    }
   ],
   "source": [
    "p.body.x.evaluate"
   ]
  },
  {
   "cell_type": "code",
   "execution_count": 9,
   "metadata": {},
   "outputs": [
    {
     "data": {
      "text/plain": [
       "(2, (('cnot', 1, 0),))"
      ]
     },
     "execution_count": 9,
     "metadata": {},
     "output_type": "execute_result"
    }
   ],
   "source": [
    "ee = p.evaluate([1])\n",
    "ee(no_op(2))(1)(0)"
   ]
  },
  {
   "cell_type": "code",
   "execution_count": 10,
   "metadata": {},
   "outputs": [
    {
     "data": {
      "text/plain": [
       "'        return lambda x: self.body.evaluate([x] + environment)\\n'"
      ]
     },
     "execution_count": 10,
     "metadata": {},
     "output_type": "execute_result"
    }
   ],
   "source": [
    "import inspect\n",
    "inspect.getsource(ee)"
   ]
  },
  {
   "cell_type": "code",
   "execution_count": null,
   "metadata": {},
   "outputs": [],
   "source": []
  }
 ],
 "metadata": {
  "kernelspec": {
   "display_name": "sun",
   "language": "python",
   "name": "python3"
  },
  "language_info": {
   "codemirror_mode": {
    "name": "ipython",
    "version": 3
   },
   "file_extension": ".py",
   "mimetype": "text/x-python",
   "name": "python",
   "nbconvert_exporter": "python",
   "pygments_lexer": "ipython3",
   "version": "3.9.19"
  }
 },
 "nbformat": 4,
 "nbformat_minor": 2
}
