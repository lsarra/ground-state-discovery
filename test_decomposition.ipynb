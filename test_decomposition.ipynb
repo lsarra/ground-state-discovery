{
 "cells": [
  {
   "cell_type": "code",
   "execution_count": 1,
   "metadata": {},
   "outputs": [],
   "source": [
    "import argparse\n",
    "import dill\n",
    "from datetime import datetime\n",
    "import numpy as np\n",
    "import pickle\n",
    "import qiskit as qk\n",
    "from qiskit.quantum_info import Operator, Statevector\n",
    "from qiskit.circuit.quantumcircuit import QuantumCircuit\n",
    "from typing import Tuple\n",
    "\n",
    "from akash.TFIM_ham_gen import construct_hamiltonian\n",
    "\n",
    "import dreamcoder as dc\n",
    "from dreamcoder.frontier import Frontier, FrontierEntry\n",
    "from dreamcoder.fragmentGrammar import FragmentGrammar\n",
    "from dreamcoder.grammar import Grammar\n",
    "from dreamcoder.program import Program\n",
    "from dreamcoder.program import Abstraction\n",
    "from dreamcoder.task import Task\n",
    "from dreamcoder.utilities import numberOfCPUs\n",
    "import dreamcoder.domains.quantum_ground_state.primitives as pr\n",
    "from dreamcoder.domains.quantum_ground_state.primitives import (\n",
    "    mat_contraction,\n",
    "    mat_to_tensor,\n",
    "    circuit_to_mat,\n",
    "    tensor_contraction,\n",
    "    execute_program,\n",
    "    normalize_unitary,\n",
    "    get_qiskit_circuit,\n",
    "    get_instructions_from_qiskit,\n",
    "    get_code_from_instructions,\n",
    "    tcircuit,\n",
    "    no_op,\n",
    "    QiskitTester,\n",
    ")\n",
    "from dreamcoder.domains.quantum_ground_state.primitives import execute_quantum_algorithm\n",
    "from dreamcoder.domains.quantum_ground_state.tasks import GroundStateTask,get_energy\n",
    "from dreamcoder.program import Program\n",
    "from dreamcoder.utilities import eprint\n",
    "\n",
    "%load_ext autoreload\n",
    "%autoreload 2"
   ]
  },
  {
   "cell_type": "code",
   "execution_count": 2,
   "metadata": {},
   "outputs": [
    {
     "name": "stderr",
     "output_type": "stream",
     "text": [
      "usage: ipykernel_launcher.py [-h] [-n_qubits N_QUBITS] [-J J] [-hh HH]\n",
      "                             [-decomposed DECOMPOSED] [-arity ARITY]\n",
      "                             [-structurePenalty STRUCTUREPENALTY]\n",
      "                             [-pseudoCounts PSEUDOCOUNTS]\n",
      "ipykernel_launcher.py: error: unrecognized arguments: --f=/mnt/home/lsarra/.local/share/jupyter/runtime/kernel-v2-1268611m1P5WeL3Q5eq.json\n",
      "\u001b[94m313540504.py:49\u001b[0m > Running from interactive session. Loading default parameters\n"
     ]
    }
   ],
   "source": [
    "mag_field_strength_list = [0.001, 0.1, 1, 1.5]\n",
    "decomposed_list = [0, 1]\n",
    "\n",
    "\n",
    "class args:\n",
    "    n_qubits = 2\n",
    "    J = 1\n",
    "    hh = mag_field_strength_list[0]\n",
    "    decomposed = 1\n",
    "    arity = 2\n",
    "    structurePenalty = 1\n",
    "    pseudoCounts = 10\n",
    "\n",
    "\n",
    "# Read the command line arguments\n",
    "parser = argparse.ArgumentParser(\n",
    "    description=\"Example implementation of Regularized Mutual Information Feature Selector on a solid drop.\",\n",
    "    epilog=\"Results will be saved in files with the OUTPUT tag in the 'outputs/' folder.\",\n",
    "    formatter_class=argparse.ArgumentDefaultsHelpFormatter,\n",
    ")\n",
    "\n",
    "parser.add_argument(\n",
    "    \"-n_qubits\", type=int, default=args.n_qubits, help=\"Number of qubits\"\n",
    ")\n",
    "parser.add_argument(\"-J\", type=float, default=args.J, help=\"Interaction strength\")\n",
    "parser.add_argument(\"-hh\", type=float, default=args.hh, help=\"External field strength\")\n",
    "parser.add_argument(\n",
    "    \"-decomposed\",\n",
    "    type=int,\n",
    "    default=args.decomposed,\n",
    "    help=\"Either 0=parametrized gates, 1=qiskit hardware basis\",\n",
    ")\n",
    "parser.add_argument(\n",
    "    \"-arity\",\n",
    "    type=int,\n",
    "    default=args.arity,\n",
    "    help=\"Number of arguments of extracted gates\",\n",
    ")\n",
    "parser.add_argument(\n",
    "    \"-structurePenalty\", type=int, default=args.structurePenalty, help=\"hyperparameter\"\n",
    ")\n",
    "parser.add_argument(\n",
    "    \"-pseudoCounts\", type=int, default=args.pseudoCounts, help=\"hyperparameter\"\n",
    ")\n",
    "\n",
    "try:\n",
    "    args = parser.parse_args()\n",
    "except SystemExit as e:\n",
    "    eprint(\"Running from interactive session. Loading default parameters\")"
   ]
  },
  {
   "cell_type": "code",
   "execution_count": 6,
   "metadata": {},
   "outputs": [
    {
     "name": "stderr",
     "output_type": "stream",
     "text": [
      "\u001b[94m4151542144.py:5\u001b[0m > Loading solutions from akash/solved_RL_circuits/circ_list_TFIM_qubit2_J1_h0.001_decomposed1.pickle\n"
     ]
    }
   ],
   "source": [
    "path = f\"akash/solved_RL_circuits/circ_list_TFIM_qubit{args.n_qubits}_J{args.J}_h{args.hh}_decomposed{args.decomposed}.pickle\"\n",
    "name = f\"ground_{args.n_qubits}_J{args.J}_h{args.hh}_dec{args.decomposed}\"\n",
    "with open(path, \"rb\") as handle:\n",
    "    b = dill.load(handle)\n",
    "eprint(f\"Loading solutions from {path}\")"
   ]
  },
  {
   "cell_type": "code",
   "execution_count": 7,
   "metadata": {},
   "outputs": [
    {
     "name": "stderr",
     "output_type": "stream",
     "text": [
      "\u001b[94m2954477143.py:14\u001b[0m > Library building settings: {'topK': 2, 'arity': 2, 'structurePenalty': 1, 'pseudoCounts': 10}\n"
     ]
    }
   ],
   "source": [
    "# Unfortunately these flags are set globally\n",
    "dc.domains.quantum_ground_state.primitives.GLOBAL_NQUBIT_TASK = args.n_qubits\n",
    "dc.domains.quantum_ground_state.primitives.GLOBAL_LIMITED_CONNECTIVITY = False\n",
    "\n",
    "library_settings = {\n",
    "    \"topK\": 2,  # how many solutions to consider\n",
    "    \"arity\": args.arity,  # how many arguments\n",
    "    \"structurePenalty\": args.structurePenalty,  # increase regularization 3 4 (it was 1), look at a few in [1,15]\n",
    "    \"pseudoCounts\": args.pseudoCounts,  # increase to 100, test a few values\n",
    "}\n",
    "\n",
    "primitives = [pr.p_sx, pr.p_x, pr.p_rz, pr.p_cz]\n",
    "grammar = Grammar.uniform(primitives)\n",
    "eprint(f\"Library building settings: {library_settings}\")"
   ]
  },
  {
   "cell_type": "code",
   "execution_count": 9,
   "metadata": {},
   "outputs": [
    {
     "name": "stderr",
     "output_type": "stream",
     "text": [
      "\u001b[94m241499910.py:23\u001b[0m > #  0, Energy = 1.000002\n",
      "\u001b[94m241499910.py:23\u001b[0m > #  1, Energy = 1.000000\n",
      "\u001b[94m241499910.py:23\u001b[0m > #  2, Energy = 1.000000\n",
      "\u001b[94m241499910.py:23\u001b[0m > #  3, Energy = 1.000000\n",
      "\u001b[94m241499910.py:23\u001b[0m > #  4, Energy = 1.000000\n",
      "\u001b[94m241499910.py:23\u001b[0m > #  5, Energy = 1.000000\n",
      "\u001b[94m241499910.py:23\u001b[0m > #  6, Energy = 1.000000\n",
      "\u001b[94m241499910.py:23\u001b[0m > #  7, Energy = 1.000000\n",
      "\u001b[94m241499910.py:23\u001b[0m > #  8, Energy = 1.000000\n",
      "\u001b[94m241499910.py:23\u001b[0m > #  9, Energy = 1.000000\n"
     ]
    },
    {
     "name": "stderr",
     "output_type": "stream",
     "text": [
      "\u001b[94m241499910.py:23\u001b[0m > # 10, Energy = 1.000000\n",
      "\u001b[94m241499910.py:23\u001b[0m > # 11, Energy = 1.000000\n",
      "\u001b[94m241499910.py:23\u001b[0m > # 12, Energy = 1.000000\n",
      "\u001b[94m241499910.py:23\u001b[0m > # 13, Energy = 1.000000\n",
      "\u001b[94m241499910.py:23\u001b[0m > # 14, Energy = 1.000000\n",
      "\u001b[94m241499910.py:23\u001b[0m > # 15, Energy = 1.000000\n",
      "\u001b[94m241499910.py:23\u001b[0m > # 16, Energy = 1.000000\n",
      "\u001b[94m241499910.py:23\u001b[0m > # 17, Energy = 1.000000\n",
      "\u001b[94m241499910.py:23\u001b[0m > # 18, Energy = 1.000000\n",
      "\u001b[94m241499910.py:23\u001b[0m > # 19, Energy = 1.000000\n"
     ]
    }
   ],
   "source": [
    "# Generate a few example tasks\n",
    "solutions = {}  # dict of task:solution\n",
    "# NOTE: we have a task for each decomposition because they have various different real parameters\n",
    "# We cannot have solutions with different requests for a task,\n",
    "# and it is not clear how to use real numbers as primitives (just for evaluation, we cannot enumerate them)\n",
    "for idx,circuit in enumerate(b):\n",
    "    H = construct_hamiltonian(args.J, args.hh, args.n_qubits)\n",
    "    instructions = get_instructions_from_qiskit(circuit)\n",
    "    code, arguments = get_code_from_instructions(instructions)\n",
    "    program = Program.parse(code)\n",
    "    task = GroundStateTask(f\"J_{args.J:2.2f}_h_{args.hh:2.2f}_N_{args.n_qubits}_v{idx}\",hamiltonian=H, arguments=arguments, request = program.infer())\n",
    "    likelihood = task.logLikelihood(program)\n",
    "    prior = grammar.logLikelihood(program.infer(), program)\n",
    "\n",
    "    frontier_entry = FrontierEntry(\n",
    "        program=program, logLikelihood=likelihood, logPrior=prior\n",
    "    )\n",
    "\n",
    "    solutions[task] = Frontier(\n",
    "        frontier=[frontier_entry],  # multiple solutions are allowed\n",
    "        task=task,\n",
    "    )\n",
    "    eprint(f\"#{idx:3}, Energy = {likelihood:2.6f}\")\n",
    "tasks = list(solutions.keys())"
   ]
  },
  {
   "cell_type": "code",
   "execution_count": 10,
   "metadata": {},
   "outputs": [
    {
     "name": "stderr",
     "output_type": "stream",
     "text": [
      "\u001b[94m2373419330.py:10\u001b[0m > We have 8/20 frontiers. The others are duplicate solutions\n"
     ]
    },
    {
     "data": {
      "text/plain": [
       "[Frontier(entries=[FrontierEntry(program=(lambda (lambda (lambda (lambda (lambda (lambda (sx (x (sx (cz (sx (rz (cz (rz (x (sx (rz (sx $0 $2) $5 $1) $1) $2) $4 $2) $1 $2) $3 $2) $2) $1 $2) $1) $2) $2))))))), logPrior=-33.92259025548687, logLikelihood=1.0000019905250335], task=J_1.00_h_0.00_N_2_v0),\n",
       " Frontier(entries=[FrontierEntry(program=(lambda (lambda (lambda (lambda (lambda (lambda (lambda (lambda (lambda (lambda (sx (cz (x (x (sx (sx (rz (x (rz (x (rz (sx (cz (x (rz (sx (cz (rz (cz (rz (x (cz (sx (rz (x $0 $2) $9 $1) $2) $1 $2) $2) $8 $1) $1 $2) $7 $2) $1 $2) $2) $6 $1) $1) $1 $2) $1) $5 $2) $2) $4 $1) $1) $3 $2) $1) $2) $1) $2) $1 $2) $2))))))))))), logPrior=-76.26117218347213, logLikelihood=1.0000003891172966], task=J_1.00_h_0.00_N_2_v1),\n",
       " Frontier(entries=[FrontierEntry(program=(lambda (lambda (lambda (lambda (lambda (x (sx (x (sx (x (rz (sx (rz (x (sx (sx (cz (x (cz (sx $0 $1) $1 $2) $1) $1 $2) $1) $2) $1) $4 $2) $2) $3 $1) $1) $1) $1) $1) $1)))))), logPrior=-38.92080302958456, logLikelihood=1.0000001942192795], task=J_1.00_h_0.00_N_2_v2),\n",
       " Frontier(entries=[FrontierEntry(program=(lambda (lambda (lambda (lambda (sx (rz (x (sx $0 $1) $2) $3 $1) $1))))), logPrior=-10.819778284410283, logLikelihood=1.0000000807637257], task=J_1.00_h_0.00_N_2_v3),\n",
       " Frontier(entries=[FrontierEntry(program=(lambda (lambda (lambda (lambda (lambda (lambda (lambda (sx (rz (x (sx (cz (rz (sx (rz (rz (x (sx $0 $2) $1) $6 $1) $5 $2) $2) $4 $2) $1 $2) $2) $2) $3 $2) $2)))))))), logPrior=-33.17619856040811, logLikelihood=1.000000079383235], task=J_1.00_h_0.00_N_2_v4),\n",
       " Frontier(entries=[FrontierEntry(program=(lambda (lambda (lambda (lambda (lambda (lambda (lambda (lambda (lambda (lambda (lambda (lambda (lambda (lambda (lambda (lambda (lambda (cz (rz (rz (cz (rz (x (x (cz (rz (cz (rz (cz (rz (cz (rz (cz (rz (x (rz (x (cz (rz (cz (rz (rz (cz (rz (rz (x (x $0 $1) $2) $16 $1) $15 $2) $1 $2) $14 $1) $13 $2) $1 $2) $12 $2) $1 $2) $1) $11 $2) $2) $10 $1) $1 $2) $9 $1) $1 $2) $8 $2) $1 $2) $7 $2) $1 $2) $6 $2) $1 $2) $1) $2) $5 $2) $1 $2) $4 $1) $3 $2) $1 $2)))))))))))))))))), logPrior=-114.56526512246853, logLikelihood=1.000000000000001], task=J_1.00_h_0.00_N_2_v5),\n",
       " Frontier(entries=[FrontierEntry(program=(lambda (lambda (lambda (lambda (lambda (lambda (lambda (lambda (lambda (lambda (lambda (lambda (lambda (lambda (lambda (lambda (lambda (cz (rz (cz (rz (cz (rz (cz (rz (cz (rz (cz (rz (cz (rz (x (rz (x (rz (x (rz (x (cz (rz (rz (cz (rz (rz (x (x $0 $1) $2) $16 $1) $15 $2) $1 $2) $14 $1) $13 $2) $1 $2) $1) $12 $2) $2) $11 $1) $1) $10 $2) $2) $9 $1) $1 $2) $8 $1) $1 $2) $7 $2) $1 $2) $6 $1) $1 $2) $5 $2) $1 $2) $4 $2) $1 $2) $3 $1) $1 $2)))))))))))))))))), logPrior=-111.56953284891455, logLikelihood=1.0000000000000009], task=J_1.00_h_0.00_N_2_v6),\n",
       " Frontier(entries=[FrontierEntry(program=(lambda (lambda (lambda (lambda (lambda (lambda (lambda (lambda (lambda (lambda (lambda (sx (cz (x (sx (cz (x (rz (rz (x (sx (cz (rz (cz (x (x (cz (x (rz (x (x (rz (sx (cz (rz (cz (rz (sx (rz (x $0 $2) $10 $1) $2) $9 $2) $1 $2) $8 $1) $1 $2) $2) $7 $1) $1) $2) $6 $1) $1) $1 $2) $1) $2) $1 $2) $5 $1) $1 $2) $2) $1) $4 $1) $3 $2) $1) $1 $2) $1) $2) $1 $2) $1)))))))))))), logPrior=-89.87196820661973, logLikelihood=1.0000000000000007], task=J_1.00_h_0.00_N_2_v13)]"
      ]
     },
     "execution_count": 10,
     "metadata": {},
     "output_type": "execute_result"
    }
   ],
   "source": [
    "frontiers = [f for f in solutions.values()]\n",
    "\n",
    "unique_frontiers_set = set()\n",
    "unique_frontiers = []\n",
    "for frontier in frontiers:\n",
    "    program=  frontier.entries[0].program\n",
    "    if program not in unique_frontiers_set:\n",
    "        unique_frontiers_set.add(program)\n",
    "        unique_frontiers.append(frontier)\n",
    "eprint(f\"We have {len(unique_frontiers)}/{len(frontiers)} frontiers. The others are duplicate solutions\")\n",
    "\n",
    "unique_frontiers"
   ]
  },
  {
   "cell_type": "code",
   "execution_count": 11,
   "metadata": {},
   "outputs": [
    {
     "name": "stderr",
     "output_type": "stream",
     "text": [
      "\u001b[94mfragmentGrammar.py:298\u001b[0m > Inducing a grammar from 2 frontiers\n"
     ]
    },
    {
     "name": "stderr",
     "output_type": "stream",
     "text": [
      "\u001b[94mfragmentGrammar.py:326\u001b[0m > Starting score -120.48116418744559\n",
      "\u001b[94mfragmentGrammar.py:333\u001b[0m > Proposed 137 fragments.\n",
      "\u001b[94mfragmentGrammar.py:364\u001b[0m > New primitive of type tcircuit\t(rz (cz (rz (x $0 $1) $2 $3) $4 $1) $5 $1)\t\n",
      "(score = -116.353017; dScore = 4.128147; <uses> = 1.998121)\n",
      "\u001b[94mfragmentGrammar.py:377\u001b[0m > \t(<uses> in rewritten frontiers: 2.000000)\n",
      "\u001b[94mfragmentGrammar.py:333\u001b[0m > Proposed 68 fragments.\n",
      "\u001b[94mfragmentGrammar.py:364\u001b[0m > New primitive of type int -> tcircuit\t(sx (cz $0 $1 $2))\t\n",
      "(score = -116.241393; dScore = 0.111624; <uses> = 3.552372)\n",
      "\u001b[94mfragmentGrammar.py:377\u001b[0m > \t(<uses> in rewritten frontiers: 4.000000)\n",
      "\u001b[94mfragmentGrammar.py:333\u001b[0m > Proposed 36 fragments.\n",
      "\u001b[94mfragmentGrammar.py:396\u001b[0m > Old joint = -108.183760\tNew joint = -99.829394\n",
      "\n",
      "\u001b[94mfragmentGrammar.py:416\u001b[0m > 7.000000 / 29.000000\tsx\n",
      "\u001b[94mfragmentGrammar.py:416\u001b[0m > 7.000000 / 29.000000\tx\n",
      "\u001b[94mfragmentGrammar.py:416\u001b[0m > 6.000000 / 29.000000\trz\n",
      "\u001b[94mfragmentGrammar.py:416\u001b[0m > 1.000000 / 29.000000\tcz\n",
      "\u001b[94mfragmentGrammar.py:416\u001b[0m > 2.000000 / 29.000000\t#(lambda (lambda (lambda (lambda (lambda (lambda (rz (cz (rz (x $0 $1) $2 $3) $4 $1) $5 $1)))))))\n",
      "\u001b[94mfragmentGrammar.py:416\u001b[0m > 4.000000 / 29.000000\t#(lambda (lambda (lambda (sx (cz $0 $1 $2)))))\n"
     ]
    },
    {
     "data": {
      "text/plain": [
       "(<dreamcoder.grammar.Grammar at 0x7f2a56d73cd0>,\n",
       " [Frontier(entries=[FrontierEntry(program=(lambda (lambda (lambda (lambda (lambda (lambda (sx (x (#(lambda (lambda (lambda (sx (cz $0 $1 $2))))) $2 $1 (sx (#(lambda (lambda (lambda (lambda (lambda (lambda (rz (cz (rz (x $0 $1) $2 $3) $4 $1) $5 $1))))))) $3 $1 $2 $4 $2 (sx (rz (sx $0 $2) $5 $1) $1)) $2) $1) $2) $2))))))), logPrior=-29.003119784129332, logLikelihood=1.0000019905250335], task=J_1.00_h_0.00_N_2_v0),\n",
       "  Frontier(entries=[FrontierEntry(program=(lambda (lambda (lambda (lambda (lambda (lambda (lambda (lambda (lambda (lambda (#(lambda (lambda (lambda (sx (cz $0 $1 $2))))) $2 $1 (x (x (sx (sx (rz (x (rz (x (rz (#(lambda (lambda (lambda (sx (cz $0 $1 $2))))) $2 $1 (x (rz (#(lambda (lambda (lambda (sx (cz $0 $1 $2))))) $2 $1 (#(lambda (lambda (lambda (lambda (lambda (lambda (rz (cz (rz (x $0 $1) $2 $3) $4 $1) $5 $1))))))) $7 $1 $1 $8 $2 (cz (sx (rz (x $0 $2) $9 $1) $2) $1 $2)) $2) $6 $1) $1) $1) $5 $2) $2) $4 $1) $1) $3 $2) $1) $2) $1) $2) $2))))))))))), logPrior=-72.88299103050062, logLikelihood=1.0000003891172966], task=J_1.00_h_0.00_N_2_v1)])"
      ]
     },
     "execution_count": 11,
     "metadata": {},
     "output_type": "execute_result"
    }
   ],
   "source": [
    "new_grammar, new_frontiers = FragmentGrammar.induceFromFrontiers(\n",
    "    g0=grammar, frontiers=unique_frontiers[:2], **library_settings,\n",
    "    CPUs=numberOfCPUs()\n",
    ")\n",
    "\n",
    "new_grammar, new_frontiers"
   ]
  },
  {
   "cell_type": "code",
   "execution_count": 7,
   "metadata": {},
   "outputs": [],
   "source": [
    "timestamp = datetime.now().isoformat()\n",
    "with open(f\"experimentOutputs/{timestamp}_{name}_grammar.pickle\",\"wb\") as f:\n",
    "    pickle.dump(new_grammar,f)\n",
    "    \n",
    "with open(f\"experimentOutputs/{timestamp}_{name}_frontiers.pickle\",\"wb\") as f:\n",
    "    pickle.dump(new_frontiers,f)\n",
    "eprint(f\"Results saved in experimentOutputs/{timestamp}_{name}_...\")"
   ]
  },
  {
   "cell_type": "markdown",
   "metadata": {},
   "source": [
    "---"
   ]
  },
  {
   "cell_type": "markdown",
   "metadata": {},
   "source": [
    "## Some analysis"
   ]
  },
  {
   "cell_type": "code",
   "execution_count": null,
   "metadata": {},
   "outputs": [],
   "source": []
  },
  {
   "cell_type": "markdown",
   "metadata": {},
   "source": [
    "(cz ($0 (cz ($0 (cz ($0 (cz ($0 (cz ($0 (cz ($0 (cz ($0 (x ($0 (x ($0 (x ($0 (x (cz ($0 ($0 (cz ($0 ($0 (x (x $1 $2) $3) $4 $2) $5 $3) $2 $3) $6 $2) $7 $3) $2 $3) $2) $8 $3) $3) $9 $2) $2) $10 $3) $3) $11 $2) $2 $3) $12 $2) $2 $3) $13 $3) $2 $3) $14 $2) $2 $3) $15 $3) $2 $3) $16 $3) $2 $3) $17 $2) $2 $3)\t\n"
   ]
  },
  {
   "cell_type": "code",
   "execution_count": 33,
   "metadata": {},
   "outputs": [
    {
     "data": {
      "text/plain": [
       "[Frontier(entries=[FrontierEntry(program=(lambda (lambda (lambda (lambda (lambda (lambda (sx (x (sx (cz (sx (rz (cz (rz (x (sx (rz (sx $0 $2) $5 $1) $1) $2) $4 $2) $1 $2) $3 $2) $2) $1 $2) $1) $2) $2))))))), logPrior=-33.92259025548687, logLikelihood=1.0000019905250335], task=J_1.00_h_0.00_N_2_v0),\n",
       " Frontier(entries=[FrontierEntry(program=(lambda (lambda (lambda (lambda (lambda (lambda (lambda (lambda (lambda (lambda (sx (cz (x (x (sx (sx (rz (x (rz (x (rz (sx (cz (x (rz (sx (cz (rz (cz (rz (x (cz (sx (rz (x $0 $2) $9 $1) $2) $1 $2) $2) $8 $1) $1 $2) $7 $2) $1 $2) $2) $6 $1) $1) $1 $2) $1) $5 $2) $2) $4 $1) $1) $3 $2) $1) $2) $1) $2) $1 $2) $2))))))))))), logPrior=-76.26117218347213, logLikelihood=1.0000019905250335], task=J_1.00_h_0.00_N_2_v1),\n",
       " Frontier(entries=[FrontierEntry(program=(lambda (lambda (lambda (lambda (lambda (x (sx (x (sx (x (rz (sx (rz (x (sx (sx (cz (x (cz (sx $0 $1) $1 $2) $1) $1 $2) $1) $2) $1) $4 $2) $2) $3 $1) $1) $1) $1) $1) $1)))))), logPrior=-38.92080302958456, logLikelihood=1.0000019905250335], task=J_1.00_h_0.00_N_2_v2),\n",
       " Frontier(entries=[FrontierEntry(program=(lambda (lambda (lambda (lambda (sx (rz (x (sx $0 $1) $2) $3 $1) $1))))), logPrior=-10.819778284410283, logLikelihood=1.0000019905250335], task=J_1.00_h_0.00_N_2_v3),\n",
       " Frontier(entries=[FrontierEntry(program=(lambda (lambda (lambda (lambda (lambda (lambda (lambda (sx (rz (x (sx (cz (rz (sx (rz (rz (x (sx $0 $2) $1) $6 $1) $5 $2) $2) $4 $2) $1 $2) $2) $2) $3 $2) $2)))))))), logPrior=-33.17619856040811, logLikelihood=1.0000019905250335], task=J_1.00_h_0.00_N_2_v4),\n",
       " Frontier(entries=[FrontierEntry(program=(lambda (lambda (lambda (lambda (lambda (lambda (lambda (lambda (lambda (lambda (lambda (lambda (lambda (lambda (lambda (lambda (lambda (cz (rz (rz (cz (rz (x (x (cz (rz (cz (rz (cz (rz (cz (rz (cz (rz (x (rz (x (cz (rz (cz (rz (rz (cz (rz (rz (x (x $0 $1) $2) $16 $1) $15 $2) $1 $2) $14 $1) $13 $2) $1 $2) $12 $2) $1 $2) $1) $11 $2) $2) $10 $1) $1 $2) $9 $1) $1 $2) $8 $2) $1 $2) $7 $2) $1 $2) $6 $2) $1 $2) $1) $2) $5 $2) $1 $2) $4 $1) $3 $2) $1 $2)))))))))))))))))), logPrior=-114.56526512246853, logLikelihood=1.0000019905250335], task=J_1.00_h_0.00_N_2_v5),\n",
       " Frontier(entries=[FrontierEntry(program=(lambda (lambda (lambda (lambda (lambda (lambda (lambda (lambda (lambda (lambda (lambda (lambda (lambda (lambda (lambda (lambda (lambda (cz (rz (cz (rz (cz (rz (cz (rz (cz (rz (cz (rz (cz (rz (x (rz (x (rz (x (rz (x (cz (rz (rz (cz (rz (rz (x (x $0 $1) $2) $16 $1) $15 $2) $1 $2) $14 $1) $13 $2) $1 $2) $1) $12 $2) $2) $11 $1) $1) $10 $2) $2) $9 $1) $1 $2) $8 $1) $1 $2) $7 $2) $1 $2) $6 $1) $1 $2) $5 $2) $1 $2) $4 $2) $1 $2) $3 $1) $1 $2)))))))))))))))))), logPrior=-111.56953284891455, logLikelihood=1.0000019905250335], task=J_1.00_h_0.00_N_2_v6),\n",
       " Frontier(entries=[FrontierEntry(program=(lambda (lambda (lambda (lambda (lambda (lambda (lambda (lambda (lambda (lambda (lambda (lambda (lambda (lambda (lambda (lambda (lambda (cz (rz (cz (rz (cz (rz (cz (rz (cz (rz (cz (rz (cz (rz (x (rz (x (rz (x (rz (x (cz (rz (rz (cz (rz (rz (x (x $0 $1) $2) $16 $1) $15 $2) $1 $2) $14 $1) $13 $2) $1 $2) $1) $12 $2) $2) $11 $1) $1) $10 $2) $2) $9 $1) $1 $2) $8 $1) $1 $2) $7 $2) $1 $2) $6 $1) $1 $2) $5 $2) $1 $2) $4 $2) $1 $2) $3 $1) $1 $2)))))))))))))))))), logPrior=-111.56953284891455, logLikelihood=1.0000019905250335], task=J_1.00_h_0.00_N_2_v7),\n",
       " Frontier(entries=[FrontierEntry(program=(lambda (lambda (lambda (lambda (lambda (lambda (lambda (lambda (lambda (lambda (lambda (lambda (lambda (lambda (lambda (lambda (lambda (cz (rz (cz (rz (cz (rz (cz (rz (cz (rz (cz (rz (cz (rz (x (rz (x (rz (x (rz (x (cz (rz (rz (cz (rz (rz (x (x $0 $1) $2) $16 $1) $15 $2) $1 $2) $14 $1) $13 $2) $1 $2) $1) $12 $2) $2) $11 $1) $1) $10 $2) $2) $9 $1) $1 $2) $8 $1) $1 $2) $7 $2) $1 $2) $6 $1) $1 $2) $5 $2) $1 $2) $4 $2) $1 $2) $3 $1) $1 $2)))))))))))))))))), logPrior=-111.56953284891455, logLikelihood=1.0000019905250335], task=J_1.00_h_0.00_N_2_v8),\n",
       " Frontier(entries=[FrontierEntry(program=(lambda (lambda (lambda (lambda (lambda (lambda (lambda (lambda (lambda (lambda (lambda (lambda (lambda (lambda (lambda (lambda (lambda (cz (rz (cz (rz (cz (rz (cz (rz (cz (rz (cz (rz (cz (rz (x (rz (x (rz (x (rz (x (cz (rz (rz (cz (rz (rz (x (x $0 $1) $2) $16 $1) $15 $2) $1 $2) $14 $1) $13 $2) $1 $2) $1) $12 $2) $2) $11 $1) $1) $10 $2) $2) $9 $1) $1 $2) $8 $1) $1 $2) $7 $2) $1 $2) $6 $1) $1 $2) $5 $2) $1 $2) $4 $2) $1 $2) $3 $1) $1 $2)))))))))))))))))), logPrior=-111.56953284891455, logLikelihood=1.0000019905250335], task=J_1.00_h_0.00_N_2_v9)]"
      ]
     },
     "execution_count": 33,
     "metadata": {},
     "output_type": "execute_result"
    }
   ],
   "source": [
    "frontiers"
   ]
  },
  {
   "cell_type": "code",
   "execution_count": 163,
   "metadata": {},
   "outputs": [],
   "source": [
    "instructions = get_instructions_from_qiskit(circuit)\n",
    "code, arguments = get_code_from_instructions(instructions)\n",
    "program = Program.parse(code)\n",
    "reconstructed = execute_program(program, arguments)"
   ]
  },
  {
   "cell_type": "markdown",
   "metadata": {},
   "source": [
    "# Test"
   ]
  },
  {
   "cell_type": "code",
   "execution_count": null,
   "metadata": {},
   "outputs": [],
   "source": [
    "# psi0 = np.array([1,0,0,0])\n",
    "# rot = np.array(Operator(circ).data)\n",
    "# psi1= np.dot(rot,psi0)"
   ]
  },
  {
   "cell_type": "code",
   "execution_count": null,
   "metadata": {},
   "outputs": [],
   "source": [
    "# pipeline is\n",
    "# CODE:str --> PROGRAM:Program --> INSTRUCTIONS:tuple --> CIRCUIT: QuantumCircuit\n",
    "\n",
    "# inverse pipeline is\n",
    "# CIRCUIT: QuantumCircuit --> INSTRUCTIONS: tuple --> CODE: str "
   ]
  },
  {
   "cell_type": "code",
   "execution_count": null,
   "metadata": {},
   "outputs": [
    {
     "name": "stdout",
     "output_type": "stream",
     "text": [
      "(-1.0000019905250335+0j)\n",
      "(-1.000000389117297-5.551115123125783e-17j)\n",
      "(-1.0000001942192795+0j)\n",
      "(-1.0000000807637257+0j)\n",
      "(-1.0000000793832347-5.551115123125783e-17j)\n",
      "(-1.0000000000000002+0j)\n",
      "(-1.0000000000000004+0j)\n",
      "(-1.0000000000000004+0j)\n",
      "(-1.0000000000000004+0j)\n",
      "(-1.0000000000000004+0j)\n",
      "(-1.0000000000000004+0j)\n",
      "(-1.0000000000000004+0j)\n",
      "(-1.0000000000000004+0j)\n",
      "(-0.9999999999999998+0j)\n",
      "(-0.9999999999999998+0j)\n",
      "(-0.9999999999999998+0j)\n",
      "(-0.9999999999999998+0j)\n",
      "(-0.9999999999999998+0j)\n",
      "(-0.9999999999999998+0j)\n",
      "(-0.9999999999999998+0j)\n"
     ]
    }
   ],
   "source": [
    "H = construct_hamiltonian(J, h, n_qubits)\n",
    "for circ in b:\n",
    "    psi0 = Statevector.from_int(0, 2**n_qubits)\n",
    "    psi1 = psi0.evolve(circ)\n",
    "    print(get_energy(psi1.data, H))\n",
    "    \n",
    "instructions = get_instructions_from_qiskit(circ)\n",
    "code, arguments = get_code_from_instructions(instructions)\n",
    "program = Program.parse(code)"
   ]
  },
  {
   "cell_type": "code",
   "execution_count": null,
   "metadata": {},
   "outputs": [],
   "source": [
    "# Test: get_qiskit_circuit(instructions) --> same circuit\n",
    "instructions = get_instructions_from_qiskit(circ)\n",
    "reconstructed_circuit = get_qiskit_circuit(instructions)\n",
    "Operator(reconstructed_circuit.circuit).data - Operator(circ).data"
   ]
  },
  {
   "cell_type": "code",
   "execution_count": null,
   "metadata": {},
   "outputs": [],
   "source": [
    "# Test: get code from instructions\n",
    "code, arguments = get_code_from_instructions(instructions)\n",
    "program = Program.parse(code)\n",
    "reconstructed = execute_program(program, arguments)\n",
    "reconstructed == instructions\n",
    "\n",
    "print(program)\n",
    "print(reconstructed)\n",
    "print(instructions)\n"
   ]
  },
  {
   "cell_type": "code",
   "execution_count": 16,
   "metadata": {},
   "outputs": [
    {
     "data": {
      "text/plain": [
       "[sx, x, rz, cz]"
      ]
     },
     "execution_count": 16,
     "metadata": {},
     "output_type": "execute_result"
    }
   ],
   "source": [
    "primitives"
   ]
  },
  {
   "cell_type": "code",
   "execution_count": 21,
   "metadata": {},
   "outputs": [
    {
     "data": {
      "text/plain": [
       "(array([[0.87758256-0.47942554j, 0.        +0.j        ,\n",
       "         0.        +0.j        , 0.        +0.j        ],\n",
       "        [0.        +0.j        , 0.87758256-0.47942554j,\n",
       "         0.        +0.j        , 0.        +0.j        ],\n",
       "        [0.        +0.j        , 0.        +0.j        ,\n",
       "         0.87758256+0.47942554j, 0.        +0.j        ],\n",
       "        [0.        +0.j        , 0.        +0.j        ,\n",
       "         0.        +0.j        , 0.87758256+0.47942554j]]),\n",
       " array([[0.87758256-0.47942554j, 0.        +0.j        ,\n",
       "         0.        +0.j        , 0.        +0.j        ],\n",
       "        [0.        +0.j        , 0.87758256-0.47942554j,\n",
       "         0.        +0.j        , 0.        +0.j        ],\n",
       "        [0.        +0.j        , 0.        +0.j        ,\n",
       "         0.87758256+0.47942554j, 0.        +0.j        ],\n",
       "        [0.        +0.j        , 0.        +0.j        ,\n",
       "         0.        +0.j        , 0.87758256+0.47942554j]]))"
      ]
     },
     "execution_count": 21,
     "metadata": {},
     "output_type": "execute_result"
    }
   ],
   "source": [
    "# Test: unitary from instructions\n",
    "with QiskitTester(2) as QT:\n",
    "    QT.circuit.rz(1,1)\n",
    "QT.circuit.draw()\n",
    "instructions = get_instructions_from_qiskit(QT.circuit)\n",
    "Operator(QT.circuit).data, circuit_to_mat(instructions)"
   ]
  },
  {
   "cell_type": "code",
   "execution_count": null,
   "metadata": {},
   "outputs": [
    {
     "data": {
      "text/html": [
       "<pre style=\"word-wrap: normal;white-space: pre;background: #fff0;line-height: 1.1;font-family: &quot;Courier New&quot;,Courier,monospace\">      ┌───┐  ┌──────────┐┌───┐\n",
       "q_0: ─┤ X ├──┤ Rz(1.43) ├┤ X ├\n",
       "     ┌┴───┴─┐└──┬───┬───┘└─┬─┘\n",
       "q_1: ┤ √Xdg ├───┤ X ├──────■──\n",
       "     └──────┘   └───┘         </pre>"
      ],
      "text/plain": [
       "      ┌───┐  ┌──────────┐┌───┐\n",
       "q_0: ─┤ X ├──┤ Rz(1.43) ├┤ X ├\n",
       "     ┌┴───┴─┐└──┬───┬───┘└─┬─┘\n",
       "q_1: ┤ √Xdg ├───┤ X ├──────■──\n",
       "     └──────┘   └───┘         "
      ]
     },
     "metadata": {},
     "output_type": "display_data"
    }
   ],
   "source": [
    "instructions = (2, (\n",
    "    (\"sxdg\", 0),\n",
    "    (\"x\", 0),\n",
    "    (\"x\", 1),\n",
    "    (\"rz\", 1.43,1),\n",
    "    (\"cnot\", 0,1)\n",
    "    ))\n",
    "get_qiskit_circuit(instructions).circuit.draw()\n",
    "# with QiskitTester(circuit=instructions) as QT:\n",
    "#     QT.circuit.sxdg(QT.q(0))\n",
    "# QT.circuit.draw()"
   ]
  },
  {
   "cell_type": "code",
   "execution_count": null,
   "metadata": {},
   "outputs": [],
   "source": [
    "instructions = (1, (\n",
    "    # (\"sxdg\", 0),\n",
    "    # (\"x\", 0),\n",
    "    # (\"x\", 1),\n",
    "    (\"rz\", 1.43,0),\n",
    "    # (\"cnot\", 0,1)\n",
    "    ))\n",
    "get_qiskit_circuit(instructions).circuit.draw()\n",
    "code, arguments = get_code_from_instructions(instructions)"
   ]
  },
  {
   "cell_type": "code",
   "execution_count": null,
   "metadata": {},
   "outputs": [],
   "source": [
    "code = '(lambda (lambda(lambda (rz $0 $2 $1 ) )))'\n",
    "code = '(cnot (no_op(2)) 1 0)'\n",
    "code = '(cnot (I 2) 0 1)'\n",
    "code = '(x (I 1) 0 )'\n",
    "code = '(x (rz (I 1) 11 0) 0 )'"
   ]
  },
  {
   "cell_type": "code",
   "execution_count": null,
   "metadata": {},
   "outputs": [
    {
     "ename": "Exception",
     "evalue": "Attempt to evaluate hole",
     "output_type": "error",
     "traceback": [
      "\u001b[0;31m---------------------------------------------------------------------------\u001b[0m\n",
      "\u001b[0;31mException\u001b[0m                                 Traceback (most recent call last)\n",
      "Cell \u001b[0;32mIn[64], line 3\u001b[0m\n",
      "\u001b[1;32m      1\u001b[0m program \u001b[38;5;241m=\u001b[39m Program\u001b[38;5;241m.\u001b[39mparse(code)\n",
      "\u001b[0;32m----> 3\u001b[0m instructions \u001b[38;5;241m=\u001b[39m \u001b[43mexecute_program\u001b[49m\u001b[43m(\u001b[49m\u001b[43mprogram\u001b[49m\u001b[43m,\u001b[49m\u001b[43m \u001b[49m\u001b[43m(\u001b[49m\u001b[43m)\u001b[49m\u001b[43m)\u001b[49m\n",
      "\u001b[1;32m      4\u001b[0m get_qiskit_circuit(instructions)\u001b[38;5;241m.\u001b[39mcircuit\u001b[38;5;241m.\u001b[39mdraw()\n",
      "\n",
      "File \u001b[0;32m~/notebooks/unitary-synthesis/dreamcoder/domains/quantum_circuits/primitives.py:834\u001b[0m, in \u001b[0;36mexecute_program\u001b[0;34m(program, arguments)\u001b[0m\n",
      "\u001b[1;32m    832\u001b[0m \u001b[38;5;28;01mif\u001b[39;00m \u001b[38;5;124m\"\u001b[39m\u001b[38;5;124mrep\u001b[39m\u001b[38;5;124m\"\u001b[39m \u001b[38;5;129;01min\u001b[39;00m \u001b[38;5;28mstr\u001b[39m(program):\n",
      "\u001b[1;32m    833\u001b[0m     eprint(program)\n",
      "\u001b[0;32m--> 834\u001b[0m circuit \u001b[38;5;241m=\u001b[39m \u001b[43mprogram\u001b[49m\u001b[38;5;241;43m.\u001b[39;49m\u001b[43mevaluate\u001b[49m\u001b[43m(\u001b[49m\u001b[43m[\u001b[49m\u001b[43m]\u001b[49m\u001b[43m)\u001b[49m\n",
      "\u001b[1;32m    835\u001b[0m \u001b[38;5;28;01mfor\u001b[39;00m arg \u001b[38;5;129;01min\u001b[39;00m arguments:\n",
      "\u001b[1;32m    836\u001b[0m     circuit \u001b[38;5;241m=\u001b[39m circuit(arg)\n",
      "\n",
      "File \u001b[0;32m~/notebooks/unitary-synthesis/dreamcoder/program.py:344\u001b[0m, in \u001b[0;36mApplication.evaluate\u001b[0;34m(self, environment)\u001b[0m\n",
      "\u001b[1;32m    342\u001b[0m         \u001b[38;5;28;01mreturn\u001b[39;00m \u001b[38;5;28mself\u001b[39m\u001b[38;5;241m.\u001b[39mfalseBranch\u001b[38;5;241m.\u001b[39mevaluate(environment)\n",
      "\u001b[1;32m    343\u001b[0m \u001b[38;5;28;01melse\u001b[39;00m:\n",
      "\u001b[0;32m--> 344\u001b[0m     \u001b[38;5;28;01mreturn\u001b[39;00m \u001b[38;5;28;43mself\u001b[39;49m\u001b[38;5;241;43m.\u001b[39;49m\u001b[43mf\u001b[49m\u001b[38;5;241;43m.\u001b[39;49m\u001b[43mevaluate\u001b[49m\u001b[43m(\u001b[49m\u001b[43menvironment\u001b[49m\u001b[43m)\u001b[49m(\u001b[38;5;28mself\u001b[39m\u001b[38;5;241m.\u001b[39mx\u001b[38;5;241m.\u001b[39mevaluate(environment))\n",
      "\n",
      "File \u001b[0;32m~/notebooks/unitary-synthesis/dreamcoder/program.py:344\u001b[0m, in \u001b[0;36mApplication.evaluate\u001b[0;34m(self, environment)\u001b[0m\n",
      "\u001b[1;32m    342\u001b[0m         \u001b[38;5;28;01mreturn\u001b[39;00m \u001b[38;5;28mself\u001b[39m\u001b[38;5;241m.\u001b[39mfalseBranch\u001b[38;5;241m.\u001b[39mevaluate(environment)\n",
      "\u001b[1;32m    343\u001b[0m \u001b[38;5;28;01melse\u001b[39;00m:\n",
      "\u001b[0;32m--> 344\u001b[0m     \u001b[38;5;28;01mreturn\u001b[39;00m \u001b[38;5;28mself\u001b[39m\u001b[38;5;241m.\u001b[39mf\u001b[38;5;241m.\u001b[39mevaluate(environment)(\u001b[38;5;28;43mself\u001b[39;49m\u001b[38;5;241;43m.\u001b[39;49m\u001b[43mx\u001b[49m\u001b[38;5;241;43m.\u001b[39;49m\u001b[43mevaluate\u001b[49m\u001b[43m(\u001b[49m\u001b[43menvironment\u001b[49m\u001b[43m)\u001b[49m)\n",
      "\n",
      "    \u001b[0;31m[... skipping similar frames: Application.evaluate at line 344 (1 times)]\u001b[0m\n",
      "\n",
      "File \u001b[0;32m~/notebooks/unitary-synthesis/dreamcoder/program.py:344\u001b[0m, in \u001b[0;36mApplication.evaluate\u001b[0;34m(self, environment)\u001b[0m\n",
      "\u001b[1;32m    342\u001b[0m         \u001b[38;5;28;01mreturn\u001b[39;00m \u001b[38;5;28mself\u001b[39m\u001b[38;5;241m.\u001b[39mfalseBranch\u001b[38;5;241m.\u001b[39mevaluate(environment)\n",
      "\u001b[1;32m    343\u001b[0m \u001b[38;5;28;01melse\u001b[39;00m:\n",
      "\u001b[0;32m--> 344\u001b[0m     \u001b[38;5;28;01mreturn\u001b[39;00m \u001b[38;5;28mself\u001b[39m\u001b[38;5;241m.\u001b[39mf\u001b[38;5;241m.\u001b[39mevaluate(environment)(\u001b[38;5;28;43mself\u001b[39;49m\u001b[38;5;241;43m.\u001b[39;49m\u001b[43mx\u001b[49m\u001b[38;5;241;43m.\u001b[39;49m\u001b[43mevaluate\u001b[49m\u001b[43m(\u001b[49m\u001b[43menvironment\u001b[49m\u001b[43m)\u001b[49m)\n",
      "\n",
      "File \u001b[0;32m~/notebooks/unitary-synthesis/dreamcoder/program.py:847\u001b[0m, in \u001b[0;36mHole.evaluate\u001b[0;34m(self, e)\u001b[0m\n",
      "\u001b[1;32m    846\u001b[0m \u001b[38;5;28;01mdef\u001b[39;00m \u001b[38;5;21mevaluate\u001b[39m(\u001b[38;5;28mself\u001b[39m, e):\n",
      "\u001b[0;32m--> 847\u001b[0m     \u001b[38;5;28;01mraise\u001b[39;00m \u001b[38;5;167;01mException\u001b[39;00m(\u001b[38;5;124m'\u001b[39m\u001b[38;5;124mAttempt to evaluate hole\u001b[39m\u001b[38;5;124m'\u001b[39m)\n",
      "\n",
      "\u001b[0;31mException\u001b[0m: Attempt to evaluate hole"
     ]
    }
   ],
   "source": [
    "program = Program.parse(code)\n",
    "instructions = execute_program(program, ())\n",
    "get_qiskit_circuit(instructions).circuit.draw()"
   ]
  },
  {
   "cell_type": "code",
   "execution_count": null,
   "metadata": {},
   "outputs": [
    {
     "name": "stdout",
     "output_type": "stream",
     "text": [
      "(-1.0000019905250335+0j) 1.0000019905250335\n",
      "(-1.000000389117297-5.551115123125783e-17j) 1.0000003891172966\n",
      "(-1.0000001942192795+0j) 1.0000001942192795\n",
      "(-1.0000000807637257+0j) 1.0000000807637257\n",
      "(-1.0000000793832347-5.551115123125783e-17j) 1.000000079383235\n",
      "(-1.0000000000000002+0j) 1.000000000000001\n",
      "(-1.0000000000000004+0j) 1.0000000000000009\n",
      "(-1.0000000000000004+0j) 1.0000000000000009\n",
      "(-1.0000000000000004+0j) 1.0000000000000009\n",
      "(-1.0000000000000004+0j) 1.0000000000000009\n",
      "(-1.0000000000000004+0j) 1.0000000000000009\n",
      "(-1.0000000000000004+0j) 1.0000000000000009\n",
      "(-1.0000000000000004+0j) 1.0000000000000009\n",
      "(-0.9999999999999998+0j) 1.0000000000000007\n",
      "(-0.9999999999999998+0j) 1.0000000000000007\n",
      "(-0.9999999999999998+0j) 1.0000000000000007\n",
      "(-0.9999999999999998+0j) 1.0000000000000007\n",
      "(-0.9999999999999998+0j) 1.0000000000000007\n",
      "(-0.9999999999999998+0j) 1.0000000000000007\n",
      "(-0.9999999999999998+0j) 1.0000000000000007\n"
     ]
    }
   ],
   "source": [
    "for circ in b:\n",
    "    H = construct_hamiltonian(J, h, n_qubits)\n",
    "    instructions = get_instructions_from_qiskit(circ)\n",
    "    code, arguments = get_code_from_instructions(instructions)\n",
    "    program = Program.parse(code)\n",
    "    task = GroundStateTask(f\"J_{J:2.2f}_h_{h:2.2f}_N_{n_qubits}\",hamiltonian=H, arguments=arguments, request = program.infer())\n",
    "    energy = task.logLikelihood(program)\n",
    "    \n",
    "    psi0 = Statevector.from_int(0, 4)\n",
    "    psi1 = psi0.evolve(circ)\n",
    "    print(get_energy(psi1,H),energy)"
   ]
  },
  {
   "cell_type": "code",
   "execution_count": null,
   "metadata": {},
   "outputs": [
    {
     "data": {
      "text/plain": [
       "(2,\n",
       " (('x', 0),\n",
       "  ('rz', 12.852044105529785, 1),\n",
       "  ('sx', 0),\n",
       "  ('rz', 4.629762649536133, 0),\n",
       "  ('cz', 1, 0),\n",
       "  ('rz', 5.277709484100342, 1),\n",
       "  ('cz', 1, 0),\n",
       "  ('sx', 0),\n",
       "  ('rz', 0.030434206128120422, 1),\n",
       "  ('x', 1),\n",
       "  ('x', 0),\n",
       "  ('rz', -1.6001750230789185, 1),\n",
       "  ('x', 1),\n",
       "  ('cz', 1, 0),\n",
       "  ('x', 1),\n",
       "  ('x', 0),\n",
       "  ('cz', 1, 0),\n",
       "  ('rz', -0.9125978946685791, 1),\n",
       "  ('cz', 1, 0),\n",
       "  ('sx', 0),\n",
       "  ('x', 1),\n",
       "  ('rz', -1.3367031812667847, 1),\n",
       "  ('rz', -1.1753524541854858, 0),\n",
       "  ('x', 1),\n",
       "  ('cz', 1, 0),\n",
       "  ('sx', 1),\n",
       "  ('x', 0),\n",
       "  ('cz', 1, 0),\n",
       "  ('sx', 1)))"
      ]
     },
     "metadata": {},
     "output_type": "display_data"
    }
   ],
   "source": [
    "instructions"
   ]
  }
 ],
 "metadata": {
  "kernelspec": {
   "display_name": "dc",
   "language": "python",
   "name": "python3"
  },
  "language_info": {
   "codemirror_mode": {
    "name": "ipython",
    "version": 3
   },
   "file_extension": ".py",
   "mimetype": "text/x-python",
   "name": "python",
   "nbconvert_exporter": "python",
   "pygments_lexer": "ipython3",
   "version": "3.11.8"
  }
 },
 "nbformat": 4,
 "nbformat_minor": 2
}
