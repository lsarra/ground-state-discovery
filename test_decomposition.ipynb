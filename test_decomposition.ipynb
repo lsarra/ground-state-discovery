{
 "cells": [
  {
   "cell_type": "code",
   "execution_count": 22,
   "metadata": {},
   "outputs": [
    {
     "name": "stdout",
     "output_type": "stream",
     "text": [
      "The autoreload extension is already loaded. To reload it, use:\n",
      "  %reload_ext autoreload\n"
     ]
    }
   ],
   "source": [
    "import argparse\n",
    "import dill\n",
    "from datetime import datetime\n",
    "import numpy as np\n",
    "import pickle\n",
    "import qiskit as qk\n",
    "from qiskit.quantum_info import Operator, Statevector\n",
    "from qiskit.circuit.quantumcircuit import QuantumCircuit\n",
    "from typing import Tuple\n",
    "\n",
    "from akash.TFIM_ham_gen import construct_hamiltonian\n",
    "\n",
    "import dreamcoder as dc\n",
    "from dreamcoder.frontier import Frontier, FrontierEntry\n",
    "from dreamcoder.fragmentGrammar import FragmentGrammar\n",
    "from dreamcoder.grammar import Grammar\n",
    "from dreamcoder.program import Program\n",
    "from dreamcoder.program import Abstraction\n",
    "from dreamcoder.task import Task\n",
    "from dreamcoder.utilities import numberOfCPUs\n",
    "import dreamcoder.domains.quantum_ground_state.primitives as pr\n",
    "from dreamcoder.domains.quantum_ground_state.primitives import (\n",
    "    circuit_to_mat,\n",
    "    full_op_names,\n",
    "    mat_contraction,\n",
    "    mat_to_tensor,\n",
    "    execute_program,\n",
    "    normalize_unitary,\n",
    "    get_qiskit_circuit,\n",
    "    get_instructions_from_qiskit,\n",
    "    get_code_from_instructions,\n",
    "    tcircuit,\n",
    "    tensor_contraction,\n",
    "    no_op,\n",
    "    n_qubit_gate,\n",
    "    QiskitTester,\n",
    ")\n",
    "from dreamcoder.domains.quantum_ground_state.primitives import execute_quantum_algorithm\n",
    "from dreamcoder.domains.quantum_ground_state.tasks import GroundStateTask,get_energy\n",
    "from dreamcoder.program import Program, Primitive\n",
    "from dreamcoder.utilities import eprint, Curried\n",
    "\n",
    "%load_ext autoreload\n",
    "%autoreload 2"
   ]
  },
  {
   "cell_type": "code",
   "execution_count": 2,
   "metadata": {},
   "outputs": [
    {
     "name": "stderr",
     "output_type": "stream",
     "text": [
      "usage: ipykernel_launcher.py [-h] [-n_qubits N_QUBITS] [-J J] [-hh HH]\n",
      "                             [-decomposed DECOMPOSED] [-arity ARITY]\n",
      "                             [-structurePenalty STRUCTUREPENALTY]\n",
      "                             [-pseudoCounts PSEUDOCOUNTS]\n",
      "ipykernel_launcher.py: error: unrecognized arguments: --f=/home/leopoldo/.local/share/jupyter/runtime/kernel-v3d4ced2ea5e3000044480642e2c071ff5fa04bf91.json\n",
      "\u001b[94m762002226.py:48\u001b[0m > Running from interactive session. Loading default parameters\n"
     ]
    }
   ],
   "source": [
    "decomposed_list = [0, 1]\n",
    "\n",
    "\n",
    "class args:\n",
    "    n_qubits = 2\n",
    "    J = 1\n",
    "    hh = 0.05\n",
    "    decomposed = 1\n",
    "    arity = 2\n",
    "    structurePenalty = 1\n",
    "    pseudoCounts = 10\n",
    "\n",
    "\n",
    "# Read the command line arguments\n",
    "parser = argparse.ArgumentParser(\n",
    "    description=\"Example implementation of Regularized Mutual Information Feature Selector on a solid drop.\",\n",
    "    epilog=\"Results will be saved in files with the OUTPUT tag in the 'outputs/' folder.\",\n",
    "    formatter_class=argparse.ArgumentDefaultsHelpFormatter,\n",
    ")\n",
    "\n",
    "parser.add_argument(\n",
    "    \"-n_qubits\", type=int, default=args.n_qubits, help=\"Number of qubits\"\n",
    ")\n",
    "parser.add_argument(\"-J\", type=float, default=args.J, help=\"Interaction strength\")\n",
    "parser.add_argument(\"-hh\", type=float, default=args.hh, help=\"External field strength\")\n",
    "parser.add_argument(\n",
    "    \"-decomposed\",\n",
    "    type=int,\n",
    "    default=args.decomposed,\n",
    "    help=\"Either 0=parametrized gates, 1=qiskit hardware basis\",\n",
    ")\n",
    "parser.add_argument(\n",
    "    \"-arity\",\n",
    "    type=int,\n",
    "    default=args.arity,\n",
    "    help=\"Number of arguments of extracted gates\",\n",
    ")\n",
    "parser.add_argument(\n",
    "    \"-structurePenalty\", type=int, default=args.structurePenalty, help=\"hyperparameter\"\n",
    ")\n",
    "parser.add_argument(\n",
    "    \"-pseudoCounts\", type=int, default=args.pseudoCounts, help=\"hyperparameter\"\n",
    ")\n",
    "\n",
    "try:\n",
    "    args = parser.parse_args()\n",
    "except SystemExit as e:\n",
    "    eprint(\"Running from interactive session. Loading default parameters\")"
   ]
  },
  {
   "cell_type": "code",
   "execution_count": 14,
   "metadata": {},
   "outputs": [
    {
     "name": "stderr",
     "output_type": "stream",
     "text": [
      "\u001b[94m4151542144.py:5\u001b[0m > Loading solutions from akash/solved_RL_circuits/circ_list_TFIM_qubit2_J1_h0.05_decomposed1.pickle\n"
     ]
    }
   ],
   "source": [
    "path = f\"akash/solved_RL_circuits/circ_list_TFIM_qubit{args.n_qubits}_J{args.J}_h{args.hh}_decomposed{args.decomposed}.pickle\"\n",
    "name = f\"ground_{args.n_qubits}_J{args.J}_h{args.hh}_dec{args.decomposed}\"\n",
    "with open(path, \"rb\") as handle:\n",
    "    b = dill.load(handle)\n",
    "eprint(f\"Loading solutions from {path}\")"
   ]
  },
  {
   "cell_type": "code",
   "execution_count": 15,
   "metadata": {},
   "outputs": [
    {
     "name": "stderr",
     "output_type": "stream",
     "text": [
      "\u001b[94m2954477143.py:14\u001b[0m > Library building settings: {'topK': 2, 'arity': 2, 'structurePenalty': 1, 'pseudoCounts': 10}\n"
     ]
    }
   ],
   "source": [
    "# Unfortunately these flags are set globally\n",
    "dc.domains.quantum_ground_state.primitives.GLOBAL_NQUBIT_TASK = args.n_qubits\n",
    "dc.domains.quantum_ground_state.primitives.GLOBAL_LIMITED_CONNECTIVITY = False\n",
    "\n",
    "library_settings = {\n",
    "    \"topK\": 2,  # how many solutions to consider\n",
    "    \"arity\": args.arity,  # how many arguments\n",
    "    \"structurePenalty\": args.structurePenalty,  # increase regularization 3 4 (it was 1), look at a few in [1,15]\n",
    "    \"pseudoCounts\": args.pseudoCounts,  # increase to 100, test a few values\n",
    "}\n",
    "\n",
    "primitives = [pr.p_sx, pr.p_x, pr.p_rz, pr.p_cz]\n",
    "grammar = Grammar.uniform(primitives)\n",
    "eprint(f\"Library building settings: {library_settings}\")"
   ]
  },
  {
   "cell_type": "code",
   "execution_count": 16,
   "metadata": {},
   "outputs": [
    {
     "name": "stderr",
     "output_type": "stream",
     "text": [
      "\u001b[94m241499910.py:23\u001b[0m > #  0, Energy = 1.004986\n",
      "\u001b[94m241499910.py:23\u001b[0m > #  1, Energy = 1.004986\n",
      "\u001b[94m241499910.py:23\u001b[0m > #  2, Energy = 1.004985\n",
      "\u001b[94m241499910.py:23\u001b[0m > #  3, Energy = 1.004980\n",
      "\u001b[94m241499910.py:23\u001b[0m > #  4, Energy = 1.004979\n"
     ]
    },
    {
     "name": "stderr",
     "output_type": "stream",
     "text": [
      "\u001b[94m241499910.py:23\u001b[0m > #  5, Energy = 1.004979\n",
      "\u001b[94m241499910.py:23\u001b[0m > #  6, Energy = 1.004979\n",
      "\u001b[94m241499910.py:23\u001b[0m > #  7, Energy = 1.004978\n",
      "\u001b[94m241499910.py:23\u001b[0m > #  8, Energy = 1.004934\n",
      "\u001b[94m241499910.py:23\u001b[0m > #  9, Energy = 1.004932\n",
      "\u001b[94m241499910.py:23\u001b[0m > # 10, Energy = 1.004931\n",
      "\u001b[94m241499910.py:23\u001b[0m > # 11, Energy = 1.004930\n",
      "\u001b[94m241499910.py:23\u001b[0m > # 12, Energy = 1.004929\n",
      "\u001b[94m241499910.py:23\u001b[0m > # 13, Energy = 1.004929\n",
      "\u001b[94m241499910.py:23\u001b[0m > # 14, Energy = 1.004929\n",
      "\u001b[94m241499910.py:23\u001b[0m > # 15, Energy = 1.004925\n",
      "\u001b[94m241499910.py:23\u001b[0m > # 16, Energy = 1.004898\n",
      "\u001b[94m241499910.py:23\u001b[0m > # 17, Energy = 1.004894\n",
      "\u001b[94m241499910.py:23\u001b[0m > # 18, Energy = 1.004872\n",
      "\u001b[94m241499910.py:23\u001b[0m > # 19, Energy = 1.004745\n",
      "\u001b[94m241499910.py:23\u001b[0m > # 20, Energy = 1.004743\n",
      "\u001b[94m241499910.py:23\u001b[0m > # 21, Energy = 1.004743\n",
      "\u001b[94m241499910.py:23\u001b[0m > # 22, Energy = 1.004743\n",
      "\u001b[94m241499910.py:23\u001b[0m > # 23, Energy = 1.004685\n",
      "\u001b[94m241499910.py:23\u001b[0m > # 24, Energy = 1.004554\n",
      "\u001b[94m241499910.py:23\u001b[0m > # 25, Energy = 1.004543\n",
      "\u001b[94m241499910.py:23\u001b[0m > # 26, Energy = 1.004542\n",
      "\u001b[94m241499910.py:23\u001b[0m > # 27, Energy = 1.004542\n"
     ]
    }
   ],
   "source": [
    "# Generate a few example tasks\n",
    "solutions = {}  # dict of task:solution\n",
    "# NOTE: we have a task for each decomposition because they have various different real parameters\n",
    "# We cannot have solutions with different requests for a task,\n",
    "# and it is not clear how to use real numbers as primitives (just for evaluation, we cannot enumerate them)\n",
    "for idx, circuit in enumerate(b):\n",
    "    H = construct_hamiltonian(args.J, args.hh, args.n_qubits)\n",
    "    instructions = get_instructions_from_qiskit(circuit)\n",
    "    code, arguments = get_code_from_instructions(instructions)\n",
    "    program = Program.parse(code)\n",
    "    task = GroundStateTask(\n",
    "        f\"J_{args.J:2.2f}_h_{args.hh:2.2f}_N_{args.n_qubits}_v{idx}\",\n",
    "        hamiltonian=H,\n",
    "        arguments=arguments,\n",
    "        request=program.infer(),\n",
    "    )\n",
    "    likelihood = task.logLikelihood(program)\n",
    "    prior = grammar.logLikelihood(program.infer(), program)\n",
    "\n",
    "    frontier_entry = FrontierEntry(\n",
    "        program=program, logLikelihood=likelihood, logPrior=prior\n",
    "    )\n",
    "\n",
    "    solutions[task] = Frontier(\n",
    "        frontier=[frontier_entry],  # multiple solutions are allowed\n",
    "        task=task,\n",
    "    )\n",
    "    eprint(f\"#{idx:3}, Energy = {likelihood:2.6f}\")\n",
    "tasks = list(solutions.keys())"
   ]
  },
  {
   "cell_type": "code",
   "execution_count": 18,
   "metadata": {},
   "outputs": [
    {
     "name": "stderr",
     "output_type": "stream",
     "text": [
      "\u001b[94m2373419330.py:10\u001b[0m > We have 26/28 frontiers. The others are duplicate solutions\n"
     ]
    },
    {
     "data": {
      "text/plain": [
       "[Frontier(entries=[FrontierEntry(program=(lambda (lambda (lambda (lambda (x (x (cz (sx (rz (sx (cz (x (sx (sx (cz (sx (cz (sx (cz (x (sx (x (sx (x (sx $0 $1) $2) $2) $1) $1) $1) $1 $2) $1) $1 $2) $1) $1 $2) $1) $2) $2) $1 $2) $1) $3 $2) $2) $1 $2) $1) $2))))), logPrior=-53.42946076810878, logLikelihood=1.0049859541843977], task=J_1.00_h_0.05_N_2_v0),\n",
       " Frontier(entries=[FrontierEntry(program=(lambda (lambda (lambda (lambda (lambda (lambda (cz (cz (rz (cz (sx (cz (sx (rz (rz (sx (x (sx (x (sx $0 $1) $2) $2) $1) $1) $5 $2) $4 $1) $1) $1 $2) $2) $1 $2) $3 $1) $1 $2) $1 $2))))))), logPrior=-39.91405480259485, logLikelihood=1.0049857375304754], task=J_1.00_h_0.05_N_2_v1),\n",
       " Frontier(entries=[FrontierEntry(program=(lambda (lambda (lambda (lambda (lambda (lambda (cz (rz (sx (cz (sx (rz (rz (sx (x (sx (x (sx $0 $1) $2) $2) $1) $1) $5 $2) $4 $1) $1) $1 $2) $2) $3 $2) $1 $2))))))), logPrior=-33.92259025548687, logLikelihood=1.0049847779142502], task=J_1.00_h_0.05_N_2_v2),\n",
       " Frontier(entries=[FrontierEntry(program=(lambda (lambda (lambda (lambda (lambda (lambda (lambda (lambda (cz (rz (rz (sx (cz (rz (sx (rz (rz (sx (x (sx (x (sx $0 $1) $2) $2) $1) $1) $7 $2) $6 $1) $1) $5 $1) $1 $2) $2) $4 $1) $3 $2) $1 $2))))))))), logPrior=-43.279113137641126, logLikelihood=1.0049795732341948], task=J_1.00_h_0.05_N_2_v3),\n",
       " Frontier(entries=[FrontierEntry(program=(lambda (lambda (lambda (lambda (lambda (lambda (lambda (cz (rz (sx (cz (rz (sx (rz (rz (sx (x (sx (x (sx $0 $1) $2) $2) $1) $1) $6 $2) $5 $1) $1) $4 $1) $1 $2) $2) $3 $1) $1 $2)))))))), logPrior=-38.474515926956144, logLikelihood=1.004979479767353], task=J_1.00_h_0.05_N_2_v4),\n",
       " Frontier(entries=[FrontierEntry(program=(lambda (lambda (lambda (lambda (lambda (lambda (cz (sx (cz (rz (sx (rz (rz (sx (x (sx (x (sx $0 $1) $2) $2) $1) $1) $5 $2) $4 $1) $1) $3 $1) $1 $2) $2) $1 $2))))))), logPrior=-33.92259025548687, logLikelihood=1.0049794783091093], task=J_1.00_h_0.05_N_2_v5),\n",
       " Frontier(entries=[FrontierEntry(program=(lambda (lambda (lambda (lambda (lambda (lambda (lambda (cz (rz (sx (cz (rz (sx (rz (rz (sx (x (sx (x (sx $0 $1) $2) $2) $1) $1) $6 $2) $5 $1) $1) $4 $1) $1 $2) $2) $3 $2) $1 $2)))))))), logPrior=-38.474515926956144, logLikelihood=1.0049794747540064], task=J_1.00_h_0.05_N_2_v6),\n",
       " Frontier(entries=[FrontierEntry(program=(lambda (lambda (lambda (lambda (lambda (lambda (lambda (lambda (cz (sx (x (rz (rz (sx (x (sx (cz (rz (cz (rz (cz (x (sx (cz (rz (sx $0 $1) $7 $2) $1 $2) $2) $1) $1 $2) $6 $1) $1 $2) $5 $1) $1 $2) $2) $1) $1) $4 $2) $3 $1) $1) $1) $1 $2))))))))), logPrior=-54.56889505129713, logLikelihood=1.0049779275141764], task=J_1.00_h_0.05_N_2_v7),\n",
       " Frontier(entries=[FrontierEntry(program=(lambda (lambda (lambda (lambda (lambda (lambda (lambda (cz (sx (rz (cz (rz (sx (rz (rz (sx (x (sx (x (sx $0 $1) $2) $2) $1) $1) $6 $2) $5 $1) $1) $4 $1) $1 $2) $3 $2) $2) $1 $2)))))))), logPrior=-38.474515926956144, logLikelihood=1.0049344356046466], task=J_1.00_h_0.05_N_2_v8),\n",
       " Frontier(entries=[FrontierEntry(program=(lambda (lambda (lambda (lambda (lambda (lambda (lambda (lambda (lambda (lambda (lambda (cz (rz (cz (rz (cz (rz (x (x (cz (rz (cz (rz (rz (sx (cz (sx (rz (rz (sx (x (sx (x (sx $0 $1) $2) $2) $1) $1) $10 $2) $9 $1) $1) $1 $2) $2) $8 $1) $7 $2) $1 $2) $6 $2) $1 $2) $1) $2) $5 $1) $1 $2) $4 $2) $1 $2) $3 $2) $1 $2)))))))))))), logPrior=-75.36331046809548, logLikelihood=1.0049318183540725], task=J_1.00_h_0.05_N_2_v9),\n",
       " Frontier(entries=[FrontierEntry(program=(lambda (lambda (lambda (lambda (lambda (lambda (lambda (lambda (lambda (lambda (cz (rz (sx (rz (rz (sx (rz (sx (cz (rz (x (sx (sx (cz (rz (rz $0 $9 $1) $8 $2) $1 $2) $1) $2) $1) $7 $1) $1 $2) $2) $6 $1) $1) $5 $2) $4 $1) $1) $3 $1) $1 $2))))))))))), logPrior=-54.151611985405836, logLikelihood=1.0049306920429706], task=J_1.00_h_0.05_N_2_v10),\n",
       " Frontier(entries=[FrontierEntry(program=(lambda (lambda (lambda (lambda (lambda (lambda (lambda (lambda (lambda (cz (sx (rz (rz (sx (rz (sx (cz (rz (x (sx (sx (cz (rz (rz $0 $8 $1) $7 $2) $1 $2) $1) $2) $1) $6 $1) $1 $2) $2) $5 $1) $1) $4 $2) $3 $1) $1) $1 $2)))))))))), logPrior=-48.97821266439294, logLikelihood=1.004930448933908], task=J_1.00_h_0.05_N_2_v11),\n",
       " Frontier(entries=[FrontierEntry(program=(lambda (lambda (lambda (lambda (lambda (x (cz (sx (sx (cz (rz (cz (rz (cz (sx (cz (sx (sx (cz (x $0 $2) $1 $2) $1) $2) $1 $2) $2) $1 $2) $4 $2) $1 $2) $3 $2) $1 $2) $1) $2) $1 $2) $2)))))), logPrior=-41.69339175182435, logLikelihood=1.004929114628642], task=J_1.00_h_0.05_N_2_v12),\n",
       " Frontier(entries=[FrontierEntry(program=(lambda (lambda (lambda (lambda (lambda (lambda (lambda (lambda (cz (sx (rz (sx (rz (sx (cz (rz (x (sx (sx (cz (rz (rz $0 $7 $1) $6 $2) $1 $2) $1) $2) $1) $5 $1) $1 $2) $2) $4 $1) $1) $3 $1) $1) $1 $2))))))))), logPrior=-43.972260318201066, logLikelihood=1.0049290131184103], task=J_1.00_h_0.05_N_2_v13),\n",
       " Frontier(entries=[FrontierEntry(program=(lambda (lambda (lambda (lambda (lambda (lambda (lambda (cz (rz (rz (sx (cz (sx (rz (rz (sx (x (sx (x (sx $0 $1) $2) $2) $1) $1) $6 $2) $5 $1) $1) $1 $2) $2) $4 $1) $3 $2) $1 $2)))))))), logPrior=-38.474515926956144, logLikelihood=1.0049246115056687], task=J_1.00_h_0.05_N_2_v15),\n",
       " Frontier(entries=[FrontierEntry(program=(lambda (lambda (lambda (lambda (lambda (lambda (lambda (lambda (lambda (lambda (lambda (lambda (lambda (cz (rz (rz (cz (rz (rz (cz (rz (cz (rz (cz (sx (rz (cz (rz (x (sx (sx (cz (rz (rz $0 $12 $1) $11 $2) $1 $2) $1) $2) $1) $10 $1) $1 $2) $9 $1) $1) $1 $2) $8 $1) $1 $2) $7 $1) $1 $2) $6 $1) $5 $2) $1 $2) $4 $1) $3 $2) $1 $2)))))))))))))), logPrior=-77.84160605916912, logLikelihood=1.004898098697752], task=J_1.00_h_0.05_N_2_v16),\n",
       " Frontier(entries=[FrontierEntry(program=(lambda (lambda (lambda (lambda (lambda (lambda (lambda (lambda (lambda (cz (rz (sx (rz (rz (cz (rz (cz (rz (x (cz (sx (sx (rz (x (cz $0 $1 $2) $1) $8 $2) $1) $2) $1 $2) $1) $7 $2) $1 $2) $6 $2) $1 $2) $5 $1) $4 $2) $2) $3 $2) $1 $2)))))))))), logPrior=-52.66709211850687, logLikelihood=1.0048940358322307], task=J_1.00_h_0.05_N_2_v17),\n",
       " Frontier(entries=[FrontierEntry(program=(lambda (lambda (lambda (lambda (lambda (lambda (lambda (cz (cz (rz (rz (cz (sx (cz (sx (rz (rz (sx (x (sx (x (sx $0 $1) $2) $2) $1) $1) $6 $2) $5 $1) $1) $1 $2) $2) $1 $2) $4 $1) $3 $2) $1 $2) $1 $2)))))))), logPrior=-44.465980474064125, logLikelihood=1.004871596971721], task=J_1.00_h_0.05_N_2_v18),\n",
       " Frontier(entries=[FrontierEntry(program=(lambda (lambda (lambda (lambda (lambda (lambda (lambda (lambda (cz (rz (sx (rz (sx (sx (cz (rz (x (sx (sx (cz (rz (rz $0 $7 $1) $6 $2) $1 $2) $1) $2) $1) $5 $1) $1 $2) $1) $2) $4 $1) $1) $3 $1) $1 $2))))))))), logPrior=-43.972260318201066, logLikelihood=1.0047450839950822], task=J_1.00_h_0.05_N_2_v19),\n",
       " Frontier(entries=[FrontierEntry(program=(lambda (lambda (lambda (lambda (lambda (lambda (lambda (lambda (lambda (lambda (cz (rz (cz (rz (cz (rz (x (rz (x (rz (sx (cz (sx (rz (rz (sx (x (sx (x (sx $0 $1) $2) $2) $1) $1) $9 $2) $8 $1) $1) $1 $2) $2) $7 $1) $1) $6 $2) $2) $5 $2) $1 $2) $4 $2) $1 $2) $3 $2) $1 $2))))))))))), logPrior=-64.05509953794196, logLikelihood=1.004743345833608], task=J_1.00_h_0.05_N_2_v20),\n",
       " Frontier(entries=[FrontierEntry(program=(lambda (lambda (lambda (lambda (lambda (lambda (lambda (lambda (cz (rz (cz (rz (cz (rz (sx (cz (sx (rz (rz (sx (x (sx (x (sx $0 $1) $2) $2) $1) $1) $7 $2) $6 $1) $1) $1 $2) $2) $5 $2) $1 $2) $4 $2) $1 $2) $3 $2) $1 $2))))))))), logPrior=-49.2705776847491, logLikelihood=1.0047430053741762], task=J_1.00_h_0.05_N_2_v21),\n",
       " Frontier(entries=[FrontierEntry(program=(lambda (lambda (lambda (lambda (lambda (lambda (lambda (lambda (cz (x (x (cz (rz (cz (rz (rz (sx (cz (sx (rz (rz (sx (x (sx (x (sx $0 $1) $2) $2) $1) $1) $7 $2) $6 $1) $1) $1 $2) $2) $5 $1) $4 $2) $1 $2) $3 $2) $1 $2) $1) $2) $1 $2))))))))), logPrior=-53.875747870737186, logLikelihood=1.0047429014131932], task=J_1.00_h_0.05_N_2_v22),\n",
       " Frontier(entries=[FrontierEntry(program=(lambda (lambda (lambda (lambda (lambda (cz (cz (x (cz (sx (sx (cz (rz (cz (rz (cz (sx (cz (sx (sx (cz (x $0 $2) $1 $2) $1) $2) $1 $2) $2) $1 $2) $4 $2) $1 $2) $3 $2) $1 $2) $1) $2) $1 $2) $1) $1 $2) $1 $2)))))), logPrior=-47.68485629893232, logLikelihood=1.0046851573576077], task=J_1.00_h_0.05_N_2_v23),\n",
       " Frontier(entries=[FrontierEntry(program=(lambda (lambda (lambda (lambda (lambda (lambda (lambda (lambda (lambda (cz (rz (rz (cz (rz (x (cz (sx (sx (cz (rz (cz (rz (rz (cz (sx (cz (sx (sx (cz (x $0 $2) $1 $2) $1) $2) $1 $2) $2) $1 $2) $8 $1) $7 $2) $1 $2) $6 $2) $1 $2) $1) $2) $1 $2) $2) $5 $2) $1 $2) $4 $1) $3 $2) $1 $2)))))))))), logPrior=-66.25945912515692, logLikelihood=1.0045431268762979], task=J_1.00_h_0.05_N_2_v25),\n",
       " Frontier(entries=[FrontierEntry(program=(lambda (lambda (lambda (lambda (lambda (cz (sx (cz (sx (rz (rz (sx (x (sx (x (sx $0 $1) $2) $2) $1) $1) $4 $2) $3 $1) $1) $1 $2) $2) $1 $2)))))), logPrior=-29.71046265760838, logLikelihood=1.0045424277279942], task=J_1.00_h_0.05_N_2_v26),\n",
       " Frontier(entries=[FrontierEntry(program=(lambda (lambda (lambda (lambda (lambda (lambda (cz (rz (sx (cz (sx (rz (rz (sx (x (sx (x (sx $0 $1) $2) $2) $1) $1) $5 $2) $4 $1) $1) $1 $2) $2) $3 $1) $1 $2))))))), logPrior=-33.92259025548687, logLikelihood=1.0045424036484267], task=J_1.00_h_0.05_N_2_v27)]"
      ]
     },
     "execution_count": 18,
     "metadata": {},
     "output_type": "execute_result"
    }
   ],
   "source": [
    "frontiers = [f for f in solutions.values()]\n",
    "\n",
    "unique_frontiers_set = set()\n",
    "unique_frontiers = []\n",
    "for frontier in frontiers:\n",
    "    program = frontier.entries[0].program\n",
    "    if program not in unique_frontiers_set:\n",
    "        unique_frontiers_set.add(program)\n",
    "        unique_frontiers.append(frontier)\n",
    "eprint(\n",
    "    f\"We have {len(unique_frontiers)}/{len(frontiers)} frontiers. The others are duplicate solutions\"\n",
    ")\n",
    "\n",
    "unique_frontiers"
   ]
  },
  {
   "cell_type": "code",
   "execution_count": 20,
   "metadata": {},
   "outputs": [
    {
     "name": "stderr",
     "output_type": "stream",
     "text": [
      "\u001b[94mfragmentGrammar.py:298\u001b[0m > Inducing a grammar from 4 frontiers\n"
     ]
    },
    {
     "name": "stderr",
     "output_type": "stream",
     "text": [
      "\u001b[94mfragmentGrammar.py:326\u001b[0m > Starting score -180.69170375518328\n",
      "\u001b[94mfragmentGrammar.py:333\u001b[0m > Proposed 8882 fragments.\n",
      "\u001b[94mfragmentGrammar.py:364\u001b[0m > New primitive of type tcircuit\t(sx (rz (rz (sx (x (sx (x (sx $0 $1) $2) $2) $1) $1) $3 $2) $4 $1) $1)\t\n",
      "(score = -147.030596; dScore = 33.661108; <uses> = 3.000000)\n",
      "\u001b[94mfragmentGrammar.py:377\u001b[0m > \t(<uses> in rewritten frontiers: 3.000000)\n",
      "\u001b[94mfragmentGrammar.py:333\u001b[0m > Proposed 213 fragments.\n",
      "\u001b[94mfragmentGrammar.py:364\u001b[0m > New primitive of type int -> tcircuit\t(sx (cz $0 $1 $2))\t\n",
      "(score = -144.438984; dScore = 2.591612; <uses> = 6.211929)\n",
      "\u001b[94mfragmentGrammar.py:377\u001b[0m > \t(<uses> in rewritten frontiers: 7.000000)\n",
      "\u001b[94mfragmentGrammar.py:333\u001b[0m > Proposed 104 fragments.\n",
      "\u001b[94mfragmentGrammar.py:364\u001b[0m > New primitive of type tcircuit\t(#(lambda (lambda (lambda (sx (cz $0 $1 $2))))) $0 $1 (#(lambda (lambda (lambda (lambda (lambda (sx (rz (rz (sx (x (sx (x (sx $0 $1) $2) $2) $1) $1) $3 $2) $4 $1) $1)))))) $2 $3 $0 $1 $4) $0)\t\n",
      "(score = -143.137860; dScore = 1.301124; <uses> = 1.974913)\n",
      "\u001b[94mfragmentGrammar.py:377\u001b[0m > \t(<uses> in rewritten frontiers: 2.000000)\n",
      "\u001b[94mfragmentGrammar.py:333\u001b[0m > Proposed 40 fragments.\n",
      "\u001b[94mfragmentGrammar.py:396\u001b[0m > Old joint = -166.525283\tNew joint = -118.679926\n",
      "\n",
      "\u001b[94mfragmentGrammar.py:416\u001b[0m > 5.000000 / 35.000000\tsx\n",
      "\u001b[94mfragmentGrammar.py:416\u001b[0m > 6.000000 / 35.000000\tx\n",
      "\u001b[94mfragmentGrammar.py:416\u001b[0m > 6.000000 / 35.000000\trz\n",
      "\u001b[94mfragmentGrammar.py:416\u001b[0m > 6.000000 / 35.000000\tcz\n",
      "\u001b[94mfragmentGrammar.py:416\u001b[0m > 1.000000 / 35.000000\t#(lambda (lambda (lambda (lambda (lambda (sx (rz (rz (sx (x (sx (x (sx $0 $1) $2) $2) $1) $1) $3 $2) $4 $1) $1))))))\n",
      "\u001b[94mfragmentGrammar.py:416\u001b[0m > 5.000000 / 35.000000\t#(lambda (lambda (lambda (sx (cz $0 $1 $2)))))\n",
      "\u001b[94mfragmentGrammar.py:416\u001b[0m > 2.000000 / 35.000000\t#(lambda (lambda (lambda (lambda (lambda (#(lambda (lambda (lambda (sx (cz $0 $1 $2))))) $0 $1 (#(lambda (lambda (lambda (lambda (lambda (sx (rz (rz (sx (x (sx (x (sx $0 $1) $2) $2) $1) $1) $3 $2) $4 $1) $1)))))) $2 $3 $0 $1 $4) $0))))))\n"
     ]
    },
    {
     "data": {
      "text/plain": [
       "(<dreamcoder.grammar.Grammar at 0x7f8a3211aa50>,\n",
       " [Frontier(entries=[FrontierEntry(program=(lambda (lambda (lambda (lambda (x (x (cz (sx (rz (#(lambda (lambda (lambda (sx (cz $0 $1 $2))))) $2 $1 (x (sx (#(lambda (lambda (lambda (sx (cz $0 $1 $2))))) $2 $1 (#(lambda (lambda (lambda (sx (cz $0 $1 $2))))) $2 $1 (#(lambda (lambda (lambda (sx (cz $0 $1 $2))))) $2 $1 (x (sx (x (sx (x (sx $0 $1) $2) $2) $1) $1) $1) $1) $1) $1) $2) $2) $1) $3 $2) $2) $1 $2) $1) $2))))), logPrior=-56.36601691320998, logLikelihood=1.0049859541843977], task=J_1.00_h_0.05_N_2_v0),\n",
       "  Frontier(entries=[FrontierEntry(program=(lambda (lambda (lambda (lambda (lambda (lambda (cz (cz (rz (cz (#(lambda (lambda (lambda (lambda (lambda (#(lambda (lambda (lambda (sx (cz $0 $1 $2))))) $0 $1 (#(lambda (lambda (lambda (lambda (lambda (sx (rz (rz (sx (x (sx (x (sx $0 $1) $2) $2) $1) $1) $3 $2) $4 $1) $1)))))) $2 $3 $0 $1 $4) $0)))))) $0 $5 $4 $1 $2) $1 $2) $3 $1) $1 $2) $1 $2))))))), logPrior=-21.887774067018395, logLikelihood=1.0049857375304754], task=J_1.00_h_0.05_N_2_v1),\n",
       "  Frontier(entries=[FrontierEntry(program=(lambda (lambda (lambda (lambda (lambda (lambda (cz (rz (#(lambda (lambda (lambda (lambda (lambda (#(lambda (lambda (lambda (sx (cz $0 $1 $2))))) $0 $1 (#(lambda (lambda (lambda (lambda (lambda (sx (rz (rz (sx (x (sx (x (sx $0 $1) $2) $2) $1) $1) $3 $2) $4 $1) $1)))))) $2 $3 $0 $1 $4) $0)))))) $0 $5 $4 $1 $2) $3 $2) $1 $2))))))), logPrior=-14.830489154016039, logLikelihood=1.0049847779142502], task=J_1.00_h_0.05_N_2_v2),\n",
       "  Frontier(entries=[FrontierEntry(program=(lambda (lambda (lambda (lambda (lambda (lambda (lambda (lambda (cz (rz (rz (#(lambda (lambda (lambda (sx (cz $0 $1 $2))))) $2 $1 (rz (#(lambda (lambda (lambda (lambda (lambda (sx (rz (rz (sx (x (sx (x (sx $0 $1) $2) $2) $1) $1) $3 $2) $4 $1) $1)))))) $6 $7 $2 $1 $0) $5 $1) $2) $4 $1) $3 $2) $1 $2))))))))), logPrior=-29.618762062797206, logLikelihood=1.0049795732341948], task=J_1.00_h_0.05_N_2_v3)])"
      ]
     },
     "execution_count": 20,
     "metadata": {},
     "output_type": "execute_result"
    }
   ],
   "source": [
    "new_grammar, new_frontiers = FragmentGrammar.induceFromFrontiers(\n",
    "    g0=grammar,\n",
    "    frontiers=unique_frontiers[:4],\n",
    "    **library_settings,\n",
    "    CPUs=numberOfCPUs() - 2\n",
    ")\n",
    "\n",
    "new_grammar, new_frontiers"
   ]
  },
  {
   "cell_type": "code",
   "execution_count": 21,
   "metadata": {},
   "outputs": [
    {
     "name": "stderr",
     "output_type": "stream",
     "text": [
      "\u001b[94m69069040.py:7\u001b[0m > Results saved in experimentOutputs/2024-09-17T19:03:39.955420_ground_2_J1_h0.05_dec1_...\n"
     ]
    }
   ],
   "source": [
    "timestamp = datetime.now().isoformat()\n",
    "with open(f\"experimentOutputs/{timestamp}_{name}_grammar.pickle\", \"wb\") as f:\n",
    "    pickle.dump(new_grammar, f)\n",
    "\n",
    "with open(f\"experimentOutputs/{timestamp}_{name}_frontiers.pickle\", \"wb\") as f:\n",
    "    pickle.dump(new_frontiers, f)\n",
    "eprint(f\"Results saved in experimentOutputs/{timestamp}_{name}_...\")"
   ]
  },
  {
   "cell_type": "markdown",
   "metadata": {},
   "source": [
    "---"
   ]
  },
  {
   "cell_type": "markdown",
   "metadata": {},
   "source": [
    "## Some analysis"
   ]
  },
  {
   "cell_type": "code",
   "execution_count": 23,
   "metadata": {},
   "outputs": [],
   "source": [
    "name = {}\n",
    "simplification = {}\n",
    "depth = {}\n",
    "\n",
    "# The following are auxiliary functions to handle invented primitives\n",
    "def get_program_children(program):\n",
    "    try:\n",
    "        return {k: getName(k) for _, k in program.body.walk() if k.isInvented}\n",
    "    except:\n",
    "        return {k: getName(k) for _, k in program.walk() if k.isInvented}\n",
    "\n",
    "\n",
    "def get_program_simplification(program):\n",
    "    if program in name:\n",
    "        return name[program]\n",
    "    children = get_program_children(program)\n",
    "    simplification_ = program\n",
    "    for k, childName in children.items():\n",
    "        simplification_ = simplification_.substitute(\n",
    "            k, Primitive(childName, ty=None, value=None)\n",
    "        )\n",
    "    return simplification_\n",
    "\n",
    "def getName(program):\n",
    "    if program in name:\n",
    "        return name[program]\n",
    "    children = get_program_children(program)\n",
    "    simplification_ = get_program_simplification(program.body)\n",
    "    # for original, simplified in nameSimplification.items():\n",
    "    #     simplification_ = simplification_.substitute(Primitive(original,None,None),\n",
    "    #                                                     Primitive(simplified,None,None))\n",
    "    name[program] = \"f%d\" % len(name)\n",
    "    # name[program] = f\"f{len(name):03d}\" # need to make name unambigous (f1 and f13 is not nice for easy string replacement)\n",
    "\n",
    "    simplification[program] = simplification_\n",
    "    depth[program] = 1 + max([depth[k] for k in children] + [0])\n",
    "    return name[program]\n",
    "\n",
    "\n",
    "def get_primitive_arguments(tp, arguments, last_qubit=0):\n",
    "    # Get argument to run a primitive\n",
    "    if len(tp.arguments) != 0:\n",
    "        if tp.arguments[0].name == \"int\":\n",
    "            arguments.append(last_qubit)\n",
    "            last_qubit += 1\n",
    "        elif tp.arguments[0].name ==\"real\":\n",
    "            arguments.append(42) # TODO: change\n",
    "        elif tp.arguments[0].name == \"tcircuit\":\n",
    "            arguments.append([\"no_op\"])\n",
    "        return get_primitive_arguments(tp.arguments[1], arguments, last_qubit)\n",
    "\n",
    "    else: # TODO: why is this function getting called in two different ways?\n",
    "        for i in range(len(arguments)):\n",
    "            if type(arguments[i]) == list:\n",
    "                arguments[i] = no_op(last_qubit)\n",
    "        return arguments\n",
    "    \n",
    "    \n",
    "\n",
    "def get_primitive_lambda(n_qubit, operation_name):\n",
    "    if n_qubit == 1:\n",
    "        return lambda old_circuit, q: n_qubit_gate(\n",
    "            old_circuit, q, operation_name=operation_name\n",
    "        )\n",
    "    elif n_qubit == 2:\n",
    "        return lambda old_circuit, q1, q2: n_qubit_gate(\n",
    "            old_circuit, q1, q2, operation_name=operation_name\n",
    "        )\n",
    "    elif n_qubit == 3:\n",
    "        return lambda old_circuit, q1, q2, q3: n_qubit_gate(\n",
    "            old_circuit, q1, q2, q3, operation_name=operation_name\n",
    "        )\n",
    "    elif n_qubit == 4:\n",
    "        return lambda old_circuit, q1, q2, q3, q4: n_qubit_gate(\n",
    "            old_circuit, q1, q2, q3, q4, operation_name=operation_name\n",
    "        )\n",
    "    elif n_qubit == 5:\n",
    "        return lambda old_circuit, q1, q2, q3, q4, q5: n_qubit_gate(\n",
    "            old_circuit, q1, q2, q3, q4, q5, operation_name=operation_name\n",
    "        )\n",
    "    elif n_qubit == 6:\n",
    "        return lambda old_circuit, q1, q2, q3, q4, q5, q6: n_qubit_gate(\n",
    "            old_circuit, q1, q2, q3, q4, q5, q6, operation_name=operation_name\n",
    "        )\n",
    "    elif n_qubit == 7:\n",
    "        raise Exception(\"ask Kevin.\")\n",
    "\n",
    "\n",
    "def f_circuit(circuit_unitary, *qubit, circuit_template):\n",
    "    # eprint(circuit_template)\n",
    "    n_args, circuit_ops = circuit_template\n",
    "    circuit_ops = list(circuit_ops)\n",
    "    # apply template\n",
    "    # returns a tuple of circuit ops ( (\"gate\", 1, 2, ...), ...   )\n",
    "    circuit_ops = (((op[0], *[qubit[q] for q in op[1:]])) for op in circuit_ops)\n",
    "\n",
    "    for op in circuit_ops:\n",
    "        circuit_unitary = full_op_names[op[0]](circuit_unitary, *op[1:])\n",
    "    return circuit_unitary"
   ]
  },
  {
   "cell_type": "code",
   "execution_count": 24,
   "metadata": {},
   "outputs": [],
   "source": [
    "path = \"experimentOutputs/2024-09-17T19:03:39.955420_ground_2_J1_h0.05_dec1_\"\n",
    "with open(f\"{path}grammar.pickle\", \"rb\") as f:\n",
    "    new_grammar = pickle.load(f)\n",
    "    \n",
    "with open(f\"{path}frontiers.pickle\", \"rb\") as f:\n",
    "    new_frontiers = pickle.load(f)"
   ]
  },
  {
   "cell_type": "code",
   "execution_count": 34,
   "metadata": {},
   "outputs": [
    {
     "ename": "IndexError",
     "evalue": "tuple index out of range",
     "output_type": "error",
     "traceback": [
      "\u001b[0;31m---------------------------------------------------------------------------\u001b[0m",
      "\u001b[0;31mIndexError\u001b[0m                                Traceback (most recent call last)",
      "Cell \u001b[0;32mIn[34], line 34\u001b[0m\n\u001b[1;32m     29\u001b[0m simplified_program \u001b[38;5;241m=\u001b[39m Program\u001b[38;5;241m.\u001b[39mparse(\u001b[38;5;28mstr\u001b[39m(simplified))\n\u001b[1;32m     30\u001b[0m simplified_circuit \u001b[38;5;241m=\u001b[39m execute_program(\n\u001b[1;32m     31\u001b[0m     simplified_program, get_primitive_arguments(original\u001b[38;5;241m.\u001b[39mtp, [])\n\u001b[1;32m     32\u001b[0m )\n\u001b[0;32m---> 34\u001b[0m qk_circuit \u001b[38;5;241m=\u001b[39m \u001b[43mget_qiskit_circuit\u001b[49m\u001b[43m(\u001b[49m\u001b[43msimplified_circuit\u001b[49m\u001b[43m)\u001b[49m\u001b[38;5;241m.\u001b[39mcircuit\n",
      "File \u001b[0;32m~/notebooks/notebooks/unitary-synthesis/dreamcoder/domains/quantum_ground_state/primitives.py:798\u001b[0m, in \u001b[0;36mget_qiskit_circuit\u001b[0;34m(circuit)\u001b[0m\n\u001b[1;32m    796\u001b[0m \u001b[38;5;28;01mdef\u001b[39;00m \u001b[38;5;21mget_qiskit_circuit\u001b[39m(circuit):\n\u001b[1;32m    797\u001b[0m     n_qubit, op_list \u001b[38;5;241m=\u001b[39m circuit\n\u001b[0;32m--> 798\u001b[0m     \u001b[38;5;28;01mwith\u001b[39;00m \u001b[43mQiskitTester\u001b[49m\u001b[43m(\u001b[49m\u001b[43mn_qubit\u001b[49m\u001b[43m,\u001b[49m\u001b[43m \u001b[49m\u001b[43mcircuit\u001b[49m\u001b[38;5;241;43m=\u001b[39;49m\u001b[43mcircuit\u001b[49m\u001b[43m)\u001b[49m \u001b[38;5;28;01mas\u001b[39;00m QT:\n\u001b[1;32m    799\u001b[0m         \u001b[38;5;28;01mfor\u001b[39;00m op \u001b[38;5;129;01min\u001b[39;00m op_list:\n\u001b[1;32m    800\u001b[0m             \u001b[38;5;28;01mtry\u001b[39;00m:\n",
      "File \u001b[0;32m~/notebooks/notebooks/unitary-synthesis/dreamcoder/domains/quantum_ground_state/primitives.py:32\u001b[0m, in \u001b[0;36mQiskitTester.__init__\u001b[0;34m(self, n_qubits, circuit)\u001b[0m\n\u001b[1;32m     30\u001b[0m \u001b[38;5;28;01mif\u001b[39;00m circuit \u001b[38;5;129;01mis\u001b[39;00m \u001b[38;5;129;01mnot\u001b[39;00m \u001b[38;5;28;01mNone\u001b[39;00m:\n\u001b[1;32m     31\u001b[0m     \u001b[38;5;28;01mtry\u001b[39;00m:\n\u001b[0;32m---> 32\u001b[0m         \u001b[38;5;28mself\u001b[39m\u001b[38;5;241m.\u001b[39munitary_matrix \u001b[38;5;241m=\u001b[39m \u001b[43mcircuit_to_mat\u001b[49m\u001b[43m(\u001b[49m\u001b[43mcircuit\u001b[49m\u001b[43m)\u001b[49m  \u001b[38;5;66;03m# full_circuit\u001b[39;00m\n\u001b[1;32m     33\u001b[0m         \u001b[38;5;28mself\u001b[39m\u001b[38;5;241m.\u001b[39munitary_tensor \u001b[38;5;241m=\u001b[39m mat_to_tensor(\u001b[38;5;28mself\u001b[39m\u001b[38;5;241m.\u001b[39munitary_matrix)\n\u001b[1;32m     34\u001b[0m         \u001b[38;5;28mself\u001b[39m\u001b[38;5;241m.\u001b[39mn_qubits \u001b[38;5;241m=\u001b[39m get_qubit_number(\u001b[38;5;28mself\u001b[39m\u001b[38;5;241m.\u001b[39munitary_tensor)\n",
      "File \u001b[0;32m~/notebooks/notebooks/unitary-synthesis/dreamcoder/domains/quantum_ground_state/primitives.py:775\u001b[0m, in \u001b[0;36mcircuit_to_mat\u001b[0;34m(full_circuit)\u001b[0m\n\u001b[1;32m    772\u001b[0m tensor \u001b[38;5;241m=\u001b[39m eyes[n_qubit]\n\u001b[1;32m    774\u001b[0m \u001b[38;5;28;01mfor\u001b[39;00m op \u001b[38;5;129;01min\u001b[39;00m op_list:\n\u001b[0;32m--> 775\u001b[0m     tensor \u001b[38;5;241m=\u001b[39m \u001b[43mfull_op_names\u001b[49m\u001b[43m[\u001b[49m\u001b[43mop\u001b[49m\u001b[43m[\u001b[49m\u001b[38;5;241;43m0\u001b[39;49m\u001b[43m]\u001b[49m\u001b[43m]\u001b[49m\u001b[43m(\u001b[49m\u001b[43mtensor\u001b[49m\u001b[43m,\u001b[49m\u001b[43m \u001b[49m\u001b[38;5;241;43m*\u001b[39;49m\u001b[43mop\u001b[49m\u001b[43m[\u001b[49m\u001b[38;5;241;43m1\u001b[39;49m\u001b[43m:\u001b[49m\u001b[43m]\u001b[49m\u001b[43m)\u001b[49m\n\u001b[1;32m    777\u001b[0m mat \u001b[38;5;241m=\u001b[39m tensor_to_mat(tensor)\u001b[38;5;241m.\u001b[39mT \u001b[38;5;66;03m# needed for consistency (?)\u001b[39;00m\n\u001b[1;32m    778\u001b[0m \u001b[38;5;66;03m# mat = normalize_unitary(mat)\u001b[39;00m\n",
      "Cell \u001b[0;32mIn[34], line 25\u001b[0m, in \u001b[0;36m<lambda>\u001b[0;34m(tensor, circuit_template, *qubit)\u001b[0m\n\u001b[1;32m     20\u001b[0m circuit \u001b[38;5;241m=\u001b[39m execute_program(program, arguments)\n\u001b[1;32m     22\u001b[0m \u001b[38;5;66;03m# TODO: full_op_names should be fixed along with f_circuit\u001b[39;00m\n\u001b[1;32m     23\u001b[0m full_op_names[\n\u001b[1;32m     24\u001b[0m     name[original]\n\u001b[0;32m---> 25\u001b[0m ] \u001b[38;5;241m=\u001b[39m \u001b[38;5;28;01mlambda\u001b[39;00m tensor, \u001b[38;5;241m*\u001b[39mqubit, circuit_template\u001b[38;5;241m=\u001b[39mcircuit: \u001b[43mf_circuit\u001b[49m\u001b[43m(\u001b[49m\n\u001b[1;32m     26\u001b[0m \u001b[43m    \u001b[49m\u001b[43mtensor\u001b[49m\u001b[43m,\u001b[49m\u001b[43m \u001b[49m\u001b[38;5;241;43m*\u001b[39;49m\u001b[43mqubit\u001b[49m\u001b[43m,\u001b[49m\u001b[43m \u001b[49m\u001b[43mcircuit_template\u001b[49m\u001b[38;5;241;43m=\u001b[39;49m\u001b[43mcircuit_template\u001b[49m\n\u001b[1;32m     27\u001b[0m \u001b[43m\u001b[49m\u001b[43m)\u001b[49m\n\u001b[1;32m     29\u001b[0m simplified_program \u001b[38;5;241m=\u001b[39m Program\u001b[38;5;241m.\u001b[39mparse(\u001b[38;5;28mstr\u001b[39m(simplified))\n\u001b[1;32m     30\u001b[0m simplified_circuit \u001b[38;5;241m=\u001b[39m execute_program(\n\u001b[1;32m     31\u001b[0m     simplified_program, get_primitive_arguments(original\u001b[38;5;241m.\u001b[39mtp, [])\n\u001b[1;32m     32\u001b[0m )\n",
      "Cell \u001b[0;32mIn[23], line 98\u001b[0m, in \u001b[0;36mf_circuit\u001b[0;34m(circuit_unitary, circuit_template, *qubit)\u001b[0m\n\u001b[1;32m     95\u001b[0m circuit_ops \u001b[38;5;241m=\u001b[39m (((op[\u001b[38;5;241m0\u001b[39m], \u001b[38;5;241m*\u001b[39m[qubit[q] \u001b[38;5;28;01mfor\u001b[39;00m q \u001b[38;5;129;01min\u001b[39;00m op[\u001b[38;5;241m1\u001b[39m:]])) \u001b[38;5;28;01mfor\u001b[39;00m op \u001b[38;5;129;01min\u001b[39;00m circuit_ops)\n\u001b[1;32m     97\u001b[0m \u001b[38;5;28;01mfor\u001b[39;00m op \u001b[38;5;129;01min\u001b[39;00m circuit_ops:\n\u001b[0;32m---> 98\u001b[0m     circuit_unitary \u001b[38;5;241m=\u001b[39m \u001b[43mfull_op_names\u001b[49m\u001b[43m[\u001b[49m\u001b[43mop\u001b[49m\u001b[43m[\u001b[49m\u001b[38;5;241;43m0\u001b[39;49m\u001b[43m]\u001b[49m\u001b[43m]\u001b[49m\u001b[43m(\u001b[49m\u001b[43mcircuit_unitary\u001b[49m\u001b[43m,\u001b[49m\u001b[43m \u001b[49m\u001b[38;5;241;43m*\u001b[39;49m\u001b[43mop\u001b[49m\u001b[43m[\u001b[49m\u001b[38;5;241;43m1\u001b[39;49m\u001b[43m:\u001b[49m\u001b[43m]\u001b[49m\u001b[43m)\u001b[49m\n\u001b[1;32m     99\u001b[0m \u001b[38;5;28;01mreturn\u001b[39;00m circuit_unitary\n",
      "File \u001b[0;32m~/notebooks/notebooks/unitary-synthesis/dreamcoder/domains/quantum_ground_state/primitives.py:344\u001b[0m, in \u001b[0;36msx\u001b[0;34m(circuit, qubit_1)\u001b[0m\n\u001b[1;32m    343\u001b[0m \u001b[38;5;28;01mdef\u001b[39;00m \u001b[38;5;21msx\u001b[39m(circuit, qubit_1):\n\u001b[0;32m--> 344\u001b[0m     \u001b[38;5;28;01mreturn\u001b[39;00m \u001b[43mtensor_contraction\u001b[49m\u001b[43m(\u001b[49m\u001b[43mcircuit\u001b[49m\u001b[43m,\u001b[49m\u001b[43m \u001b[49m\u001b[43mtensor_sx\u001b[49m\u001b[43m,\u001b[49m\u001b[43m \u001b[49m\u001b[43m[\u001b[49m\u001b[43mqubit_1\u001b[49m\u001b[43m]\u001b[49m\u001b[43m)\u001b[49m\n",
      "File \u001b[0;32m~/notebooks/notebooks/unitary-synthesis/dreamcoder/domains/quantum_ground_state/primitives.py:192\u001b[0m, in \u001b[0;36mtensor_contraction\u001b[0;34m(A, B, indices)\u001b[0m\n\u001b[1;32m    190\u001b[0m n_qubits \u001b[38;5;241m=\u001b[39m get_qubit_number(A)\n\u001b[1;32m    191\u001b[0m idx \u001b[38;5;241m=\u001b[39m [i \u001b[38;5;241m+\u001b[39m n_qubits \u001b[38;5;28;01mfor\u001b[39;00m i \u001b[38;5;129;01min\u001b[39;00m indices]\n\u001b[0;32m--> 192\u001b[0m out \u001b[38;5;241m=\u001b[39m \u001b[43mnp\u001b[49m\u001b[38;5;241;43m.\u001b[39;49m\u001b[43mtensordot\u001b[49m\u001b[43m(\u001b[49m\u001b[43mA\u001b[49m\u001b[43m,\u001b[49m\u001b[43m \u001b[49m\u001b[43mB\u001b[49m\u001b[43m,\u001b[49m\u001b[43m \u001b[49m\u001b[43m(\u001b[49m\u001b[43midx\u001b[49m\u001b[43m,\u001b[49m\u001b[43m \u001b[49m\u001b[43mnp\u001b[49m\u001b[38;5;241;43m.\u001b[39;49m\u001b[43marange\u001b[49m\u001b[43m(\u001b[49m\u001b[38;5;28;43mlen\u001b[39;49m\u001b[43m(\u001b[49m\u001b[43mindices\u001b[49m\u001b[43m)\u001b[49m\u001b[43m)\u001b[49m\u001b[43m)\u001b[49m\u001b[43m)\u001b[49m\n\u001b[1;32m    193\u001b[0m \u001b[38;5;28;01mreturn\u001b[39;00m np\u001b[38;5;241m.\u001b[39mmoveaxis(out, np\u001b[38;5;241m.\u001b[39marange(\u001b[38;5;241m-\u001b[39m\u001b[38;5;28mlen\u001b[39m(indices), \u001b[38;5;241m0\u001b[39m, \u001b[38;5;241m1\u001b[39m), idx)\n",
      "File \u001b[0;32m~/miniconda3/envs/dc/lib/python3.12/site-packages/numpy/core/numeric.py:1091\u001b[0m, in \u001b[0;36mtensordot\u001b[0;34m(a, b, axes)\u001b[0m\n\u001b[1;32m   1089\u001b[0m \u001b[38;5;28;01melse\u001b[39;00m:\n\u001b[1;32m   1090\u001b[0m     \u001b[38;5;28;01mfor\u001b[39;00m k \u001b[38;5;129;01min\u001b[39;00m \u001b[38;5;28mrange\u001b[39m(na):\n\u001b[0;32m-> 1091\u001b[0m         \u001b[38;5;28;01mif\u001b[39;00m \u001b[43mas_\u001b[49m\u001b[43m[\u001b[49m\u001b[43maxes_a\u001b[49m\u001b[43m[\u001b[49m\u001b[43mk\u001b[49m\u001b[43m]\u001b[49m\u001b[43m]\u001b[49m \u001b[38;5;241m!=\u001b[39m bs[axes_b[k]]:\n\u001b[1;32m   1092\u001b[0m             equal \u001b[38;5;241m=\u001b[39m \u001b[38;5;28;01mFalse\u001b[39;00m\n\u001b[1;32m   1093\u001b[0m             \u001b[38;5;28;01mbreak\u001b[39;00m\n",
      "\u001b[0;31mIndexError\u001b[0m: tuple index out of range"
     ]
    }
   ],
   "source": [
    "invented_primitives = [p for p in new_grammar.primitives if p.isInvented]\n",
    "for p in invented_primitives:\n",
    "    getName(p)\n",
    "depths = {depth[p] for p in invented_primitives}\n",
    "depth2primitives = {\n",
    "    d: {p for p in invented_primitives if depth[p] == d} for d in depths\n",
    "}\n",
    "\n",
    "# Define primitive circuit operations as globals\n",
    "for i, (original, simplified) in enumerate(list(simplification.items())[:]):\n",
    "    arguments = get_primitive_arguments(original.tp, [])\n",
    "    n_arguments = len(arguments) - 1\n",
    "    \n",
    "    Primitive.GLOBALS[name[original]] = Primitive(\n",
    "        name=name[original],\n",
    "        ty=original.tp,\n",
    "        value=Curried(get_primitive_lambda(n_arguments, name[original])),\n",
    "    )\n",
    "    program = Program.parse(str(original))\n",
    "    circuit = execute_program(program, arguments)\n",
    "\n",
    "    # TODO: full_op_names should be fixed along with f_circuit\n",
    "    full_op_names[\n",
    "        name[original]\n",
    "    ] = lambda tensor, *qubit, circuit_template=circuit: f_circuit(\n",
    "        tensor, *qubit, circuit_template=circuit_template\n",
    "    )\n",
    "    \n",
    "    simplified_program = Program.parse(str(simplified))\n",
    "    simplified_circuit = execute_program(\n",
    "        simplified_program, get_primitive_arguments(original.tp, [])\n",
    "    )\n",
    "    \n",
    "    qk_circuit = get_qiskit_circuit(simplified_circuit).circuit\n",
    "    "
   ]
  },
  {
   "cell_type": "code",
   "execution_count": null,
   "metadata": {},
   "outputs": [],
   "source": []
  },
  {
   "cell_type": "code",
   "execution_count": null,
   "metadata": {},
   "outputs": [],
   "source": [
    "# Define primitive circuit operations as globals\n",
    "for i, (original, simplified) in enumerate(simplification.items()):\n",
    "    arguments = get_primitive_arguments(original.tp, [])\n",
    "    n_qubit = len(arguments) - 1\n",
    "\n",
    "    dc.program.Primitive.GLOBALS[name[original]] = dc.program.Primitive(\n",
    "        name=name[original],\n",
    "        ty=original.tp,\n",
    "        value=dc.utilities.Curried(get_primitive_lambda(n_qubit, name[original])),\n",
    "    )\n",
    "    program = dc.program.Program.parse(str(original))\n",
    "\n",
    "    # while 1:\n",
    "    #     try:\n",
    "    circuit = execute_program(program, arguments)\n",
    "    #     break\n",
    "    # except QuantumCircuitException:\n",
    "    #     arguments =  randomize_arguments(arguments)\n",
    "    #     print(\"Invalid circuit -> Randomizing arguments: \", arguments)\n",
    "\n",
    "    dc.domains.quantum_circuits.primitives.full_op_names[\n",
    "        name[original]\n",
    "    ] = lambda tensor, *qubit, circuit_template=circuit: f_circuit(\n",
    "        tensor, *qubit, circuit_template=circuit_template\n",
    "    )\n",
    "\n",
    "    simplified_program = dc.program.Program.parse(str(simplified))\n",
    "\n",
    "    # TODO: problem with limited connectivity\n",
    "    if experiment_arguments[\"limitedConnectivity\"]:\n",
    "        print(\n",
    "            \"Note that the simplified version can only have wrong arguments sometimes! Bug in the execution with constrained connectivity!\"\n",
    "        )\n",
    "    simplified_circuit = execute_program(\n",
    "        simplified_program, get_primitive_arguments(original.tp, [])\n",
    "    )\n",
    "    dc.domains.quantum_circuits.primitives.GLOBAL_LIMITED_CONNECTIVITY = (\n",
    "        experiment_arguments[\"limitedConnectivity\"]\n",
    "    )\n",
    "\n",
    "    qk_circuit = get_qiskit_circuit(simplified_circuit).circuit\n",
    "    qk_circuit.name = name[original]\n",
    "    dc.domains.quantum_circuits.primitives.qiskit_full_op_names[\n",
    "        name[original]\n",
    "    ] = get_qk_lambda(n_qubit, qk_circuit.to_gate())\n",
    "\n",
    "    eta_long = dc.program.EtaLongVisitor().execute(simplified_program)\n",
    "    print(f\"{name[original]}: {eta_long}\")  # EtaLong for a better program string\n",
    "    # print(original)\n",
    "    print(\"Simplified circuit\")\n",
    "    print(qk_circuit)\n",
    "    qk_circuit.draw(output=\"mpl\", filename=f\"{folder_primitives}/{i}.pdf\")\n",
    "    print(\"Expanded circuit\")\n",
    "    print(get_qiskit_circuit(circuit).circuit)\n",
    "    get_qiskit_circuit(circuit).circuit.draw(\n",
    "        output=\"mpl\", filename=f\"{folder_primitives}/r{i}.pdf\"\n",
    "    )\n",
    "    print(\"-------------------------------------------\")"
   ]
  },
  {
   "cell_type": "code",
   "execution_count": null,
   "metadata": {},
   "outputs": [],
   "source": []
  },
  {
   "cell_type": "code",
   "execution_count": null,
   "metadata": {},
   "outputs": [],
   "source": []
  },
  {
   "cell_type": "code",
   "execution_count": null,
   "metadata": {},
   "outputs": [],
   "source": []
  },
  {
   "cell_type": "code",
   "execution_count": null,
   "metadata": {},
   "outputs": [],
   "source": []
  },
  {
   "cell_type": "code",
   "execution_count": null,
   "metadata": {},
   "outputs": [],
   "source": []
  },
  {
   "cell_type": "code",
   "execution_count": null,
   "metadata": {},
   "outputs": [],
   "source": []
  },
  {
   "cell_type": "markdown",
   "metadata": {},
   "source": [
    "(cz ($0 (cz ($0 (cz ($0 (cz ($0 (cz ($0 (cz ($0 (cz ($0 (x ($0 (x ($0 (x ($0 (x (cz ($0 ($0 (cz ($0 ($0 (x (x $1 $2) $3) $4 $2) $5 $3) $2 $3) $6 $2) $7 $3) $2 $3) $2) $8 $3) $3) $9 $2) $2) $10 $3) $3) $11 $2) $2 $3) $12 $2) $2 $3) $13 $3) $2 $3) $14 $2) $2 $3) $15 $3) $2 $3) $16 $3) $2 $3) $17 $2) $2 $3)\t\n"
   ]
  },
  {
   "cell_type": "code",
   "execution_count": 8,
   "metadata": {},
   "outputs": [
    {
     "data": {
      "text/plain": [
       "'akash/solved_RL_circuits/circ_list_TFIM_qubit2_J1_h0.001_decomposed1.pickle'"
      ]
     },
     "execution_count": 8,
     "metadata": {},
     "output_type": "execute_result"
    }
   ],
   "source": [
    "path"
   ]
  },
  {
   "cell_type": "code",
   "execution_count": 33,
   "metadata": {},
   "outputs": [
    {
     "data": {
      "text/plain": [
       "[Frontier(entries=[FrontierEntry(program=(lambda (lambda (lambda (lambda (lambda (lambda (sx (x (sx (cz (sx (rz (cz (rz (x (sx (rz (sx $0 $2) $5 $1) $1) $2) $4 $2) $1 $2) $3 $2) $2) $1 $2) $1) $2) $2))))))), logPrior=-33.92259025548687, logLikelihood=1.0000019905250335], task=J_1.00_h_0.00_N_2_v0),\n",
       " Frontier(entries=[FrontierEntry(program=(lambda (lambda (lambda (lambda (lambda (lambda (lambda (lambda (lambda (lambda (sx (cz (x (x (sx (sx (rz (x (rz (x (rz (sx (cz (x (rz (sx (cz (rz (cz (rz (x (cz (sx (rz (x $0 $2) $9 $1) $2) $1 $2) $2) $8 $1) $1 $2) $7 $2) $1 $2) $2) $6 $1) $1) $1 $2) $1) $5 $2) $2) $4 $1) $1) $3 $2) $1) $2) $1) $2) $1 $2) $2))))))))))), logPrior=-76.26117218347213, logLikelihood=1.0000019905250335], task=J_1.00_h_0.00_N_2_v1),\n",
       " Frontier(entries=[FrontierEntry(program=(lambda (lambda (lambda (lambda (lambda (x (sx (x (sx (x (rz (sx (rz (x (sx (sx (cz (x (cz (sx $0 $1) $1 $2) $1) $1 $2) $1) $2) $1) $4 $2) $2) $3 $1) $1) $1) $1) $1) $1)))))), logPrior=-38.92080302958456, logLikelihood=1.0000019905250335], task=J_1.00_h_0.00_N_2_v2),\n",
       " Frontier(entries=[FrontierEntry(program=(lambda (lambda (lambda (lambda (sx (rz (x (sx $0 $1) $2) $3 $1) $1))))), logPrior=-10.819778284410283, logLikelihood=1.0000019905250335], task=J_1.00_h_0.00_N_2_v3),\n",
       " Frontier(entries=[FrontierEntry(program=(lambda (lambda (lambda (lambda (lambda (lambda (lambda (sx (rz (x (sx (cz (rz (sx (rz (rz (x (sx $0 $2) $1) $6 $1) $5 $2) $2) $4 $2) $1 $2) $2) $2) $3 $2) $2)))))))), logPrior=-33.17619856040811, logLikelihood=1.0000019905250335], task=J_1.00_h_0.00_N_2_v4),\n",
       " Frontier(entries=[FrontierEntry(program=(lambda (lambda (lambda (lambda (lambda (lambda (lambda (lambda (lambda (lambda (lambda (lambda (lambda (lambda (lambda (lambda (lambda (cz (rz (rz (cz (rz (x (x (cz (rz (cz (rz (cz (rz (cz (rz (cz (rz (x (rz (x (cz (rz (cz (rz (rz (cz (rz (rz (x (x $0 $1) $2) $16 $1) $15 $2) $1 $2) $14 $1) $13 $2) $1 $2) $12 $2) $1 $2) $1) $11 $2) $2) $10 $1) $1 $2) $9 $1) $1 $2) $8 $2) $1 $2) $7 $2) $1 $2) $6 $2) $1 $2) $1) $2) $5 $2) $1 $2) $4 $1) $3 $2) $1 $2)))))))))))))))))), logPrior=-114.56526512246853, logLikelihood=1.0000019905250335], task=J_1.00_h_0.00_N_2_v5),\n",
       " Frontier(entries=[FrontierEntry(program=(lambda (lambda (lambda (lambda (lambda (lambda (lambda (lambda (lambda (lambda (lambda (lambda (lambda (lambda (lambda (lambda (lambda (cz (rz (cz (rz (cz (rz (cz (rz (cz (rz (cz (rz (cz (rz (x (rz (x (rz (x (rz (x (cz (rz (rz (cz (rz (rz (x (x $0 $1) $2) $16 $1) $15 $2) $1 $2) $14 $1) $13 $2) $1 $2) $1) $12 $2) $2) $11 $1) $1) $10 $2) $2) $9 $1) $1 $2) $8 $1) $1 $2) $7 $2) $1 $2) $6 $1) $1 $2) $5 $2) $1 $2) $4 $2) $1 $2) $3 $1) $1 $2)))))))))))))))))), logPrior=-111.56953284891455, logLikelihood=1.0000019905250335], task=J_1.00_h_0.00_N_2_v6),\n",
       " Frontier(entries=[FrontierEntry(program=(lambda (lambda (lambda (lambda (lambda (lambda (lambda (lambda (lambda (lambda (lambda (lambda (lambda (lambda (lambda (lambda (lambda (cz (rz (cz (rz (cz (rz (cz (rz (cz (rz (cz (rz (cz (rz (x (rz (x (rz (x (rz (x (cz (rz (rz (cz (rz (rz (x (x $0 $1) $2) $16 $1) $15 $2) $1 $2) $14 $1) $13 $2) $1 $2) $1) $12 $2) $2) $11 $1) $1) $10 $2) $2) $9 $1) $1 $2) $8 $1) $1 $2) $7 $2) $1 $2) $6 $1) $1 $2) $5 $2) $1 $2) $4 $2) $1 $2) $3 $1) $1 $2)))))))))))))))))), logPrior=-111.56953284891455, logLikelihood=1.0000019905250335], task=J_1.00_h_0.00_N_2_v7),\n",
       " Frontier(entries=[FrontierEntry(program=(lambda (lambda (lambda (lambda (lambda (lambda (lambda (lambda (lambda (lambda (lambda (lambda (lambda (lambda (lambda (lambda (lambda (cz (rz (cz (rz (cz (rz (cz (rz (cz (rz (cz (rz (cz (rz (x (rz (x (rz (x (rz (x (cz (rz (rz (cz (rz (rz (x (x $0 $1) $2) $16 $1) $15 $2) $1 $2) $14 $1) $13 $2) $1 $2) $1) $12 $2) $2) $11 $1) $1) $10 $2) $2) $9 $1) $1 $2) $8 $1) $1 $2) $7 $2) $1 $2) $6 $1) $1 $2) $5 $2) $1 $2) $4 $2) $1 $2) $3 $1) $1 $2)))))))))))))))))), logPrior=-111.56953284891455, logLikelihood=1.0000019905250335], task=J_1.00_h_0.00_N_2_v8),\n",
       " Frontier(entries=[FrontierEntry(program=(lambda (lambda (lambda (lambda (lambda (lambda (lambda (lambda (lambda (lambda (lambda (lambda (lambda (lambda (lambda (lambda (lambda (cz (rz (cz (rz (cz (rz (cz (rz (cz (rz (cz (rz (cz (rz (x (rz (x (rz (x (rz (x (cz (rz (rz (cz (rz (rz (x (x $0 $1) $2) $16 $1) $15 $2) $1 $2) $14 $1) $13 $2) $1 $2) $1) $12 $2) $2) $11 $1) $1) $10 $2) $2) $9 $1) $1 $2) $8 $1) $1 $2) $7 $2) $1 $2) $6 $1) $1 $2) $5 $2) $1 $2) $4 $2) $1 $2) $3 $1) $1 $2)))))))))))))))))), logPrior=-111.56953284891455, logLikelihood=1.0000019905250335], task=J_1.00_h_0.00_N_2_v9)]"
      ]
     },
     "execution_count": 33,
     "metadata": {},
     "output_type": "execute_result"
    }
   ],
   "source": [
    "frontiers"
   ]
  },
  {
   "cell_type": "code",
   "execution_count": 163,
   "metadata": {},
   "outputs": [],
   "source": [
    "instructions = get_instructions_from_qiskit(circuit)\n",
    "code, arguments = get_code_from_instructions(instructions)\n",
    "program = Program.parse(code)\n",
    "reconstructed = execute_program(program, arguments)"
   ]
  },
  {
   "cell_type": "markdown",
   "metadata": {},
   "source": [
    "# Test"
   ]
  },
  {
   "cell_type": "code",
   "execution_count": null,
   "metadata": {},
   "outputs": [],
   "source": [
    "# psi0 = np.array([1,0,0,0])\n",
    "# rot = np.array(Operator(circ).data)\n",
    "# psi1= np.dot(rot,psi0)"
   ]
  },
  {
   "cell_type": "code",
   "execution_count": null,
   "metadata": {},
   "outputs": [],
   "source": [
    "# pipeline is\n",
    "# CODE:str --> PROGRAM:Program --> INSTRUCTIONS:tuple --> CIRCUIT: QuantumCircuit\n",
    "\n",
    "# inverse pipeline is\n",
    "# CIRCUIT: QuantumCircuit --> INSTRUCTIONS: tuple --> CODE: str"
   ]
  },
  {
   "cell_type": "code",
   "execution_count": null,
   "metadata": {},
   "outputs": [
    {
     "name": "stdout",
     "output_type": "stream",
     "text": [
      "(-1.0000019905250335+0j)\n",
      "(-1.000000389117297-5.551115123125783e-17j)\n",
      "(-1.0000001942192795+0j)\n",
      "(-1.0000000807637257+0j)\n",
      "(-1.0000000793832347-5.551115123125783e-17j)\n",
      "(-1.0000000000000002+0j)\n",
      "(-1.0000000000000004+0j)\n",
      "(-1.0000000000000004+0j)\n",
      "(-1.0000000000000004+0j)\n",
      "(-1.0000000000000004+0j)\n",
      "(-1.0000000000000004+0j)\n",
      "(-1.0000000000000004+0j)\n",
      "(-1.0000000000000004+0j)\n",
      "(-0.9999999999999998+0j)\n",
      "(-0.9999999999999998+0j)\n",
      "(-0.9999999999999998+0j)\n",
      "(-0.9999999999999998+0j)\n",
      "(-0.9999999999999998+0j)\n",
      "(-0.9999999999999998+0j)\n",
      "(-0.9999999999999998+0j)\n"
     ]
    }
   ],
   "source": [
    "H = construct_hamiltonian(J, h, n_qubits)\n",
    "for circ in b:\n",
    "    psi0 = Statevector.from_int(0, 2**n_qubits)\n",
    "    psi1 = psi0.evolve(circ)\n",
    "    print(get_energy(psi1.data, H))\n",
    "\n",
    "instructions = get_instructions_from_qiskit(circ)\n",
    "code, arguments = get_code_from_instructions(instructions)\n",
    "program = Program.parse(code)"
   ]
  },
  {
   "cell_type": "code",
   "execution_count": null,
   "metadata": {},
   "outputs": [],
   "source": [
    "# Test: get_qiskit_circuit(instructions) --> same circuit\n",
    "instructions = get_instructions_from_qiskit(circ)\n",
    "reconstructed_circuit = get_qiskit_circuit(instructions)\n",
    "Operator(reconstructed_circuit.circuit).data - Operator(circ).data"
   ]
  },
  {
   "cell_type": "code",
   "execution_count": null,
   "metadata": {},
   "outputs": [],
   "source": [
    "# Test: get code from instructions\n",
    "code, arguments = get_code_from_instructions(instructions)\n",
    "program = Program.parse(code)\n",
    "reconstructed = execute_program(program, arguments)\n",
    "reconstructed == instructions\n",
    "\n",
    "print(program)\n",
    "print(reconstructed)\n",
    "print(instructions)"
   ]
  },
  {
   "cell_type": "code",
   "execution_count": 16,
   "metadata": {},
   "outputs": [
    {
     "data": {
      "text/plain": [
       "[sx, x, rz, cz]"
      ]
     },
     "execution_count": 16,
     "metadata": {},
     "output_type": "execute_result"
    }
   ],
   "source": [
    "primitives"
   ]
  },
  {
   "cell_type": "code",
   "execution_count": 21,
   "metadata": {},
   "outputs": [
    {
     "data": {
      "text/plain": [
       "(array([[0.87758256-0.47942554j, 0.        +0.j        ,\n",
       "         0.        +0.j        , 0.        +0.j        ],\n",
       "        [0.        +0.j        , 0.87758256-0.47942554j,\n",
       "         0.        +0.j        , 0.        +0.j        ],\n",
       "        [0.        +0.j        , 0.        +0.j        ,\n",
       "         0.87758256+0.47942554j, 0.        +0.j        ],\n",
       "        [0.        +0.j        , 0.        +0.j        ,\n",
       "         0.        +0.j        , 0.87758256+0.47942554j]]),\n",
       " array([[0.87758256-0.47942554j, 0.        +0.j        ,\n",
       "         0.        +0.j        , 0.        +0.j        ],\n",
       "        [0.        +0.j        , 0.87758256-0.47942554j,\n",
       "         0.        +0.j        , 0.        +0.j        ],\n",
       "        [0.        +0.j        , 0.        +0.j        ,\n",
       "         0.87758256+0.47942554j, 0.        +0.j        ],\n",
       "        [0.        +0.j        , 0.        +0.j        ,\n",
       "         0.        +0.j        , 0.87758256+0.47942554j]]))"
      ]
     },
     "execution_count": 21,
     "metadata": {},
     "output_type": "execute_result"
    }
   ],
   "source": [
    "# Test: unitary from instructions\n",
    "with QiskitTester(2) as QT:\n",
    "    QT.circuit.rz(1, 1)\n",
    "QT.circuit.draw()\n",
    "instructions = get_instructions_from_qiskit(QT.circuit)\n",
    "Operator(QT.circuit).data, circuit_to_mat(instructions)"
   ]
  },
  {
   "cell_type": "code",
   "execution_count": null,
   "metadata": {},
   "outputs": [
    {
     "data": {
      "text/html": [
       "<pre style=\"word-wrap: normal;white-space: pre;background: #fff0;line-height: 1.1;font-family: &quot;Courier New&quot;,Courier,monospace\">      ┌───┐  ┌──────────┐┌───┐\n",
       "q_0: ─┤ X ├──┤ Rz(1.43) ├┤ X ├\n",
       "     ┌┴───┴─┐└──┬───┬───┘└─┬─┘\n",
       "q_1: ┤ √Xdg ├───┤ X ├──────■──\n",
       "     └──────┘   └───┘         </pre>"
      ],
      "text/plain": [
       "      ┌───┐  ┌──────────┐┌───┐\n",
       "q_0: ─┤ X ├──┤ Rz(1.43) ├┤ X ├\n",
       "     ┌┴───┴─┐└──┬───┬───┘└─┬─┘\n",
       "q_1: ┤ √Xdg ├───┤ X ├──────■──\n",
       "     └──────┘   └───┘         "
      ]
     },
     "metadata": {},
     "output_type": "display_data"
    }
   ],
   "source": [
    "instructions = (2, ((\"sxdg\", 0), (\"x\", 0), (\"x\", 1), (\"rz\", 1.43, 1), (\"cnot\", 0, 1)))\n",
    "get_qiskit_circuit(instructions).circuit.draw()\n",
    "# with QiskitTester(circuit=instructions) as QT:\n",
    "#     QT.circuit.sxdg(QT.q(0))\n",
    "# QT.circuit.draw()"
   ]
  },
  {
   "cell_type": "code",
   "execution_count": null,
   "metadata": {},
   "outputs": [],
   "source": [
    "instructions = (\n",
    "    1,\n",
    "    (\n",
    "        # (\"sxdg\", 0),\n",
    "        # (\"x\", 0),\n",
    "        # (\"x\", 1),\n",
    "        (\"rz\", 1.43, 0),\n",
    "        # (\"cnot\", 0,1)\n",
    "    ),\n",
    ")\n",
    "get_qiskit_circuit(instructions).circuit.draw()\n",
    "code, arguments = get_code_from_instructions(instructions)"
   ]
  },
  {
   "cell_type": "code",
   "execution_count": null,
   "metadata": {},
   "outputs": [],
   "source": [
    "code = \"(lambda (lambda(lambda (rz $0 $2 $1 ) )))\"\n",
    "code = \"(cnot (no_op(2)) 1 0)\"\n",
    "code = \"(cnot (I 2) 0 1)\"\n",
    "code = \"(x (I 1) 0 )\"\n",
    "code = \"(x (rz (I 1) 11 0) 0 )\""
   ]
  },
  {
   "cell_type": "code",
   "execution_count": null,
   "metadata": {},
   "outputs": [
    {
     "ename": "Exception",
     "evalue": "Attempt to evaluate hole",
     "output_type": "error",
     "traceback": [
      "\u001b[0;31m---------------------------------------------------------------------------\u001b[0m\n",
      "\u001b[0;31mException\u001b[0m                                 Traceback (most recent call last)\n",
      "Cell \u001b[0;32mIn[64], line 3\u001b[0m\n",
      "\u001b[1;32m      1\u001b[0m program \u001b[38;5;241m=\u001b[39m Program\u001b[38;5;241m.\u001b[39mparse(code)\n",
      "\u001b[0;32m----> 3\u001b[0m instructions \u001b[38;5;241m=\u001b[39m \u001b[43mexecute_program\u001b[49m\u001b[43m(\u001b[49m\u001b[43mprogram\u001b[49m\u001b[43m,\u001b[49m\u001b[43m \u001b[49m\u001b[43m(\u001b[49m\u001b[43m)\u001b[49m\u001b[43m)\u001b[49m\n",
      "\u001b[1;32m      4\u001b[0m get_qiskit_circuit(instructions)\u001b[38;5;241m.\u001b[39mcircuit\u001b[38;5;241m.\u001b[39mdraw()\n",
      "\n",
      "File \u001b[0;32m~/notebooks/unitary-synthesis/dreamcoder/domains/quantum_circuits/primitives.py:834\u001b[0m, in \u001b[0;36mexecute_program\u001b[0;34m(program, arguments)\u001b[0m\n",
      "\u001b[1;32m    832\u001b[0m \u001b[38;5;28;01mif\u001b[39;00m \u001b[38;5;124m\"\u001b[39m\u001b[38;5;124mrep\u001b[39m\u001b[38;5;124m\"\u001b[39m \u001b[38;5;129;01min\u001b[39;00m \u001b[38;5;28mstr\u001b[39m(program):\n",
      "\u001b[1;32m    833\u001b[0m     eprint(program)\n",
      "\u001b[0;32m--> 834\u001b[0m circuit \u001b[38;5;241m=\u001b[39m \u001b[43mprogram\u001b[49m\u001b[38;5;241;43m.\u001b[39;49m\u001b[43mevaluate\u001b[49m\u001b[43m(\u001b[49m\u001b[43m[\u001b[49m\u001b[43m]\u001b[49m\u001b[43m)\u001b[49m\n",
      "\u001b[1;32m    835\u001b[0m \u001b[38;5;28;01mfor\u001b[39;00m arg \u001b[38;5;129;01min\u001b[39;00m arguments:\n",
      "\u001b[1;32m    836\u001b[0m     circuit \u001b[38;5;241m=\u001b[39m circuit(arg)\n",
      "\n",
      "File \u001b[0;32m~/notebooks/unitary-synthesis/dreamcoder/program.py:344\u001b[0m, in \u001b[0;36mApplication.evaluate\u001b[0;34m(self, environment)\u001b[0m\n",
      "\u001b[1;32m    342\u001b[0m         \u001b[38;5;28;01mreturn\u001b[39;00m \u001b[38;5;28mself\u001b[39m\u001b[38;5;241m.\u001b[39mfalseBranch\u001b[38;5;241m.\u001b[39mevaluate(environment)\n",
      "\u001b[1;32m    343\u001b[0m \u001b[38;5;28;01melse\u001b[39;00m:\n",
      "\u001b[0;32m--> 344\u001b[0m     \u001b[38;5;28;01mreturn\u001b[39;00m \u001b[38;5;28;43mself\u001b[39;49m\u001b[38;5;241;43m.\u001b[39;49m\u001b[43mf\u001b[49m\u001b[38;5;241;43m.\u001b[39;49m\u001b[43mevaluate\u001b[49m\u001b[43m(\u001b[49m\u001b[43menvironment\u001b[49m\u001b[43m)\u001b[49m(\u001b[38;5;28mself\u001b[39m\u001b[38;5;241m.\u001b[39mx\u001b[38;5;241m.\u001b[39mevaluate(environment))\n",
      "\n",
      "File \u001b[0;32m~/notebooks/unitary-synthesis/dreamcoder/program.py:344\u001b[0m, in \u001b[0;36mApplication.evaluate\u001b[0;34m(self, environment)\u001b[0m\n",
      "\u001b[1;32m    342\u001b[0m         \u001b[38;5;28;01mreturn\u001b[39;00m \u001b[38;5;28mself\u001b[39m\u001b[38;5;241m.\u001b[39mfalseBranch\u001b[38;5;241m.\u001b[39mevaluate(environment)\n",
      "\u001b[1;32m    343\u001b[0m \u001b[38;5;28;01melse\u001b[39;00m:\n",
      "\u001b[0;32m--> 344\u001b[0m     \u001b[38;5;28;01mreturn\u001b[39;00m \u001b[38;5;28mself\u001b[39m\u001b[38;5;241m.\u001b[39mf\u001b[38;5;241m.\u001b[39mevaluate(environment)(\u001b[38;5;28;43mself\u001b[39;49m\u001b[38;5;241;43m.\u001b[39;49m\u001b[43mx\u001b[49m\u001b[38;5;241;43m.\u001b[39;49m\u001b[43mevaluate\u001b[49m\u001b[43m(\u001b[49m\u001b[43menvironment\u001b[49m\u001b[43m)\u001b[49m)\n",
      "\n",
      "    \u001b[0;31m[... skipping similar frames: Application.evaluate at line 344 (1 times)]\u001b[0m\n",
      "\n",
      "File \u001b[0;32m~/notebooks/unitary-synthesis/dreamcoder/program.py:344\u001b[0m, in \u001b[0;36mApplication.evaluate\u001b[0;34m(self, environment)\u001b[0m\n",
      "\u001b[1;32m    342\u001b[0m         \u001b[38;5;28;01mreturn\u001b[39;00m \u001b[38;5;28mself\u001b[39m\u001b[38;5;241m.\u001b[39mfalseBranch\u001b[38;5;241m.\u001b[39mevaluate(environment)\n",
      "\u001b[1;32m    343\u001b[0m \u001b[38;5;28;01melse\u001b[39;00m:\n",
      "\u001b[0;32m--> 344\u001b[0m     \u001b[38;5;28;01mreturn\u001b[39;00m \u001b[38;5;28mself\u001b[39m\u001b[38;5;241m.\u001b[39mf\u001b[38;5;241m.\u001b[39mevaluate(environment)(\u001b[38;5;28;43mself\u001b[39;49m\u001b[38;5;241;43m.\u001b[39;49m\u001b[43mx\u001b[49m\u001b[38;5;241;43m.\u001b[39;49m\u001b[43mevaluate\u001b[49m\u001b[43m(\u001b[49m\u001b[43menvironment\u001b[49m\u001b[43m)\u001b[49m)\n",
      "\n",
      "File \u001b[0;32m~/notebooks/unitary-synthesis/dreamcoder/program.py:847\u001b[0m, in \u001b[0;36mHole.evaluate\u001b[0;34m(self, e)\u001b[0m\n",
      "\u001b[1;32m    846\u001b[0m \u001b[38;5;28;01mdef\u001b[39;00m \u001b[38;5;21mevaluate\u001b[39m(\u001b[38;5;28mself\u001b[39m, e):\n",
      "\u001b[0;32m--> 847\u001b[0m     \u001b[38;5;28;01mraise\u001b[39;00m \u001b[38;5;167;01mException\u001b[39;00m(\u001b[38;5;124m'\u001b[39m\u001b[38;5;124mAttempt to evaluate hole\u001b[39m\u001b[38;5;124m'\u001b[39m)\n",
      "\n",
      "\u001b[0;31mException\u001b[0m: Attempt to evaluate hole"
     ]
    }
   ],
   "source": [
    "program = Program.parse(code)\n",
    "instructions = execute_program(program, ())\n",
    "get_qiskit_circuit(instructions).circuit.draw()"
   ]
  },
  {
   "cell_type": "code",
   "execution_count": null,
   "metadata": {},
   "outputs": [
    {
     "name": "stdout",
     "output_type": "stream",
     "text": [
      "(-1.0000019905250335+0j) 1.0000019905250335\n",
      "(-1.000000389117297-5.551115123125783e-17j) 1.0000003891172966\n",
      "(-1.0000001942192795+0j) 1.0000001942192795\n",
      "(-1.0000000807637257+0j) 1.0000000807637257\n",
      "(-1.0000000793832347-5.551115123125783e-17j) 1.000000079383235\n",
      "(-1.0000000000000002+0j) 1.000000000000001\n",
      "(-1.0000000000000004+0j) 1.0000000000000009\n",
      "(-1.0000000000000004+0j) 1.0000000000000009\n",
      "(-1.0000000000000004+0j) 1.0000000000000009\n",
      "(-1.0000000000000004+0j) 1.0000000000000009\n",
      "(-1.0000000000000004+0j) 1.0000000000000009\n",
      "(-1.0000000000000004+0j) 1.0000000000000009\n",
      "(-1.0000000000000004+0j) 1.0000000000000009\n",
      "(-0.9999999999999998+0j) 1.0000000000000007\n",
      "(-0.9999999999999998+0j) 1.0000000000000007\n",
      "(-0.9999999999999998+0j) 1.0000000000000007\n",
      "(-0.9999999999999998+0j) 1.0000000000000007\n",
      "(-0.9999999999999998+0j) 1.0000000000000007\n",
      "(-0.9999999999999998+0j) 1.0000000000000007\n",
      "(-0.9999999999999998+0j) 1.0000000000000007\n"
     ]
    }
   ],
   "source": [
    "for circ in b:\n",
    "    H = construct_hamiltonian(J, h, n_qubits)\n",
    "    instructions = get_instructions_from_qiskit(circ)\n",
    "    code, arguments = get_code_from_instructions(instructions)\n",
    "    program = Program.parse(code)\n",
    "    task = GroundStateTask(\n",
    "        f\"J_{J:2.2f}_h_{h:2.2f}_N_{n_qubits}\",\n",
    "        hamiltonian=H,\n",
    "        arguments=arguments,\n",
    "        request=program.infer(),\n",
    "    )\n",
    "    energy = task.logLikelihood(program)\n",
    "\n",
    "    psi0 = Statevector.from_int(0, 4)\n",
    "    psi1 = psi0.evolve(circ)\n",
    "    print(get_energy(psi1, H), energy)"
   ]
  },
  {
   "cell_type": "code",
   "execution_count": null,
   "metadata": {},
   "outputs": [
    {
     "data": {
      "text/plain": [
       "(2,\n",
       " (('x', 0),\n",
       "  ('rz', 12.852044105529785, 1),\n",
       "  ('sx', 0),\n",
       "  ('rz', 4.629762649536133, 0),\n",
       "  ('cz', 1, 0),\n",
       "  ('rz', 5.277709484100342, 1),\n",
       "  ('cz', 1, 0),\n",
       "  ('sx', 0),\n",
       "  ('rz', 0.030434206128120422, 1),\n",
       "  ('x', 1),\n",
       "  ('x', 0),\n",
       "  ('rz', -1.6001750230789185, 1),\n",
       "  ('x', 1),\n",
       "  ('cz', 1, 0),\n",
       "  ('x', 1),\n",
       "  ('x', 0),\n",
       "  ('cz', 1, 0),\n",
       "  ('rz', -0.9125978946685791, 1),\n",
       "  ('cz', 1, 0),\n",
       "  ('sx', 0),\n",
       "  ('x', 1),\n",
       "  ('rz', -1.3367031812667847, 1),\n",
       "  ('rz', -1.1753524541854858, 0),\n",
       "  ('x', 1),\n",
       "  ('cz', 1, 0),\n",
       "  ('sx', 1),\n",
       "  ('x', 0),\n",
       "  ('cz', 1, 0),\n",
       "  ('sx', 1)))"
      ]
     },
     "metadata": {},
     "output_type": "display_data"
    }
   ],
   "source": [
    "instructions"
   ]
  }
 ],
 "metadata": {
  "kernelspec": {
   "display_name": "dc",
   "language": "python",
   "name": "python3"
  },
  "language_info": {
   "codemirror_mode": {
    "name": "ipython",
    "version": 3
   },
   "file_extension": ".py",
   "mimetype": "text/x-python",
   "name": "python",
   "nbconvert_exporter": "python",
   "pygments_lexer": "ipython3",
   "version": "3.12.5"
  }
 },
 "nbformat": 4,
 "nbformat_minor": 2
}
