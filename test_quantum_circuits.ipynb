{
 "cells": [
  {
   "cell_type": "code",
   "execution_count": 1,
   "metadata": {},
   "outputs": [],
   "source": [
    "# This branch of qiskit is required:  pip install git+https://github.com/LNoorl/qiskit-terra.git@feature/sk-pass\n",
    "\n",
    "import numpy as np\n",
    "import dreamcoder as dc\n",
    "from dreamcoder.domains.quantum_circuits.primitives import *\n",
    "from dreamcoder.domains.quantum_circuits.tasks import *\n",
    "import dill as pickle\n",
    "import time\n",
    "from tqdm import trange\n",
    "import random\n",
    "import bin.binutil\n",
    "import datetime\n",
    "%load_ext line_profiler\n",
    "%load_ext autoreload\n",
    "%autoreload 2\n",
    "dc.domains.quantum_circuits.primitives.GLOBAL_LIMITED_CONNECTIVITY = False\n",
    "\n",
    "backend = None"
   ]
  },
  {
   "cell_type": "code",
   "execution_count": null,
   "metadata": {},
   "outputs": [],
   "source": []
  },
  {
   "attachments": {},
   "cell_type": "markdown",
   "metadata": {},
   "source": [
    "# Some fixed-size circuits"
   ]
  },
  {
   "attachments": {},
   "cell_type": "markdown",
   "metadata": {},
   "source": [
    "## 1-qubit gates"
   ]
  },
  {
   "cell_type": "code",
   "execution_count": 2,
   "metadata": {},
   "outputs": [
    {
     "data": {
      "text/plain": [
       "(   ┌───┐┌───┐\n",
       " q: ┤ H ├┤ H ├\n",
       "    └───┘└───┘,\n",
       "    \n",
       " q: \n",
       "    )"
      ]
     },
     "execution_count": 2,
     "metadata": {},
     "output_type": "execute_result"
    }
   ],
   "source": [
    "# X\n",
    "with QiskitTester(1) as QT:\n",
    "    QT.circuit.h(QT.q(0))\n",
    "    QT.circuit.h(QT.q(0))\n",
    "QT.circuit.draw(), QT.transpile().draw()\n"
   ]
  },
  {
   "cell_type": "code",
   "execution_count": 3,
   "metadata": {},
   "outputs": [
    {
     "data": {
      "text/plain": [
       "array([[1.+0.j, 0.+0.j],\n",
       "       [0.+0.j, 1.+0.j]])"
      ]
     },
     "execution_count": 3,
     "metadata": {},
     "output_type": "execute_result"
    }
   ],
   "source": [
    "QT.result\n"
   ]
  },
  {
   "attachments": {},
   "cell_type": "markdown",
   "metadata": {},
   "source": [
    "X"
   ]
  },
  {
   "cell_type": "code",
   "execution_count": 4,
   "metadata": {},
   "outputs": [
    {
     "name": "stdout",
     "output_type": "stream",
     "text": [
      "x []\n"
     ]
    },
    {
     "data": {
      "text/plain": [
       "(     ┌───┐\n",
       " q_0: ┤ X ├\n",
       "      └───┘\n",
       " q_1: ─────\n",
       "           \n",
       " q_2: ─────\n",
       "           ,\n",
       " global phase: π\n",
       "      ┌───┐┌───┐┌───┐┌───┐┌───┐┌───┐\n",
       " q_0: ┤ H ├┤ T ├┤ T ├┤ T ├┤ T ├┤ H ├\n",
       "      └───┘└───┘└───┘└───┘└───┘└───┘\n",
       " q_1: ──────────────────────────────\n",
       "                                    \n",
       " q_2: ──────────────────────────────\n",
       "                                    )"
      ]
     },
     "execution_count": 4,
     "metadata": {},
     "output_type": "execute_result"
    }
   ],
   "source": [
    "# X\n",
    "with QiskitTester(circuit=([3, ((\"x\", 2),)])) as QT:\n",
    "    QT.circuit.x(QT.q(2))\n",
    "QT.circuit.draw(), QT.transpile().draw()"
   ]
  },
  {
   "cell_type": "code",
   "execution_count": null,
   "metadata": {},
   "outputs": [],
   "source": []
  },
  {
   "attachments": {},
   "cell_type": "markdown",
   "metadata": {},
   "source": [
    "Y"
   ]
  },
  {
   "cell_type": "code",
   "execution_count": 5,
   "metadata": {},
   "outputs": [
    {
     "name": "stdout",
     "output_type": "stream",
     "text": [
      "y []\n"
     ]
    },
    {
     "data": {
      "text/plain": [
       "(   ┌───┐\n",
       " q: ┤ Y ├\n",
       "    └───┘,\n",
       " global phase: 3π/4\n",
       "    ┌───┐┌───┐┌───┐┌───┐┌─────┐┌─────┐┌───┐┌───┐┌───┐\n",
       " q: ┤ H ├┤ T ├┤ T ├┤ H ├┤ Tdg ├┤ Tdg ├┤ H ├┤ T ├┤ T ├\n",
       "    └───┘└───┘└───┘└───┘└─────┘└─────┘└───┘└───┘└───┘)"
      ]
     },
     "execution_count": 5,
     "metadata": {},
     "output_type": "execute_result"
    }
   ],
   "source": [
    "# Y\n",
    "with QiskitTester(circuit=([1, ((\"y\", 0),)])) as QT:\n",
    "    QT.circuit.y(QT.q(0))\n",
    "QT.circuit.draw(), QT.transpile().draw()"
   ]
  },
  {
   "attachments": {},
   "cell_type": "markdown",
   "metadata": {},
   "source": [
    "Z"
   ]
  },
  {
   "cell_type": "code",
   "execution_count": 6,
   "metadata": {},
   "outputs": [
    {
     "name": "stdout",
     "output_type": "stream",
     "text": [
      "z []\n"
     ]
    },
    {
     "data": {
      "text/plain": [
       "(   ┌───┐\n",
       " q: ┤ Z ├\n",
       "    └───┘,\n",
       "    ┌───┐┌───┐┌───┐┌───┐\n",
       " q: ┤ T ├┤ T ├┤ T ├┤ T ├\n",
       "    └───┘└───┘└───┘└───┘)"
      ]
     },
     "execution_count": 6,
     "metadata": {},
     "output_type": "execute_result"
    }
   ],
   "source": [
    "with QiskitTester(circuit=([1, ((\"z\", 0),)])) as QT:\n",
    "    QT.circuit.z(QT.q(0))\n",
    "QT.circuit.draw(), QT.transpile().draw()"
   ]
  },
  {
   "attachments": {},
   "cell_type": "markdown",
   "metadata": {},
   "source": [
    "T"
   ]
  },
  {
   "cell_type": "code",
   "execution_count": 7,
   "metadata": {},
   "outputs": [
    {
     "name": "stdout",
     "output_type": "stream",
     "text": [
      "tdg []\n"
     ]
    },
    {
     "data": {
      "text/plain": [
       "(   ┌─────┐\n",
       " q: ┤ Tdg ├\n",
       "    └─────┘,\n",
       "    ┌─────┐\n",
       " q: ┤ Tdg ├\n",
       "    └─────┘)"
      ]
     },
     "execution_count": 7,
     "metadata": {},
     "output_type": "execute_result"
    }
   ],
   "source": [
    "# T = p(π/4)\n",
    "with QiskitTester(circuit=([1, ((\"tdg\", 0),)])) as QT:\n",
    "    QT.circuit.tdg(QT.q(0))\n",
    "QT.circuit.draw(), QT.transpile().draw()"
   ]
  },
  {
   "attachments": {},
   "cell_type": "markdown",
   "metadata": {},
   "source": [
    "S"
   ]
  },
  {
   "cell_type": "code",
   "execution_count": 8,
   "metadata": {},
   "outputs": [
    {
     "name": "stdout",
     "output_type": "stream",
     "text": [
      "s []\n"
     ]
    },
    {
     "data": {
      "text/plain": [
       "(   ┌───┐\n",
       " q: ┤ S ├\n",
       "    └───┘,\n",
       "    ┌───┐┌───┐\n",
       " q: ┤ T ├┤ T ├\n",
       "    └───┘└───┘)"
      ]
     },
     "execution_count": 8,
     "metadata": {},
     "output_type": "execute_result"
    }
   ],
   "source": [
    "# S = p(π/2)\n",
    "with QiskitTester(circuit=([1, ((\"s\", 0),)])) as QT:\n",
    "    QT.circuit.s(0)\n",
    "QT.circuit.draw(), QT.transpile().draw()"
   ]
  },
  {
   "attachments": {},
   "cell_type": "markdown",
   "metadata": {},
   "source": [
    "$\\sqrt X$"
   ]
  },
  {
   "cell_type": "code",
   "execution_count": 30,
   "metadata": {},
   "outputs": [
    {
     "name": "stderr",
     "output_type": "stream",
     "text": [
      "\u001b[94mprimitives.py:53\u001b[0m > Code consistent with Qiskit\n"
     ]
    },
    {
     "name": "stdout",
     "output_type": "stream",
     "text": [
      "sx []\n"
     ]
    },
    {
     "data": {
      "text/plain": [
       "(   ┌────┐\n",
       " q: ┤ √X ├\n",
       "    └────┘,\n",
       " global phase: π\n",
       "    ┌───┐┌───┐┌───┐┌───┐\n",
       " q: ┤ H ├┤ T ├┤ T ├┤ H ├\n",
       "    └───┘└───┘└───┘└───┘)"
      ]
     },
     "execution_count": 30,
     "metadata": {},
     "output_type": "execute_result"
    }
   ],
   "source": [
    "with QiskitTester(circuit=([1, ((\"sx\", 0),)])) as QT:\n",
    "    QT.circuit.sx(QT.q(0))\n",
    "QT.circuit.draw(), QT.transpile().draw()"
   ]
  },
  {
   "attachments": {},
   "cell_type": "markdown",
   "metadata": {},
   "source": [
    "$\\sqrt X ^\\dag$"
   ]
  },
  {
   "cell_type": "code",
   "execution_count": 31,
   "metadata": {},
   "outputs": [
    {
     "name": "stderr",
     "output_type": "stream",
     "text": [
      "\u001b[94mprimitives.py:53\u001b[0m > Code consistent with Qiskit\n"
     ]
    },
    {
     "name": "stdout",
     "output_type": "stream",
     "text": [
      "sxdg []\n"
     ]
    },
    {
     "data": {
      "text/plain": [
       "(   ┌──────┐\n",
       " q: ┤ √Xdg ├\n",
       "    └──────┘,\n",
       " global phase: π\n",
       "    ┌───┐┌─────┐┌─────┐┌───┐\n",
       " q: ┤ H ├┤ Tdg ├┤ Tdg ├┤ H ├\n",
       "    └───┘└─────┘└─────┘└───┘)"
      ]
     },
     "execution_count": 31,
     "metadata": {},
     "output_type": "execute_result"
    }
   ],
   "source": [
    "with QiskitTester(circuit=([1, ((\"sxdg\", 0),)])) as QT:\n",
    "    QT.circuit.sxdg(QT.q(0))\n",
    "QT.circuit.draw(), QT.transpile().draw()"
   ]
  },
  {
   "attachments": {},
   "cell_type": "markdown",
   "metadata": {},
   "source": [
    "Consistency checks"
   ]
  },
  {
   "cell_type": "code",
   "execution_count": 21,
   "metadata": {},
   "outputs": [
    {
     "name": "stdout",
     "output_type": "stream",
     "text": [
      "p [3.141592653589793]\n"
     ]
    },
    {
     "data": {
      "text/plain": [
       "(   ┌──────┐\n",
       " q: ┤ P(π) ├\n",
       "    └──────┘,\n",
       "    ┌──────┐\n",
       " q: ┤ P(π) ├\n",
       "    └──────┘,\n",
       "    ┌──────┐\n",
       " q: ┤ P(π) ├\n",
       "    └──────┘,\n",
       "    ┌───┐┌───┐┌───┐┌───┐\n",
       " q: ┤ T ├┤ T ├┤ T ├┤ T ├\n",
       "    └───┘└───┘└───┘└───┘)"
      ]
     },
     "execution_count": 21,
     "metadata": {},
     "output_type": "execute_result"
    }
   ],
   "source": [
    "with QiskitTester(1) as QT:\n",
    "    QT.circuit.append(qk.circuit.library.PhaseGate(np.pi), (0,))\n",
    "transpiled = qk.transpile(QT.circuit, backend)\n",
    "circuit2 = pm.run(transpiled)\n",
    "discretized = skd(circuit2)\n",
    "QT.circuit.draw(), transpiled.draw(), circuit2.draw(), discretized.draw()"
   ]
  },
  {
   "cell_type": "code",
   "execution_count": 32,
   "metadata": {},
   "outputs": [
    {
     "name": "stdout",
     "output_type": "stream",
     "text": [
      "p [2.356194490192345]\n"
     ]
    },
    {
     "data": {
      "text/plain": [
       "(   ┌─────────┐\n",
       " q: ┤ P(3π/4) ├\n",
       "    └─────────┘,\n",
       "    ┌─────────┐\n",
       " q: ┤ P(3π/4) ├\n",
       "    └─────────┘,\n",
       "    ┌─────────┐\n",
       " q: ┤ P(3π/4) ├\n",
       "    └─────────┘,\n",
       "    ┌───┐┌───┐┌───┐\n",
       " q: ┤ T ├┤ T ├┤ T ├\n",
       "    └───┘└───┘└───┘)"
      ]
     },
     "execution_count": 32,
     "metadata": {},
     "output_type": "execute_result"
    }
   ],
   "source": [
    "with QiskitTester(1) as QT:\n",
    "    QT.circuit.append(qk.circuit.library.PhaseGate(3 * np.pi / 4), (0,))\n",
    "transpiled = qk.transpile(QT.circuit, backend)\n",
    "circuit2 = pm.run(transpiled)\n",
    "discretized = skd(circuit2)\n",
    "QT.circuit.draw(), transpiled.draw(), circuit2.draw(), discretized.draw()"
   ]
  },
  {
   "cell_type": "code",
   "execution_count": null,
   "metadata": {},
   "outputs": [],
   "source": [
    "with QiskitTester(1) as QT:\n",
    "    QT.circuit.tdg(0)\n",
    "    QT.circuit.tdg(0)\n",
    "QT.circuit = pm.run(QT.circuit)\n",
    "transpiled = qk.transpile(QT.circuit, backend, basis_gates=basis_gates)\n",
    "discretized = skd(transpiled)\n",
    "QT.circuit.draw(), transpiled.draw(), discretized.draw()"
   ]
  },
  {
   "cell_type": "code",
   "execution_count": null,
   "metadata": {},
   "outputs": [],
   "source": [
    "with QiskitTester(1) as QT:\n",
    "    QT.circuit.append(qk.circuit.library.PhaseGate(3 * np.pi / 2), (0,))\n",
    "transpiled = qk.transpile(QT.circuit, backend)\n",
    "circuit2 = pm.run(transpiled)\n",
    "discretized = skd(circuit2)\n",
    "QT.circuit.draw(), transpiled.draw(), circuit2.draw(), discretized.draw()"
   ]
  },
  {
   "cell_type": "code",
   "execution_count": null,
   "metadata": {},
   "outputs": [],
   "source": [
    "with QiskitTester(1) as QT:\n",
    "    QT.circuit.append(qk.circuit.library.PhaseGate(5 * np.pi / 2), (0,))\n",
    "transpiled = qk.transpile(QT.circuit, backend)\n",
    "circuit2 = pm.run(transpiled)\n",
    "discretized = skd(circuit2)\n",
    "QT.circuit.draw(), transpiled.draw(), circuit2.draw(), discretized.draw()"
   ]
  },
  {
   "cell_type": "code",
   "execution_count": null,
   "metadata": {},
   "outputs": [],
   "source": [
    "# (just as a test)\n",
    "# we should be able to transpile this one\n",
    "with QiskitTester(1) as QT:\n",
    "    QT.circuit.p(np.pi / 8, 0)\n",
    "    QT.circuit.p(np.pi / 8, 0)\n",
    "transpiled = qk.transpile(QT.circuit, backend)\n",
    "circuit2 = pm.run(transpiled)\n",
    "discretized = skd(circuit2)\n",
    "QT.circuit.draw(), transpiled.draw(), discretized.draw()"
   ]
  },
  {
   "cell_type": "code",
   "execution_count": 37,
   "metadata": {},
   "outputs": [
    {
     "name": "stdout",
     "output_type": "stream",
     "text": [
      "u1 [0.7853981633974483]\n"
     ]
    },
    {
     "data": {
      "text/plain": [
       "(   ┌────────┐┌────────┐\n",
       " q: ┤ P(π/8) ├┤ P(π/8) ├\n",
       "    └────────┘└────────┘,\n",
       "    ┌─────────┐\n",
       " q: ┤ U1(π/4) ├\n",
       "    └─────────┘,\n",
       "    ┌───┐\n",
       " q: ┤ T ├\n",
       "    └───┘)"
      ]
     },
     "execution_count": 37,
     "metadata": {},
     "output_type": "execute_result"
    }
   ],
   "source": [
    "# we should be able to transpile this one\n",
    "with QiskitTester(1) as QT:\n",
    "    QT.circuit.p(np.pi / 8, 0)\n",
    "    QT.circuit.p(np.pi / 8, 0)\n",
    "transpiled = qk.transpile(QT.circuit, backend)\n",
    "circuit2 = pm.run(transpiled)\n",
    "discretized = skd(circuit2)\n",
    "QT.circuit.draw(), transpiled.draw(), discretized.draw()"
   ]
  },
  {
   "attachments": {},
   "cell_type": "markdown",
   "metadata": {},
   "source": [
    "## 2-qubit gates"
   ]
  },
  {
   "attachments": {},
   "cell_type": "markdown",
   "metadata": {},
   "source": [
    "Controlled-Y"
   ]
  },
  {
   "cell_type": "code",
   "execution_count": 33,
   "metadata": {},
   "outputs": [
    {
     "name": "stderr",
     "output_type": "stream",
     "text": [
      "\u001b[94mprimitives.py:53\u001b[0m > Code consistent with Qiskit\n"
     ]
    },
    {
     "name": "stdout",
     "output_type": "stream",
     "text": [
      "cy []\n"
     ]
    },
    {
     "data": {
      "text/plain": [
       "(     ┌───┐\n",
       " q_0: ┤ Y ├\n",
       "      └─┬─┘\n",
       " q_1: ──■──\n",
       "           ,\n",
       "      ┌─────┐┌─────┐┌───┐┌───┐┌───┐\n",
       " q_0: ┤ Tdg ├┤ Tdg ├┤ X ├┤ T ├┤ T ├\n",
       "      └─────┘└─────┘└─┬─┘└───┘└───┘\n",
       " q_1: ────────────────■────────────\n",
       "                                   )"
      ]
     },
     "execution_count": 33,
     "metadata": {},
     "output_type": "execute_result"
    }
   ],
   "source": [
    "with QiskitTester(circuit=([2, ((\"cy\", 0, 1),)])) as QT:\n",
    "    QT.circuit.cy(QT.q(0), QT.q(1))\n",
    "QT.circuit.draw(), QT.transpile().draw()"
   ]
  },
  {
   "attachments": {},
   "cell_type": "markdown",
   "metadata": {},
   "source": [
    "CZ"
   ]
  },
  {
   "cell_type": "code",
   "execution_count": 34,
   "metadata": {},
   "outputs": [
    {
     "name": "stderr",
     "output_type": "stream",
     "text": [
      "\u001b[94mprimitives.py:53\u001b[0m > Code consistent with Qiskit\n"
     ]
    },
    {
     "name": "stdout",
     "output_type": "stream",
     "text": [
      "cz []\n"
     ]
    },
    {
     "data": {
      "text/plain": [
       "(        \n",
       " q_0: ─■─\n",
       "       │ \n",
       " q_1: ─■─\n",
       "         ,\n",
       "      ┌───┐┌───┐┌───┐\n",
       " q_0: ┤ H ├┤ X ├┤ H ├\n",
       "      └───┘└─┬─┘└───┘\n",
       " q_1: ───────■───────\n",
       "                     )"
      ]
     },
     "execution_count": 34,
     "metadata": {},
     "output_type": "execute_result"
    }
   ],
   "source": [
    "with QiskitTester(circuit=([2, ((\"cz\", 0, 1),)])) as QT:\n",
    "    QT.circuit.cz(QT.q(0), QT.q(1))\n",
    "QT.circuit.draw(), QT.transpile().draw()"
   ]
  },
  {
   "attachments": {},
   "cell_type": "markdown",
   "metadata": {},
   "source": [
    "SWAP"
   ]
  },
  {
   "cell_type": "code",
   "execution_count": 35,
   "metadata": {},
   "outputs": [
    {
     "name": "stderr",
     "output_type": "stream",
     "text": [
      "\u001b[94mprimitives.py:53\u001b[0m > Code consistent with Qiskit\n"
     ]
    },
    {
     "name": "stdout",
     "output_type": "stream",
     "text": [
      "swap []\n"
     ]
    },
    {
     "data": {
      "text/plain": [
       "(        \n",
       " q_0: ─X─\n",
       "       │ \n",
       " q_1: ─X─\n",
       "         ,\n",
       "      ┌───┐     ┌───┐\n",
       " q_0: ┤ X ├──■──┤ X ├\n",
       "      └─┬─┘┌─┴─┐└─┬─┘\n",
       " q_1: ──■──┤ X ├──■──\n",
       "           └───┘     )"
      ]
     },
     "execution_count": 35,
     "metadata": {},
     "output_type": "execute_result"
    }
   ],
   "source": [
    "with QiskitTester(circuit=([2, ((\"swap\", 0, 1),)])) as QT:\n",
    "    QT.circuit.swap(QT.q(0), QT.q(1))\n",
    "QT.circuit.draw(), QT.transpile().draw()"
   ]
  },
  {
   "attachments": {},
   "cell_type": "markdown",
   "metadata": {},
   "source": [
    "iSWAP"
   ]
  },
  {
   "cell_type": "code",
   "execution_count": 36,
   "metadata": {},
   "outputs": [
    {
     "name": "stderr",
     "output_type": "stream",
     "text": [
      "\u001b[94mprimitives.py:53\u001b[0m > Code consistent with Qiskit\n"
     ]
    },
    {
     "name": "stdout",
     "output_type": "stream",
     "text": [
      "s []\n",
      "u2 [0.0, -1.5707963267948966]\n",
      "cx []\n",
      "cx []\n",
      "h []\n"
     ]
    },
    {
     "data": {
      "text/plain": [
       "(     ┌────────┐\n",
       " q_0: ┤1       ├\n",
       "      │  Iswap │\n",
       " q_1: ┤0       ├\n",
       "      └────────┘,\n",
       " global phase: π\n",
       "      ┌───┐┌───┐     ┌───┐     ┌───┐\n",
       " q_0: ┤ T ├┤ T ├─────┤ X ├──■──┤ H ├\n",
       "      ├───┤├───┤┌───┐└─┬─┘┌─┴─┐└───┘\n",
       " q_1: ┤ T ├┤ T ├┤ H ├──■──┤ X ├─────\n",
       "      └───┘└───┘└───┘     └───┘     )"
      ]
     },
     "execution_count": 36,
     "metadata": {},
     "output_type": "execute_result"
    }
   ],
   "source": [
    "with QiskitTester(circuit=([2, ((\"iswap\", 0, 1),)])) as QT:\n",
    "    QT.circuit.iswap(QT.q(0), QT.q(1))\n",
    "QT.circuit.draw(), QT.transpile().draw()"
   ]
  },
  {
   "attachments": {},
   "cell_type": "markdown",
   "metadata": {},
   "source": [
    "Controlled S"
   ]
  },
  {
   "cell_type": "code",
   "execution_count": 37,
   "metadata": {},
   "outputs": [
    {
     "name": "stderr",
     "output_type": "stream",
     "text": [
      "\u001b[94mprimitives.py:53\u001b[0m > Code consistent with Qiskit\n"
     ]
    },
    {
     "name": "stdout",
     "output_type": "stream",
     "text": [
      "cp [1.5707963267948966]\n"
     ]
    },
    {
     "data": {
      "text/plain": [
       "(          \n",
       " q_0: ──■──\n",
       "      ┌─┴─┐\n",
       " q_1: ┤ S ├\n",
       "      └───┘,\n",
       "      ┌───┐                      \n",
       " q_0: ┤ T ├──■───────────■───────\n",
       "      └───┘┌─┴─┐┌─────┐┌─┴─┐┌───┐\n",
       " q_1: ─────┤ X ├┤ Tdg ├┤ X ├┤ T ├\n",
       "           └───┘└─────┘└───┘└───┘)"
      ]
     },
     "execution_count": 37,
     "metadata": {},
     "output_type": "execute_result"
    }
   ],
   "source": [
    "with QiskitTester(circuit=([2, ((\"cs\", 0, 1),)])) as QT:\n",
    "    QT.circuit.append(qk.circuit.library.SGate().control(1), (0, 1))\n",
    "QT.circuit.draw(), QT.transpile().draw()"
   ]
  },
  {
   "cell_type": "code",
   "execution_count": 13,
   "metadata": {},
   "outputs": [
    {
     "data": {
      "text/plain": [
       "array([[1.+0.j, 0.+0.j, 0.+0.j, 0.+0.j],\n",
       "       [0.+0.j, 1.+0.j, 0.+0.j, 0.+0.j],\n",
       "       [0.+0.j, 0.+0.j, 1.+0.j, 0.+0.j],\n",
       "       [0.+0.j, 0.+0.j, 0.+0.j, 0.+1.j]])"
      ]
     },
     "execution_count": 13,
     "metadata": {},
     "output_type": "execute_result"
    }
   ],
   "source": [
    "np.round(QT.result)\n"
   ]
  },
  {
   "attachments": {},
   "cell_type": "markdown",
   "metadata": {},
   "source": [
    "DCX\n",
    "(Double CNOT)"
   ]
  },
  {
   "cell_type": "code",
   "execution_count": 23,
   "metadata": {},
   "outputs": [
    {
     "name": "stdout",
     "output_type": "stream",
     "text": [
      "cx []\n",
      "cx []\n"
     ]
    },
    {
     "data": {
      "text/plain": [
       "(     ┌──────┐\n",
       " q_0: ┤1     ├\n",
       "      │  Dcx │\n",
       " q_1: ┤0     ├\n",
       "      └──────┘,\n",
       "      ┌───┐     \n",
       " q_0: ┤ X ├──■──\n",
       "      └─┬─┘┌─┴─┐\n",
       " q_1: ──■──┤ X ├\n",
       "           └───┘)"
      ]
     },
     "execution_count": 23,
     "metadata": {},
     "output_type": "execute_result"
    }
   ],
   "source": [
    "with QiskitTester(2) as QT:\n",
    "    QT.circuit.dcx(QT.q(0), QT.q(1))\n",
    "QT.circuit.draw(), QT.transpile().draw()"
   ]
  },
  {
   "attachments": {},
   "cell_type": "markdown",
   "metadata": {},
   "source": [
    "CH\n",
    "(Controlled Hadamard)"
   ]
  },
  {
   "cell_type": "code",
   "execution_count": 44,
   "metadata": {},
   "outputs": [
    {
     "name": "stderr",
     "output_type": "stream",
     "text": [
      "\u001b[94mprimitives.py:53\u001b[0m > Code consistent with Qiskit\n"
     ]
    },
    {
     "name": "stdout",
     "output_type": "stream",
     "text": [
      "u2 [0.7853981633974483, -1.5707963267948966]\n",
      "cx []\n",
      "u2 [-1.5707963267948966, 2.356194490192345]\n"
     ]
    },
    {
     "data": {
      "text/plain": [
       "(     ┌───┐\n",
       " q_0: ┤ H ├\n",
       "      └─┬─┘\n",
       " q_1: ──■──\n",
       "           ,\n",
       " global phase: π\n",
       "      ┌───┐┌───┐┌───┐┌───┐┌───┐┌─────┐┌───┐┌─────┐┌─────┐\n",
       " q_0: ┤ T ├┤ T ├┤ H ├┤ T ├┤ X ├┤ Tdg ├┤ H ├┤ Tdg ├┤ Tdg ├\n",
       "      └───┘└───┘└───┘└───┘└─┬─┘└─────┘└───┘└─────┘└─────┘\n",
       " q_1: ──────────────────────■────────────────────────────\n",
       "                                                         )"
      ]
     },
     "execution_count": 44,
     "metadata": {},
     "output_type": "execute_result"
    }
   ],
   "source": [
    "with QiskitTester(circuit=([2, ((\"ch\", 0, 1),)])) as QT:\n",
    "    QT.circuit.ch(QT.q(0), QT.q(1))\n",
    "QT.circuit.draw(), QT.transpile().draw()"
   ]
  },
  {
   "attachments": {},
   "cell_type": "markdown",
   "metadata": {},
   "source": [
    "### Consistency checks"
   ]
  },
  {
   "cell_type": "code",
   "execution_count": 6,
   "metadata": {},
   "outputs": [
    {
     "name": "stdout",
     "output_type": "stream",
     "text": [
      "Target\n",
      "Number of qubits: 0\n",
      "Instructions:\n",
      "\n"
     ]
    }
   ],
   "source": [
    "print(qk.transpiler.Target())"
   ]
  },
  {
   "cell_type": "code",
   "execution_count": 9,
   "metadata": {},
   "outputs": [
    {
     "data": {
      "text/html": [
       "<pre style=\"word-wrap: normal;white-space: pre;background: #fff0;line-height: 1.1;font-family: &quot;Courier New&quot;,Courier,monospace\">   ┌───┐\n",
       "q: ┤ S ├\n",
       "   └───┘</pre>"
      ],
      "text/plain": [
       "   ┌───┐\n",
       "q: ┤ S ├\n",
       "   └───┘"
      ]
     },
     "execution_count": 9,
     "metadata": {},
     "output_type": "execute_result"
    }
   ],
   "source": [
    "QT.circuit.draw()"
   ]
  },
  {
   "cell_type": "code",
   "execution_count": 10,
   "metadata": {},
   "outputs": [
    {
     "data": {
      "text/html": [
       "<pre style=\"word-wrap: normal;white-space: pre;background: #fff0;line-height: 1.1;font-family: &quot;Courier New&quot;,Courier,monospace\">   ┌───┐\n",
       "q: ┤ S ├\n",
       "   └───┘</pre>"
      ],
      "text/plain": [
       "   ┌───┐\n",
       "q: ┤ S ├\n",
       "   └───┘"
      ]
     },
     "execution_count": 10,
     "metadata": {},
     "output_type": "execute_result"
    }
   ],
   "source": [
    "qk.transpile(QT.circuit).draw()"
   ]
  },
  {
   "cell_type": "code",
   "execution_count": 11,
   "metadata": {},
   "outputs": [
    {
     "ename": "NameError",
     "evalue": "name 'transpiled' is not defined",
     "output_type": "error",
     "traceback": [
      "\u001b[0;31m---------------------------------------------------------------------------\u001b[0m",
      "\u001b[0;31mNameError\u001b[0m                                 Traceback (most recent call last)",
      "Cell \u001b[0;32mIn[11], line 1\u001b[0m\n\u001b[0;32m----> 1\u001b[0m circuit2 \u001b[38;5;241m=\u001b[39m pm\u001b[38;5;241m.\u001b[39mrun(\u001b[43mtranspiled\u001b[49m)\n\u001b[1;32m      2\u001b[0m circuit2\u001b[38;5;241m.\u001b[39mdraw()\n",
      "\u001b[0;31mNameError\u001b[0m: name 'transpiled' is not defined"
     ]
    }
   ],
   "source": [
    "circuit2 = pm.run(transpiled)\n",
    "circuit2.draw()"
   ]
  },
  {
   "cell_type": "code",
   "execution_count": 15,
   "metadata": {},
   "outputs": [
    {
     "data": {
      "text/html": [
       "<pre style=\"word-wrap: normal;white-space: pre;background: #fff0;line-height: 1.1;font-family: &quot;Courier New&quot;,Courier,monospace\">          ┌───┐┌─────┐┌───┐┌───┐\n",
       "q_0: ─────┤ X ├┤ Tdg ├┤ X ├┤ T ├\n",
       "     ┌───┐└─┬─┘└─────┘└─┬─┘└───┘\n",
       "q_1: ┤ T ├──■───────────■───────\n",
       "     └───┘                      </pre>"
      ],
      "text/plain": [
       "          ┌───┐┌─────┐┌───┐┌───┐\n",
       "q_0: ─────┤ X ├┤ Tdg ├┤ X ├┤ T ├\n",
       "     ┌───┐└─┬─┘└─────┘└─┬─┘└───┘\n",
       "q_1: ┤ T ├──■───────────■───────\n",
       "     └───┘                      "
      ]
     },
     "execution_count": 15,
     "metadata": {},
     "output_type": "execute_result"
    }
   ],
   "source": [
    "discretized = skd(circuit2)\n",
    "discretized.draw()"
   ]
  },
  {
   "cell_type": "code",
   "execution_count": 27,
   "metadata": {},
   "outputs": [
    {
     "name": "stdout",
     "output_type": "stream",
     "text": [
      "cp [0.7853981633974483]\n"
     ]
    },
    {
     "data": {
      "text/plain": [
       "(              \n",
       " q_0: ─■───────\n",
       "       │P(π/4) \n",
       " q_1: ─■───────\n",
       "               ,\n",
       "               \n",
       " q_0: ─■───────\n",
       "       │P(π/4) \n",
       " q_1: ─■───────\n",
       "               ,\n",
       "      ┌────────┐                               \n",
       " q_0: ┤ P(π/8) ├──■───────────────■────────────\n",
       "      └────────┘┌─┴─┐┌─────────┐┌─┴─┐┌────────┐\n",
       " q_1: ──────────┤ X ├┤ P(-π/8) ├┤ X ├┤ P(π/8) ├\n",
       "                └───┘└─────────┘└───┘└────────┘,\n",
       " global phase: 3.7306\n",
       "      ┌───┐┌─────┐┌───┐┌─────┐┌───┐┌─────┐┌───┐┌─────┐┌───┐┌─────┐┌─────┐┌───┐»\n",
       " q_0: ┤ H ├┤ Tdg ├┤ H ├┤ Tdg ├┤ H ├┤ Tdg ├┤ H ├┤ Tdg ├┤ H ├┤ Tdg ├┤ Tdg ├┤ H ├»\n",
       "      └───┘└─────┘└───┘└─────┘└───┘└─────┘└───┘└─────┘└───┘└─────┘└─────┘└───┘»\n",
       " q_1: ────────────────────────────────────────────────────────────────────────»\n",
       "                                                                              »\n",
       " «     ┌───┐┌───┐┌───┐┌───┐┌─────┐┌───┐┌─────┐┌───┐┌─────┐┌───┐┌─────┐┌───┐»\n",
       " «q_0: ┤ T ├┤ H ├┤ T ├┤ H ├┤ Tdg ├┤ H ├┤ Tdg ├┤ H ├┤ Tdg ├┤ H ├┤ Tdg ├┤ H ├»\n",
       " «     └───┘└───┘└───┘└───┘└─────┘└───┘└─────┘└───┘└─────┘└───┘└─────┘└───┘»\n",
       " «q_1: ────────────────────────────────────────────────────────────────────»\n",
       " «                                                                         »\n",
       " «     ┌─────┐┌─────┐┌───┐┌─────┐┌───┐┌───┐┌───┐┌───┐┌───┐┌───┐┌───┐┌───┐┌───┐»\n",
       " «q_0: ┤ Tdg ├┤ Tdg ├┤ H ├┤ Tdg ├┤ H ├┤ T ├┤ H ├┤ T ├┤ H ├┤ T ├┤ H ├┤ T ├┤ T ├»\n",
       " «     └─────┘└─────┘└───┘└─────┘└───┘└───┘└───┘└───┘└───┘└───┘└───┘└───┘└───┘»\n",
       " «q_1: ───────────────────────────────────────────────────────────────────────»\n",
       " «                                                                            »\n",
       " «     ┌───┐┌───┐┌───┐┌─────┐┌───┐┌─────┐┌───┐┌─────┐┌───┐┌───┐┌───┐┌───┐┌───┐»\n",
       " «q_0: ┤ H ├┤ T ├┤ H ├┤ Tdg ├┤ H ├┤ Tdg ├┤ H ├┤ Tdg ├┤ H ├┤ T ├┤ H ├┤ T ├┤ T ├»\n",
       " «     └───┘└───┘└───┘└─────┘└───┘└─────┘└───┘└─────┘└───┘└───┘└───┘└───┘└───┘»\n",
       " «q_1: ───────────────────────────────────────────────────────────────────────»\n",
       " «                                                                            »\n",
       " «     ┌───┐┌───┐┌───┐┌───┐┌───┐┌─────┐┌───┐┌─────┐┌───┐┌───┐┌───┐┌───┐┌───┐»\n",
       " «q_0: ┤ H ├┤ T ├┤ H ├┤ T ├┤ H ├┤ Tdg ├┤ H ├┤ Tdg ├┤ H ├┤ T ├┤ H ├┤ T ├┤ H ├»\n",
       " «     └───┘└───┘└───┘└───┘└───┘└─────┘└───┘└─────┘└───┘└───┘└───┘└───┘└───┘»\n",
       " «q_1: ─────────────────────────────────────────────────────────────────────»\n",
       " «                                                                          »\n",
       " «     ┌───┐┌───┐┌───┐┌───┐┌───┐┌───┐┌───┐┌───┐┌───┐┌───┐┌─────┐┌───┐┌─────┐»\n",
       " «q_0: ┤ T ├┤ H ├┤ T ├┤ H ├┤ T ├┤ H ├┤ T ├┤ H ├┤ T ├┤ H ├┤ Tdg ├┤ H ├┤ Tdg ├»\n",
       " «     └───┘└───┘└───┘└───┘└───┘└───┘└───┘└───┘└───┘└───┘└─────┘└───┘└─────┘»\n",
       " «q_1: ─────────────────────────────────────────────────────────────────────»\n",
       " «                                                                          »\n",
       " «     ┌─────┐┌───┐┌─────┐┌───┐┌─────┐┌───┐┌─────┐┌───┐┌─────┐┌───┐┌───┐┌───┐»\n",
       " «q_0: ┤ Tdg ├┤ H ├┤ Tdg ├┤ H ├┤ Tdg ├┤ H ├┤ Tdg ├┤ H ├┤ Tdg ├┤ H ├┤ T ├┤ H ├»\n",
       " «     └─────┘└───┘└─────┘└───┘└─────┘└───┘└─────┘└───┘└─────┘└───┘└───┘└───┘»\n",
       " «q_1: ──────────────────────────────────────────────────────────────────────»\n",
       " «                                                                           »\n",
       " «     ┌───┐┌───┐┌─────┐┌───┐┌─────┐┌───┐┌─────┐┌───┐┌─────┐┌───┐┌─────┐┌───┐»\n",
       " «q_0: ┤ T ├┤ H ├┤ Tdg ├┤ H ├┤ Tdg ├┤ H ├┤ Tdg ├┤ H ├┤ Tdg ├┤ H ├┤ Tdg ├┤ H ├»\n",
       " «     └───┘└───┘└─────┘└───┘└─────┘└───┘└─────┘└───┘└─────┘└───┘└─────┘└───┘»\n",
       " «q_1: ──────────────────────────────────────────────────────────────────────»\n",
       " «                                                                           »\n",
       " «     ┌─────┐┌───┐┌─────┐┌───┐┌───┐┌───┐┌───┐┌───┐┌─────┐┌───┐┌─────┐┌───┐»\n",
       " «q_0: ┤ Tdg ├┤ H ├┤ Tdg ├┤ H ├┤ T ├┤ H ├┤ T ├┤ H ├┤ Tdg ├┤ H ├┤ Tdg ├┤ H ├»\n",
       " «     └─────┘└───┘└─────┘└───┘└───┘└───┘└───┘└───┘└─────┘└───┘└─────┘└───┘»\n",
       " «q_1: ────────────────────────────────────────────────────────────────────»\n",
       " «                                                                         »\n",
       " «     ┌─────┐┌─────┐┌───┐┌─────┐┌───┐┌───┐┌───┐┌───┐┌───┐┌───┐┌───┐┌─────┐┌───┐»\n",
       " «q_0: ┤ Tdg ├┤ Tdg ├┤ H ├┤ Tdg ├┤ H ├┤ T ├┤ H ├┤ T ├┤ H ├┤ T ├┤ H ├┤ Tdg ├┤ H ├»\n",
       " «     └─────┘└─────┘└───┘└─────┘└───┘└───┘└───┘└───┘└───┘└───┘└───┘└─────┘└───┘»\n",
       " «q_1: ─────────────────────────────────────────────────────────────────────────»\n",
       " «                                                                              »\n",
       " «     ┌─────┐┌───┐┌───┐┌───┐┌───┐┌───┐┌───┐┌───┐┌───┐┌───┐┌───┐┌───┐┌───┐┌───┐»\n",
       " «q_0: ┤ Tdg ├┤ H ├┤ T ├┤ H ├┤ T ├┤ H ├┤ T ├┤ H ├┤ T ├┤ H ├┤ T ├┤ H ├┤ T ├┤ H ├»\n",
       " «     └─────┘└───┘└───┘└───┘└───┘└───┘└───┘└───┘└───┘└───┘└───┘└───┘└───┘└───┘»\n",
       " «q_1: ────────────────────────────────────────────────────────────────────────»\n",
       " «                                                                             »\n",
       " «     ┌───┐┌───┐┌───┐┌───┐┌───┐┌───┐┌─────┐┌───┐┌─────┐┌───┐┌───┐┌───┐┌───┐»\n",
       " «q_0: ┤ T ├┤ H ├┤ T ├┤ H ├┤ T ├┤ H ├┤ Tdg ├┤ H ├┤ Tdg ├┤ H ├┤ T ├┤ H ├┤ T ├»\n",
       " «     └───┘└───┘└───┘└───┘└───┘└───┘└─────┘└───┘└─────┘└───┘└───┘└───┘└───┘»\n",
       " «q_1: ─────────────────────────────────────────────────────────────────────»\n",
       " «                                                                          »\n",
       " «     ┌───┐┌───┐┌───┐┌───┐┌───┐┌───┐┌───┐┌───┐┌───┐┌───┐┌─────┐┌───┐┌─────┐»\n",
       " «q_0: ┤ H ├┤ T ├┤ H ├┤ T ├┤ H ├┤ T ├┤ T ├┤ H ├┤ T ├┤ H ├┤ Tdg ├┤ H ├┤ Tdg ├»\n",
       " «     └───┘└───┘└───┘└───┘└───┘└───┘└───┘└───┘└───┘└───┘└─────┘└───┘└─────┘»\n",
       " «q_1: ─────────────────────────────────────────────────────────────────────»\n",
       " «                                                                          »\n",
       " «     ┌───┐┌─────┐┌───┐┌─────┐┌───┐┌─────┐┌───┐┌─────┐┌───┐┌─────┐┌───┐┌─────┐»\n",
       " «q_0: ┤ H ├┤ Tdg ├┤ H ├┤ Tdg ├┤ H ├┤ Tdg ├┤ H ├┤ Tdg ├┤ H ├┤ Tdg ├┤ H ├┤ Tdg ├»\n",
       " «     └───┘└─────┘└───┘└─────┘└───┘└─────┘└───┘└─────┘└───┘└─────┘└───┘└─────┘»\n",
       " «q_1: ────────────────────────────────────────────────────────────────────────»\n",
       " «                                                                             »\n",
       " «     ┌───┐┌─────┐┌───┐┌─────┐┌─────┐┌───┐┌─────┐┌───┐┌───┐┌───┐┌───┐┌───┐┌───┐»\n",
       " «q_0: ┤ H ├┤ Tdg ├┤ H ├┤ Tdg ├┤ Tdg ├┤ H ├┤ Tdg ├┤ H ├┤ T ├┤ H ├┤ T ├┤ H ├┤ T ├»\n",
       " «     └───┘└─────┘└───┘└─────┘└─────┘└───┘└─────┘└───┘└───┘└───┘└───┘└───┘└───┘»\n",
       " «q_1: ─────────────────────────────────────────────────────────────────────────»\n",
       " «                                                                              »\n",
       " «     ┌───┐┌───┐┌───┐┌───┐┌───┐┌───┐┌───┐┌───┐┌─────┐┌───┐┌─────┐┌───┐┌─────┐»\n",
       " «q_0: ┤ H ├┤ T ├┤ H ├┤ T ├┤ T ├┤ H ├┤ T ├┤ H ├┤ Tdg ├┤ H ├┤ Tdg ├┤ H ├┤ Tdg ├»\n",
       " «     └───┘└───┘└───┘└───┘└───┘└───┘└───┘└───┘└─────┘└───┘└─────┘└───┘└─────┘»\n",
       " «q_1: ───────────────────────────────────────────────────────────────────────»\n",
       " «                                                                            »\n",
       " «     ┌───┐┌─────┐┌───┐┌─────┐┌───┐┌───┐┌───┐┌───┐┌───┐┌─────┐┌───┐┌─────┐┌───┐»\n",
       " «q_0: ┤ H ├┤ Tdg ├┤ H ├┤ Tdg ├┤ H ├┤ T ├┤ H ├┤ T ├┤ H ├┤ Tdg ├┤ H ├┤ Tdg ├┤ H ├»\n",
       " «     └───┘└─────┘└───┘└─────┘└───┘└───┘└───┘└───┘└───┘└─────┘└───┘└─────┘└───┘»\n",
       " «q_1: ─────────────────────────────────────────────────────────────────────────»\n",
       " «                                                                              »\n",
       " «     ┌─────┐┌───┐┌─────┐┌───┐┌───┐┌───┐┌───┐┌───┐┌───┐┌───┐┌─────┐┌───┐┌─────┐»\n",
       " «q_0: ┤ Tdg ├┤ H ├┤ Tdg ├┤ H ├┤ T ├┤ H ├┤ T ├┤ H ├┤ T ├┤ H ├┤ Tdg ├┤ H ├┤ Tdg ├»\n",
       " «     └─────┘└───┘└─────┘└───┘└───┘└───┘└───┘└───┘└───┘└───┘└─────┘└───┘└─────┘»\n",
       " «q_1: ─────────────────────────────────────────────────────────────────────────»\n",
       " «                                                                              »\n",
       " «     ┌─────┐┌───┐┌───┐┌───┐┌───┐┌───┐┌───┐┌───┐┌───┐┌───┐┌───┐┌───┐┌───┐┌───┐»\n",
       " «q_0: ┤ Tdg ├┤ H ├┤ T ├┤ H ├┤ T ├┤ H ├┤ T ├┤ H ├┤ T ├┤ H ├┤ T ├┤ T ├┤ T ├┤ H ├»\n",
       " «     └─────┘└───┘└───┘└───┘└───┘└───┘└───┘└───┘└───┘└───┘└───┘└───┘└───┘└───┘»\n",
       " «q_1: ────────────────────────────────────────────────────────────────────────»\n",
       " «                                                                             »\n",
       " «     ┌───┐┌───┐┌─────┐┌───┐┌─────┐┌───┐┌─────┐┌─────┐┌───┐┌───┐┌───┐┌───┐┌───┐»\n",
       " «q_0: ┤ T ├┤ H ├┤ Tdg ├┤ H ├┤ Tdg ├┤ H ├┤ Tdg ├┤ Tdg ├┤ H ├┤ T ├┤ H ├┤ T ├┤ H ├»\n",
       " «     └───┘└───┘└─────┘└───┘└─────┘└───┘└─────┘└─────┘└───┘└───┘└───┘└───┘└───┘»\n",
       " «q_1: ─────────────────────────────────────────────────────────────────────────»\n",
       " «                                                                              »\n",
       " «     ┌─────┐┌───┐┌─────┐┌─────┐┌───┐┌─────┐┌───┐┌───┐┌───┐┌───┐┌───┐┌───┐┌───┐»\n",
       " «q_0: ┤ Tdg ├┤ H ├┤ Tdg ├┤ Tdg ├┤ H ├┤ Tdg ├┤ H ├┤ T ├┤ H ├┤ T ├┤ H ├┤ T ├┤ H ├»\n",
       " «     └─────┘└───┘└─────┘└─────┘└───┘└─────┘└───┘└───┘└───┘└───┘└───┘└───┘└───┘»\n",
       " «q_1: ─────────────────────────────────────────────────────────────────────────»\n",
       " «                                                                              »\n",
       " «     ┌───┐┌───┐┌───┐┌───┐┌─────┐┌───┐┌─────┐┌─────┐┌───┐┌─────┐┌───┐┌─────┐»\n",
       " «q_0: ┤ T ├┤ H ├┤ T ├┤ H ├┤ Tdg ├┤ H ├┤ Tdg ├┤ Tdg ├┤ H ├┤ Tdg ├┤ H ├┤ Tdg ├»\n",
       " «     └───┘└───┘└───┘└───┘└─────┘└───┘└─────┘└─────┘└───┘└─────┘└───┘└─────┘»\n",
       " «q_1: ──────────────────────────────────────────────────────────────────────»\n",
       " «                                                                           »\n",
       " «     ┌───┐┌─────┐┌───┐┌─────┐┌───┐┌───┐┌───┐┌───┐┌───┐┌───┐┌───┐┌───┐┌───┐»\n",
       " «q_0: ┤ H ├┤ Tdg ├┤ H ├┤ Tdg ├┤ H ├┤ T ├┤ H ├┤ T ├┤ T ├┤ H ├┤ T ├┤ H ├┤ T ├»\n",
       " «     └───┘└─────┘└───┘└─────┘└───┘└───┘└───┘└───┘└───┘└───┘└───┘└───┘└───┘»\n",
       " «q_1: ─────────────────────────────────────────────────────────────────────»\n",
       " «                                                                          »\n",
       " «     ┌───┐┌───┐┌───┐┌─────┐┌───┐┌─────┐┌───┐┌───┐┌───┐┌───┐┌───┐┌───┐┌───┐»\n",
       " «q_0: ┤ H ├┤ T ├┤ H ├┤ Tdg ├┤ H ├┤ Tdg ├┤ H ├┤ T ├┤ T ├┤ H ├┤ T ├┤ H ├┤ T ├»\n",
       " «     └───┘└───┘└───┘└─────┘└───┘└─────┘└───┘└───┘└───┘└───┘└───┘└───┘└───┘»\n",
       " «q_1: ─────────────────────────────────────────────────────────────────────»\n",
       " «                                                                          »\n",
       " «     ┌───┐┌─────┐┌───┐┌─────┐┌─────┐┌─────┐┌───┐┌─────┐┌───┐┌─────┐┌───┐»\n",
       " «q_0: ┤ H ├┤ Tdg ├┤ H ├┤ Tdg ├┤ Tdg ├┤ Tdg ├┤ H ├┤ Tdg ├┤ H ├┤ Tdg ├┤ H ├»\n",
       " «     └───┘└─────┘└───┘└─────┘└─────┘└─────┘└───┘└─────┘└───┘└─────┘└───┘»\n",
       " «q_1: ───────────────────────────────────────────────────────────────────»\n",
       " «                                                                        »\n",
       " «     ┌─────┐┌───┐┌─────┐┌───┐┌───┐┌───┐┌───┐┌───┐┌───┐┌─────┐┌───┐┌─────┐┌───┐»\n",
       " «q_0: ┤ Tdg ├┤ H ├┤ Tdg ├┤ H ├┤ T ├┤ T ├┤ H ├┤ T ├┤ H ├┤ Tdg ├┤ H ├┤ Tdg ├┤ H ├»\n",
       " «     └─────┘└───┘└─────┘└───┘└───┘└───┘└───┘└───┘└───┘└─────┘└───┘└─────┘└───┘»\n",
       " «q_1: ─────────────────────────────────────────────────────────────────────────»\n",
       " «                                                                              »\n",
       " «     ┌─────┐┌───┐┌───┐┌───┐┌───┐┌───┐┌───┐┌───┐┌───┐┌───┐┌───┐┌───┐┌───┐┌───┐»\n",
       " «q_0: ┤ Tdg ├┤ H ├┤ T ├┤ H ├┤ T ├┤ H ├┤ T ├┤ H ├┤ T ├┤ H ├┤ T ├┤ T ├┤ H ├┤ T ├»\n",
       " «     └─────┘└───┘└───┘└───┘└───┘└───┘└───┘└───┘└───┘└───┘└───┘└───┘└───┘└───┘»\n",
       " «q_1: ────────────────────────────────────────────────────────────────────────»\n",
       " «                                                                             »\n",
       " «     ┌───┐┌───┐┌───┐┌─────┐┌───┐┌─────┐┌─────┐┌───┐┌─────┐┌───┐┌─────┐┌───┐»\n",
       " «q_0: ┤ H ├┤ T ├┤ H ├┤ Tdg ├┤ H ├┤ Tdg ├┤ Tdg ├┤ H ├┤ Tdg ├┤ H ├┤ Tdg ├┤ H ├»\n",
       " «     └───┘└───┘└───┘└─────┘└───┘└─────┘└─────┘└───┘└─────┘└───┘└─────┘└───┘»\n",
       " «q_1: ──────────────────────────────────────────────────────────────────────»\n",
       " «                                                                           »\n",
       " «     ┌───┐┌───┐┌───┐┌───┐┌───┐┌───┐┌───┐┌───┐┌─────┐┌───┐┌─────┐┌───┐┌─────┐»\n",
       " «q_0: ┤ T ├┤ H ├┤ T ├┤ T ├┤ T ├┤ H ├┤ T ├┤ H ├┤ Tdg ├┤ H ├┤ Tdg ├┤ H ├┤ Tdg ├»\n",
       " «     └───┘└───┘└───┘└───┘└───┘└───┘└───┘└───┘└─────┘└───┘└─────┘└───┘└─────┘»\n",
       " «q_1: ───────────────────────────────────────────────────────────────────────»\n",
       " «                                                                            »\n",
       " «     ┌─────┐┌───┐┌─────┐┌───┐┌───┐┌───┐┌───┐┌───┐┌─────┐┌───┐┌─────┐┌───┐»\n",
       " «q_0: ┤ Tdg ├┤ H ├┤ Tdg ├┤ H ├┤ T ├┤ H ├┤ T ├┤ H ├┤ Tdg ├┤ H ├┤ Tdg ├┤ H ├»\n",
       " «     └─────┘└───┘└─────┘└───┘└───┘└───┘└───┘└───┘└─────┘└───┘└─────┘└───┘»\n",
       " «q_1: ────────────────────────────────────────────────────────────────────»\n",
       " «                                                                         »\n",
       " «     ┌─────┐┌───┐┌─────┐┌───┐┌─────┐┌─────┐┌───┐┌─────┐┌───┐┌───┐┌───┐┌───┐»\n",
       " «q_0: ┤ Tdg ├┤ H ├┤ Tdg ├┤ H ├┤ Tdg ├┤ Tdg ├┤ H ├┤ Tdg ├┤ H ├┤ T ├┤ H ├┤ T ├»\n",
       " «     └─────┘└───┘└─────┘└───┘└─────┘└─────┘└───┘└─────┘└───┘└───┘└───┘└───┘»\n",
       " «q_1: ──────────────────────────────────────────────────────────────────────»\n",
       " «                                                                           »\n",
       " «     ┌───┐┌───┐┌───┐┌───┐┌───┐┌───┐┌───┐┌───┐┌───┐┌───┐┌─────┐┌───┐┌─────┐»\n",
       " «q_0: ┤ H ├┤ T ├┤ H ├┤ T ├┤ H ├┤ T ├┤ T ├┤ H ├┤ T ├┤ H ├┤ Tdg ├┤ H ├┤ Tdg ├»\n",
       " «     └───┘└───┘└───┘└───┘└───┘└───┘└───┘└───┘└───┘└───┘└─────┘└───┘└─────┘»\n",
       " «q_1: ─────────────────────────────────────────────────────────────────────»\n",
       " «                                                                          »\n",
       " «     ┌───┐┌─────┐┌───┐┌───┐┌───┐┌───┐┌───┐┌───┐┌───┐┌─────┐┌───┐┌─────┐┌───┐»\n",
       " «q_0: ┤ H ├┤ Tdg ├┤ H ├┤ T ├┤ H ├┤ T ├┤ H ├┤ T ├┤ H ├┤ Tdg ├┤ H ├┤ Tdg ├┤ H ├»\n",
       " «     └───┘└─────┘└───┘└───┘└───┘└───┘└───┘└───┘└───┘└─────┘└───┘└─────┘└───┘»\n",
       " «q_1: ───────────────────────────────────────────────────────────────────────»\n",
       " «                                                                            »\n",
       " «     ┌───┐┌───┐┌───┐┌───┐┌─────┐┌───┐┌─────┐┌───┐┌─────┐┌───┐┌───┐┌───┐┌───┐»\n",
       " «q_0: ┤ T ├┤ H ├┤ T ├┤ H ├┤ Tdg ├┤ H ├┤ Tdg ├┤ H ├┤ Tdg ├┤ H ├┤ T ├┤ H ├┤ T ├»\n",
       " «     └───┘└───┘└───┘└───┘└─────┘└───┘└─────┘└───┘└─────┘└───┘└───┘└───┘└───┘»\n",
       " «q_1: ───────────────────────────────────────────────────────────────────────»\n",
       " «                                                                            »\n",
       " «     ┌───┐┌───┐┌─────┐┌───┐┌───┐┌───┐┌───┐┌───┐┌───┐┌───┐┌─────┐┌───┐┌─────┐»\n",
       " «q_0: ┤ T ├┤ H ├┤ Tdg ├┤ H ├┤ T ├┤ H ├┤ T ├┤ H ├┤ T ├┤ H ├┤ Tdg ├┤ H ├┤ Tdg ├»\n",
       " «     └───┘└───┘└─────┘└───┘└───┘└───┘└───┘└───┘└───┘└───┘└─────┘└───┘└─────┘»\n",
       " «q_1: ───────────────────────────────────────────────────────────────────────»\n",
       " «                                                                            »\n",
       " «     ┌─────┐┌─────┐┌───┐┌─────┐┌───┐┌───┐┌───┐┌───┐┌───┐┌───┐┌───┐┌─────┐┌───┐»\n",
       " «q_0: ┤ Tdg ├┤ Tdg ├┤ H ├┤ Tdg ├┤ H ├┤ T ├┤ H ├┤ T ├┤ H ├┤ T ├┤ H ├┤ Tdg ├┤ H ├»\n",
       " «     └─────┘└─────┘└───┘└─────┘└───┘└───┘└───┘└───┘└───┘└───┘└───┘└─────┘└───┘»\n",
       " «q_1: ─────────────────────────────────────────────────────────────────────────»\n",
       " «                                                                              »\n",
       " «     ┌─────┐┌─────┐┌───┐┌─────┐┌───┐┌─────┐┌───┐┌─────┐┌───┐┌─────┐┌───┐┌───┐»\n",
       " «q_0: ┤ Tdg ├┤ Tdg ├┤ H ├┤ Tdg ├┤ H ├┤ Tdg ├┤ H ├┤ Tdg ├┤ H ├┤ Tdg ├┤ H ├┤ T ├»\n",
       " «     └─────┘└─────┘└───┘└─────┘└───┘└─────┘└───┘└─────┘└───┘└─────┘└───┘└───┘»\n",
       " «q_1: ────────────────────────────────────────────────────────────────────────»\n",
       " «                                                                             »\n",
       " «     ┌───┐┌───┐┌───┐┌───┐┌───┐┌───┐┌───┐┌───┐┌───┐┌───┐┌───┐┌───┐┌───┐┌───┐»\n",
       " «q_0: ┤ H ├┤ T ├┤ T ├┤ H ├┤ T ├┤ H ├┤ T ├┤ H ├┤ T ├┤ H ├┤ T ├┤ T ├┤ H ├┤ T ├»\n",
       " «     └───┘└───┘└───┘└───┘└───┘└───┘└───┘└───┘└───┘└───┘└───┘└───┘└───┘└───┘»\n",
       " «q_1: ──────────────────────────────────────────────────────────────────────»\n",
       " «                                                                           »\n",
       " «     ┌───┐┌─────┐┌───┐┌─────┐┌───┐┌─────┐┌───┐┌───┐┌───┐┌─────┐┌─────┐┌───┐»\n",
       " «q_0: ┤ H ├┤ Tdg ├┤ H ├┤ Tdg ├┤ H ├┤ Tdg ├┤ H ├┤ T ├┤ H ├┤ Tdg ├┤ Tdg ├┤ H ├»\n",
       " «     └───┘└─────┘└───┘└─────┘└───┘└─────┘└───┘└───┘└───┘└─────┘└─────┘└───┘»\n",
       " «q_1: ──────────────────────────────────────────────────────────────────────»\n",
       " «                                                                           »\n",
       " «     ┌─────┐┌───┐┌───┐┌───┐┌───┐┌───┐┌───┐┌───┐┌─────┐┌───┐┌─────┐┌───┐┌───┐»\n",
       " «q_0: ┤ Tdg ├┤ H ├┤ T ├┤ H ├┤ T ├┤ H ├┤ T ├┤ H ├┤ Tdg ├┤ H ├┤ Tdg ├┤ H ├┤ T ├»\n",
       " «     └─────┘└───┘└───┘└───┘└───┘└───┘└───┘└───┘└─────┘└───┘└─────┘└───┘└───┘»\n",
       " «q_1: ───────────────────────────────────────────────────────────────────────»\n",
       " «                                                                            »\n",
       " «     ┌───┐┌───┐┌───┐┌─────┐┌─────┐┌───┐┌─────┐┌───┐┌─────┐┌───┐┌─────┐┌───┐»\n",
       " «q_0: ┤ H ├┤ T ├┤ H ├┤ Tdg ├┤ Tdg ├┤ H ├┤ Tdg ├┤ H ├┤ Tdg ├┤ H ├┤ Tdg ├┤ H ├»\n",
       " «     └───┘└───┘└───┘└─────┘└─────┘└───┘└─────┘└───┘└─────┘└───┘└─────┘└───┘»\n",
       " «q_1: ──────────────────────────────────────────────────────────────────────»\n",
       " «                                                                           »\n",
       " «     ┌─────┐┌───┐┌───┐┌───┐┌───┐┌───┐┌───┐┌───┐┌───┐┌───┐┌───┐┌───┐┌───┐┌───┐»\n",
       " «q_0: ┤ Tdg ├┤ H ├┤ T ├┤ H ├┤ T ├┤ T ├┤ H ├┤ T ├┤ H ├┤ T ├┤ H ├┤ T ├┤ H ├┤ T ├»\n",
       " «     └─────┘└───┘└───┘└───┘└───┘└───┘└───┘└───┘└───┘└───┘└───┘└───┘└───┘└───┘»\n",
       " «q_1: ────────────────────────────────────────────────────────────────────────»\n",
       " «                                                                             »\n",
       " «     ┌───┐┌─────┐┌───┐┌─────┐┌───┐┌───┐┌───┐┌─────┐┌───┐┌─────┐┌───┐┌───┐┌───┐»\n",
       " «q_0: ┤ H ├┤ Tdg ├┤ H ├┤ Tdg ├┤ H ├┤ T ├┤ H ├┤ Tdg ├┤ H ├┤ Tdg ├┤ H ├┤ T ├┤ H ├»\n",
       " «     └───┘└─────┘└───┘└─────┘└───┘└───┘└───┘└─────┘└───┘└─────┘└───┘└───┘└───┘»\n",
       " «q_1: ─────────────────────────────────────────────────────────────────────────»\n",
       " «                                                                              »\n",
       " «     ┌───┐┌───┐┌───┐┌───┐┌───┐┌───┐┌───┐┌─────┐┌───┐┌─────┐┌─────┐┌─────┐┌───┐»\n",
       " «q_0: ┤ T ├┤ T ├┤ H ├┤ T ├┤ H ├┤ T ├┤ H ├┤ Tdg ├┤ H ├┤ Tdg ├┤ Tdg ├┤ Tdg ├┤ H ├»\n",
       " «     └───┘└───┘└───┘└───┘└───┘└───┘└───┘└─────┘└───┘└─────┘└─────┘└─────┘└───┘»\n",
       " «q_1: ─────────────────────────────────────────────────────────────────────────»\n",
       " «                                                                              »\n",
       " «     ┌─────┐┌───┐┌───┐┌───┐┌───┐┌───┐┌───┐┌───┐┌───┐┌───┐┌───┐┌─────┐┌───┐»\n",
       " «q_0: ┤ Tdg ├┤ H ├┤ T ├┤ H ├┤ T ├┤ H ├┤ T ├┤ T ├┤ H ├┤ T ├┤ H ├┤ Tdg ├┤ H ├»\n",
       " «     └─────┘└───┘└───┘└───┘└───┘└───┘└───┘└───┘└───┘└───┘└───┘└─────┘└───┘»\n",
       " «q_1: ─────────────────────────────────────────────────────────────────────»\n",
       " «                                                                          »\n",
       " «     ┌─────┐┌───┐┌─────┐┌─────┐┌───┐┌─────┐┌───┐┌─────┐┌───┐┌─────┐┌───┐»\n",
       " «q_0: ┤ Tdg ├┤ H ├┤ Tdg ├┤ Tdg ├┤ H ├┤ Tdg ├┤ H ├┤ Tdg ├┤ H ├┤ Tdg ├┤ H ├»\n",
       " «     └─────┘└───┘└─────┘└─────┘└───┘└─────┘└───┘└─────┘└───┘└─────┘└───┘»\n",
       " «q_1: ───────────────────────────────────────────────────────────────────»\n",
       " «                                                                        »\n",
       " «     ┌─────┐┌───┐┌───┐┌───┐┌───┐┌───┐┌───┐┌───┐┌─────┐┌───┐┌─────┐┌─────┐┌───┐»\n",
       " «q_0: ┤ Tdg ├┤ H ├┤ T ├┤ H ├┤ T ├┤ H ├┤ T ├┤ H ├┤ Tdg ├┤ H ├┤ Tdg ├┤ Tdg ├┤ H ├»\n",
       " «     └─────┘└───┘└───┘└───┘└───┘└───┘└───┘└───┘└─────┘└───┘└─────┘└─────┘└───┘»\n",
       " «q_1: ─────────────────────────────────────────────────────────────────────────»\n",
       " «                                                                              »\n",
       " «     ┌───┐┌───┐┌───┐┌───┐┌───┐┌───┐┌───┐┌───┐┌───┐┌───┐┌───┐┌───┐┌───┐┌───┐»\n",
       " «q_0: ┤ T ├┤ H ├┤ T ├┤ H ├┤ T ├┤ H ├┤ T ├┤ H ├┤ T ├┤ T ├┤ T ├┤ H ├┤ T ├┤ H ├»\n",
       " «     └───┘└───┘└───┘└───┘└───┘└───┘└───┘└───┘└───┘└───┘└───┘└───┘└───┘└───┘»\n",
       " «q_1: ──────────────────────────────────────────────────────────────────────»\n",
       " «                                                                           »\n",
       " «     ┌─────┐┌───┐┌─────┐┌───┐┌─────┐┌─────┐┌───┐┌───┐┌───┐┌───┐┌───┐┌─────┐»\n",
       " «q_0: ┤ Tdg ├┤ H ├┤ Tdg ├┤ H ├┤ Tdg ├┤ Tdg ├┤ H ├┤ T ├┤ H ├┤ T ├┤ H ├┤ Tdg ├»\n",
       " «     └─────┘└───┘└─────┘└───┘└─────┘└─────┘└───┘└───┘└───┘└───┘└───┘└─────┘»\n",
       " «q_1: ──────────────────────────────────────────────────────────────────────»\n",
       " «                                                                           »\n",
       " «     ┌───┐┌─────┐┌───┐┌─────┐┌───┐┌─────┐┌─────┐┌───┐┌─────┐┌───┐┌───┐┌───┐»\n",
       " «q_0: ┤ H ├┤ Tdg ├┤ H ├┤ Tdg ├┤ H ├┤ Tdg ├┤ Tdg ├┤ H ├┤ Tdg ├┤ H ├┤ T ├┤ H ├»\n",
       " «     └───┘└─────┘└───┘└─────┘└───┘└─────┘└─────┘└───┘└─────┘└───┘└───┘└───┘»\n",
       " «q_1: ──────────────────────────────────────────────────────────────────────»\n",
       " «                                                                           »\n",
       " «     ┌───┐┌───┐┌───┐┌───┐┌───┐┌───┐┌───┐┌───┐┌───┐┌───┐┌───┐┌─────┐┌───┐»\n",
       " «q_0: ┤ T ├┤ H ├┤ T ├┤ H ├┤ T ├┤ H ├┤ T ├┤ T ├┤ H ├┤ T ├┤ H ├┤ Tdg ├┤ H ├»\n",
       " «     └───┘└───┘└───┘└───┘└───┘└───┘└───┘└───┘└───┘└───┘└───┘└─────┘└───┘»\n",
       " «q_1: ───────────────────────────────────────────────────────────────────»\n",
       " «                                                                        »\n",
       " «     ┌─────┐┌───┐┌─────┐┌───┐┌─────┐┌───┐┌─────┐┌───┐┌───┐┌───┐┌───┐┌───┐┌───┐»\n",
       " «q_0: ┤ Tdg ├┤ H ├┤ Tdg ├┤ H ├┤ Tdg ├┤ H ├┤ Tdg ├┤ H ├┤ T ├┤ H ├┤ T ├┤ T ├┤ H ├»\n",
       " «     └─────┘└───┘└─────┘└───┘└─────┘└───┘└─────┘└───┘└───┘└───┘└───┘└───┘└───┘»\n",
       " «q_1: ─────────────────────────────────────────────────────────────────────────»\n",
       " «                                                                              »\n",
       " «     ┌───┐┌───┐┌─────┐┌───┐┌─────┐┌───┐┌───┐┌───┐┌───┐┌───┐┌───┐┌───┐┌───┐»\n",
       " «q_0: ┤ T ├┤ H ├┤ Tdg ├┤ H ├┤ Tdg ├┤ H ├┤ T ├┤ T ├┤ H ├┤ T ├┤ H ├┤ T ├┤ H ├»\n",
       " «     └───┘└───┘└─────┘└───┘└─────┘└───┘└───┘└───┘└───┘└───┘└───┘└───┘└───┘»\n",
       " «q_1: ─────────────────────────────────────────────────────────────────────»\n",
       " «                                                                          »\n",
       " «     ┌─────┐┌───┐┌─────┐┌─────┐┌─────┐┌───┐┌─────┐┌───┐┌─────┐┌───┐┌─────┐»\n",
       " «q_0: ┤ Tdg ├┤ H ├┤ Tdg ├┤ Tdg ├┤ Tdg ├┤ H ├┤ Tdg ├┤ H ├┤ Tdg ├┤ H ├┤ Tdg ├»\n",
       " «     └─────┘└───┘└─────┘└─────┘└─────┘└───┘└─────┘└───┘└─────┘└───┘└─────┘»\n",
       " «q_1: ─────────────────────────────────────────────────────────────────────»\n",
       " «                                                                          »\n",
       " «     ┌───┐┌─────┐┌───┐┌───┐┌───┐┌───┐┌───┐┌───┐┌─────┐┌───┐┌─────┐┌───┐┌─────┐»\n",
       " «q_0: ┤ H ├┤ Tdg ├┤ H ├┤ T ├┤ T ├┤ H ├┤ T ├┤ H ├┤ Tdg ├┤ H ├┤ Tdg ├┤ H ├┤ Tdg ├»\n",
       " «     └───┘└─────┘└───┘└───┘└───┘└───┘└───┘└───┘└─────┘└───┘└─────┘└───┘└─────┘»\n",
       " «q_1: ─────────────────────────────────────────────────────────────────────────»\n",
       " «                                                                              »\n",
       " «     ┌───┐┌───┐┌───┐┌───┐┌───┐┌───┐┌───┐┌───┐┌───┐┌─────┐┌───┐┌─────┐┌───┐»\n",
       " «q_0: ┤ H ├┤ T ├┤ H ├┤ T ├┤ H ├┤ T ├┤ H ├┤ T ├┤ H ├┤ Tdg ├┤ H ├┤ Tdg ├┤ H ├»\n",
       " «     └───┘└───┘└───┘└───┘└───┘└───┘└───┘└───┘└───┘└─────┘└───┘└─────┘└───┘»\n",
       " «q_1: ─────────────────────────────────────────────────────────────────────»\n",
       " «                                                                          »\n",
       " «     ┌───┐┌───┐┌───┐┌───┐┌───┐┌───┐┌───┐┌───┐┌───┐┌───┐┌─────┐┌───┐┌─────┐»\n",
       " «q_0: ┤ T ├┤ H ├┤ T ├┤ H ├┤ T ├┤ H ├┤ T ├┤ H ├┤ T ├┤ H ├┤ Tdg ├┤ H ├┤ Tdg ├»\n",
       " «     └───┘└───┘└───┘└───┘└───┘└───┘└───┘└───┘└───┘└───┘└─────┘└───┘└─────┘»\n",
       " «q_1: ─────────────────────────────────────────────────────────────────────»\n",
       " «                                                                          »\n",
       " «     ┌─────┐┌───┐┌─────┐┌───┐┌─────┐┌───┐┌─────┐┌───┐┌─────┐┌───┐┌───┐┌───┐»\n",
       " «q_0: ┤ Tdg ├┤ H ├┤ Tdg ├┤ H ├┤ Tdg ├┤ H ├┤ Tdg ├┤ H ├┤ Tdg ├┤ H ├┤ T ├┤ H ├»\n",
       " «     └─────┘└───┘└─────┘└───┘└─────┘└───┘└─────┘└───┘└─────┘└───┘└───┘└───┘»\n",
       " «q_1: ──────────────────────────────────────────────────────────────────────»\n",
       " «                                                                           »\n",
       " «     ┌───┐┌───┐┌───┐┌───┐┌───┐┌───┐┌───┐┌───┐┌─────┐┌───┐┌─────┐┌───┐┌─────┐»\n",
       " «q_0: ┤ T ├┤ T ├┤ H ├┤ T ├┤ T ├┤ H ├┤ T ├┤ H ├┤ Tdg ├┤ H ├┤ Tdg ├┤ H ├┤ Tdg ├»\n",
       " «     └───┘└───┘└───┘└───┘└───┘└───┘└───┘└───┘└─────┘└───┘└─────┘└───┘└─────┘»\n",
       " «q_1: ───────────────────────────────────────────────────────────────────────»\n",
       " «                                                                            »\n",
       " «     ┌───┐┌─────┐┌───┐┌─────┐┌─────┐┌───┐┌─────┐┌───┐┌───┐┌───┐┌───┐┌───┐┌───┐»\n",
       " «q_0: ┤ H ├┤ Tdg ├┤ H ├┤ Tdg ├┤ Tdg ├┤ H ├┤ Tdg ├┤ H ├┤ T ├┤ H ├┤ T ├┤ H ├┤ T ├»\n",
       " «     └───┘└─────┘└───┘└─────┘└─────┘└───┘└─────┘└───┘└───┘└───┘└───┘└───┘└───┘»\n",
       " «q_1: ─────────────────────────────────────────────────────────────────────────»\n",
       " «                                                                              »\n",
       " «     ┌───┐┌───┐┌───┐┌───┐┌───┐┌───┐┌─────┐┌───┐┌─────┐┌───┐┌───┐┌───┐┌───┐»\n",
       " «q_0: ┤ H ├┤ T ├┤ H ├┤ T ├┤ T ├┤ H ├┤ Tdg ├┤ H ├┤ Tdg ├┤ H ├┤ T ├┤ H ├┤ T ├»\n",
       " «     └───┘└───┘└───┘└───┘└───┘└───┘└─────┘└───┘└─────┘└───┘└───┘└───┘└───┘»\n",
       " «q_1: ─────────────────────────────────────────────────────────────────────»\n",
       " «                                                                          »\n",
       " «     ┌───┐┌─────┐┌───┐┌─────┐┌───┐┌─────┐┌───┐┌───┐┌───┐┌───┐┌───┐┌───┐┌─────┐»\n",
       " «q_0: ┤ H ├┤ Tdg ├┤ H ├┤ Tdg ├┤ H ├┤ Tdg ├┤ H ├┤ T ├┤ H ├┤ T ├┤ T ├┤ H ├┤ Tdg ├»\n",
       " «     └───┘└─────┘└───┘└─────┘└───┘└─────┘└───┘└───┘└───┘└───┘└───┘└───┘└─────┘»\n",
       " «q_1: ─────────────────────────────────────────────────────────────────────────»\n",
       " «                                                                              »\n",
       " «     ┌───┐┌───┐┌───┐┌───┐┌───┐┌───┐┌───┐┌─────┐┌───┐┌─────┐┌─────┐┌───┐┌─────┐»\n",
       " «q_0: ┤ H ├┤ T ├┤ H ├┤ T ├┤ H ├┤ T ├┤ H ├┤ Tdg ├┤ H ├┤ Tdg ├┤ Tdg ├┤ H ├┤ Tdg ├»\n",
       " «     └───┘└───┘└───┘└───┘└───┘└───┘└───┘└─────┘└───┘└─────┘└─────┘└───┘└─────┘»\n",
       " «q_1: ─────────────────────────────────────────────────────────────────────────»\n",
       " «                                                                              »\n",
       " «     ┌───┐┌─────┐┌───┐┌─────┐┌───┐┌─────┐┌─────┐┌───┐┌─────┐┌───┐┌───┐┌───┐»\n",
       " «q_0: ┤ H ├┤ Tdg ├┤ H ├┤ Tdg ├┤ H ├┤ Tdg ├┤ Tdg ├┤ H ├┤ Tdg ├┤ H ├┤ T ├┤ H ├»\n",
       " «     └───┘└─────┘└───┘└─────┘└───┘└─────┘└─────┘└───┘└─────┘└───┘└───┘└───┘»\n",
       " «q_1: ──────────────────────────────────────────────────────────────────────»\n",
       " «                                                                           »\n",
       " «     ┌───┐┌───┐┌───┐┌───┐┌───┐┌───┐┌───┐┌───┐┌───┐┌───┐┌───┐┌─────┐┌───┐»\n",
       " «q_0: ┤ T ├┤ H ├┤ T ├┤ H ├┤ T ├┤ H ├┤ T ├┤ T ├┤ H ├┤ T ├┤ H ├┤ Tdg ├┤ H ├»\n",
       " «     └───┘└───┘└───┘└───┘└───┘└───┘└───┘└───┘└───┘└───┘└───┘└─────┘└───┘»\n",
       " «q_1: ───────────────────────────────────────────────────────────────────»\n",
       " «                                                                        »\n",
       " «     ┌─────┐┌───┐┌─────┐┌───┐┌───┐┌───┐┌───┐┌───┐┌───┐┌───┐┌───┐┌───┐┌─────┐»\n",
       " «q_0: ┤ Tdg ├┤ H ├┤ Tdg ├┤ H ├┤ T ├┤ H ├┤ T ├┤ T ├┤ T ├┤ H ├┤ T ├┤ H ├┤ Tdg ├»\n",
       " «     └─────┘└───┘└─────┘└───┘└───┘└───┘└───┘└───┘└───┘└───┘└───┘└───┘└─────┘»\n",
       " «q_1: ───────────────────────────────────────────────────────────────────────»\n",
       " «                                                                            »\n",
       " «     ┌───┐┌─────┐┌───┐┌─────┐┌───┐┌───┐┌───┐┌─────┐┌─────┐┌───┐┌─────┐┌───┐»\n",
       " «q_0: ┤ H ├┤ Tdg ├┤ H ├┤ Tdg ├┤ H ├┤ T ├┤ H ├┤ Tdg ├┤ Tdg ├┤ H ├┤ Tdg ├┤ H ├»\n",
       " «     └───┘└─────┘└───┘└─────┘└───┘└───┘└───┘└─────┘└─────┘└───┘└─────┘└───┘»\n",
       " «q_1: ──────────────────────────────────────────────────────────────────────»\n",
       " «                                                                           »\n",
       " «     ┌───┐┌───┐┌───┐┌───┐┌───┐┌───┐┌─────┐┌───┐┌─────┐┌───┐┌───┐┌───┐┌───┐»\n",
       " «q_0: ┤ T ├┤ H ├┤ T ├┤ H ├┤ T ├┤ H ├┤ Tdg ├┤ H ├┤ Tdg ├┤ H ├┤ T ├┤ H ├┤ T ├»\n",
       " «     └───┘└───┘└───┘└───┘└───┘└───┘└─────┘└───┘└─────┘└───┘└───┘└───┘└───┘»\n",
       " «q_1: ─────────────────────────────────────────────────────────────────────»\n",
       " «                                                                          »\n",
       " «     ┌───┐┌─────┐┌───┐┌─────┐┌───┐┌─────┐┌───┐┌───┐┌───┐┌───┐┌───┐┌───┐┌───┐»\n",
       " «q_0: ┤ H ├┤ Tdg ├┤ H ├┤ Tdg ├┤ H ├┤ Tdg ├┤ H ├┤ T ├┤ H ├┤ T ├┤ H ├┤ T ├┤ H ├»\n",
       " «     └───┘└─────┘└───┘└─────┘└───┘└─────┘└───┘└───┘└───┘└───┘└───┘└───┘└───┘»\n",
       " «q_1: ───────────────────────────────────────────────────────────────────────»\n",
       " «                                                                            »\n",
       " «     ┌─────┐┌───┐┌─────┐┌─────┐┌───┐┌─────┐┌───┐┌─────┐┌───┐┌─────┐┌───┐»\n",
       " «q_0: ┤ Tdg ├┤ H ├┤ Tdg ├┤ Tdg ├┤ H ├┤ Tdg ├┤ H ├┤ Tdg ├┤ H ├┤ Tdg ├┤ H ├»\n",
       " «     └─────┘└───┘└─────┘└─────┘└───┘└─────┘└───┘└─────┘└───┘└─────┘└───┘»\n",
       " «q_1: ───────────────────────────────────────────────────────────────────»\n",
       " «                                                                        »\n",
       " «     ┌─────┐┌───┐┌───┐┌───┐┌───┐┌───┐┌───┐┌───┐┌───┐┌───┐┌───┐┌───┐┌───┐┌───┐»\n",
       " «q_0: ┤ Tdg ├┤ H ├┤ T ├┤ H ├┤ T ├┤ T ├┤ H ├┤ T ├┤ H ├┤ T ├┤ H ├┤ T ├┤ H ├┤ T ├»\n",
       " «     └─────┘└───┘└───┘└───┘└───┘└───┘└───┘└───┘└───┘└───┘└───┘└───┘└───┘└───┘»\n",
       " «q_1: ────────────────────────────────────────────────────────────────────────»\n",
       " «                                                                             »\n",
       " «                                                                             »\n",
       " «q_0: ──■─────────────────────────────────────────────────────────────────────»\n",
       " «     ┌─┴─┐┌───┐┌───┐┌───┐┌───┐┌───┐┌───┐┌───┐┌───┐┌───┐┌───┐┌───┐┌───┐┌─────┐»\n",
       " «q_1: ┤ X ├┤ H ├┤ T ├┤ H ├┤ T ├┤ H ├┤ T ├┤ T ├┤ H ├┤ T ├┤ H ├┤ T ├┤ H ├┤ Tdg ├»\n",
       " «     └───┘└───┘└───┘└───┘└───┘└───┘└───┘└───┘└───┘└───┘└───┘└───┘└───┘└─────┘»\n",
       " «                                                                            »\n",
       " «q_0: ───────────────────────────────────────────────────────────────────────»\n",
       " «     ┌───┐┌─────┐┌───┐┌───┐┌───┐┌─────┐┌───┐┌─────┐┌───┐┌───┐┌───┐┌───┐┌───┐»\n",
       " «q_1: ┤ H ├┤ Tdg ├┤ H ├┤ T ├┤ H ├┤ Tdg ├┤ H ├┤ Tdg ├┤ H ├┤ T ├┤ H ├┤ T ├┤ H ├»\n",
       " «     └───┘└─────┘└───┘└───┘└───┘└─────┘└───┘└─────┘└───┘└───┘└───┘└───┘└───┘»\n",
       " «                                                                            »\n",
       " «q_0: ───────────────────────────────────────────────────────────────────────»\n",
       " «     ┌─────┐┌───┐┌─────┐┌───┐┌─────┐┌───┐┌───┐┌───┐┌───┐┌───┐┌───┐┌───┐┌───┐»\n",
       " «q_1: ┤ Tdg ├┤ H ├┤ Tdg ├┤ H ├┤ Tdg ├┤ H ├┤ T ├┤ H ├┤ T ├┤ T ├┤ H ├┤ T ├┤ H ├»\n",
       " «     └─────┘└───┘└─────┘└───┘└─────┘└───┘└───┘└───┘└───┘└───┘└───┘└───┘└───┘»\n",
       " «                                                                          »\n",
       " «q_0: ─────────────────────────────────────────────────────────────────────»\n",
       " «     ┌───┐┌───┐┌─────┐┌───┐┌─────┐┌───┐┌───┐┌───┐┌───┐┌───┐┌───┐┌───┐┌───┐»\n",
       " «q_1: ┤ T ├┤ H ├┤ Tdg ├┤ H ├┤ Tdg ├┤ H ├┤ T ├┤ H ├┤ T ├┤ H ├┤ T ├┤ H ├┤ T ├»\n",
       " «     └───┘└───┘└─────┘└───┘└─────┘└───┘└───┘└───┘└───┘└───┘└───┘└───┘└───┘»\n",
       " «                                                                              »\n",
       " «q_0: ─────────────────────────────────────────────────────────────────────────»\n",
       " «     ┌───┐┌───┐┌───┐┌───┐┌───┐┌───┐┌───┐┌─────┐┌───┐┌─────┐┌─────┐┌───┐┌─────┐»\n",
       " «q_1: ┤ H ├┤ T ├┤ H ├┤ T ├┤ H ├┤ T ├┤ H ├┤ Tdg ├┤ H ├┤ Tdg ├┤ Tdg ├┤ H ├┤ Tdg ├»\n",
       " «     └───┘└───┘└───┘└───┘└───┘└───┘└───┘└─────┘└───┘└─────┘└─────┘└───┘└─────┘»\n",
       " «                                                                              »\n",
       " «q_0: ─────────────────────────────────────────────────────────────────────────»\n",
       " «     ┌───┐┌─────┐┌───┐┌─────┐┌───┐┌─────┐┌───┐┌───┐┌───┐┌───┐┌───┐┌─────┐┌───┐»\n",
       " «q_1: ┤ H ├┤ Tdg ├┤ H ├┤ Tdg ├┤ H ├┤ Tdg ├┤ H ├┤ T ├┤ H ├┤ T ├┤ H ├┤ Tdg ├┤ H ├»\n",
       " «     └───┘└─────┘└───┘└─────┘└───┘└─────┘└───┘└───┘└───┘└───┘└───┘└─────┘└───┘»\n",
       " «                                                                             »\n",
       " «q_0: ────────────────────────────────────────────────────────────────────────»\n",
       " «     ┌─────┐┌───┐┌─────┐┌───┐┌─────┐┌───┐┌─────┐┌───┐┌─────┐┌───┐┌─────┐┌───┐»\n",
       " «q_1: ┤ Tdg ├┤ H ├┤ Tdg ├┤ H ├┤ Tdg ├┤ H ├┤ Tdg ├┤ H ├┤ Tdg ├┤ H ├┤ Tdg ├┤ H ├»\n",
       " «     └─────┘└───┘└─────┘└───┘└─────┘└───┘└─────┘└───┘└─────┘└───┘└─────┘└───┘»\n",
       " «                                                                           »\n",
       " «q_0: ──────────────────────────────────────────────────────────────────────»\n",
       " «     ┌───┐┌───┐┌───┐┌───┐┌─────┐┌───┐┌─────┐┌───┐┌─────┐┌─────┐┌───┐┌─────┐»\n",
       " «q_1: ┤ T ├┤ H ├┤ T ├┤ H ├┤ Tdg ├┤ H ├┤ Tdg ├┤ H ├┤ Tdg ├┤ Tdg ├┤ H ├┤ Tdg ├»\n",
       " «     └───┘└───┘└───┘└───┘└─────┘└───┘└─────┘└───┘└─────┘└─────┘└───┘└─────┘»\n",
       " «                                                                          »\n",
       " «q_0: ─────────────────────────────────────────────────────────────────────»\n",
       " «     ┌───┐┌───┐┌───┐┌───┐┌───┐┌───┐┌───┐┌─────┐┌───┐┌─────┐┌───┐┌───┐┌───┐»\n",
       " «q_1: ┤ H ├┤ T ├┤ H ├┤ T ├┤ H ├┤ T ├┤ H ├┤ Tdg ├┤ H ├┤ Tdg ├┤ H ├┤ T ├┤ H ├»\n",
       " «     └───┘└───┘└───┘└───┘└───┘└───┘└───┘└─────┘└───┘└─────┘└───┘└───┘└───┘»\n",
       " «                                                                           »\n",
       " «q_0: ──────────────────────────────────────────────────────────────────────»\n",
       " «     ┌───┐┌───┐┌───┐┌───┐┌───┐┌───┐┌───┐┌───┐┌───┐┌───┐┌───┐┌───┐┌───┐┌───┐»\n",
       " «q_1: ┤ T ├┤ H ├┤ T ├┤ H ├┤ T ├┤ H ├┤ T ├┤ H ├┤ T ├┤ H ├┤ T ├┤ H ├┤ T ├┤ H ├»\n",
       " «     └───┘└───┘└───┘└───┘└───┘└───┘└───┘└───┘└───┘└───┘└───┘└───┘└───┘└───┘»\n",
       " «                                                                          »\n",
       " «q_0: ─────────────────────────────────────────────────────────────────────»\n",
       " «     ┌───┐┌───┐┌─────┐┌───┐┌─────┐┌───┐┌───┐┌───┐┌───┐┌───┐┌───┐┌───┐┌───┐»\n",
       " «q_1: ┤ T ├┤ H ├┤ Tdg ├┤ H ├┤ Tdg ├┤ H ├┤ T ├┤ H ├┤ T ├┤ H ├┤ T ├┤ H ├┤ T ├»\n",
       " «     └───┘└───┘└─────┘└───┘└─────┘└───┘└───┘└───┘└───┘└───┘└───┘└───┘└───┘»\n",
       " «                                                                              »\n",
       " «q_0: ─────────────────────────────────────────────────────────────────────────»\n",
       " «     ┌───┐┌───┐┌───┐┌───┐┌───┐┌───┐┌─────┐┌───┐┌─────┐┌───┐┌─────┐┌───┐┌─────┐»\n",
       " «q_1: ┤ H ├┤ T ├┤ T ├┤ H ├┤ T ├┤ H ├┤ Tdg ├┤ H ├┤ Tdg ├┤ H ├┤ Tdg ├┤ H ├┤ Tdg ├»\n",
       " «     └───┘└───┘└───┘└───┘└───┘└───┘└─────┘└───┘└─────┘└───┘└─────┘└───┘└─────┘»\n",
       " «                                                                           »\n",
       " «q_0: ──────────────────────────────────────────────────────────────────────»\n",
       " «     ┌───┐┌─────┐┌───┐┌─────┐┌───┐┌─────┐┌───┐┌───┐┌───┐┌─────┐┌───┐┌─────┐»\n",
       " «q_1: ┤ H ├┤ Tdg ├┤ H ├┤ Tdg ├┤ H ├┤ Tdg ├┤ H ├┤ T ├┤ H ├┤ Tdg ├┤ H ├┤ Tdg ├»\n",
       " «     └───┘└─────┘└───┘└─────┘└───┘└─────┘└───┘└───┘└───┘└─────┘└───┘└─────┘»\n",
       " «                                                                          »\n",
       " «q_0: ─────────────────────────────────────────────────────────────────────»\n",
       " «     ┌───┐┌───┐┌───┐┌─────┐┌───┐┌─────┐┌───┐┌───┐┌───┐┌───┐┌───┐┌───┐┌───┐»\n",
       " «q_1: ┤ H ├┤ T ├┤ H ├┤ Tdg ├┤ H ├┤ Tdg ├┤ H ├┤ T ├┤ H ├┤ T ├┤ T ├┤ H ├┤ T ├»\n",
       " «     └───┘└───┘└───┘└─────┘└───┘└─────┘└───┘└───┘└───┘└───┘└───┘└───┘└───┘»\n",
       " «                                                                          »\n",
       " «q_0: ─────────────────────────────────────────────────────────────────────»\n",
       " «     ┌───┐┌───┐┌───┐┌───┐┌───┐┌───┐┌───┐┌───┐┌───┐┌─────┐┌───┐┌─────┐┌───┐»\n",
       " «q_1: ┤ H ├┤ T ├┤ H ├┤ T ├┤ H ├┤ T ├┤ T ├┤ T ├┤ H ├┤ Tdg ├┤ H ├┤ Tdg ├┤ H ├»\n",
       " «     └───┘└───┘└───┘└───┘└───┘└───┘└───┘└───┘└───┘└─────┘└───┘└─────┘└───┘»\n",
       " «                                                                              »\n",
       " «q_0: ─────────────────────────────────────────────────────────────────────────»\n",
       " «     ┌───┐┌───┐┌───┐┌───┐┌─────┐┌───┐┌───┐┌───┐┌───┐┌───┐┌─────┐┌─────┐┌─────┐»\n",
       " «q_1: ┤ T ├┤ H ├┤ T ├┤ H ├┤ Tdg ├┤ H ├┤ T ├┤ H ├┤ T ├┤ H ├┤ Tdg ├┤ Tdg ├┤ Tdg ├»\n",
       " «     └───┘└───┘└───┘└───┘└─────┘└───┘└───┘└───┘└───┘└───┘└─────┘└─────┘└─────┘»\n",
       " «                                                                        »\n",
       " «q_0: ───────────────────────────────────────────────────────────────────»\n",
       " «     ┌─────┐┌───┐┌─────┐┌───┐┌─────┐┌───┐┌─────┐┌───┐┌─────┐┌─────┐┌───┐»\n",
       " «q_1: ┤ Tdg ├┤ H ├┤ Tdg ├┤ H ├┤ Tdg ├┤ H ├┤ Tdg ├┤ H ├┤ Tdg ├┤ Tdg ├┤ H ├»\n",
       " «     └─────┘└───┘└─────┘└───┘└─────┘└───┘└─────┘└───┘└─────┘└─────┘└───┘»\n",
       " «                                                                          »\n",
       " «q_0: ─────────────────────────────────────────────────────────────────────»\n",
       " «     ┌─────┐┌───┐┌───┐┌───┐┌───┐┌───┐┌─────┐┌───┐┌───┐┌───┐┌───┐┌───┐┌───┐»\n",
       " «q_1: ┤ Tdg ├┤ H ├┤ T ├┤ H ├┤ T ├┤ H ├┤ Tdg ├┤ H ├┤ T ├┤ H ├┤ T ├┤ H ├┤ T ├»\n",
       " «     └─────┘└───┘└───┘└───┘└───┘└───┘└─────┘└───┘└───┘└───┘└───┘└───┘└───┘»\n",
       " «                                                                              »\n",
       " «q_0: ─────────────────────────────────────────────────────────────────────────»\n",
       " «     ┌───┐┌───┐┌─────┐┌───┐┌─────┐┌───┐┌───┐┌───┐┌─────┐┌───┐┌─────┐┌───┐┌───┐»\n",
       " «q_1: ┤ T ├┤ H ├┤ Tdg ├┤ H ├┤ Tdg ├┤ H ├┤ T ├┤ H ├┤ Tdg ├┤ H ├┤ Tdg ├┤ H ├┤ T ├»\n",
       " «     └───┘└───┘└─────┘└───┘└─────┘└───┘└───┘└───┘└─────┘└───┘└─────┘└───┘└───┘»\n",
       " «                                                                             »\n",
       " «q_0: ────────────────────────────────────────────────────────────────────────»\n",
       " «     ┌───┐┌───┐┌───┐┌─────┐┌─────┐┌─────┐┌───┐┌─────┐┌───┐┌─────┐┌───┐┌─────┐»\n",
       " «q_1: ┤ H ├┤ T ├┤ H ├┤ Tdg ├┤ Tdg ├┤ Tdg ├┤ H ├┤ Tdg ├┤ H ├┤ Tdg ├┤ H ├┤ Tdg ├»\n",
       " «     └───┘└───┘└───┘└─────┘└─────┘└─────┘└───┘└─────┘└───┘└─────┘└───┘└─────┘»\n",
       " «                                                                            »\n",
       " «q_0: ───────────────────────────────────────────────────────────────────────»\n",
       " «     ┌───┐┌─────┐┌─────┐┌───┐┌─────┐┌───┐┌───┐┌───┐┌───┐┌───┐┌───┐┌───┐┌───┐»\n",
       " «q_1: ┤ H ├┤ Tdg ├┤ Tdg ├┤ H ├┤ Tdg ├┤ H ├┤ T ├┤ H ├┤ T ├┤ H ├┤ T ├┤ H ├┤ T ├»\n",
       " «     └───┘└─────┘└─────┘└───┘└─────┘└───┘└───┘└───┘└───┘└───┘└───┘└───┘└───┘»\n",
       " «                                                                            »\n",
       " «q_0: ───────────────────────────────────────────────────────────────────────»\n",
       " «     ┌───┐┌───┐┌───┐┌───┐┌───┐┌───┐┌─────┐┌─────┐┌───┐┌─────┐┌───┐┌───┐┌───┐»\n",
       " «q_1: ┤ H ├┤ T ├┤ T ├┤ H ├┤ T ├┤ H ├┤ Tdg ├┤ Tdg ├┤ H ├┤ Tdg ├┤ H ├┤ T ├┤ H ├»\n",
       " «     └───┘└───┘└───┘└───┘└───┘└───┘└─────┘└─────┘└───┘└─────┘└───┘└───┘└───┘»\n",
       " «                                                                            »\n",
       " «q_0: ───────────────────────────────────────────────────────────────────────»\n",
       " «     ┌───┐┌───┐┌───┐┌───┐┌───┐┌───┐┌───┐┌───┐┌─────┐┌───┐┌─────┐┌─────┐┌───┐»\n",
       " «q_1: ┤ T ├┤ H ├┤ T ├┤ H ├┤ T ├┤ H ├┤ T ├┤ H ├┤ Tdg ├┤ H ├┤ Tdg ├┤ Tdg ├┤ H ├»\n",
       " «     └───┘└───┘└───┘└───┘└───┘└───┘└───┘└───┘└─────┘└───┘└─────┘└─────┘└───┘»\n",
       " «                                                                            »\n",
       " «q_0: ───────────────────────────────────────────────────────────────────────»\n",
       " «     ┌─────┐┌───┐┌─────┐┌───┐┌───┐┌───┐┌───┐┌───┐┌───┐┌───┐┌───┐┌───┐┌─────┐»\n",
       " «q_1: ┤ Tdg ├┤ H ├┤ Tdg ├┤ H ├┤ T ├┤ H ├┤ T ├┤ T ├┤ T ├┤ H ├┤ T ├┤ H ├┤ Tdg ├»\n",
       " «     └─────┘└───┘└─────┘└───┘└───┘└───┘└───┘└───┘└───┘└───┘└───┘└───┘└─────┘»\n",
       " «                                                                             »\n",
       " «q_0: ────────────────────────────────────────────────────────────────────────»\n",
       " «     ┌───┐┌─────┐┌───┐┌─────┐┌───┐┌─────┐┌───┐┌─────┐┌───┐┌─────┐┌───┐┌─────┐»\n",
       " «q_1: ┤ H ├┤ Tdg ├┤ H ├┤ Tdg ├┤ H ├┤ Tdg ├┤ H ├┤ Tdg ├┤ H ├┤ Tdg ├┤ H ├┤ Tdg ├»\n",
       " «     └───┘└─────┘└───┘└─────┘└───┘└─────┘└───┘└─────┘└───┘└─────┘└───┘└─────┘»\n",
       " «                                                                              »\n",
       " «q_0: ─────────────────────────────────────────────────────────────────────────»\n",
       " «     ┌───┐┌───┐┌───┐┌───┐┌─────┐┌───┐┌─────┐┌───┐┌───┐┌───┐┌─────┐┌───┐┌─────┐»\n",
       " «q_1: ┤ H ├┤ T ├┤ T ├┤ H ├┤ Tdg ├┤ H ├┤ Tdg ├┤ H ├┤ T ├┤ H ├┤ Tdg ├┤ H ├┤ Tdg ├»\n",
       " «     └───┘└───┘└───┘└───┘└─────┘└───┘└─────┘└───┘└───┘└───┘└─────┘└───┘└─────┘»\n",
       " «                                                                          »\n",
       " «q_0: ─────────────────────────────────────────────────────────────────────»\n",
       " «     ┌───┐┌─────┐┌───┐┌───┐┌───┐┌───┐┌───┐┌───┐┌─────┐┌───┐┌───┐┌───┐┌───┐»\n",
       " «q_1: ┤ H ├┤ Tdg ├┤ H ├┤ T ├┤ H ├┤ T ├┤ T ├┤ H ├┤ Tdg ├┤ H ├┤ T ├┤ H ├┤ T ├»\n",
       " «     └───┘└─────┘└───┘└───┘└───┘└───┘└───┘└───┘└─────┘└───┘└───┘└───┘└───┘»\n",
       " «                                                                              »\n",
       " «q_0: ─────────────────────────────────────────────────────────────────────────»\n",
       " «     ┌───┐┌─────┐┌─────┐┌─────┐┌───┐┌─────┐┌───┐┌───┐┌───┐┌───┐┌───┐┌───┐┌───┐»\n",
       " «q_1: ┤ H ├┤ Tdg ├┤ Tdg ├┤ Tdg ├┤ H ├┤ Tdg ├┤ H ├┤ T ├┤ H ├┤ T ├┤ T ├┤ H ├┤ T ├»\n",
       " «     └───┘└─────┘└─────┘└─────┘└───┘└─────┘└───┘└───┘└───┘└───┘└───┘└───┘└───┘»\n",
       " «                                                                        »\n",
       " «q_0: ───────────────────────────────────────────────────────────────────»\n",
       " «     ┌───┐┌───┐┌───┐┌───┐┌───┐┌───┐┌───┐┌───┐┌───┐┌───┐┌───┐┌─────┐┌───┐»\n",
       " «q_1: ┤ H ├┤ T ├┤ H ├┤ T ├┤ H ├┤ T ├┤ H ├┤ T ├┤ H ├┤ T ├┤ H ├┤ Tdg ├┤ H ├»\n",
       " «     └───┘└───┘└───┘└───┘└───┘└───┘└───┘└───┘└───┘└───┘└───┘└─────┘└───┘»\n",
       " «                                                                              »\n",
       " «q_0: ─────────────────────────────────────────────────────────────────────────»\n",
       " «     ┌─────┐┌─────┐┌─────┐┌───┐┌─────┐┌───┐┌───┐┌───┐┌───┐┌───┐┌───┐┌───┐┌───┐»\n",
       " «q_1: ┤ Tdg ├┤ Tdg ├┤ Tdg ├┤ H ├┤ Tdg ├┤ H ├┤ T ├┤ H ├┤ T ├┤ H ├┤ T ├┤ T ├┤ H ├»\n",
       " «     └─────┘└─────┘└─────┘└───┘└─────┘└───┘└───┘└───┘└───┘└───┘└───┘└───┘└───┘»\n",
       " «                                                                           »\n",
       " «q_0: ──────────────────────────────────────────────────────────────────────»\n",
       " «     ┌───┐┌───┐┌─────┐┌───┐┌─────┐┌───┐┌─────┐┌───┐┌─────┐┌───┐┌─────┐┌───┐»\n",
       " «q_1: ┤ T ├┤ H ├┤ Tdg ├┤ H ├┤ Tdg ├┤ H ├┤ Tdg ├┤ H ├┤ Tdg ├┤ H ├┤ Tdg ├┤ H ├»\n",
       " «     └───┘└───┘└─────┘└───┘└─────┘└───┘└─────┘└───┘└─────┘└───┘└─────┘└───┘»\n",
       " «                                                                          »\n",
       " «q_0: ─────────────────────────────────────────────────────────────────────»\n",
       " «     ┌───┐┌───┐┌───┐┌───┐┌───┐┌─────┐┌───┐┌─────┐┌───┐┌───┐┌───┐┌───┐┌───┐»\n",
       " «q_1: ┤ T ├┤ H ├┤ T ├┤ T ├┤ H ├┤ Tdg ├┤ H ├┤ Tdg ├┤ H ├┤ T ├┤ H ├┤ T ├┤ T ├»\n",
       " «     └───┘└───┘└───┘└───┘└───┘└─────┘└───┘└─────┘└───┘└───┘└───┘└───┘└───┘»\n",
       " «                                                                           »\n",
       " «q_0: ──────────────────────────────────────────────────────────────────────»\n",
       " «     ┌───┐┌───┐┌─────┐┌───┐┌─────┐┌───┐┌───┐┌───┐┌─────┐┌─────┐┌───┐┌─────┐»\n",
       " «q_1: ┤ T ├┤ H ├┤ Tdg ├┤ H ├┤ Tdg ├┤ H ├┤ T ├┤ H ├┤ Tdg ├┤ Tdg ├┤ H ├┤ Tdg ├»\n",
       " «     └───┘└───┘└─────┘└───┘└─────┘└───┘└───┘└───┘└─────┘└─────┘└───┘└─────┘»\n",
       " «                                                                        »\n",
       " «q_0: ───────────────────────────────────────────────────────────────────»\n",
       " «     ┌───┐┌───┐┌───┐┌───┐┌───┐┌───┐┌───┐┌─────┐┌───┐┌───┐┌───┐┌───┐┌───┐»\n",
       " «q_1: ┤ H ├┤ T ├┤ H ├┤ T ├┤ H ├┤ T ├┤ H ├┤ Tdg ├┤ H ├┤ T ├┤ H ├┤ T ├┤ H ├»\n",
       " «     └───┘└───┘└───┘└───┘└───┘└───┘└───┘└─────┘└───┘└───┘└───┘└───┘└───┘»\n",
       " «                                                                             »\n",
       " «q_0: ────────────────────────────────────────────────────────────────────────»\n",
       " «     ┌─────┐┌─────┐┌───┐┌─────┐┌───┐┌─────┐┌───┐┌─────┐┌───┐┌─────┐┌───┐┌───┐»\n",
       " «q_1: ┤ Tdg ├┤ Tdg ├┤ H ├┤ Tdg ├┤ H ├┤ Tdg ├┤ H ├┤ Tdg ├┤ H ├┤ Tdg ├┤ H ├┤ T ├»\n",
       " «     └─────┘└─────┘└───┘└─────┘└───┘└─────┘└───┘└─────┘└───┘└─────┘└───┘└───┘»\n",
       " «                                                                             »\n",
       " «q_0: ────────────────────────────────────────────────────────────────────────»\n",
       " «     ┌───┐┌───┐┌───┐┌───┐┌───┐┌───┐┌───┐┌───┐┌───┐┌───┐┌───┐┌───┐┌─────┐┌───┐»\n",
       " «q_1: ┤ H ├┤ T ├┤ T ├┤ H ├┤ T ├┤ H ├┤ T ├┤ H ├┤ T ├┤ H ├┤ T ├┤ H ├┤ Tdg ├┤ H ├»\n",
       " «     └───┘└───┘└───┘└───┘└───┘└───┘└───┘└───┘└───┘└───┘└───┘└───┘└─────┘└───┘»\n",
       " «                                                                          »\n",
       " «q_0: ─────────────────────────────────────────────────────────────────────»\n",
       " «     ┌─────┐┌─────┐┌───┐┌─────┐┌───┐┌─────┐┌─────┐┌───┐┌─────┐┌───┐┌─────┐»\n",
       " «q_1: ┤ Tdg ├┤ Tdg ├┤ H ├┤ Tdg ├┤ H ├┤ Tdg ├┤ Tdg ├┤ H ├┤ Tdg ├┤ H ├┤ Tdg ├»\n",
       " «     └─────┘└─────┘└───┘└─────┘└───┘└─────┘└─────┘└───┘└─────┘└───┘└─────┘»\n",
       " «                                                                          »\n",
       " «q_0: ─────────────────────────────────────────────────────────────────────»\n",
       " «     ┌───┐┌─────┐┌───┐┌─────┐┌───┐┌───┐┌───┐┌───┐┌───┐┌───┐┌───┐┌───┐┌───┐»\n",
       " «q_1: ┤ H ├┤ Tdg ├┤ H ├┤ Tdg ├┤ H ├┤ T ├┤ H ├┤ T ├┤ T ├┤ H ├┤ T ├┤ H ├┤ T ├»\n",
       " «     └───┘└─────┘└───┘└─────┘└───┘└───┘└───┘└───┘└───┘└───┘└───┘└───┘└───┘»\n",
       " «                                                                          »\n",
       " «q_0: ─────────────────────────────────────────────────────────────────────»\n",
       " «     ┌───┐┌───┐┌───┐┌───┐┌───┐┌───┐┌───┐┌─────┐┌───┐┌─────┐┌───┐┌───┐┌───┐»\n",
       " «q_1: ┤ H ├┤ T ├┤ H ├┤ T ├┤ T ├┤ T ├┤ H ├┤ Tdg ├┤ H ├┤ Tdg ├┤ H ├┤ T ├┤ H ├»\n",
       " «     └───┘└───┘└───┘└───┘└───┘└───┘└───┘└─────┘└───┘└─────┘└───┘└───┘└───┘»\n",
       " «                                                                              »\n",
       " «q_0: ─────────────────────────────────────────────────────────────────────────»\n",
       " «     ┌───┐┌───┐┌─────┐┌───┐┌───┐┌───┐┌───┐┌───┐┌─────┐┌─────┐┌───┐┌─────┐┌───┐»\n",
       " «q_1: ┤ T ├┤ H ├┤ Tdg ├┤ H ├┤ T ├┤ H ├┤ T ├┤ H ├┤ Tdg ├┤ Tdg ├┤ H ├┤ Tdg ├┤ H ├»\n",
       " «     └───┘└───┘└─────┘└───┘└───┘└───┘└───┘└───┘└─────┘└─────┘└───┘└─────┘└───┘»\n",
       " «                                                                            »\n",
       " «q_0: ───────────────────────────────────────────────────────────────────────»\n",
       " «     ┌─────┐┌───┐┌───┐┌───┐┌─────┐┌───┐┌─────┐┌───┐┌───┐┌───┐┌───┐┌───┐┌───┐»\n",
       " «q_1: ┤ Tdg ├┤ H ├┤ T ├┤ H ├┤ Tdg ├┤ H ├┤ Tdg ├┤ H ├┤ T ├┤ H ├┤ T ├┤ T ├┤ H ├»\n",
       " «     └─────┘└───┘└───┘└───┘└─────┘└───┘└─────┘└───┘└───┘└───┘└───┘└───┘└───┘»\n",
       " «                                                                        »\n",
       " «q_0: ───────────────────────────────────────────────────────────────────»\n",
       " «     ┌───┐┌───┐┌───┐┌───┐┌───┐┌───┐┌───┐┌───┐┌───┐┌───┐┌───┐┌─────┐┌───┐»\n",
       " «q_1: ┤ T ├┤ H ├┤ T ├┤ H ├┤ T ├┤ H ├┤ T ├┤ T ├┤ T ├┤ T ├┤ H ├┤ Tdg ├┤ H ├»\n",
       " «     └───┘└───┘└───┘└───┘└───┘└───┘└───┘└───┘└───┘└───┘└───┘└─────┘└───┘»\n",
       " «                                                                              »\n",
       " «q_0: ─────────────────────────────────────────────────────────────────────────»\n",
       " «     ┌─────┐┌───┐┌───┐┌───┐┌─────┐┌───┐┌─────┐┌───┐┌───┐┌───┐┌───┐┌───┐┌─────┐»\n",
       " «q_1: ┤ Tdg ├┤ H ├┤ T ├┤ H ├┤ Tdg ├┤ H ├┤ Tdg ├┤ H ├┤ T ├┤ H ├┤ T ├┤ H ├┤ Tdg ├»\n",
       " «     └─────┘└───┘└───┘└───┘└─────┘└───┘└─────┘└───┘└───┘└───┘└───┘└───┘└─────┘»\n",
       " «                                                                          »\n",
       " «q_0: ─────────────────────────────────────────────────────────────────────»\n",
       " «     ┌─────┐┌─────┐┌───┐┌─────┐┌───┐┌─────┐┌───┐┌─────┐┌───┐┌─────┐┌─────┐»\n",
       " «q_1: ┤ Tdg ├┤ Tdg ├┤ H ├┤ Tdg ├┤ H ├┤ Tdg ├┤ H ├┤ Tdg ├┤ H ├┤ Tdg ├┤ Tdg ├»\n",
       " «     └─────┘└─────┘└───┘└─────┘└───┘└─────┘└───┘└─────┘└───┘└─────┘└─────┘»\n",
       " «                                                                          »\n",
       " «q_0: ─────────────────────────────────────────────────────────────────────»\n",
       " «     ┌───┐┌─────┐┌───┐┌───┐┌───┐┌───┐┌───┐┌─────┐┌───┐┌───┐┌───┐┌───┐┌───┐»\n",
       " «q_1: ┤ H ├┤ Tdg ├┤ H ├┤ T ├┤ H ├┤ T ├┤ H ├┤ Tdg ├┤ H ├┤ T ├┤ H ├┤ T ├┤ H ├»\n",
       " «     └───┘└─────┘└───┘└───┘└───┘└───┘└───┘└─────┘└───┘└───┘└───┘└───┘└───┘»\n",
       " «                                                                         »\n",
       " «q_0: ────────────────────────────────────────────────────────────────────»\n",
       " «     ┌───┐┌───┐┌───┐┌───┐┌─────┐┌───┐┌─────┐┌───┐┌─────┐┌───┐┌─────┐┌───┐»\n",
       " «q_1: ┤ T ├┤ H ├┤ T ├┤ H ├┤ Tdg ├┤ H ├┤ Tdg ├┤ H ├┤ Tdg ├┤ H ├┤ Tdg ├┤ H ├»\n",
       " «     └───┘└───┘└───┘└───┘└─────┘└───┘└─────┘└───┘└─────┘└───┘└─────┘└───┘»\n",
       " «                                                                            »\n",
       " «q_0: ───────────────────────────────────────────────────────────────────────»\n",
       " «     ┌─────┐┌─────┐┌───┐┌─────┐┌───┐┌───┐┌───┐┌───┐┌───┐┌───┐┌───┐┌───┐┌───┐»\n",
       " «q_1: ┤ Tdg ├┤ Tdg ├┤ H ├┤ Tdg ├┤ H ├┤ T ├┤ H ├┤ T ├┤ H ├┤ T ├┤ H ├┤ T ├┤ H ├»\n",
       " «     └─────┘└─────┘└───┘└─────┘└───┘└───┘└───┘└───┘└───┘└───┘└───┘└───┘└───┘»\n",
       " «                                                                              »\n",
       " «q_0: ─────────────────────────────────────────────────────────────────────────»\n",
       " «     ┌───┐┌───┐┌───┐┌─────┐┌───┐┌─────┐┌───┐┌───┐┌───┐┌─────┐┌───┐┌─────┐┌───┐»\n",
       " «q_1: ┤ T ├┤ T ├┤ H ├┤ Tdg ├┤ H ├┤ Tdg ├┤ H ├┤ T ├┤ H ├┤ Tdg ├┤ H ├┤ Tdg ├┤ H ├»\n",
       " «     └───┘└───┘└───┘└─────┘└───┘└─────┘└───┘└───┘└───┘└─────┘└───┘└─────┘└───┘»\n",
       " «                                                                          »\n",
       " «q_0: ─────────────────────────────────────────────────────────────────────»\n",
       " «     ┌─────┐┌───┐┌───┐┌───┐┌───┐┌───┐┌───┐┌─────┐┌───┐┌───┐┌───┐┌───┐┌───┐»\n",
       " «q_1: ┤ Tdg ├┤ H ├┤ T ├┤ H ├┤ T ├┤ T ├┤ H ├┤ Tdg ├┤ H ├┤ T ├┤ H ├┤ T ├┤ H ├»\n",
       " «     └─────┘└───┘└───┘└───┘└───┘└───┘└───┘└─────┘└───┘└───┘└───┘└───┘└───┘»\n",
       " «                                                                             »\n",
       " «q_0: ────────────────────────────────────────────────────────────────────────»\n",
       " «     ┌─────┐┌─────┐┌─────┐┌───┐┌─────┐┌───┐┌───┐┌───┐┌───┐┌───┐┌─────┐┌─────┐»\n",
       " «q_1: ┤ Tdg ├┤ Tdg ├┤ Tdg ├┤ H ├┤ Tdg ├┤ H ├┤ T ├┤ H ├┤ T ├┤ H ├┤ Tdg ├┤ Tdg ├»\n",
       " «     └─────┘└─────┘└─────┘└───┘└─────┘└───┘└───┘└───┘└───┘└───┘└─────┘└─────┘»\n",
       " «                                                                        »\n",
       " «q_0: ───────────────────────────────────────────────────────────────────»\n",
       " «     ┌───┐┌─────┐┌───┐┌───┐┌───┐┌───┐┌───┐┌───┐┌───┐┌───┐┌───┐┌───┐┌───┐»\n",
       " «q_1: ┤ H ├┤ Tdg ├┤ H ├┤ T ├┤ H ├┤ T ├┤ H ├┤ T ├┤ H ├┤ T ├┤ H ├┤ T ├┤ H ├»\n",
       " «     └───┘└─────┘└───┘└───┘└───┘└───┘└───┘└───┘└───┘└───┘└───┘└───┘└───┘»\n",
       " «                                                                           »\n",
       " «q_0: ──────────────────────────────────────────────────────────────────────»\n",
       " «     ┌─────┐┌───┐┌─────┐┌─────┐┌───┐┌─────┐┌───┐┌─────┐┌───┐┌───┐┌───┐┌───┐»\n",
       " «q_1: ┤ Tdg ├┤ H ├┤ Tdg ├┤ Tdg ├┤ H ├┤ Tdg ├┤ H ├┤ Tdg ├┤ H ├┤ T ├┤ H ├┤ T ├»\n",
       " «     └─────┘└───┘└─────┘└─────┘└───┘└─────┘└───┘└─────┘└───┘└───┘└───┘└───┘»\n",
       " «                                                                              »\n",
       " «q_0: ─────────────────────────────────────────────────────────────────────────»\n",
       " «     ┌───┐┌───┐┌───┐┌───┐┌───┐┌─────┐┌───┐┌─────┐┌───┐┌─────┐┌───┐┌─────┐┌───┐»\n",
       " «q_1: ┤ T ├┤ T ├┤ H ├┤ T ├┤ H ├┤ Tdg ├┤ H ├┤ Tdg ├┤ H ├┤ Tdg ├┤ H ├┤ Tdg ├┤ H ├»\n",
       " «     └───┘└───┘└───┘└───┘└───┘└─────┘└───┘└─────┘└───┘└─────┘└───┘└─────┘└───┘»\n",
       " «                                                                           »\n",
       " «q_0: ──────────────────────────────────────────────────────────────────────»\n",
       " «     ┌─────┐┌───┐┌─────┐┌───┐┌─────┐┌─────┐┌───┐┌─────┐┌───┐┌───┐┌───┐┌───┐»\n",
       " «q_1: ┤ Tdg ├┤ H ├┤ Tdg ├┤ H ├┤ Tdg ├┤ Tdg ├┤ H ├┤ Tdg ├┤ H ├┤ T ├┤ H ├┤ T ├»\n",
       " «     └─────┘└───┘└─────┘└───┘└─────┘└─────┘└───┘└─────┘└───┘└───┘└───┘└───┘»\n",
       " «                                                                         »\n",
       " «q_0: ────────────────────────────────────────────────────────────────────»\n",
       " «     ┌───┐┌───┐┌───┐┌─────┐┌───┐┌─────┐┌───┐┌───┐┌───┐┌─────┐┌─────┐┌───┐»\n",
       " «q_1: ┤ T ├┤ T ├┤ H ├┤ Tdg ├┤ H ├┤ Tdg ├┤ H ├┤ T ├┤ H ├┤ Tdg ├┤ Tdg ├┤ H ├»\n",
       " «     └───┘└───┘└───┘└─────┘└───┘└─────┘└───┘└───┘└───┘└─────┘└─────┘└───┘»\n",
       " «                                                                          »\n",
       " «q_0: ─────────────────────────────────────────────────────────────────────»\n",
       " «     ┌─────┐┌───┐┌───┐┌───┐┌───┐┌───┐┌───┐┌───┐┌─────┐┌───┐┌───┐┌───┐┌───┐»\n",
       " «q_1: ┤ Tdg ├┤ H ├┤ T ├┤ H ├┤ T ├┤ H ├┤ T ├┤ H ├┤ Tdg ├┤ H ├┤ T ├┤ H ├┤ T ├»\n",
       " «     └─────┘└───┘└───┘└───┘└───┘└───┘└───┘└───┘└─────┘└───┘└───┘└───┘└───┘»\n",
       " «                                                                          »\n",
       " «q_0: ─────────────────────────────────────────────────────────────────────»\n",
       " «     ┌───┐┌─────┐┌─────┐┌───┐┌───┐┌───┐┌───┐┌───┐┌───┐┌───┐┌───┐┌───┐┌───┐»\n",
       " «q_1: ┤ H ├┤ Tdg ├┤ Tdg ├┤ H ├┤ T ├┤ H ├┤ T ├┤ H ├┤ T ├┤ H ├┤ T ├┤ H ├┤ T ├»\n",
       " «     └───┘└─────┘└─────┘└───┘└───┘└───┘└───┘└───┘└───┘└───┘└───┘└───┘└───┘»\n",
       " «                                                                           »\n",
       " «q_0: ──────────────────────────────────────────────────────────────────────»\n",
       " «     ┌───┐┌───┐┌───┐┌───┐┌───┐┌─────┐┌───┐┌─────┐┌─────┐┌─────┐┌───┐┌─────┐»\n",
       " «q_1: ┤ H ├┤ T ├┤ H ├┤ T ├┤ H ├┤ Tdg ├┤ H ├┤ Tdg ├┤ Tdg ├┤ Tdg ├┤ H ├┤ Tdg ├»\n",
       " «     └───┘└───┘└───┘└───┘└───┘└─────┘└───┘└─────┘└─────┘└─────┘└───┘└─────┘»\n",
       " «                                                                          »\n",
       " «q_0: ─────────────────────────────────────────────────────────────────────»\n",
       " «     ┌───┐┌───┐┌───┐┌───┐┌───┐┌───┐┌───┐┌───┐┌───┐┌───┐┌─────┐┌───┐┌─────┐»\n",
       " «q_1: ┤ H ├┤ T ├┤ H ├┤ T ├┤ H ├┤ T ├┤ T ├┤ H ├┤ T ├┤ H ├┤ Tdg ├┤ H ├┤ Tdg ├»\n",
       " «     └───┘└───┘└───┘└───┘└───┘└───┘└───┘└───┘└───┘└───┘└─────┘└───┘└─────┘»\n",
       " «                                                                            »\n",
       " «q_0: ───────────────────────────────────────────────────────────────■───────»\n",
       " «     ┌───┐┌─────┐┌───┐┌─────┐┌───┐┌─────┐┌───┐┌───┐┌───┐┌───┐┌───┐┌─┴─┐┌───┐»\n",
       " «q_1: ┤ H ├┤ Tdg ├┤ H ├┤ Tdg ├┤ H ├┤ Tdg ├┤ H ├┤ T ├┤ H ├┤ T ├┤ T ├┤ X ├┤ H ├»\n",
       " «     └───┘└─────┘└───┘└─────┘└───┘└─────┘└───┘└───┘└───┘└───┘└───┘└───┘└───┘»\n",
       " «                                                                             »\n",
       " «q_0: ────────────────────────────────────────────────────────────────────────»\n",
       " «     ┌─────┐┌───┐┌─────┐┌───┐┌─────┐┌───┐┌─────┐┌───┐┌─────┐┌─────┐┌───┐┌───┐»\n",
       " «q_1: ┤ Tdg ├┤ H ├┤ Tdg ├┤ H ├┤ Tdg ├┤ H ├┤ Tdg ├┤ H ├┤ Tdg ├┤ Tdg ├┤ H ├┤ T ├»\n",
       " «     └─────┘└───┘└─────┘└───┘└─────┘└───┘└─────┘└───┘└─────┘└─────┘└───┘└───┘»\n",
       " «                                                                           »\n",
       " «q_0: ──────────────────────────────────────────────────────────────────────»\n",
       " «     ┌───┐┌───┐┌───┐┌─────┐┌───┐┌─────┐┌───┐┌─────┐┌───┐┌─────┐┌───┐┌─────┐»\n",
       " «q_1: ┤ H ├┤ T ├┤ H ├┤ Tdg ├┤ H ├┤ Tdg ├┤ H ├┤ Tdg ├┤ H ├┤ Tdg ├┤ H ├┤ Tdg ├»\n",
       " «     └───┘└───┘└───┘└─────┘└───┘└─────┘└───┘└─────┘└───┘└─────┘└───┘└─────┘»\n",
       " «                                                                          »\n",
       " «q_0: ─────────────────────────────────────────────────────────────────────»\n",
       " «     ┌─────┐┌───┐┌─────┐┌───┐┌───┐┌───┐┌───┐┌───┐┌───┐┌───┐┌───┐┌───┐┌───┐»\n",
       " «q_1: ┤ Tdg ├┤ H ├┤ Tdg ├┤ H ├┤ T ├┤ H ├┤ T ├┤ H ├┤ T ├┤ H ├┤ T ├┤ T ├┤ H ├»\n",
       " «     └─────┘└───┘└─────┘└───┘└───┘└───┘└───┘└───┘└───┘└───┘└───┘└───┘└───┘»\n",
       " «                                                                            »\n",
       " «q_0: ───────────────────────────────────────────────────────────────────────»\n",
       " «     ┌───┐┌───┐┌─────┐┌───┐┌─────┐┌───┐┌─────┐┌───┐┌───┐┌───┐┌───┐┌───┐┌───┐»\n",
       " «q_1: ┤ T ├┤ H ├┤ Tdg ├┤ H ├┤ Tdg ├┤ H ├┤ Tdg ├┤ H ├┤ T ├┤ H ├┤ T ├┤ T ├┤ H ├»\n",
       " «     └───┘└───┘└─────┘└───┘└─────┘└───┘└─────┘└───┘└───┘└───┘└───┘└───┘└───┘»\n",
       " «                                                                          »\n",
       " «q_0: ─────────────────────────────────────────────────────────────────────»\n",
       " «     ┌───┐┌───┐┌───┐┌───┐┌─────┐┌───┐┌─────┐┌───┐┌───┐┌───┐┌───┐┌───┐┌───┐»\n",
       " «q_1: ┤ T ├┤ H ├┤ T ├┤ H ├┤ Tdg ├┤ H ├┤ Tdg ├┤ H ├┤ T ├┤ H ├┤ T ├┤ H ├┤ T ├»\n",
       " «     └───┘└───┘└───┘└───┘└─────┘└───┘└─────┘└───┘└───┘└───┘└───┘└───┘└───┘»\n",
       " «                                                                            »\n",
       " «q_0: ───────────────────────────────────────────────────────────────────────»\n",
       " «     ┌───┐┌───┐┌───┐┌───┐┌───┐┌───┐┌───┐┌───┐┌───┐┌─────┐┌───┐┌─────┐┌─────┐»\n",
       " «q_1: ┤ H ├┤ T ├┤ H ├┤ T ├┤ H ├┤ T ├┤ H ├┤ T ├┤ H ├┤ Tdg ├┤ H ├┤ Tdg ├┤ Tdg ├»\n",
       " «     └───┘└───┘└───┘└───┘└───┘└───┘└───┘└───┘└───┘└─────┘└───┘└─────┘└─────┘»\n",
       " «                                                                              »\n",
       " «q_0: ─────────────────────────────────────────────────────────────────────────»\n",
       " «     ┌───┐┌─────┐┌───┐┌─────┐┌───┐┌─────┐┌───┐┌─────┐┌───┐┌───┐┌───┐┌───┐┌───┐»\n",
       " «q_1: ┤ H ├┤ Tdg ├┤ H ├┤ Tdg ├┤ H ├┤ Tdg ├┤ H ├┤ Tdg ├┤ H ├┤ T ├┤ H ├┤ T ├┤ H ├»\n",
       " «     └───┘└─────┘└───┘└─────┘└───┘└─────┘└───┘└─────┘└───┘└───┘└───┘└───┘└───┘»\n",
       " «                                                                             »\n",
       " «q_0: ────────────────────────────────────────────────────────────────────────»\n",
       " «     ┌─────┐┌───┐┌─────┐┌───┐┌─────┐┌───┐┌─────┐┌───┐┌─────┐┌───┐┌─────┐┌───┐»\n",
       " «q_1: ┤ Tdg ├┤ H ├┤ Tdg ├┤ H ├┤ Tdg ├┤ H ├┤ Tdg ├┤ H ├┤ Tdg ├┤ H ├┤ Tdg ├┤ H ├»\n",
       " «     └─────┘└───┘└─────┘└───┘└─────┘└───┘└─────┘└───┘└─────┘└───┘└─────┘└───┘»\n",
       " «                                                                           »\n",
       " «q_0: ──────────────────────────────────────────────────────────────────────»\n",
       " «     ┌─────┐┌───┐┌───┐┌───┐┌───┐┌───┐┌─────┐┌───┐┌─────┐┌───┐┌─────┐┌─────┐»\n",
       " «q_1: ┤ Tdg ├┤ H ├┤ T ├┤ H ├┤ T ├┤ H ├┤ Tdg ├┤ H ├┤ Tdg ├┤ H ├┤ Tdg ├┤ Tdg ├»\n",
       " «     └─────┘└───┘└───┘└───┘└───┘└───┘└─────┘└───┘└─────┘└───┘└─────┘└─────┘»\n",
       " «                                                                            »\n",
       " «q_0: ───────────────────────────────────────────────────────────────────────»\n",
       " «     ┌───┐┌─────┐┌───┐┌───┐┌───┐┌───┐┌───┐┌───┐┌───┐┌─────┐┌───┐┌─────┐┌───┐»\n",
       " «q_1: ┤ H ├┤ Tdg ├┤ H ├┤ T ├┤ H ├┤ T ├┤ H ├┤ T ├┤ H ├┤ Tdg ├┤ H ├┤ Tdg ├┤ H ├»\n",
       " «     └───┘└─────┘└───┘└───┘└───┘└───┘└───┘└───┘└───┘└─────┘└───┘└─────┘└───┘»\n",
       " «                                                                           »\n",
       " «q_0: ──────────────────────────────────────────────────────────────────────»\n",
       " «     ┌───┐┌───┐┌───┐┌───┐┌───┐┌───┐┌───┐┌───┐┌───┐┌───┐┌───┐┌───┐┌───┐┌───┐»\n",
       " «q_1: ┤ T ├┤ H ├┤ T ├┤ H ├┤ T ├┤ H ├┤ T ├┤ H ├┤ T ├┤ H ├┤ T ├┤ H ├┤ T ├┤ H ├»\n",
       " «     └───┘└───┘└───┘└───┘└───┘└───┘└───┘└───┘└───┘└───┘└───┘└───┘└───┘└───┘»\n",
       " «                                                                          »\n",
       " «q_0: ─────────────────────────────────────────────────────────────────────»\n",
       " «     ┌───┐┌───┐┌───┐┌───┐┌─────┐┌───┐┌─────┐┌───┐┌───┐┌───┐┌───┐┌───┐┌───┐»\n",
       " «q_1: ┤ T ├┤ H ├┤ T ├┤ H ├┤ Tdg ├┤ H ├┤ Tdg ├┤ H ├┤ T ├┤ H ├┤ T ├┤ H ├┤ T ├»\n",
       " «     └───┘└───┘└───┘└───┘└─────┘└───┘└─────┘└───┘└───┘└───┘└───┘└───┘└───┘»\n",
       " «                                                                            »\n",
       " «q_0: ───────────────────────────────────────────────────────────────────────»\n",
       " «     ┌───┐┌───┐┌───┐┌───┐┌───┐┌───┐┌───┐┌───┐┌─────┐┌───┐┌─────┐┌───┐┌─────┐»\n",
       " «q_1: ┤ H ├┤ T ├┤ H ├┤ T ├┤ T ├┤ H ├┤ T ├┤ H ├┤ Tdg ├┤ H ├┤ Tdg ├┤ H ├┤ Tdg ├»\n",
       " «     └───┘└───┘└───┘└───┘└───┘└───┘└───┘└───┘└─────┘└───┘└─────┘└───┘└─────┘»\n",
       " «                                                                             »\n",
       " «q_0: ────────────────────────────────────────────────────────────────────────»\n",
       " «     ┌───┐┌─────┐┌───┐┌─────┐┌───┐┌─────┐┌───┐┌─────┐┌───┐┌─────┐┌───┐┌─────┐»\n",
       " «q_1: ┤ H ├┤ Tdg ├┤ H ├┤ Tdg ├┤ H ├┤ Tdg ├┤ H ├┤ Tdg ├┤ H ├┤ Tdg ├┤ H ├┤ Tdg ├»\n",
       " «     └───┘└─────┘└───┘└─────┘└───┘└─────┘└───┘└─────┘└───┘└─────┘└───┘└─────┘»\n",
       " «                                                                            »\n",
       " «q_0: ───────────────────────────────────────────────────────────────────────»\n",
       " «     ┌───┐┌─────┐┌─────┐┌───┐┌─────┐┌───┐┌───┐┌───┐┌───┐┌───┐┌───┐┌───┐┌───┐»\n",
       " «q_1: ┤ H ├┤ Tdg ├┤ Tdg ├┤ H ├┤ Tdg ├┤ H ├┤ T ├┤ H ├┤ T ├┤ H ├┤ T ├┤ H ├┤ T ├»\n",
       " «     └───┘└─────┘└─────┘└───┘└─────┘└───┘└───┘└───┘└───┘└───┘└───┘└───┘└───┘»\n",
       " «                                                                              »\n",
       " «q_0: ─────────────────────────────────────────────────────────────────────────»\n",
       " «     ┌───┐┌───┐┌───┐┌───┐┌───┐┌───┐┌─────┐┌───┐┌─────┐┌───┐┌─────┐┌───┐┌─────┐»\n",
       " «q_1: ┤ H ├┤ T ├┤ T ├┤ H ├┤ T ├┤ H ├┤ Tdg ├┤ H ├┤ Tdg ├┤ H ├┤ Tdg ├┤ H ├┤ Tdg ├»\n",
       " «     └───┘└───┘└───┘└───┘└───┘└───┘└─────┘└───┘└─────┘└───┘└─────┘└───┘└─────┘»\n",
       " «                                                                              »\n",
       " «q_0: ─────────────────────────────────────────────────────────────────────────»\n",
       " «     ┌───┐┌─────┐┌───┐┌───┐┌───┐┌───┐┌───┐┌─────┐┌───┐┌─────┐┌───┐┌─────┐┌───┐»\n",
       " «q_1: ┤ H ├┤ Tdg ├┤ H ├┤ T ├┤ H ├┤ T ├┤ H ├┤ Tdg ├┤ H ├┤ Tdg ├┤ H ├┤ Tdg ├┤ H ├»\n",
       " «     └───┘└─────┘└───┘└───┘└───┘└───┘└───┘└─────┘└───┘└─────┘└───┘└─────┘└───┘»\n",
       " «                                                                              »\n",
       " «q_0: ─────────────────────────────────────────────────────────────────────────»\n",
       " «     ┌─────┐┌───┐┌───┐┌───┐┌───┐┌───┐┌───┐┌───┐┌─────┐┌───┐┌─────┐┌─────┐┌───┐»\n",
       " «q_1: ┤ Tdg ├┤ H ├┤ T ├┤ H ├┤ T ├┤ H ├┤ T ├┤ H ├┤ Tdg ├┤ H ├┤ Tdg ├┤ Tdg ├┤ H ├»\n",
       " «     └─────┘└───┘└───┘└───┘└───┘└───┘└───┘└───┘└─────┘└───┘└─────┘└─────┘└───┘»\n",
       " «                                                                           »\n",
       " «q_0: ──────────────────────────────────────────────────────────────────────»\n",
       " «     ┌───┐┌───┐┌───┐┌───┐┌───┐┌───┐┌───┐┌───┐┌───┐┌───┐┌───┐┌───┐┌───┐┌───┐»\n",
       " «q_1: ┤ T ├┤ H ├┤ T ├┤ H ├┤ T ├┤ H ├┤ T ├┤ H ├┤ T ├┤ T ├┤ T ├┤ H ├┤ T ├┤ H ├»\n",
       " «     └───┘└───┘└───┘└───┘└───┘└───┘└───┘└───┘└───┘└───┘└───┘└───┘└───┘└───┘»\n",
       " «                                                                           »\n",
       " «q_0: ──────────────────────────────────────────────────────────────────────»\n",
       " «     ┌─────┐┌───┐┌─────┐┌───┐┌─────┐┌─────┐┌───┐┌───┐┌───┐┌───┐┌───┐┌─────┐»\n",
       " «q_1: ┤ Tdg ├┤ H ├┤ Tdg ├┤ H ├┤ Tdg ├┤ Tdg ├┤ H ├┤ T ├┤ H ├┤ T ├┤ H ├┤ Tdg ├»\n",
       " «     └─────┘└───┘└─────┘└───┘└─────┘└─────┘└───┘└───┘└───┘└───┘└───┘└─────┘»\n",
       " «                                                                            »\n",
       " «q_0: ───────────────────────────────────────────────────────────────────────»\n",
       " «     ┌───┐┌─────┐┌─────┐┌───┐┌─────┐┌───┐┌───┐┌───┐┌───┐┌───┐┌───┐┌───┐┌───┐»\n",
       " «q_1: ┤ H ├┤ Tdg ├┤ Tdg ├┤ H ├┤ Tdg ├┤ H ├┤ T ├┤ H ├┤ T ├┤ H ├┤ T ├┤ H ├┤ T ├»\n",
       " «     └───┘└─────┘└─────┘└───┘└─────┘└───┘└───┘└───┘└───┘└───┘└───┘└───┘└───┘»\n",
       " «                                                                           »\n",
       " «q_0: ──────────────────────────────────────────────────────────────────────»\n",
       " «     ┌───┐┌───┐┌───┐┌─────┐┌───┐┌─────┐┌─────┐┌───┐┌─────┐┌───┐┌─────┐┌───┐»\n",
       " «q_1: ┤ H ├┤ T ├┤ H ├┤ Tdg ├┤ H ├┤ Tdg ├┤ Tdg ├┤ H ├┤ Tdg ├┤ H ├┤ Tdg ├┤ H ├»\n",
       " «     └───┘└───┘└───┘└─────┘└───┘└─────┘└─────┘└───┘└─────┘└───┘└─────┘└───┘»\n",
       " «                                                                          »\n",
       " «q_0: ─────────────────────────────────────────────────────────────────────»\n",
       " «     ┌─────┐┌───┐┌─────┐┌───┐┌───┐┌───┐┌───┐┌───┐┌───┐┌───┐┌───┐┌───┐┌───┐»\n",
       " «q_1: ┤ Tdg ├┤ H ├┤ Tdg ├┤ H ├┤ T ├┤ H ├┤ T ├┤ T ├┤ H ├┤ T ├┤ H ├┤ T ├┤ H ├»\n",
       " «     └─────┘└───┘└─────┘└───┘└───┘└───┘└───┘└───┘└───┘└───┘└───┘└───┘└───┘»\n",
       " «                                                                          »\n",
       " «q_0: ─────────────────────────────────────────────────────────────────────»\n",
       " «     ┌───┐┌───┐┌─────┐┌───┐┌─────┐┌───┐┌───┐┌───┐┌───┐┌───┐┌───┐┌───┐┌───┐»\n",
       " «q_1: ┤ T ├┤ H ├┤ Tdg ├┤ H ├┤ Tdg ├┤ H ├┤ T ├┤ T ├┤ H ├┤ T ├┤ H ├┤ T ├┤ H ├»\n",
       " «     └───┘└───┘└─────┘└───┘└─────┘└───┘└───┘└───┘└───┘└───┘└───┘└───┘└───┘»\n",
       " «                                                                          »\n",
       " «q_0: ─────────────────────────────────────────────────────────────────────»\n",
       " «     ┌─────┐┌───┐┌─────┐┌─────┐┌─────┐┌───┐┌─────┐┌───┐┌─────┐┌───┐┌─────┐»\n",
       " «q_1: ┤ Tdg ├┤ H ├┤ Tdg ├┤ Tdg ├┤ Tdg ├┤ H ├┤ Tdg ├┤ H ├┤ Tdg ├┤ H ├┤ Tdg ├»\n",
       " «     └─────┘└───┘└─────┘└─────┘└─────┘└───┘└─────┘└───┘└─────┘└───┘└─────┘»\n",
       " «                                                                              »\n",
       " «q_0: ─────────────────────────────────────────────────────────────────────────»\n",
       " «     ┌───┐┌─────┐┌───┐┌───┐┌───┐┌───┐┌───┐┌───┐┌─────┐┌───┐┌─────┐┌───┐┌─────┐»\n",
       " «q_1: ┤ H ├┤ Tdg ├┤ H ├┤ T ├┤ T ├┤ H ├┤ T ├┤ H ├┤ Tdg ├┤ H ├┤ Tdg ├┤ H ├┤ Tdg ├»\n",
       " «     └───┘└─────┘└───┘└───┘└───┘└───┘└───┘└───┘└─────┘└───┘└─────┘└───┘└─────┘»\n",
       " «                                                                           »\n",
       " «q_0: ──────────────────────────────────────────────────────────────────────»\n",
       " «     ┌───┐┌───┐┌───┐┌───┐┌───┐┌───┐┌───┐┌───┐┌───┐┌───┐┌───┐┌───┐┌───┐┌───┐»\n",
       " «q_1: ┤ H ├┤ T ├┤ H ├┤ T ├┤ H ├┤ T ├┤ H ├┤ T ├┤ H ├┤ T ├┤ T ├┤ H ├┤ T ├┤ H ├»\n",
       " «     └───┘└───┘└───┘└───┘└───┘└───┘└───┘└───┘└───┘└───┘└───┘└───┘└───┘└───┘»\n",
       " «                                                                           »\n",
       " «q_0: ──────────────────────────────────────────────────────────────────────»\n",
       " «     ┌───┐┌───┐┌─────┐┌───┐┌─────┐┌─────┐┌───┐┌─────┐┌───┐┌─────┐┌───┐┌───┐»\n",
       " «q_1: ┤ T ├┤ H ├┤ Tdg ├┤ H ├┤ Tdg ├┤ Tdg ├┤ H ├┤ Tdg ├┤ H ├┤ Tdg ├┤ H ├┤ T ├»\n",
       " «     └───┘└───┘└─────┘└───┘└─────┘└─────┘└───┘└─────┘└───┘└─────┘└───┘└───┘»\n",
       " «                                                                              »\n",
       " «q_0: ─────────────────────────────────────────────────────────────────────────»\n",
       " «     ┌───┐┌───┐┌───┐┌───┐┌───┐┌───┐┌───┐┌─────┐┌───┐┌─────┐┌───┐┌─────┐┌─────┐»\n",
       " «q_1: ┤ H ├┤ T ├┤ T ├┤ T ├┤ H ├┤ T ├┤ H ├┤ Tdg ├┤ H ├┤ Tdg ├┤ H ├┤ Tdg ├┤ Tdg ├»\n",
       " «     └───┘└───┘└───┘└───┘└───┘└───┘└───┘└─────┘└───┘└─────┘└───┘└─────┘└─────┘»\n",
       " «                                                                              »\n",
       " «q_0: ─────────────────────────────────────────────────────────────────────────»\n",
       " «     ┌───┐┌─────┐┌───┐┌───┐┌───┐┌───┐┌───┐┌─────┐┌───┐┌─────┐┌───┐┌─────┐┌───┐»\n",
       " «q_1: ┤ H ├┤ Tdg ├┤ H ├┤ T ├┤ H ├┤ T ├┤ H ├┤ Tdg ├┤ H ├┤ Tdg ├┤ H ├┤ Tdg ├┤ H ├»\n",
       " «     └───┘└─────┘└───┘└───┘└───┘└───┘└───┘└─────┘└───┘└─────┘└───┘└─────┘└───┘»\n",
       " «                                                                              »\n",
       " «q_0: ─────────────────────────────────────────────────────────────────────────»\n",
       " «     ┌─────┐┌───┐┌─────┐┌─────┐┌───┐┌─────┐┌───┐┌───┐┌───┐┌───┐┌───┐┌───┐┌───┐»\n",
       " «q_1: ┤ Tdg ├┤ H ├┤ Tdg ├┤ Tdg ├┤ H ├┤ Tdg ├┤ H ├┤ T ├┤ H ├┤ T ├┤ H ├┤ T ├┤ H ├»\n",
       " «     └─────┘└───┘└─────┘└─────┘└───┘└─────┘└───┘└───┘└───┘└───┘└───┘└───┘└───┘»\n",
       " «                                                                            »\n",
       " «q_0: ───────────────────────────────────────────────────────────────────────»\n",
       " «     ┌───┐┌───┐┌───┐┌───┐┌───┐┌───┐┌───┐┌─────┐┌───┐┌─────┐┌───┐┌─────┐┌───┐»\n",
       " «q_1: ┤ T ├┤ H ├┤ T ├┤ T ├┤ H ├┤ T ├┤ H ├┤ Tdg ├┤ H ├┤ Tdg ├┤ H ├┤ Tdg ├┤ H ├»\n",
       " «     └───┘└───┘└───┘└───┘└───┘└───┘└───┘└─────┘└───┘└─────┘└───┘└─────┘└───┘»\n",
       " «                                                                          »\n",
       " «q_0: ─────────────────────────────────────────────────────────────────────»\n",
       " «     ┌───┐┌───┐┌───┐┌───┐┌───┐┌───┐┌─────┐┌───┐┌─────┐┌───┐┌───┐┌───┐┌───┐»\n",
       " «q_1: ┤ T ├┤ H ├┤ T ├┤ H ├┤ T ├┤ H ├┤ Tdg ├┤ H ├┤ Tdg ├┤ H ├┤ T ├┤ H ├┤ T ├»\n",
       " «     └───┘└───┘└───┘└───┘└───┘└───┘└─────┘└───┘└─────┘└───┘└───┘└───┘└───┘»\n",
       " «                                                                              »\n",
       " «q_0: ─────────────────────────────────────────────────────────────────────────»\n",
       " «     ┌───┐┌─────┐┌───┐┌─────┐┌───┐┌─────┐┌───┐┌───┐┌───┐┌───┐┌───┐┌───┐┌─────┐»\n",
       " «q_1: ┤ H ├┤ Tdg ├┤ H ├┤ Tdg ├┤ H ├┤ Tdg ├┤ H ├┤ T ├┤ H ├┤ T ├┤ T ├┤ H ├┤ Tdg ├»\n",
       " «     └───┘└─────┘└───┘└─────┘└───┘└─────┘└───┘└───┘└───┘└───┘└───┘└───┘└─────┘»\n",
       " «                                                                              »\n",
       " «q_0: ─────────────────────────────────────────────────────────────────────────»\n",
       " «     ┌───┐┌───┐┌───┐┌───┐┌───┐┌───┐┌───┐┌─────┐┌───┐┌─────┐┌─────┐┌─────┐┌───┐»\n",
       " «q_1: ┤ H ├┤ T ├┤ H ├┤ T ├┤ H ├┤ T ├┤ H ├┤ Tdg ├┤ H ├┤ Tdg ├┤ Tdg ├┤ Tdg ├┤ H ├»\n",
       " «     └───┘└───┘└───┘└───┘└───┘└───┘└───┘└─────┘└───┘└─────┘└─────┘└─────┘└───┘»\n",
       " «                                                                              »\n",
       " «q_0: ─────────────────────────────────────────────────────────────────────────»\n",
       " «     ┌─────┐┌───┐┌───┐┌───┐┌───┐┌───┐┌───┐┌───┐┌─────┐┌───┐┌─────┐┌─────┐┌───┐»\n",
       " «q_1: ┤ Tdg ├┤ H ├┤ T ├┤ H ├┤ T ├┤ H ├┤ T ├┤ H ├┤ Tdg ├┤ H ├┤ Tdg ├┤ Tdg ├┤ H ├»\n",
       " «     └─────┘└───┘└───┘└───┘└───┘└───┘└───┘└───┘└─────┘└───┘└─────┘└─────┘└───┘»\n",
       " «                                                                              »\n",
       " «q_0: ─────────────────────────────────────────────────────────────────────────»\n",
       " «     ┌─────┐┌───┐┌─────┐┌───┐┌─────┐┌───┐┌─────┐┌───┐┌───┐┌───┐┌───┐┌───┐┌───┐»\n",
       " «q_1: ┤ Tdg ├┤ H ├┤ Tdg ├┤ H ├┤ Tdg ├┤ H ├┤ Tdg ├┤ H ├┤ T ├┤ H ├┤ T ├┤ T ├┤ H ├»\n",
       " «     └─────┘└───┘└─────┘└───┘└─────┘└───┘└─────┘└───┘└───┘└───┘└───┘└───┘└───┘»\n",
       " «                                                                        »\n",
       " «q_0: ───────────────────────────────────────────────────────────────────»\n",
       " «     ┌───┐┌───┐┌───┐┌───┐┌───┐┌───┐┌───┐┌───┐┌───┐┌───┐┌───┐┌─────┐┌───┐»\n",
       " «q_1: ┤ T ├┤ H ├┤ T ├┤ H ├┤ T ├┤ H ├┤ T ├┤ T ├┤ H ├┤ T ├┤ H ├┤ Tdg ├┤ H ├»\n",
       " «     └───┘└───┘└───┘└───┘└───┘└───┘└───┘└───┘└───┘└───┘└───┘└─────┘└───┘»\n",
       " «                                                                           »\n",
       " «q_0: ──────────────────────────────────────────────────────────────────────»\n",
       " «     ┌─────┐┌───┐┌─────┐┌───┐┌───┐┌───┐┌─────┐┌─────┐┌───┐┌─────┐┌───┐┌───┐»\n",
       " «q_1: ┤ Tdg ├┤ H ├┤ Tdg ├┤ H ├┤ T ├┤ H ├┤ Tdg ├┤ Tdg ├┤ H ├┤ Tdg ├┤ H ├┤ T ├»\n",
       " «     └─────┘└───┘└─────┘└───┘└───┘└───┘└─────┘└─────┘└───┘└─────┘└───┘└───┘»\n",
       " «                                                                          »\n",
       " «q_0: ─────────────────────────────────────────────────────────────────────»\n",
       " «     ┌───┐┌───┐┌───┐┌───┐┌───┐┌─────┐┌───┐┌─────┐┌───┐┌───┐┌───┐┌───┐┌───┐»\n",
       " «q_1: ┤ H ├┤ T ├┤ H ├┤ T ├┤ H ├┤ Tdg ├┤ H ├┤ Tdg ├┤ H ├┤ T ├┤ H ├┤ T ├┤ H ├»\n",
       " «     └───┘└───┘└───┘└───┘└───┘└─────┘└───┘└─────┘└───┘└───┘└───┘└───┘└───┘»\n",
       " «                                                                             »\n",
       " «q_0: ────────────────────────────────────────────────────────────────────────»\n",
       " «     ┌─────┐┌─────┐┌───┐┌─────┐┌───┐┌─────┐┌───┐┌─────┐┌───┐┌─────┐┌───┐┌───┐»\n",
       " «q_1: ┤ Tdg ├┤ Tdg ├┤ H ├┤ Tdg ├┤ H ├┤ Tdg ├┤ H ├┤ Tdg ├┤ H ├┤ Tdg ├┤ H ├┤ T ├»\n",
       " «     └─────┘└─────┘└───┘└─────┘└───┘└─────┘└───┘└─────┘└───┘└─────┘└───┘└───┘»\n",
       " «                                                                             »\n",
       " «q_0: ────────────────────────────────────────────────────────────────────────»\n",
       " «     ┌───┐┌───┐┌───┐┌───┐┌───┐┌───┐┌───┐┌───┐┌───┐┌───┐┌───┐┌───┐┌─────┐┌───┐»\n",
       " «q_1: ┤ H ├┤ T ├┤ T ├┤ H ├┤ T ├┤ H ├┤ T ├┤ H ├┤ T ├┤ H ├┤ T ├┤ H ├┤ Tdg ├┤ H ├»\n",
       " «     └───┘└───┘└───┘└───┘└───┘└───┘└───┘└───┘└───┘└───┘└───┘└───┘└─────┘└───┘»\n",
       " «                                                                            »\n",
       " «q_0: ───────────────────────────────────────────────────────────────────────»\n",
       " «     ┌─────┐┌───┐┌───┐┌───┐┌─────┐┌───┐┌─────┐┌───┐┌───┐┌───┐┌───┐┌───┐┌───┐»\n",
       " «q_1: ┤ Tdg ├┤ H ├┤ T ├┤ H ├┤ Tdg ├┤ H ├┤ Tdg ├┤ H ├┤ T ├┤ H ├┤ T ├┤ T ├┤ H ├»\n",
       " «     └─────┘└───┘└───┘└───┘└─────┘└───┘└─────┘└───┘└───┘└───┘└───┘└───┘└───┘»\n",
       " «                                                                           »\n",
       " «q_0: ──────────────────────────────────────────────────────────────────────»\n",
       " «     ┌───┐┌───┐┌───┐┌───┐┌─────┐┌───┐┌─────┐┌─────┐┌─────┐┌───┐┌─────┐┌───┐»\n",
       " «q_1: ┤ T ├┤ H ├┤ T ├┤ H ├┤ Tdg ├┤ H ├┤ Tdg ├┤ Tdg ├┤ Tdg ├┤ H ├┤ Tdg ├┤ H ├»\n",
       " «     └───┘└───┘└───┘└───┘└─────┘└───┘└─────┘└─────┘└─────┘└───┘└─────┘└───┘»\n",
       " «                                                                          »\n",
       " «q_0: ─────────────────────────────────────────────────────────────────────»\n",
       " «     ┌───┐┌───┐┌───┐┌───┐┌───┐┌───┐┌───┐┌───┐┌───┐┌─────┐┌───┐┌─────┐┌───┐»\n",
       " «q_1: ┤ T ├┤ H ├┤ T ├┤ H ├┤ T ├┤ T ├┤ H ├┤ T ├┤ H ├┤ Tdg ├┤ H ├┤ Tdg ├┤ H ├»\n",
       " «     └───┘└───┘└───┘└───┘└───┘└───┘└───┘└───┘└───┘└─────┘└───┘└─────┘└───┘»\n",
       " «                                                                             »\n",
       " «q_0: ────────────────────────────────────────────────────────────────────────»\n",
       " «     ┌─────┐┌─────┐┌───┐┌─────┐┌───┐┌─────┐┌───┐┌─────┐┌───┐┌─────┐┌───┐┌───┐»\n",
       " «q_1: ┤ Tdg ├┤ Tdg ├┤ H ├┤ Tdg ├┤ H ├┤ Tdg ├┤ H ├┤ Tdg ├┤ H ├┤ Tdg ├┤ H ├┤ T ├»\n",
       " «     └─────┘└─────┘└───┘└─────┘└───┘└─────┘└───┘└─────┘└───┘└─────┘└───┘└───┘»\n",
       " «                                                                            »\n",
       " «q_0: ───────────────────────────────────────────────────────────────────────»\n",
       " «     ┌───┐┌───┐┌───┐┌───┐┌───┐┌─────┐┌───┐┌─────┐┌─────┐┌───┐┌───┐┌───┐┌───┐»\n",
       " «q_1: ┤ H ├┤ T ├┤ H ├┤ T ├┤ H ├┤ Tdg ├┤ H ├┤ Tdg ├┤ Tdg ├┤ H ├┤ T ├┤ H ├┤ T ├»\n",
       " «     └───┘└───┘└───┘└───┘└───┘└─────┘└───┘└─────┘└─────┘└───┘└───┘└───┘└───┘»\n",
       " «                                                                        »\n",
       " «q_0: ───────────────────────────────────────────────────────────────────»\n",
       " «     ┌───┐┌───┐┌───┐┌───┐┌───┐┌───┐┌───┐┌───┐┌───┐┌───┐┌───┐┌─────┐┌───┐»\n",
       " «q_1: ┤ H ├┤ T ├┤ H ├┤ T ├┤ H ├┤ T ├┤ T ├┤ T ├┤ H ├┤ T ├┤ H ├┤ Tdg ├┤ H ├»\n",
       " «     └───┘└───┘└───┘└───┘└───┘└───┘└───┘└───┘└───┘└───┘└───┘└─────┘└───┘»\n",
       " «                                                                           »\n",
       " «q_0: ──────────────────────────────────────────────────────────────────────»\n",
       " «     ┌─────┐┌───┐┌─────┐┌─────┐┌───┐┌───┐┌───┐┌───┐┌───┐┌─────┐┌───┐┌─────┐»\n",
       " «q_1: ┤ Tdg ├┤ H ├┤ Tdg ├┤ Tdg ├┤ H ├┤ T ├┤ H ├┤ T ├┤ H ├┤ Tdg ├┤ H ├┤ Tdg ├»\n",
       " «     └─────┘└───┘└─────┘└─────┘└───┘└───┘└───┘└───┘└───┘└─────┘└───┘└─────┘»\n",
       " «                                                                              »\n",
       " «q_0: ─────────────────────────────────────────────────────────────────────────»\n",
       " «     ┌───┐┌─────┐┌───┐┌─────┐┌─────┐┌───┐┌─────┐┌───┐┌───┐┌───┐┌───┐┌───┐┌───┐»\n",
       " «q_1: ┤ H ├┤ Tdg ├┤ H ├┤ Tdg ├┤ Tdg ├┤ H ├┤ Tdg ├┤ H ├┤ T ├┤ H ├┤ T ├┤ H ├┤ T ├»\n",
       " «     └───┘└─────┘└───┘└─────┘└─────┘└───┘└─────┘└───┘└───┘└───┘└───┘└───┘└───┘»\n",
       " «                                                                            »\n",
       " «q_0: ───────────────────────────────────────────────────────────────────────»\n",
       " «     ┌───┐┌───┐┌───┐┌───┐┌───┐┌───┐┌───┐┌───┐┌─────┐┌───┐┌─────┐┌───┐┌─────┐»\n",
       " «q_1: ┤ H ├┤ T ├┤ H ├┤ T ├┤ T ├┤ H ├┤ T ├┤ H ├┤ Tdg ├┤ H ├┤ Tdg ├┤ H ├┤ Tdg ├»\n",
       " «     └───┘└───┘└───┘└───┘└───┘└───┘└───┘└───┘└─────┘└───┘└─────┘└───┘└─────┘»\n",
       " «                                                                            »\n",
       " «q_0: ───────────────────────────────────────────────────────────────────────»\n",
       " «     ┌───┐┌─────┐┌───┐┌─────┐┌───┐┌───┐┌───┐┌───┐┌───┐┌───┐┌───┐┌───┐┌─────┐»\n",
       " «q_1: ┤ H ├┤ Tdg ├┤ H ├┤ Tdg ├┤ H ├┤ T ├┤ H ├┤ T ├┤ T ├┤ H ├┤ T ├┤ H ├┤ Tdg ├»\n",
       " «     └───┘└─────┘└───┘└─────┘└───┘└───┘└───┘└───┘└───┘└───┘└───┘└───┘└─────┘»\n",
       " «                                                                            »\n",
       " «q_0: ───────────────────────────────────────────────────────────────────────»\n",
       " «     ┌───┐┌─────┐┌───┐┌───┐┌───┐┌───┐┌───┐┌───┐┌───┐┌───┐┌─────┐┌───┐┌─────┐»\n",
       " «q_1: ┤ H ├┤ Tdg ├┤ H ├┤ T ├┤ T ├┤ H ├┤ T ├┤ H ├┤ T ├┤ H ├┤ Tdg ├┤ H ├┤ Tdg ├»\n",
       " «     └───┘└─────┘└───┘└───┘└───┘└───┘└───┘└───┘└───┘└───┘└─────┘└───┘└─────┘»\n",
       " «                                                                             »\n",
       " «q_0: ────────────────────────────────────────────────────────────────────────»\n",
       " «     ┌─────┐┌─────┐┌───┐┌─────┐┌───┐┌─────┐┌───┐┌─────┐┌───┐┌─────┐┌───┐┌───┐»\n",
       " «q_1: ┤ Tdg ├┤ Tdg ├┤ H ├┤ Tdg ├┤ H ├┤ Tdg ├┤ H ├┤ Tdg ├┤ H ├┤ Tdg ├┤ H ├┤ T ├»\n",
       " «     └─────┘└─────┘└───┘└─────┘└───┘└─────┘└───┘└─────┘└───┘└─────┘└───┘└───┘»\n",
       " «                                                                            »\n",
       " «q_0: ───────────────────────────────────────────────────────────────────────»\n",
       " «     ┌───┐┌───┐┌───┐┌───┐┌─────┐┌───┐┌─────┐┌───┐┌─────┐┌───┐┌───┐┌───┐┌───┐»\n",
       " «q_1: ┤ T ├┤ H ├┤ T ├┤ H ├┤ Tdg ├┤ H ├┤ Tdg ├┤ H ├┤ Tdg ├┤ H ├┤ T ├┤ H ├┤ T ├»\n",
       " «     └───┘└───┘└───┘└───┘└─────┘└───┘└─────┘└───┘└─────┘└───┘└───┘└───┘└───┘»\n",
       " «                                                                          »\n",
       " «q_0: ─────────────────────────────────────────────────────────────────────»\n",
       " «     ┌───┐┌───┐┌───┐┌───┐┌───┐┌─────┐┌───┐┌─────┐┌───┐┌───┐┌───┐┌───┐┌───┐»\n",
       " «q_1: ┤ H ├┤ T ├┤ H ├┤ T ├┤ H ├┤ Tdg ├┤ H ├┤ Tdg ├┤ H ├┤ T ├┤ H ├┤ T ├┤ H ├»\n",
       " «     └───┘└───┘└───┘└───┘└───┘└─────┘└───┘└─────┘└───┘└───┘└───┘└───┘└───┘»\n",
       " «                                                                              »\n",
       " «q_0: ─────────────────────────────────────────────────────────────────────────»\n",
       " «     ┌───┐┌───┐┌───┐┌───┐┌───┐┌───┐┌─────┐┌───┐┌─────┐┌─────┐┌───┐┌─────┐┌───┐»\n",
       " «q_1: ┤ T ├┤ H ├┤ T ├┤ H ├┤ T ├┤ H ├┤ Tdg ├┤ H ├┤ Tdg ├┤ Tdg ├┤ H ├┤ Tdg ├┤ H ├»\n",
       " «     └───┘└───┘└───┘└───┘└───┘└───┘└─────┘└───┘└─────┘└─────┘└───┘└─────┘└───┘»\n",
       " «                                                                            »\n",
       " «q_0: ───────────────────────────────────────────────────────────────────────»\n",
       " «     ┌─────┐┌───┐┌─────┐┌───┐┌─────┐┌───┐┌───┐┌───┐┌───┐┌───┐┌───┐┌───┐┌───┐»\n",
       " «q_1: ┤ Tdg ├┤ H ├┤ Tdg ├┤ H ├┤ Tdg ├┤ H ├┤ T ├┤ H ├┤ T ├┤ T ├┤ H ├┤ T ├┤ T ├»\n",
       " «     └─────┘└───┘└─────┘└───┘└─────┘└───┘└───┘└───┘└───┘└───┘└───┘└───┘└───┘»\n",
       " «                                                                           »\n",
       " «q_0: ──────────────────────────────────────────────────────────────────────»\n",
       " «     ┌───┐┌───┐┌───┐┌─────┐┌───┐┌─────┐┌───┐┌─────┐┌───┐┌─────┐┌───┐┌─────┐»\n",
       " «q_1: ┤ H ├┤ T ├┤ H ├┤ Tdg ├┤ H ├┤ Tdg ├┤ H ├┤ Tdg ├┤ H ├┤ Tdg ├┤ H ├┤ Tdg ├»\n",
       " «     └───┘└───┘└───┘└─────┘└───┘└─────┘└───┘└─────┘└───┘└─────┘└───┘└─────┘»\n",
       " «                                                                          »\n",
       " «q_0: ─────────────────────────────────────────────────────────────────────»\n",
       " «     ┌─────┐┌───┐┌─────┐┌───┐┌───┐┌───┐┌───┐┌───┐┌───┐┌───┐┌───┐┌───┐┌───┐»\n",
       " «q_1: ┤ Tdg ├┤ H ├┤ Tdg ├┤ H ├┤ T ├┤ H ├┤ T ├┤ H ├┤ T ├┤ H ├┤ T ├┤ H ├┤ T ├»\n",
       " «     └─────┘└───┘└─────┘└───┘└───┘└───┘└───┘└───┘└───┘└───┘└───┘└───┘└───┘»\n",
       " «                                                                              »\n",
       " «q_0: ─────────────────────────────────────────────────────────────────────────»\n",
       " «     ┌───┐┌───┐┌─────┐┌───┐┌─────┐┌───┐┌───┐┌───┐┌───┐┌───┐┌─────┐┌───┐┌─────┐»\n",
       " «q_1: ┤ T ├┤ H ├┤ Tdg ├┤ H ├┤ Tdg ├┤ H ├┤ T ├┤ H ├┤ T ├┤ H ├┤ Tdg ├┤ H ├┤ Tdg ├»\n",
       " «     └───┘└───┘└─────┘└───┘└─────┘└───┘└───┘└───┘└───┘└───┘└─────┘└───┘└─────┘»\n",
       " «                                                                          »\n",
       " «q_0: ─────────────────────────────────────────────────────────────────────»\n",
       " «     ┌───┐┌─────┐┌───┐┌───┐┌───┐┌───┐┌───┐┌───┐┌─────┐┌───┐┌───┐┌───┐┌───┐»\n",
       " «q_1: ┤ H ├┤ Tdg ├┤ H ├┤ T ├┤ H ├┤ T ├┤ T ├┤ H ├┤ Tdg ├┤ H ├┤ T ├┤ H ├┤ T ├»\n",
       " «     └───┘└─────┘└───┘└───┘└───┘└───┘└───┘└───┘└─────┘└───┘└───┘└───┘└───┘»\n",
       " «                                                                           »\n",
       " «q_0: ──────────────────────────────────────────────────────────────────────»\n",
       " «     ┌───┐┌───┐┌───┐┌─────┐┌───┐┌─────┐┌─────┐┌───┐┌─────┐┌───┐┌─────┐┌───┐»\n",
       " «q_1: ┤ H ├┤ T ├┤ H ├┤ Tdg ├┤ H ├┤ Tdg ├┤ Tdg ├┤ H ├┤ Tdg ├┤ H ├┤ Tdg ├┤ H ├»\n",
       " «     └───┘└───┘└───┘└─────┘└───┘└─────┘└─────┘└───┘└─────┘└───┘└─────┘└───┘»\n",
       " «                                                                              »\n",
       " «q_0: ─────────────────────────────────────────────────────────────────────────»\n",
       " «     ┌─────┐┌───┐┌─────┐┌─────┐┌───┐┌─────┐┌───┐┌───┐┌───┐┌───┐┌───┐┌───┐┌───┐»\n",
       " «q_1: ┤ Tdg ├┤ H ├┤ Tdg ├┤ Tdg ├┤ H ├┤ Tdg ├┤ H ├┤ T ├┤ H ├┤ T ├┤ H ├┤ T ├┤ H ├»\n",
       " «     └─────┘└───┘└─────┘└─────┘└───┘└─────┘└───┘└───┘└───┘└───┘└───┘└───┘└───┘»\n",
       " «                                                                            »\n",
       " «q_0: ───────────────────────────────────────────────────────────────────────»\n",
       " «     ┌───┐┌───┐┌───┐┌───┐┌───┐┌───┐┌───┐┌─────┐┌───┐┌─────┐┌───┐┌─────┐┌───┐»\n",
       " «q_1: ┤ T ├┤ H ├┤ T ├┤ T ├┤ H ├┤ T ├┤ H ├┤ Tdg ├┤ H ├┤ Tdg ├┤ H ├┤ Tdg ├┤ H ├»\n",
       " «     └───┘└───┘└───┘└───┘└───┘└───┘└───┘└─────┘└───┘└─────┘└───┘└─────┘└───┘»\n",
       " «                                                                            »\n",
       " «q_0: ───────────────────────────────────────────────────────────────────────»\n",
       " «     ┌───┐┌───┐┌───┐┌───┐┌───┐┌───┐┌───┐┌───┐┌─────┐┌───┐┌─────┐┌───┐┌─────┐»\n",
       " «q_1: ┤ T ├┤ H ├┤ T ├┤ T ├┤ T ├┤ H ├┤ T ├┤ H ├┤ Tdg ├┤ H ├┤ Tdg ├┤ H ├┤ Tdg ├»\n",
       " «     └───┘└───┘└───┘└───┘└───┘└───┘└───┘└───┘└─────┘└───┘└─────┘└───┘└─────┘»\n",
       " «                                                                            »\n",
       " «q_0: ───────────────────────────────────────────────────────────────────────»\n",
       " «     ┌───┐┌───┐┌───┐┌─────┐┌─────┐┌───┐┌─────┐┌───┐┌───┐┌───┐┌───┐┌───┐┌───┐»\n",
       " «q_1: ┤ H ├┤ T ├┤ H ├┤ Tdg ├┤ Tdg ├┤ H ├┤ Tdg ├┤ H ├┤ T ├┤ H ├┤ T ├┤ H ├┤ T ├»\n",
       " «     └───┘└───┘└───┘└─────┘└─────┘└───┘└─────┘└───┘└───┘└───┘└───┘└───┘└───┘»\n",
       " «                                                                              »\n",
       " «q_0: ─────────────────────────────────────────────────────────────────────────»\n",
       " «     ┌───┐┌─────┐┌───┐┌─────┐┌───┐┌───┐┌───┐┌───┐┌───┐┌─────┐┌───┐┌─────┐┌───┐»\n",
       " «q_1: ┤ H ├┤ Tdg ├┤ H ├┤ Tdg ├┤ H ├┤ T ├┤ H ├┤ T ├┤ H ├┤ Tdg ├┤ H ├┤ Tdg ├┤ H ├»\n",
       " «     └───┘└─────┘└───┘└─────┘└───┘└───┘└───┘└───┘└───┘└─────┘└───┘└─────┘└───┘»\n",
       " «                                                                              »\n",
       " «q_0: ─────────────────────────────────────────────────────────────────────────»\n",
       " «     ┌─────┐┌───┐┌───┐┌───┐┌───┐┌───┐┌───┐┌───┐┌─────┐┌───┐┌─────┐┌─────┐┌───┐»\n",
       " «q_1: ┤ Tdg ├┤ H ├┤ T ├┤ H ├┤ T ├┤ H ├┤ T ├┤ H ├┤ Tdg ├┤ H ├┤ Tdg ├┤ Tdg ├┤ H ├»\n",
       " «     └─────┘└───┘└───┘└───┘└───┘└───┘└───┘└───┘└─────┘└───┘└─────┘└─────┘└───┘»\n",
       " «                                                                              »\n",
       " «q_0: ─────────────────────────────────────────────────────────────────────────»\n",
       " «     ┌─────┐┌───┐┌─────┐┌───┐┌─────┐┌───┐┌─────┐┌───┐┌───┐┌───┐┌───┐┌───┐┌───┐»\n",
       " «q_1: ┤ Tdg ├┤ H ├┤ Tdg ├┤ H ├┤ Tdg ├┤ H ├┤ Tdg ├┤ H ├┤ T ├┤ H ├┤ T ├┤ T ├┤ H ├»\n",
       " «     └─────┘└───┘└─────┘└───┘└─────┘└───┘└─────┘└───┘└───┘└───┘└───┘└───┘└───┘»\n",
       " «                                        \n",
       " «q_0: ───────────────────────────────────\n",
       " «     ┌───┐┌───┐┌───┐┌───┐┌───┐┌───┐┌───┐\n",
       " «q_1: ┤ T ├┤ H ├┤ T ├┤ H ├┤ T ├┤ H ├┤ T ├\n",
       " «     └───┘└───┘└───┘└───┘└───┘└───┘└───┘)"
      ]
     },
     "execution_count": 27,
     "metadata": {},
     "output_type": "execute_result"
    }
   ],
   "source": [
    "# Controlled Phase(α) requires to be able to do Phase(α/2)\n",
    "with QiskitTester(2) as QT:\n",
    "    QT.circuit.append(qk.circuit.library.CPhaseGate(np.pi/4), (0, 1))\n",
    "transpiled = qk.transpile(QT.circuit)\n",
    "circuit2 = pm.run(transpiled)\n",
    "discretized = skd(circuit2)\n",
    "QT.circuit.draw(), transpiled.draw(), circuit2.draw(), discretized.draw()"
   ]
  },
  {
   "cell_type": "code",
   "execution_count": 34,
   "metadata": {},
   "outputs": [
    {
     "data": {
      "text/html": [
       "<pre style=\"word-wrap: normal;white-space: pre;background: #fff0;line-height: 1.1;font-family: &quot;Courier New&quot;,Courier,monospace\">     ┌─────────────┐                                         \n",
       "q_0: ┤ U3(0,0,π/8) ├──■────────────────────■─────────────────\n",
       "     └─────────────┘┌─┴─┐┌──────────────┐┌─┴─┐┌─────────────┐\n",
       "q_1: ───────────────┤ X ├┤ U3(0,0,-π/8) ├┤ X ├┤ U3(0,0,π/8) ├\n",
       "                    └───┘└──────────────┘└───┘└─────────────┘</pre>"
      ],
      "text/plain": [
       "     ┌─────────────┐                                         \n",
       "q_0: ┤ U3(0,0,π/8) ├──■────────────────────■─────────────────\n",
       "     └─────────────┘┌─┴─┐┌──────────────┐┌─┴─┐┌─────────────┐\n",
       "q_1: ───────────────┤ X ├┤ U3(0,0,-π/8) ├┤ X ├┤ U3(0,0,π/8) ├\n",
       "                    └───┘└──────────────┘└───┘└─────────────┘"
      ]
     },
     "execution_count": 34,
     "metadata": {},
     "output_type": "execute_result"
    }
   ],
   "source": [
    "qk.transpile(QT.circuit, basis_gates=[\"u3\",\"u2\",\"cx\"]).draw()"
   ]
  },
  {
   "cell_type": "code",
   "execution_count": null,
   "metadata": {},
   "outputs": [],
   "source": []
  },
  {
   "cell_type": "code",
   "execution_count": 12,
   "metadata": {},
   "outputs": [
    {
     "name": "stdout",
     "output_type": "stream",
     "text": [
      "cp [1.5707963267948966]\n"
     ]
    },
    {
     "data": {
      "text/plain": [
       "(              \n",
       " q_0: ─■───────\n",
       "       │P(π/2) \n",
       " q_1: ─■───────\n",
       "               ,\n",
       "               \n",
       " q_0: ─■───────\n",
       "       │P(π/2) \n",
       " q_1: ─■───────\n",
       "               ,\n",
       "           ┌───┐┌─────┐┌───┐┌───┐\n",
       " q_0: ─────┤ X ├┤ Tdg ├┤ X ├┤ T ├\n",
       "      ┌───┐└─┬─┘└─────┘└─┬─┘└───┘\n",
       " q_1: ┤ T ├──■───────────■───────\n",
       "      └───┘                      )"
      ]
     },
     "execution_count": 12,
     "metadata": {},
     "output_type": "execute_result"
    }
   ],
   "source": [
    "# This is CS, but can we transpile it?\n",
    "with QiskitTester(2) as QT:\n",
    "    QT.circuit.cp(np.pi / 2, QT.q(0), QT.q(1))\n",
    "transpiled = qk.transpile(QT.circuit)\n",
    "circuit2 = pm.run(transpiled)\n",
    "discretized = skd(circuit2)\n",
    "QT.circuit.draw(), transpiled.draw(), discretized.draw()"
   ]
  },
  {
   "cell_type": "code",
   "execution_count": 28,
   "metadata": {},
   "outputs": [
    {
     "data": {
      "text/html": [
       "<pre style=\"word-wrap: normal;white-space: pre;background: #fff0;line-height: 1.1;font-family: &quot;Courier New&quot;,Courier,monospace\">          ┌───┐┌─────┐┌───┐┌───┐\n",
       "q_0: ─────┤ X ├┤ Tdg ├┤ X ├┤ T ├\n",
       "     ┌───┐└─┬─┘└─────┘└─┬─┘└───┘\n",
       "q_1: ┤ T ├──■───────────■───────\n",
       "     └───┘                      </pre>"
      ],
      "text/plain": [
       "          ┌───┐┌─────┐┌───┐┌───┐\n",
       "q_0: ─────┤ X ├┤ Tdg ├┤ X ├┤ T ├\n",
       "     ┌───┐└─┬─┘└─────┘└─┬─┘└───┘\n",
       "q_1: ┤ T ├──■───────────■───────\n",
       "     └───┘                      "
      ]
     },
     "execution_count": 28,
     "metadata": {},
     "output_type": "execute_result"
    }
   ],
   "source": [
    "qk.transpile(discretized,[\"t\",\"cx\",\"h\",\"tdg\"]).draw()"
   ]
  },
  {
   "cell_type": "code",
   "execution_count": 34,
   "metadata": {},
   "outputs": [
    {
     "data": {
      "text/html": [
       "<pre style=\"word-wrap: normal;white-space: pre;background: #fff0;line-height: 1.1;font-family: &quot;Courier New&quot;,Courier,monospace\">     ┌───┐   ┌───┐┌─────┐┌───┐   ┌───┐┌───┐\n",
       "q_0: ┤ H ├─■─┤ H ├┤ Tdg ├┤ H ├─■─┤ H ├┤ T ├\n",
       "     ├───┤ │ └───┘└─────┘└───┘ │ └───┘└───┘\n",
       "q_1: ┤ T ├─■───────────────────■───────────\n",
       "     └───┘                                 </pre>"
      ],
      "text/plain": [
       "     ┌───┐   ┌───┐┌─────┐┌───┐   ┌───┐┌───┐\n",
       "q_0: ┤ H ├─■─┤ H ├┤ Tdg ├┤ H ├─■─┤ H ├┤ T ├\n",
       "     ├───┤ │ └───┘└─────┘└───┘ │ └───┘└───┘\n",
       "q_1: ┤ T ├─■───────────────────■───────────\n",
       "     └───┘                                 "
      ]
     },
     "execution_count": 34,
     "metadata": {},
     "output_type": "execute_result"
    }
   ],
   "source": [
    "qk.transpile(discretized,[\"t\",\"cz\",\"h\",\"tdg\"]).draw()\n"
   ]
  },
  {
   "attachments": {},
   "cell_type": "markdown",
   "metadata": {},
   "source": [
    "## 3-qubit gates"
   ]
  },
  {
   "attachments": {},
   "cell_type": "markdown",
   "metadata": {},
   "source": [
    "Controlled-Controlled X"
   ]
  },
  {
   "cell_type": "code",
   "execution_count": 11,
   "metadata": {},
   "outputs": [
    {
     "name": "stdout",
     "output_type": "stream",
     "text": [
      "ccx []\n"
     ]
    },
    {
     "data": {
      "text/plain": [
       "(     ┌───┐\n",
       " q_0: ┤ X ├\n",
       "      └─┬─┘\n",
       " q_1: ──■──\n",
       "        │  \n",
       " q_2: ──■──\n",
       "           ,\n",
       "      ┌───┐┌───┐┌─────┐┌───┐┌───┐┌───┐┌─────┐┌───┐┌───┐ ┌───┐      \n",
       " q_0: ┤ H ├┤ X ├┤ Tdg ├┤ X ├┤ T ├┤ X ├┤ Tdg ├┤ X ├┤ T ├─┤ H ├──────\n",
       "      └───┘└─┬─┘└─────┘└─┬─┘└───┘└─┬─┘└┬───┬┘└─┬─┘├───┤┌┴───┴┐┌───┐\n",
       " q_1: ───────■───────────┼─────────■───┤ T ├───┼──┤ X ├┤ Tdg ├┤ X ├\n",
       "                         │             └───┘   │  └─┬─┘└┬───┬┘└─┬─┘\n",
       " q_2: ───────────────────■─────────────────────■────■───┤ T ├───■──\n",
       "                                                        └───┘      )"
      ]
     },
     "execution_count": 11,
     "metadata": {},
     "output_type": "execute_result"
    }
   ],
   "source": [
    "with QiskitTester(3) as QT:\n",
    "    QT.circuit.ccx(QT.q(0), QT.q(1), QT.q(2))\n",
    "QT.circuit.draw(), QT.transpile().draw()"
   ]
  },
  {
   "attachments": {},
   "cell_type": "markdown",
   "metadata": {},
   "source": [
    "Controlled-Swap"
   ]
  },
  {
   "cell_type": "code",
   "execution_count": 26,
   "metadata": {},
   "outputs": [
    {
     "name": "stdout",
     "output_type": "stream",
     "text": [
      "cswap []\n"
     ]
    },
    {
     "data": {
      "text/plain": [
       "(        \n",
       " q_0: ─X─\n",
       "       │ \n",
       " q_1: ─X─\n",
       "       │ \n",
       " q_2: ─■─\n",
       "         ,\n",
       "           ┌───┐┌───┐┌─────┐┌───┐┌───┐┌───┐┌─────┐┌───┐┌───┐ ┌───┐           \n",
       " q_0: ──■──┤ H ├┤ X ├┤ Tdg ├┤ X ├┤ T ├┤ X ├┤ Tdg ├┤ X ├┤ T ├─┤ H ├────────■──\n",
       "      ┌─┴─┐└───┘└─┬─┘└─────┘└─┬─┘└───┘└─┬─┘└┬───┬┘└─┬─┘├───┤┌┴───┴┐┌───┐┌─┴─┐\n",
       " q_1: ┤ X ├───────■───────────┼─────────■───┤ T ├───┼──┤ X ├┤ Tdg ├┤ X ├┤ X ├\n",
       "      └───┘                   │             └───┘   │  └─┬─┘└┬───┬┘└─┬─┘└───┘\n",
       " q_2: ────────────────────────■─────────────────────■────■───┤ T ├───■───────\n",
       "                                                             └───┘           )"
      ]
     },
     "execution_count": 26,
     "metadata": {},
     "output_type": "execute_result"
    }
   ],
   "source": [
    "with QiskitTester(3) as QT:\n",
    "    QT.circuit.cswap(QT.q(0), QT.q(1), QT.q(2))\n",
    "QT.circuit.draw(), QT.transpile().draw()"
   ]
  },
  {
   "cell_type": "code",
   "execution_count": null,
   "metadata": {},
   "outputs": [],
   "source": []
  },
  {
   "attachments": {},
   "cell_type": "markdown",
   "metadata": {},
   "source": [
    "## Variable size / parametric"
   ]
  },
  {
   "attachments": {},
   "cell_type": "markdown",
   "metadata": {},
   "source": [
    "Permutation"
   ]
  },
  {
   "cell_type": "code",
   "execution_count": 27,
   "metadata": {},
   "outputs": [
    {
     "name": "stdout",
     "output_type": "stream",
     "text": [
      "swap []\n",
      "swap []\n"
     ]
    },
    {
     "data": {
      "text/plain": [
       "(     ┌──────────────────────┐\n",
       " q_0: ┤2                     ├\n",
       "      │                      │\n",
       " q_1: ┤1 permutation_[2,0,1] ├\n",
       "      │                      │\n",
       " q_2: ┤0                     ├\n",
       "      └──────────────────────┘,\n",
       "      ┌───┐     ┌───┐               \n",
       " q_0: ┤ X ├──■──┤ X ├───────────────\n",
       "      └─┬─┘┌─┴─┐└─┬─┘┌───┐     ┌───┐\n",
       " q_1: ──■──┤ X ├──■──┤ X ├──■──┤ X ├\n",
       "           └───┘     └─┬─┘┌─┴─┐└─┬─┘\n",
       " q_2: ─────────────────■──┤ X ├──■──\n",
       "                          └───┘     )"
      ]
     },
     "execution_count": 27,
     "metadata": {},
     "output_type": "execute_result"
    }
   ],
   "source": [
    "with QiskitTester(3) as QT:\n",
    "    QT.circuit.append(\n",
    "        qk.circuit.library.Permutation(3, [2, 0, 1]), (QT.q(0), QT.q(1), QT.q(2))\n",
    "    )\n",
    "QT.circuit.draw(), QT.transpile().draw()"
   ]
  },
  {
   "attachments": {},
   "cell_type": "markdown",
   "metadata": {},
   "source": [
    "InnerProduct\n",
    "(but only specific sizes)"
   ]
  },
  {
   "cell_type": "code",
   "execution_count": null,
   "metadata": {},
   "outputs": [
    {
     "name": "stdout",
     "output_type": "stream",
     "text": [
      "cz []\n",
      "cz []\n"
     ]
    },
    {
     "data": {
      "text/plain": [
       "(     ┌────────────────┐\n",
       " q_0: ┤3               ├\n",
       "      │                │\n",
       " q_1: ┤2               ├\n",
       "      │  inner_product │\n",
       " q_2: ┤1               ├\n",
       "      │                │\n",
       " q_3: ┤0               ├\n",
       "      └────────────────┘,\n",
       "      ┌───┐┌───┐┌───┐     \n",
       " q_0: ┤ H ├┤ X ├┤ H ├─────\n",
       "      ├───┤└─┬─┘├───┤┌───┐\n",
       " q_1: ┤ H ├──┼──┤ X ├┤ H ├\n",
       "      └───┘  │  └─┬─┘└───┘\n",
       " q_2: ───────■────┼───────\n",
       "                  │       \n",
       " q_3: ────────────■───────\n",
       "                          )"
      ]
     },
     "metadata": {},
     "output_type": "display_data"
    }
   ],
   "source": [
    "with QiskitTester(4) as QT:\n",
    "    QT.circuit.append(\n",
    "        qk.circuit.library.InnerProduct(2), (QT.q(0), QT.q(1), QT.q(2), QT.q(3))\n",
    "    )\n",
    "QT.circuit.draw(), QT.transpile().draw()"
   ]
  },
  {
   "attachments": {},
   "cell_type": "markdown",
   "metadata": {},
   "source": [
    "AND"
   ]
  },
  {
   "cell_type": "code",
   "execution_count": 28,
   "metadata": {},
   "outputs": [
    {
     "name": "stdout",
     "output_type": "stream",
     "text": [
      "ccx []\n"
     ]
    },
    {
     "data": {
      "text/plain": [
       "(     ┌──────┐\n",
       " q_0: ┤2     ├\n",
       "      │      │\n",
       " q_1: ┤1 and ├\n",
       "      │      │\n",
       " q_2: ┤0     ├\n",
       "      └──────┘,\n",
       "      ┌───┐┌───┐┌─────┐┌───┐┌───┐┌───┐┌─────┐┌───┐┌───┐ ┌───┐      \n",
       " q_0: ┤ H ├┤ X ├┤ Tdg ├┤ X ├┤ T ├┤ X ├┤ Tdg ├┤ X ├┤ T ├─┤ H ├──────\n",
       "      └───┘└─┬─┘└─────┘└─┬─┘└───┘└─┬─┘└┬───┬┘└─┬─┘├───┤┌┴───┴┐┌───┐\n",
       " q_1: ───────■───────────┼─────────■───┤ T ├───┼──┤ X ├┤ Tdg ├┤ X ├\n",
       "                         │             └───┘   │  └─┬─┘└┬───┬┘└─┬─┘\n",
       " q_2: ───────────────────■─────────────────────■────■───┤ T ├───■──\n",
       "                                                        └───┘      )"
      ]
     },
     "execution_count": 28,
     "metadata": {},
     "output_type": "execute_result"
    }
   ],
   "source": [
    "with QiskitTester(3) as QT:\n",
    "    QT.circuit.append(qk.circuit.library.AND(2), (QT.q(0), QT.q(1), QT.q(2)))\n",
    "QT.circuit.draw(), QT.transpile().draw()"
   ]
  },
  {
   "attachments": {},
   "cell_type": "markdown",
   "metadata": {},
   "source": [
    "OR"
   ]
  },
  {
   "cell_type": "code",
   "execution_count": 29,
   "metadata": {},
   "outputs": [
    {
     "name": "stdout",
     "output_type": "stream",
     "text": [
      "x []\n",
      "x []\n",
      "x []\n",
      "ccx []\n",
      "x []\n",
      "x []\n"
     ]
    },
    {
     "data": {
      "text/plain": [
       "(     ┌─────┐\n",
       " q_0: ┤2    ├\n",
       "      │     │\n",
       " q_1: ┤1 or ├\n",
       "      │     │\n",
       " q_2: ┤0    ├\n",
       "      └─────┘,\n",
       " global phase: π\n",
       "      ┌───┐┌───┐┌───┐┌───┐┌───┐┌───┐┌───┐┌───┐┌─────┐┌───┐┌───┐┌───┐┌─────┐┌───┐»\n",
       " q_0: ┤ H ├┤ T ├┤ T ├┤ T ├┤ T ├┤ H ├┤ H ├┤ X ├┤ Tdg ├┤ X ├┤ T ├┤ X ├┤ Tdg ├┤ X ├»\n",
       "      ├───┤├───┤├───┤├───┤├───┤├───┤└───┘└─┬─┘└─────┘└─┬─┘└───┘└─┬─┘└┬───┬┘└─┬─┘»\n",
       " q_1: ┤ H ├┤ T ├┤ T ├┤ T ├┤ T ├┤ H ├───────■───────────┼─────────■───┤ T ├───┼──»\n",
       "      ├───┤├───┤├───┤├───┤├───┤├───┤                   │             └───┘   │  »\n",
       " q_2: ┤ H ├┤ T ├┤ T ├┤ T ├┤ T ├┤ H ├───────────────────■─────────────────────■──»\n",
       "      └───┘└───┘└───┘└───┘└───┘└───┘                                            »\n",
       " «     ┌───┐ ┌───┐                                    \n",
       " «q_0: ┤ T ├─┤ H ├────────────────────────────────────\n",
       " «     ├───┤┌┴───┴┐┌───┐┌───┐┌───┐┌───┐┌───┐┌───┐┌───┐\n",
       " «q_1: ┤ X ├┤ Tdg ├┤ X ├┤ H ├┤ T ├┤ T ├┤ T ├┤ T ├┤ H ├\n",
       " «     └─┬─┘└┬───┬┘└─┬─┘├───┤├───┤├───┤├───┤├───┤├───┤\n",
       " «q_2: ──■───┤ T ├───■──┤ H ├┤ T ├┤ T ├┤ T ├┤ T ├┤ H ├\n",
       " «           └───┘      └───┘└───┘└───┘└───┘└───┘└───┘)"
      ]
     },
     "execution_count": 29,
     "metadata": {},
     "output_type": "execute_result"
    }
   ],
   "source": [
    "with QiskitTester(3) as QT:\n",
    "    QT.circuit.append(qk.circuit.library.OR(2), (QT.q(0), QT.q(1), QT.q(2)))\n",
    "QT.circuit.draw(), QT.transpile().draw()"
   ]
  },
  {
   "cell_type": "code",
   "execution_count": null,
   "metadata": {},
   "outputs": [],
   "source": []
  },
  {
   "attachments": {},
   "cell_type": "markdown",
   "metadata": {},
   "source": [
    "CarryAdder (CDKM)"
   ]
  },
  {
   "cell_type": "code",
   "execution_count": 40,
   "metadata": {},
   "outputs": [
    {
     "name": "stdout",
     "output_type": "stream",
     "text": [
      "cx []\n",
      "cx []\n",
      "cx []\n",
      "ccx []\n",
      "cx []\n",
      "ccx []\n",
      "cx []\n",
      "ccx []\n",
      "cx []\n",
      "cx []\n",
      "ccx []\n",
      "cx []\n",
      "cx []\n"
     ]
    },
    {
     "data": {
      "text/plain": [
       "(     ┌───────────────────────┐\n",
       " q_0: ┤5                      ├\n",
       "      │                       │\n",
       " q_1: ┤4                      ├\n",
       "      │                       │\n",
       " q_2: ┤3                      ├\n",
       "      │  CDKMRippleCarryAdder │\n",
       " q_3: ┤2                      ├\n",
       "      │                       │\n",
       " q_4: ┤1                      ├\n",
       "      │                       │\n",
       " q_5: ┤0                      ├\n",
       "      └───────────────────────┘,\n",
       "                                                                           »\n",
       " q_0: ─────────────────────────────────────────────────────────────────────»\n",
       "      ┌───┐                                                                »\n",
       " q_1: ┤ X ├────────────────────────────────────────────────────────────────»\n",
       "      └─┬─┘┌───┐                                      ┌───┐           ┌───┐»\n",
       " q_2: ──┼──┤ X ├────────────■─────────────────────■───┤ T ├───────────┤ X ├»\n",
       "        │  └─┬─┘            │                     │   └───┘           └─┬─┘»\n",
       " q_3: ──■────┼──────────────┼─────────────────────┼─────────────────────┼──»\n",
       "             │       ┌───┐┌─┴─┐┌─────┐┌───┐┌───┐┌─┴─┐┌─────┐┌───┐┌───┐  │  »\n",
       " q_4: ───────■────■──┤ H ├┤ X ├┤ Tdg ├┤ X ├┤ T ├┤ X ├┤ Tdg ├┤ X ├┤ T ├──┼──»\n",
       "                ┌─┴─┐└───┘└───┘└─────┘└─┬─┘└───┘└───┘└─────┘└─┬─┘└───┘  │  »\n",
       " q_5: ──────────┤ X ├───────────────────■─────────────────────■─────────■──»\n",
       "                └───┘                                                      »\n",
       " «                                                                            »\n",
       " «q_0: ───────────────────────────────────────────────────────────────────────»\n",
       " «                                                       ┌───┐           ┌───┐»\n",
       " «q_1: ────────────────────────■─────────────────────■───┤ T ├───────────┤ X ├»\n",
       " «     ┌─────┐     ┌───┐       │                     │   └───┘           └─┬─┘»\n",
       " «q_2: ┤ Tdg ├─────┤ X ├───────┼─────────────────────┼─────────────────────┼──»\n",
       " «     └─────┘     └─┬─┘┌───┐┌─┴─┐┌─────┐┌───┐┌───┐┌─┴─┐┌─────┐┌───┐┌───┐  │  »\n",
       " «q_3: ─────────■────┼──┤ H ├┤ X ├┤ Tdg ├┤ X ├┤ T ├┤ X ├┤ Tdg ├┤ X ├┤ T ├──┼──»\n",
       " «      ┌───┐ ┌─┴─┐  │  └───┘└───┘└─────┘└─┬─┘└───┘└───┘└─────┘└─┬─┘└───┘  │  »\n",
       " «q_4: ─┤ H ├─┤ X ├──┼─────────────────────■─────────────────────■─────────■──»\n",
       " «      ├───┤ └───┘  │                                                        »\n",
       " «q_5: ─┤ T ├────────■────────────────────────────────────────────────────────»\n",
       " «      └───┘                                                                 »\n",
       " «            ┌───┐                                                           »\n",
       " «q_0: ───────┤ X ├───────────────────────────────────────────────────────────»\n",
       " «     ┌─────┐└─┬─┘┌───┐                                 ┌───┐           ┌───┐»\n",
       " «q_1: ┤ Tdg ├──┼──┤ X ├───────■─────────────────────■───┤ T ├───────────┤ X ├»\n",
       " «     └─────┘  │  └─┬─┘       │                     │   └───┘           └─┬─┘»\n",
       " «q_2: ─────────┼────┼─────────┼─────────────────────┼─────────────────────┼──»\n",
       " «      ┌───┐   │    │  ┌───┐┌─┴─┐┌─────┐┌───┐┌───┐┌─┴─┐┌─────┐┌───┐┌───┐  │  »\n",
       " «q_3: ─┤ H ├───■────┼──┤ H ├┤ X ├┤ Tdg ├┤ X ├┤ T ├┤ X ├┤ Tdg ├┤ X ├┤ T ├──┼──»\n",
       " «      ├───┤        │  └───┘└───┘└─────┘└─┬─┘└───┘└───┘└─────┘└─┬─┘└───┘  │  »\n",
       " «q_4: ─┤ T ├────────■─────────────────────■─────────────────────■─────────■──»\n",
       " «      └───┘                                                                 »\n",
       " «q_5: ───────────────────────────────────────────────────────────────────────»\n",
       " «                                                                            »\n",
       " «                                                                            »\n",
       " «q_0: ───────────────────────────────────────────────────────────────────────»\n",
       " «     ┌─────┐┌───┐     ┌───┐                                                 »\n",
       " «q_1: ┤ Tdg ├┤ X ├─────┤ X ├─────────────────────────────────────────────────»\n",
       " «     └─────┘└─┬─┘     └─┬─┘                                 ┌───┐           »\n",
       " «q_2: ─────────┼─────────┼─────────■─────────────────────■───┤ T ├───────────»\n",
       " «      ┌───┐   │         │         │                     │   └───┘           »\n",
       " «q_3: ─┤ H ├───┼────■────┼─────────┼─────────────────────┼───────────────────»\n",
       " «      ├───┤   │  ┌─┴─┐  │  ┌───┐┌─┴─┐┌─────┐┌───┐┌───┐┌─┴─┐┌─────┐┌───┐┌───┐»\n",
       " «q_4: ─┤ T ├───■──┤ X ├──■──┤ H ├┤ X ├┤ Tdg ├┤ X ├┤ T ├┤ X ├┤ Tdg ├┤ X ├┤ T ├»\n",
       " «      └───┘      └───┘     └───┘└───┘└─────┘└─┬─┘└───┘└───┘└─────┘└─┬─┘└───┘»\n",
       " «q_5: ─────────────────────────────────────────■─────────────────────■───────»\n",
       " «                                                                            »\n",
       " «                                \n",
       " «q_0: ───────────────────────────\n",
       " «                                \n",
       " «q_1: ───────────────────────────\n",
       " «     ┌───┐┌─────┐┌───┐     ┌───┐\n",
       " «q_2: ┤ X ├┤ Tdg ├┤ X ├─────┤ X ├\n",
       " «     └─┬─┘└─────┘└─┬─┘     └─┬─┘\n",
       " «q_3: ──┼───────────┼─────────┼──\n",
       " «       │   ┌───┐   │         │  \n",
       " «q_4: ──┼───┤ H ├───┼────■────┼──\n",
       " «       │   ├───┤   │  ┌─┴─┐  │  \n",
       " «q_5: ──■───┤ T ├───■──┤ X ├──■──\n",
       " «           └───┘      └───┘     )"
      ]
     },
     "execution_count": 40,
     "metadata": {},
     "output_type": "execute_result"
    }
   ],
   "source": [
    "with QiskitTester(6) as QT:\n",
    "    QT.circuit.append(\n",
    "        qk.circuit.library.CDKMRippleCarryAdder(2),\n",
    "        (QT.q(0), QT.q(1), QT.q(2), QT.q(3), QT.q(4), QT.q(5)),\n",
    "    )\n",
    "QT.circuit.draw(), QT.transpile().draw()"
   ]
  },
  {
   "attachments": {},
   "cell_type": "markdown",
   "metadata": {},
   "source": [
    "CarryAdder (VBER)"
   ]
  },
  {
   "cell_type": "code",
   "execution_count": 41,
   "metadata": {},
   "outputs": [
    {
     "name": "stdout",
     "output_type": "stream",
     "text": [
      "ccx []\n",
      "cx []\n",
      "ccx []\n",
      "cx []\n",
      "ccx []\n",
      "ccx []\n",
      "cx []\n",
      "ccx []\n",
      "cx []\n",
      "ccx []\n",
      "cx []\n",
      "cx []\n"
     ]
    },
    {
     "data": {
      "text/plain": [
       "(     ┌──────────────────────┐\n",
       " q_0: ┤6                     ├\n",
       "      │                      │\n",
       " q_1: ┤5                     ├\n",
       "      │                      │\n",
       " q_2: ┤4                     ├\n",
       "      │                      │\n",
       " q_3: ┤3 VBERippleCarryAdder ├\n",
       "      │                      │\n",
       " q_4: ┤2                     ├\n",
       "      │                      │\n",
       " q_5: ┤1                     ├\n",
       "      │                      │\n",
       " q_6: ┤0                     ├\n",
       "      └──────────────────────┘,\n",
       "      ┌───┐     ┌───┐┌─────┐     ┌───┐┌───┐     ┌───┐┌─────┐     ┌───┐┌───┐»\n",
       " q_0: ┤ H ├─────┤ X ├┤ Tdg ├─────┤ X ├┤ T ├─────┤ X ├┤ Tdg ├─────┤ X ├┤ T ├»\n",
       "      ├───┤┌───┐└─┬─┘├─────┤┌───┐└─┬─┘├───┤┌───┐└─┬─┘├─────┤┌───┐└─┬─┘├───┤»\n",
       " q_1: ┤ H ├┤ X ├──┼──┤ Tdg ├┤ X ├──┼──┤ T ├┤ X ├──┼──┤ Tdg ├┤ X ├──┼──┤ T ├»\n",
       "      └───┘└─┬─┘  │  └─────┘└─┬─┘  │  └───┘└─┬─┘  │  └┬───┬┘└─┬─┘  │  ├───┤»\n",
       " q_2: ───────■────┼───────────┼────┼─────────■────┼───┤ T ├───┼────┼──┤ X ├»\n",
       "                  │           │    │              │   ├───┤   │    │  └─┬─┘»\n",
       " q_3: ────────────■───────────┼────┼──────────────■───┤ T ├───┼────┼────┼──»\n",
       "                              │    │                  └───┘   │    │    │  »\n",
       " q_4: ────────────────────────■────┼──────────────────────────■────┼────■──»\n",
       "                                   │                               │       »\n",
       " q_5: ─────────────────────────────■───────────────────────────────■───────»\n",
       "                                                                           »\n",
       " q_6: ─────────────────────────────────────────────────────────────────────»\n",
       "                                                                           »\n",
       " «      ┌───┐  ┌───┐      ┌───┐┌─────┐┌───┐┌───┐┌───┐┌─────┐┌───┐┌───┐ ┌───┐ »\n",
       " «q_0: ─┤ H ├──┤ H ├──────┤ X ├┤ Tdg ├┤ X ├┤ T ├┤ X ├┤ Tdg ├┤ X ├┤ T ├─┤ H ├─»\n",
       " «      ├───┤  ├───┤ ┌───┐└─┬─┘├─────┤└─┬─┘└───┘└─┬─┘└─────┘└─┬─┘└───┘ └───┘ »\n",
       " «q_1: ─┤ H ├──┤ H ├─┤ X ├──┼──┤ Tdg ├──┼─────────┼───────────┼──────────────»\n",
       " «     ┌┴───┴┐ └───┘ └─┬─┘  │  └─────┘  │         │           │              »\n",
       " «q_2: ┤ Tdg ├─────────■────┼───────────┼─────────┼───────────┼──────────────»\n",
       " «     └┬───┬┘┌─────┐       │           │         │   ┌───┐   │  ┌───┐┌─────┐»\n",
       " «q_3: ─┤ X ├─┤ Tdg ├───────■───────────┼─────────■───┤ T ├───┼──┤ X ├┤ Tdg ├»\n",
       " «      └─┬─┘ └┬───┬┘                   │             └───┘   │  └─┬─┘└─────┘»\n",
       " «q_4: ───┼────┤ T ├────────────────────┼─────────────────────┼────┼─────────»\n",
       " «        │    ├───┤                    │                     │    │         »\n",
       " «q_5: ───■────┤ T ├────────────────────┼─────────────────────┼────┼─────────»\n",
       " «             └───┘                    │                     │    │   ┌───┐ »\n",
       " «q_6: ─────────────────────────────────■─────────────────────■────■───┤ T ├─»\n",
       " «                                                                     └───┘ »\n",
       " «                                           ┌───┐ ┌───┐┌───┐┌─────┐┌───┐┌───┐»\n",
       " «q_0: ──■─────────────────────■─────────■───┤ T ├─┤ H ├┤ X ├┤ Tdg ├┤ X ├┤ T ├»\n",
       " «     ┌─┴─┐┌───┐┌───┐┌─────┐┌─┴─┐┌───┐  │   ├───┤ └───┘└─┬─┘└─────┘└─┬─┘└───┘»\n",
       " «q_1: ┤ X ├┤ T ├┤ X ├┤ Tdg ├┤ X ├┤ T ├──┼───┤ H ├────────┼───────────┼───────»\n",
       " «     └───┘└───┘└─┬─┘└┬───┬┘└───┘└───┘┌─┴─┐┌┴───┴┐       │           │       »\n",
       " «q_2: ────────────■───┤ T ├───────────┤ X ├┤ Tdg ├───────┼───────────┼───────»\n",
       " «     ┌───┐           └───┘           └───┘└─────┘       │           │       »\n",
       " «q_3: ┤ X ├──────────────────────────────────────────────■───────────┼───────»\n",
       " «     └─┬─┘                                                          │       »\n",
       " «q_4: ──┼────────────────────────────────────────────────────────────┼───────»\n",
       " «       │                                                            │       »\n",
       " «q_5: ──┼────────────────────────────────────────────────────────────┼───────»\n",
       " «       │                                                            │       »\n",
       " «q_6: ──■────────────────────────────────────────────────────────────■───────»\n",
       " «                                                                            »\n",
       " «     ┌───┐┌─────┐┌───┐┌───┐ ┌───┐ ┌───┐     ┌───┐┌─────┐┌───┐┌───┐┌───┐┌─────┐»\n",
       " «q_0: ┤ X ├┤ Tdg ├┤ X ├┤ T ├─┤ H ├─┤ H ├─────┤ X ├┤ Tdg ├┤ X ├┤ T ├┤ X ├┤ Tdg ├»\n",
       " «     └─┬─┘└─────┘└─┬─┘└───┘ └───┘ └───┘     └─┬─┘└─────┘└─┬─┘└───┘└─┬─┘└─────┘»\n",
       " «q_1: ──┼───────────┼──────────────────────────┼───────────┼─────────┼─────────»\n",
       " «       │           │                          │           │         │         »\n",
       " «q_2: ──┼───────────┼──────────────────────────┼───────────┼─────────┼─────────»\n",
       " «       │   ┌───┐   │  ┌───┐┌─────┐┌───┐┌───┐  │           │         │   ┌───┐ »\n",
       " «q_3: ──■───┤ T ├───┼──┤ X ├┤ Tdg ├┤ X ├┤ X ├──■───────────┼─────────■───┤ T ├─»\n",
       " «           └───┘   │  └─┬─┘└─────┘└─┬─┘└─┬─┘              │             └───┘ »\n",
       " «q_4: ──────────────┼────┼───────────┼────┼────────────────┼───────────────────»\n",
       " «                   │    │           │    │                │                   »\n",
       " «q_5: ──────────────┼────┼───────────┼────■────────────────■───────────────────»\n",
       " «                   │    │   ┌───┐   │                                         »\n",
       " «q_6: ──────────────■────■───┤ T ├───■─────────────────────────────────────────»\n",
       " «                            └───┘                                             »\n",
       " «     ┌───┐┌───┐ ┌───┐      \n",
       " «q_0: ┤ X ├┤ T ├─┤ H ├──────\n",
       " «     └─┬─┘└───┘ └───┘      \n",
       " «q_1: ──┼───────────────────\n",
       " «       │                   \n",
       " «q_2: ──┼───────────────────\n",
       " «       │  ┌───┐┌─────┐┌───┐\n",
       " «q_3: ──┼──┤ X ├┤ Tdg ├┤ X ├\n",
       " «       │  └─┬─┘└─────┘└─┬─┘\n",
       " «q_4: ──┼────┼───────────┼──\n",
       " «       │    │   ┌───┐   │  \n",
       " «q_5: ──■────■───┤ T ├───┼──\n",
       " «                └───┘   │  \n",
       " «q_6: ───────────────────■──\n",
       " «                           )"
      ]
     },
     "execution_count": 41,
     "metadata": {},
     "output_type": "execute_result"
    }
   ],
   "source": [
    "with QiskitTester(7) as QT:\n",
    "    QT.circuit.append(\n",
    "        qk.circuit.library.VBERippleCarryAdder(2),\n",
    "        (QT.q(0), QT.q(1), QT.q(2), QT.q(3), QT.q(4), QT.q(5), QT.q(6)),\n",
    "    )\n",
    "QT.circuit.draw(), QT.transpile().draw()"
   ]
  },
  {
   "attachments": {},
   "cell_type": "markdown",
   "metadata": {},
   "source": [
    "Weighted Adder\n",
    "(long)"
   ]
  },
  {
   "cell_type": "code",
   "execution_count": 42,
   "metadata": {},
   "outputs": [
    {
     "name": "stdout",
     "output_type": "stream",
     "text": [
      "ccx []\n",
      "cx []\n",
      "x []\n",
      "ccx []\n",
      "ccx []\n",
      "x []\n",
      "ccx []\n",
      "cx []\n",
      "x []\n",
      "ccx []\n",
      "ccx []\n",
      "x []\n"
     ]
    },
    {
     "data": {
      "text/plain": [
       "(     ┌────────┐\n",
       " q_0: ┤4       ├\n",
       "      │        │\n",
       " q_1: ┤3       ├\n",
       "      │        │\n",
       " q_2: ┤2 adder ├\n",
       "      │        │\n",
       " q_3: ┤1       ├\n",
       "      │        │\n",
       " q_4: ┤0       ├\n",
       "      └────────┘,\n",
       "      ┌───┐┌───┐┌─────┐┌───┐┌───┐┌───┐┌─────┐┌───┐┌───┐ ┌───┐                  »\n",
       " q_0: ┤ H ├┤ X ├┤ Tdg ├┤ X ├┤ T ├┤ X ├┤ Tdg ├┤ X ├┤ T ├─┤ H ├───■──────────────»\n",
       "      ├───┤└─┬─┘└─────┘└─┬─┘└───┘└─┬─┘└─────┘└─┬─┘└───┘ └───┘ ┌─┴─┐┌─────┐     »\n",
       " q_1: ┤ H ├──┼───────────┼─────────┼───────────┼──────────────┤ X ├┤ Tdg ├─────»\n",
       "      └───┘  │           │         │   ┌───┐   │  ┌───┐┌─────┐├───┤└┬───┬┘┌───┐»\n",
       " q_2: ───────■───────────┼─────────■───┤ T ├───┼──┤ X ├┤ Tdg ├┤ H ├─┤ T ├─┤ T ├»\n",
       "                         │             └───┘   │  └─┬─┘└─────┘└───┘ └───┘ └───┘»\n",
       " q_3: ───────────────────┼─────────────────────┼────┼──────────────────────────»\n",
       "                         │                     │    │   ┌───┐                  »\n",
       " q_4: ───────────────────■─────────────────────■────■───┤ T ├──────────────────»\n",
       "                                                        └───┘                  »\n",
       " «                     ┌───┐           ┌───┐┌─────┐     ┌───┐┌───┐┌───┐┌─────┐»\n",
       " «q_0: ────────────■───┤ T ├───────────┤ X ├┤ Tdg ├─────┤ X ├┤ H ├┤ X ├┤ Tdg ├»\n",
       " «     ┌───┐┌───┐┌─┴─┐┌┴───┴┐┌───┐┌───┐└─┬─┘└┬───┬┘┌───┐└─┬─┘└───┘└─┬─┘└─────┘»\n",
       " «q_1: ┤ X ├┤ T ├┤ X ├┤ Tdg ├┤ X ├┤ T ├──┼───┤ H ├─┤ H ├──┼─────────┼─────────»\n",
       " «     └─┬─┘├───┤├───┤└┬───┬┘└─┬─┘└───┘  │   └───┘ └───┘  │         │         »\n",
       " «q_2: ──┼──┤ T ├┤ T ├─┤ H ├───┼─────────┼────────────────┼─────────■─────────»\n",
       " «       │  └───┘└───┘ └───┘   │         │                │                   »\n",
       " «q_3: ──┼─────────────────────┼─────────┼────────────────┼───────────────────»\n",
       " «       │                     │         │   ┌───┐        │                   »\n",
       " «q_4: ──■─────────────────────■─────────■───┤ T ├────────■───────────────────»\n",
       " «                                           └───┘                            »\n",
       " «     ┌───┐┌───┐┌───┐┌─────┐┌───┐┌───┐ ┌───┐ ┌───┐                         »\n",
       " «q_0: ┤ X ├┤ T ├┤ X ├┤ Tdg ├┤ X ├┤ T ├─┤ H ├─┤ H ├─────────────────────────»\n",
       " «     └─┬─┘└───┘└─┬─┘└─────┘└─┬─┘└───┘ └───┘ └───┘                         »\n",
       " «q_1: ──┼─────────┼───────────┼────────────────────────────────────────────»\n",
       " «       │         │   ┌───┐   │  ┌───┐┌─────┐┌───┐┌───┐┌───┐┌───┐┌───┐┌───┐»\n",
       " «q_2: ──┼─────────■───┤ T ├───┼──┤ X ├┤ Tdg ├┤ X ├┤ H ├┤ T ├┤ T ├┤ T ├┤ T ├»\n",
       " «       │             └───┘   │  └─┬─┘└─────┘└─┬─┘└───┘└───┘└───┘└───┘└───┘»\n",
       " «q_3: ──┼─────────────────────┼────┼───────────┼───────────────────────────»\n",
       " «       │                     │    │   ┌───┐   │                           »\n",
       " «q_4: ──■─────────────────────■────■───┤ T ├───■───────────────────────────»\n",
       " «                                      └───┘                               »\n",
       " «          ┌───┐┌─────┐┌───┐┌───┐┌───┐┌─────┐┌───┐┌───┐ ┌───┐                  »\n",
       " «q_0: ─────┤ X ├┤ Tdg ├┤ X ├┤ T ├┤ X ├┤ Tdg ├┤ X ├┤ T ├─┤ H ├───■──────────────»\n",
       " «          └─┬─┘└─────┘└─┬─┘└───┘└─┬─┘└─────┘└─┬─┘└───┘ └───┘ ┌─┴─┐┌─────┐     »\n",
       " «q_1: ───────┼───────────┼─────────┼───────────┼──────────────┤ X ├┤ Tdg ├─────»\n",
       " «     ┌───┐  │           │         │   ┌───┐   │  ┌───┐┌─────┐├───┤└┬───┬┘┌───┐»\n",
       " «q_2: ┤ H ├──■───────────┼─────────■───┤ T ├───┼──┤ X ├┤ Tdg ├┤ H ├─┤ T ├─┤ T ├»\n",
       " «     └───┘              │             └───┘   │  └─┬─┘└┬───┬┘└───┘ └───┘ └───┘»\n",
       " «q_3: ───────────────────■─────────────────────■────■───┤ T ├──────────────────»\n",
       " «                                                       └───┘                  »\n",
       " «q_4: ─────────────────────────────────────────────────────────────────────────»\n",
       " «                                                                              »\n",
       " «                     ┌───┐           ┌───┐┌─────┐┌───┐┌───┐┌───┐┌─────┐┌───┐»\n",
       " «q_0: ────────────■───┤ T ├───────────┤ X ├┤ Tdg ├┤ X ├┤ H ├┤ X ├┤ Tdg ├┤ X ├»\n",
       " «     ┌───┐┌───┐┌─┴─┐┌┴───┴┐┌───┐┌───┐└─┬─┘└┬───┬┘└─┬─┘└───┘└─┬─┘└─────┘└─┬─┘»\n",
       " «q_1: ┤ X ├┤ T ├┤ X ├┤ Tdg ├┤ X ├┤ T ├──┼───┤ H ├───┼─────────┼───────────┼──»\n",
       " «     └─┬─┘├───┤├───┤└┬───┬┘└─┬─┘└───┘  │   └───┘   │         │           │  »\n",
       " «q_2: ──┼──┤ T ├┤ T ├─┤ H ├───┼─────────┼───────────┼─────────■───────────┼──»\n",
       " «       │  └───┘└───┘ └───┘   │         │   ┌───┐   │                     │  »\n",
       " «q_3: ──■─────────────────────■─────────■───┤ T ├───■─────────────────────■──»\n",
       " «                                           └───┘                            »\n",
       " «q_4: ───────────────────────────────────────────────────────────────────────»\n",
       " «                                                                            »\n",
       " «     ┌───┐┌───┐┌─────┐┌───┐┌───┐ ┌───┐                                    \n",
       " «q_0: ┤ T ├┤ X ├┤ Tdg ├┤ X ├┤ T ├─┤ H ├────────────────────────────────────\n",
       " «     └───┘└─┬─┘└─────┘└─┬─┘└───┘ └───┘                                    \n",
       " «q_1: ───────┼───────────┼─────────────────────────────────────────────────\n",
       " «            │   ┌───┐   │  ┌───┐┌─────┐┌───┐┌───┐┌───┐┌───┐┌───┐┌───┐┌───┐\n",
       " «q_2: ───────■───┤ T ├───┼──┤ X ├┤ Tdg ├┤ X ├┤ H ├┤ T ├┤ T ├┤ T ├┤ T ├┤ H ├\n",
       " «                └───┘   │  └─┬─┘└┬───┬┘└─┬─┘└───┘└───┘└───┘└───┘└───┘└───┘\n",
       " «q_3: ───────────────────■────■───┤ T ├───■────────────────────────────────\n",
       " «                                 └───┘                                    \n",
       " «q_4: ─────────────────────────────────────────────────────────────────────\n",
       " «                                                                          )"
      ]
     },
     "execution_count": 42,
     "metadata": {},
     "output_type": "execute_result"
    }
   ],
   "source": [
    "with QiskitTester(5) as QT:\n",
    "    QT.circuit.append(\n",
    "        qk.circuit.library.WeightedAdder(2),\n",
    "        (QT.q(0), QT.q(1), QT.q(2), QT.q(3), QT.q(4)),\n",
    "    )\n",
    "QT.circuit.draw(), QT.transpile().draw()"
   ]
  },
  {
   "cell_type": "code",
   "execution_count": 45,
   "metadata": {},
   "outputs": [
    {
     "name": "stdout",
     "output_type": "stream",
     "text": [
      "cx []\n",
      "ccx []\n",
      "cx []\n"
     ]
    },
    {
     "data": {
      "text/plain": [
       "(     ┌──────┐\n",
       " q_0: ┤3     ├\n",
       "      │      │\n",
       " q_1: ┤2     ├\n",
       "      │  cmp │\n",
       " q_2: ┤1     ├\n",
       "      │      │\n",
       " q_3: ┤0     ├\n",
       "      └──────┘,\n",
       "           ┌───┐                            ┌───┐           ┌───┐┌─────┐┌───┐»\n",
       " q_0: ─────┤ X ├──■─────────────────────■───┤ T ├───────────┤ X ├┤ Tdg ├┤ X ├»\n",
       "      ┌───┐└─┬─┘┌─┴─┐┌─────┐┌───┐┌───┐┌─┴─┐┌┴───┴┐┌───┐┌───┐└─┬─┘└┬───┬┘└─┬─┘»\n",
       " q_1: ┤ H ├──┼──┤ X ├┤ Tdg ├┤ X ├┤ T ├┤ X ├┤ Tdg ├┤ X ├┤ T ├──┼───┤ H ├───┼──»\n",
       "      └───┘  │  └───┘└─────┘└─┬─┘└───┘└───┘└─────┘└─┬─┘└───┘  │   ├───┤   │  »\n",
       " q_2: ───────┼────────────────■─────────────────────■─────────■───┤ T ├───■──»\n",
       "             │                                                    └───┘      »\n",
       " q_3: ───────■───────────────────────────────────────────────────────────────»\n",
       "                                                                             »\n",
       " «     ┌───┐\n",
       " «q_0: ┤ X ├\n",
       " «     └─┬─┘\n",
       " «q_1: ──┼──\n",
       " «       │  \n",
       " «q_2: ──┼──\n",
       " «       │  \n",
       " «q_3: ──■──\n",
       " «          )"
      ]
     },
     "execution_count": 45,
     "metadata": {},
     "output_type": "execute_result"
    }
   ],
   "source": [
    "with QiskitTester(4) as QT:\n",
    "    QT.circuit.append(\n",
    "        qk.circuit.library.IntegerComparator(2, value=3),\n",
    "        (\n",
    "            QT.q(0),\n",
    "            QT.q(1),\n",
    "            QT.q(2),\n",
    "            QT.q(3),\n",
    "        ),\n",
    "    )\n",
    "QT.circuit.draw(), QT.transpile().draw()"
   ]
  },
  {
   "attachments": {},
   "cell_type": "markdown",
   "metadata": {},
   "source": [
    "Reciprocal"
   ]
  },
  {
   "cell_type": "code",
   "execution_count": 47,
   "metadata": {},
   "outputs": [
    {
     "name": "stdout",
     "output_type": "stream",
     "text": [
      "cx []\n",
      "cx []\n",
      "cx []\n",
      "cx []\n"
     ]
    },
    {
     "data": {
      "text/plain": [
       "(     ┌──────┐\n",
       " q_0: ┤2     ├\n",
       "      │      │\n",
       " q_1: ┤1 1/x ├\n",
       "      │      │\n",
       " q_2: ┤0     ├\n",
       "      └──────┘,\n",
       "      ┌───┐┌───┐┌───┐┌───┐\n",
       " q_0: ┤ X ├┤ X ├┤ X ├┤ X ├\n",
       "      └─┬─┘└─┬─┘└─┬─┘└─┬─┘\n",
       " q_1: ──┼────■────┼────■──\n",
       "        │         │       \n",
       " q_2: ──■─────────■───────\n",
       "                          )"
      ]
     },
     "execution_count": 47,
     "metadata": {},
     "output_type": "execute_result"
    }
   ],
   "source": [
    "with QiskitTester(3) as QT:\n",
    "    QT.circuit.append(\n",
    "        qk.circuit.library.ExactReciprocal(2, scaling=1.5), (QT.q(0), QT.q(1), QT.q(2))\n",
    "    )\n",
    "QT.circuit.draw(), QT.transpile().draw()"
   ]
  },
  {
   "attachments": {},
   "cell_type": "markdown",
   "metadata": {},
   "source": [
    "'Hidden Linear Function'"
   ]
  },
  {
   "cell_type": "code",
   "execution_count": 61,
   "metadata": {},
   "outputs": [
    {
     "name": "stdout",
     "output_type": "stream",
     "text": [
      "h []\n",
      "h []\n",
      "h []\n",
      "cz []\n",
      "cz []\n",
      "u2 [0.0, -1.5707963267948966]\n",
      "h []\n",
      "u2 [0.0, -1.5707963267948966]\n"
     ]
    },
    {
     "data": {
      "text/plain": [
       "(     ┌───────────────────────────────────┐\n",
       " q_0: ┤2                                  ├\n",
       "      │                                   │\n",
       " q_1: ┤1 hlf: [[1 1 0]\n",
       "  [1 0 1]\n",
       "  [0 1 1]] ├\n",
       "      │                                   │\n",
       " q_2: ┤0                                  ├\n",
       "      └───────────────────────────────────┘,\n",
       "      ┌───┐┌───┐          ┌───┐┌───┐┌───┐┌───┐┌───┐\n",
       " q_0: ┤ H ├┤ H ├──────────┤ X ├┤ H ├┤ T ├┤ T ├┤ H ├\n",
       "      ├───┤├───┤┌───┐┌───┐└─┬─┘├───┤└───┘└───┘└───┘\n",
       " q_1: ┤ H ├┤ H ├┤ X ├┤ H ├──■──┤ H ├───────────────\n",
       "      ├───┤└───┘└─┬─┘├───┤┌───┐├───┤               \n",
       " q_2: ┤ H ├───────■──┤ T ├┤ T ├┤ H ├───────────────\n",
       "      └───┘          └───┘└───┘└───┘               )"
      ]
     },
     "execution_count": 61,
     "metadata": {},
     "output_type": "execute_result"
    }
   ],
   "source": [
    "with QiskitTester(3) as QT:\n",
    "    QT.circuit.append(\n",
    "        qk.circuit.library.HiddenLinearFunction([[1, 1, 0], [1, 0, 1], [0, 1, 1]]),\n",
    "        (QT.q(0), QT.q(1), QT.q(2)),\n",
    "    )\n",
    "QT.circuit.draw(), QT.transpile().draw()"
   ]
  },
  {
   "attachments": {},
   "cell_type": "markdown",
   "metadata": {},
   "source": [
    "Grover operator\n",
    "(depends on the oracle)"
   ]
  },
  {
   "cell_type": "code",
   "execution_count": 71,
   "metadata": {},
   "outputs": [
    {
     "name": "stdout",
     "output_type": "stream",
     "text": [
      "u1 [-3.141592653589793]\n",
      "u2 [0.0, -3.141592653589793]\n",
      "cx []\n",
      "u1 [-3.141592653589793]\n",
      "u2 [-3.141592653589793, -3.141592653589793]\n"
     ]
    },
    {
     "data": {
      "text/plain": [
       "(     ┌────┐\n",
       " q_0: ┤1   ├\n",
       "      │  Q │\n",
       " q_1: ┤0   ├\n",
       "      └────┘,\n",
       " global phase: π\n",
       "      ┌───┐┌───┐┌───┐┌───┐┌───┐┌───┐┌───┐┌───┐┌───┐     \n",
       " q_0: ┤ T ├┤ T ├┤ T ├┤ T ├┤ X ├┤ T ├┤ T ├┤ T ├┤ T ├─────\n",
       "      ├───┤└───┘└───┘└───┘└─┬─┘├───┤├───┤├───┤├───┤┌───┐\n",
       " q_1: ┤ H ├─────────────────■──┤ H ├┤ T ├┤ T ├┤ T ├┤ T ├\n",
       "      └───┘                    └───┘└───┘└───┘└───┘└───┘)"
      ]
     },
     "execution_count": 71,
     "metadata": {},
     "output_type": "execute_result"
    }
   ],
   "source": [
    "# Grover Operator\n",
    "with QiskitTester(2) as QT:\n",
    "    oracle = QuantumCircuit(2)\n",
    "    oracle.z(0)\n",
    "\n",
    "    QT.circuit.append(qk.circuit.library.GroverOperator(oracle), (QT.q(0), QT.q(1)))\n",
    "QT.circuit.draw(), QT.transpile().draw()"
   ]
  },
  {
   "attachments": {},
   "cell_type": "markdown",
   "metadata": {},
   "source": [
    "## Quantum State Preparation"
   ]
  },
  {
   "cell_type": "code",
   "execution_count": null,
   "metadata": {},
   "outputs": [],
   "source": [
    "# In general:\n",
    "# GHZ and W state preparation algorithms https://arxiv.org/pdf/1807.05572.pdf\n",
    "# W states: https://github.com/qiskit-community/qiskit-community-tutorials/blob/master/awards/teach_me_qiskit_2018/w_state/W%20State%201%20-%20Multi-Qubit%20Systems.ipynb\n",
    "# Cluster states https://www.cs.umd.edu/class/spring2018/cmsc457/report/Cluster_State_Quantum_Computing.pdf"
   ]
  },
  {
   "attachments": {},
   "cell_type": "markdown",
   "metadata": {},
   "source": [
    "Bell\n",
    "(2-qubit)"
   ]
  },
  {
   "cell_type": "code",
   "execution_count": 50,
   "metadata": {},
   "outputs": [
    {
     "data": {
      "text/plain": [
       "(          ┌───┐\n",
       " q_0: ─────┤ X ├\n",
       "      ┌───┐└─┬─┘\n",
       " q_1: ┤ H ├──■──\n",
       "      └───┘     ,\n",
       "                          \n",
       " q_0: ────────────────────\n",
       "                          \n",
       " q_1: ────────────────────\n",
       "      ┌───┐┌───┐┌───┐┌───┐\n",
       " q_2: ┤ X ├┤ X ├┤ X ├┤ X ├\n",
       "      └─┬─┘└─┬─┘└─┬─┘└─┬─┘\n",
       " q_3: ──┼────■────┼────■──\n",
       "        │         │       \n",
       " q_4: ──■─────────■───────\n",
       "                          ,\n",
       "                          \n",
       " q_0: ────────────────────\n",
       "                          \n",
       " q_1: ────────────────────\n",
       "      ┌───┐┌───┐┌───┐┌───┐\n",
       " q_2: ┤ X ├┤ X ├┤ X ├┤ X ├\n",
       "      └─┬─┘└─┬─┘└─┬─┘└─┬─┘\n",
       " q_3: ──┼────■────┼────■──\n",
       "        │         │       \n",
       " q_4: ──■─────────■───────\n",
       "                          )"
      ]
     },
     "execution_count": 50,
     "metadata": {},
     "output_type": "execute_result"
    }
   ],
   "source": [
    "# Bell\n",
    "with QiskitTester(2) as QT:\n",
    "    QT.circuit.h(QT.q(0))\n",
    "    QT.circuit.cx(QT.q(0), QT.q(1))\n",
    "QT.circuit.draw(), transpiled.draw(), discretized.draw()"
   ]
  },
  {
   "attachments": {},
   "cell_type": "markdown",
   "metadata": {},
   "source": [
    "GHZ\n",
    "(3-qubit, but can be generalized)"
   ]
  },
  {
   "cell_type": "code",
   "execution_count": 52,
   "metadata": {},
   "outputs": [
    {
     "name": "stdout",
     "output_type": "stream",
     "text": [
      "h []\n",
      "cx []\n",
      "cx []\n"
     ]
    },
    {
     "data": {
      "text/plain": [
       "(               ┌───┐\n",
       " q_0: ──────────┤ X ├\n",
       "           ┌───┐└─┬─┘\n",
       " q_1: ─────┤ X ├──┼──\n",
       "      ┌───┐└─┬─┘  │  \n",
       " q_2: ┤ H ├──■────■──\n",
       "      └───┘          ,\n",
       "                ┌───┐\n",
       " q_0: ──────────┤ X ├\n",
       "           ┌───┐└─┬─┘\n",
       " q_1: ─────┤ X ├──┼──\n",
       "      ┌───┐└─┬─┘  │  \n",
       " q_2: ┤ H ├──■────■──\n",
       "      └───┘          )"
      ]
     },
     "execution_count": 52,
     "metadata": {},
     "output_type": "execute_result"
    }
   ],
   "source": [
    "# GHZ\n",
    "with QiskitTester(3) as QT:\n",
    "    QT.circuit.h(QT.q(0))\n",
    "    QT.circuit.cx(QT.q(0), QT.q(1))\n",
    "    QT.circuit.cx(QT.q(0), QT.q(2))\n",
    "QT.circuit.draw(), QT.transpile().draw()"
   ]
  },
  {
   "cell_type": "code",
   "execution_count": null,
   "metadata": {},
   "outputs": [],
   "source": [
    "# W this is too long\n",
    "with QiskitTester(3) as QT:\n",
    "    QT.circuit.ry(2 * np.arccos(1 / np.sqrt(3)), QT.q(0))\n",
    "    QT.circuit.h(QT.q(1))\n",
    "    QT.circuit.cnot(QT.q(1), QT.q(2))\n",
    "    QT.circuit.cnot(QT.q(0), QT.q(1))\n",
    "    QT.circuit.x(QT.q(0))\n",
    "QT.circuit.draw(), QT.transpile().draw()"
   ]
  },
  {
   "cell_type": "code",
   "execution_count": 59,
   "metadata": {},
   "outputs": [
    {
     "name": "stdout",
     "output_type": "stream",
     "text": [
      "h []\n",
      "h []\n",
      "h []\n",
      "h []\n",
      "h []\n",
      "cz []\n",
      "cz []\n",
      "cz []\n",
      "cz []\n",
      "cz []\n"
     ]
    },
    {
     "data": {
      "text/plain": [
       "(     »\n",
       " q_0: »\n",
       "      »\n",
       " q_1: »\n",
       "      »\n",
       " q_2: »\n",
       "      »\n",
       " q_3: »\n",
       "      »\n",
       " q_4: »\n",
       "      »\n",
       " «     ┌────────────────────────────────────────────────────────────────────────────────────────────────────┐\n",
       " «q_0: ┤4                                                                                                   ├\n",
       " «     │                                                                                                    │\n",
       " «q_1: ┤3                                                                                                   ├\n",
       " «     │                                                                                                    │\n",
       " «q_2: ┤2 graph: [[0. 1. 0. 0. 1.]\n",
       "  [1. 0. 1. 0. 0.]\n",
       "  [0. 1. 0. 1. 0.]\n",
       "  [0. 0. 1. 0. 1.]\n",
       "  [1. 0. 0. 1. 0.]] ├\n",
       " «     │                                                                                                    │\n",
       " «q_3: ┤1                                                                                                   ├\n",
       " «     │                                                                                                    │\n",
       " «q_4: ┤0                                                                                                   ├\n",
       " «     └────────────────────────────────────────────────────────────────────────────────────────────────────┘,\n",
       "      ┌───┐┌───┐          ┌───┐┌───┐┌───┐          ┌───┐┌───┐\n",
       " q_0: ┤ H ├┤ H ├──────────┤ X ├┤ H ├┤ H ├──────────┤ X ├┤ H ├\n",
       "      ├───┤├───┤          └─┬─┘└───┘└───┘┌───┐┌───┐└─┬─┘└───┘\n",
       " q_1: ┤ H ├┤ H ├────────────┼────────────┤ X ├┤ H ├──■───────\n",
       "      ├───┤├───┤            │  ┌───┐┌───┐└─┬─┘└───┘          \n",
       " q_2: ┤ H ├┤ H ├────────────┼──┤ X ├┤ H ├──■─────────────────\n",
       "      ├───┤├───┤┌───┐┌───┐  │  └─┬─┘└───┘                    \n",
       " q_3: ┤ H ├┤ H ├┤ X ├┤ H ├──┼────■───────────────────────────\n",
       "      ├───┤└───┘└─┬─┘└───┘  │                                \n",
       " q_4: ┤ H ├───────■─────────■────────────────────────────────\n",
       "      └───┘                                                  )"
      ]
     },
     "execution_count": 59,
     "metadata": {},
     "output_type": "execute_result"
    }
   ],
   "source": [
    "# Graph state\n",
    "with QiskitTester(5) as QT:\n",
    "    QT.circuit.append(\n",
    "        qk.circuit.library.GraphState(\n",
    "            [\n",
    "                [\n",
    "                    0.0,\n",
    "                    1.0,\n",
    "                    0.0,\n",
    "                    0.0,\n",
    "                    1.0,\n",
    "                ],\n",
    "                [\n",
    "                    1.0,\n",
    "                    0.0,\n",
    "                    1.0,\n",
    "                    0.0,\n",
    "                    0.0,\n",
    "                ],\n",
    "                [0.0, 1.0, 0.0, 1.0, 0.0],\n",
    "                [0.0, 0.0, 1.0, 0.0, 1.0],\n",
    "                [1.0, 0.0, 0.0, 1.0, 0.0],\n",
    "            ]\n",
    "        ),\n",
    "        (QT.q(0), QT.q(1), QT.q(2), QT.q(3), QT.q(4)),\n",
    "    )\n",
    "QT.circuit.draw(), QT.transpile().draw()"
   ]
  },
  {
   "cell_type": "code",
   "execution_count": null,
   "metadata": {},
   "outputs": [],
   "source": []
  },
  {
   "attachments": {},
   "cell_type": "markdown",
   "metadata": {},
   "source": [
    "# Too Long"
   ]
  },
  {
   "cell_type": "code",
   "execution_count": 2,
   "metadata": {},
   "outputs": [
    {
     "name": "stdout",
     "output_type": "stream",
     "text": [
      "h []\n",
      "cp [1.5707963267948966]\n",
      "h []\n",
      "cp [0.7853981633974483]\n",
      "cp [1.5707963267948966]\n",
      "h []\n",
      "swap []\n"
     ]
    },
    {
     "data": {
      "text/plain": [
       "(     ┌──────┐\n",
       " q_0: ┤2     ├\n",
       "      │      │\n",
       " q_1: ┤1 QFT ├\n",
       "      │      │\n",
       " q_2: ┤0     ├\n",
       "      └──────┘,\n",
       "      ┌───┐                                        \n",
       " q_0: ┤ H ├─■─────────────■──────────────────────X─\n",
       "      └───┘ │P(π/2) ┌───┐ │                      │ \n",
       " q_1: ──────■───────┤ H ├─┼────────■─────────────┼─\n",
       "                    └───┘ │P(π/4)  │P(π/2) ┌───┐ │ \n",
       " q_2: ────────────────────■────────■───────┤ H ├─X─\n",
       "                                           └───┘   ,\n",
       " global phase: 3.7306\n",
       "      ┌───┐┌───┐                 ┌───┐┌─────┐┌───┐┌─────┐┌───┐┌─────┐┌───┐»\n",
       " q_0: ┤ H ├┤ T ├──■───────────■──┤ H ├┤ Tdg ├┤ H ├┤ Tdg ├┤ H ├┤ Tdg ├┤ H ├»\n",
       "      └───┘└───┘┌─┴─┐┌─────┐┌─┴─┐├───┤└┬───┬┘├───┤└─────┘└───┘└─────┘└───┘»\n",
       " q_1: ──────────┤ X ├┤ Tdg ├┤ X ├┤ T ├─┤ H ├─┤ T ├────────────────────────»\n",
       "                └───┘└─────┘└───┘└───┘ └───┘ └───┘                        »\n",
       " q_2: ────────────────────────────────────────────────────────────────────»\n",
       "                                                                          »\n",
       " «     ┌─────┐┌───┐┌─────┐┌─────┐┌───┐┌───┐┌───┐┌───┐┌───┐┌─────┐┌───┐┌─────┐»\n",
       " «q_0: ┤ Tdg ├┤ H ├┤ Tdg ├┤ Tdg ├┤ H ├┤ T ├┤ H ├┤ T ├┤ H ├┤ Tdg ├┤ H ├┤ Tdg ├»\n",
       " «     └─────┘└───┘└─────┘└─────┘└───┘└───┘└───┘└───┘└───┘└─────┘└───┘└─────┘»\n",
       " «q_1: ──────────────────────────────────────────────────────────────────────»\n",
       " «                                                                           »\n",
       " «q_2: ──────────────────────────────────────────────────────────────────────»\n",
       " «                                                                           »\n",
       " «     ┌───┐┌─────┐┌───┐┌─────┐┌───┐┌─────┐┌─────┐┌───┐┌─────┐┌───┐┌───┐┌───┐»\n",
       " «q_0: ┤ H ├┤ Tdg ├┤ H ├┤ Tdg ├┤ H ├┤ Tdg ├┤ Tdg ├┤ H ├┤ Tdg ├┤ H ├┤ T ├┤ H ├»\n",
       " «     └───┘└─────┘└───┘└─────┘└───┘└─────┘└─────┘└───┘└─────┘└───┘└───┘└───┘»\n",
       " «q_1: ──────────────────────────────────────────────────────────────────────»\n",
       " «                                                                           »\n",
       " «q_2: ──────────────────────────────────────────────────────────────────────»\n",
       " «                                                                           »\n",
       " «     ┌───┐┌───┐┌───┐┌───┐┌───┐┌───┐┌───┐┌───┐┌───┐┌─────┐┌───┐┌─────┐┌───┐»\n",
       " «q_0: ┤ T ├┤ H ├┤ T ├┤ H ├┤ T ├┤ T ├┤ H ├┤ T ├┤ H ├┤ Tdg ├┤ H ├┤ Tdg ├┤ H ├»\n",
       " «     └───┘└───┘└───┘└───┘└───┘└───┘└───┘└───┘└───┘└─────┘└───┘└─────┘└───┘»\n",
       " «q_1: ─────────────────────────────────────────────────────────────────────»\n",
       " «                                                                          »\n",
       " «q_2: ─────────────────────────────────────────────────────────────────────»\n",
       " «                                                                          »\n",
       " «     ┌─────┐┌───┐┌───┐┌───┐┌───┐┌───┐┌───┐┌───┐┌───┐┌───┐┌───┐┌─────┐┌───┐»\n",
       " «q_0: ┤ Tdg ├┤ H ├┤ T ├┤ H ├┤ T ├┤ T ├┤ H ├┤ T ├┤ H ├┤ T ├┤ H ├┤ Tdg ├┤ H ├»\n",
       " «     └─────┘└───┘└───┘└───┘└───┘└───┘└───┘└───┘└───┘└───┘└───┘└─────┘└───┘»\n",
       " «q_1: ─────────────────────────────────────────────────────────────────────»\n",
       " «                                                                          »\n",
       " «q_2: ─────────────────────────────────────────────────────────────────────»\n",
       " «                                                                          »\n",
       " «     ┌─────┐┌───┐┌───┐┌───┐┌───┐┌───┐┌───┐┌───┐┌───┐┌───┐┌───┐┌───┐┌───┐┌───┐»\n",
       " «q_0: ┤ Tdg ├┤ H ├┤ T ├┤ H ├┤ T ├┤ H ├┤ T ├┤ H ├┤ T ├┤ H ├┤ T ├┤ H ├┤ T ├┤ H ├»\n",
       " «     └─────┘└───┘└───┘└───┘└───┘└───┘└───┘└───┘└───┘└───┘└───┘└───┘└───┘└───┘»\n",
       " «q_1: ────────────────────────────────────────────────────────────────────────»\n",
       " «                                                                             »\n",
       " «q_2: ────────────────────────────────────────────────────────────────────────»\n",
       " «                                                                             »\n",
       " «     ┌───┐┌───┐┌─────┐┌───┐┌─────┐┌─────┐┌───┐┌─────┐┌───┐┌─────┐┌───┐┌─────┐»\n",
       " «q_0: ┤ T ├┤ H ├┤ Tdg ├┤ H ├┤ Tdg ├┤ Tdg ├┤ H ├┤ Tdg ├┤ H ├┤ Tdg ├┤ H ├┤ Tdg ├»\n",
       " «     └───┘└───┘└─────┘└───┘└─────┘└─────┘└───┘└─────┘└───┘└─────┘└───┘└─────┘»\n",
       " «q_1: ────────────────────────────────────────────────────────────────────────»\n",
       " «                                                                             »\n",
       " «q_2: ────────────────────────────────────────────────────────────────────────»\n",
       " «                                                                             »\n",
       " «     ┌───┐┌─────┐┌───┐┌───┐┌───┐┌───┐┌───┐┌─────┐┌───┐┌─────┐┌───┐┌─────┐┌───┐»\n",
       " «q_0: ┤ H ├┤ Tdg ├┤ H ├┤ T ├┤ H ├┤ T ├┤ H ├┤ Tdg ├┤ H ├┤ Tdg ├┤ H ├┤ Tdg ├┤ H ├»\n",
       " «     └───┘└─────┘└───┘└───┘└───┘└───┘└───┘└─────┘└───┘└─────┘└───┘└─────┘└───┘»\n",
       " «q_1: ─────────────────────────────────────────────────────────────────────────»\n",
       " «                                                                              »\n",
       " «q_2: ─────────────────────────────────────────────────────────────────────────»\n",
       " «                                                                              »\n",
       " «     ┌─────┐┌───┐┌─────┐┌───┐┌─────┐┌───┐┌─────┐┌───┐┌───┐┌───┐┌───┐┌───┐»\n",
       " «q_0: ┤ Tdg ├┤ H ├┤ Tdg ├┤ H ├┤ Tdg ├┤ H ├┤ Tdg ├┤ H ├┤ T ├┤ H ├┤ T ├┤ H ├»\n",
       " «     └─────┘└───┘└─────┘└───┘└─────┘└───┘└─────┘└───┘└───┘└───┘└───┘└───┘»\n",
       " «q_1: ────────────────────────────────────────────────────────────────────»\n",
       " «                                                                         »\n",
       " «q_2: ────────────────────────────────────────────────────────────────────»\n",
       " «                                                                         »\n",
       " «     ┌─────┐┌───┐┌─────┐┌───┐┌─────┐┌─────┐┌───┐┌─────┐┌───┐┌───┐┌───┐┌───┐»\n",
       " «q_0: ┤ Tdg ├┤ H ├┤ Tdg ├┤ H ├┤ Tdg ├┤ Tdg ├┤ H ├┤ Tdg ├┤ H ├┤ T ├┤ H ├┤ T ├»\n",
       " «     └─────┘└───┘└─────┘└───┘└─────┘└─────┘└───┘└─────┘└───┘└───┘└───┘└───┘»\n",
       " «q_1: ──────────────────────────────────────────────────────────────────────»\n",
       " «                                                                           »\n",
       " «q_2: ──────────────────────────────────────────────────────────────────────»\n",
       " «                                                                           »\n",
       " «     ┌───┐┌───┐┌───┐┌─────┐┌───┐┌─────┐┌───┐┌───┐┌───┐┌───┐┌───┐┌───┐┌───┐»\n",
       " «q_0: ┤ H ├┤ T ├┤ H ├┤ Tdg ├┤ H ├┤ Tdg ├┤ H ├┤ T ├┤ H ├┤ T ├┤ H ├┤ T ├┤ H ├»\n",
       " «     └───┘└───┘└───┘└─────┘└───┘└─────┘└───┘└───┘└───┘└───┘└───┘└───┘└───┘»\n",
       " «q_1: ─────────────────────────────────────────────────────────────────────»\n",
       " «                                                                          »\n",
       " «q_2: ─────────────────────────────────────────────────────────────────────»\n",
       " «                                                                          »\n",
       " «     ┌───┐┌───┐┌───┐┌───┐┌───┐┌───┐┌───┐┌───┐┌───┐┌───┐┌───┐┌───┐┌─────┐┌───┐»\n",
       " «q_0: ┤ T ├┤ H ├┤ T ├┤ H ├┤ T ├┤ H ├┤ T ├┤ H ├┤ T ├┤ H ├┤ T ├┤ H ├┤ Tdg ├┤ H ├»\n",
       " «     └───┘└───┘└───┘└───┘└───┘└───┘└───┘└───┘└───┘└───┘└───┘└───┘└─────┘└───┘»\n",
       " «q_1: ────────────────────────────────────────────────────────────────────────»\n",
       " «                                                                             »\n",
       " «q_2: ────────────────────────────────────────────────────────────────────────»\n",
       " «                                                                             »\n",
       " «     ┌─────┐┌───┐┌───┐┌───┐┌───┐┌───┐┌───┐┌───┐┌───┐┌───┐┌───┐┌───┐┌───┐┌───┐»\n",
       " «q_0: ┤ Tdg ├┤ H ├┤ T ├┤ H ├┤ T ├┤ H ├┤ T ├┤ H ├┤ T ├┤ H ├┤ T ├┤ T ├┤ H ├┤ T ├»\n",
       " «     └─────┘└───┘└───┘└───┘└───┘└───┘└───┘└───┘└───┘└───┘└───┘└───┘└───┘└───┘»\n",
       " «q_1: ────────────────────────────────────────────────────────────────────────»\n",
       " «                                                                             »\n",
       " «q_2: ────────────────────────────────────────────────────────────────────────»\n",
       " «                                                                             »\n",
       " «     ┌───┐┌─────┐┌───┐┌─────┐┌───┐┌─────┐┌───┐┌─────┐┌───┐┌─────┐┌───┐┌─────┐»\n",
       " «q_0: ┤ H ├┤ Tdg ├┤ H ├┤ Tdg ├┤ H ├┤ Tdg ├┤ H ├┤ Tdg ├┤ H ├┤ Tdg ├┤ H ├┤ Tdg ├»\n",
       " «     └───┘└─────┘└───┘└─────┘└───┘└─────┘└───┘└─────┘└───┘└─────┘└───┘└─────┘»\n",
       " «q_1: ────────────────────────────────────────────────────────────────────────»\n",
       " «                                                                             »\n",
       " «q_2: ────────────────────────────────────────────────────────────────────────»\n",
       " «                                                                             »\n",
       " «     ┌───┐┌─────┐┌───┐┌─────┐┌───┐┌─────┐┌───┐┌─────┐┌─────┐┌───┐┌─────┐┌───┐»\n",
       " «q_0: ┤ H ├┤ Tdg ├┤ H ├┤ Tdg ├┤ H ├┤ Tdg ├┤ H ├┤ Tdg ├┤ Tdg ├┤ H ├┤ Tdg ├┤ H ├»\n",
       " «     └───┘└─────┘└───┘└─────┘└───┘└─────┘└───┘└─────┘└─────┘└───┘└─────┘└───┘»\n",
       " «q_1: ────────────────────────────────────────────────────────────────────────»\n",
       " «                                                                             »\n",
       " «q_2: ────────────────────────────────────────────────────────────────────────»\n",
       " «                                                                             »\n",
       " «     ┌───┐┌───┐┌───┐┌───┐┌───┐┌───┐┌───┐┌───┐┌───┐┌───┐┌───┐┌───┐┌───┐┌─────┐»\n",
       " «q_0: ┤ T ├┤ H ├┤ T ├┤ H ├┤ T ├┤ H ├┤ T ├┤ H ├┤ T ├┤ T ├┤ H ├┤ T ├┤ H ├┤ Tdg ├»\n",
       " «     └───┘└───┘└───┘└───┘└───┘└───┘└───┘└───┘└───┘└───┘└───┘└───┘└───┘└─────┘»\n",
       " «q_1: ────────────────────────────────────────────────────────────────────────»\n",
       " «                                                                             »\n",
       " «q_2: ────────────────────────────────────────────────────────────────────────»\n",
       " «                                                                             »\n",
       " «     ┌───┐┌─────┐┌───┐┌─────┐┌───┐┌─────┐┌───┐┌─────┐┌───┐┌───┐┌───┐┌───┐┌───┐»\n",
       " «q_0: ┤ H ├┤ Tdg ├┤ H ├┤ Tdg ├┤ H ├┤ Tdg ├┤ H ├┤ Tdg ├┤ H ├┤ T ├┤ H ├┤ T ├┤ H ├»\n",
       " «     └───┘└─────┘└───┘└─────┘└───┘└─────┘└───┘└─────┘└───┘└───┘└───┘└───┘└───┘»\n",
       " «q_1: ─────────────────────────────────────────────────────────────────────────»\n",
       " «                                                                              »\n",
       " «q_2: ─────────────────────────────────────────────────────────────────────────»\n",
       " «                                                                              »\n",
       " «     ┌─────┐┌───┐┌─────┐┌───┐┌─────┐┌───┐┌─────┐┌───┐┌───┐┌───┐┌───┐┌───┐┌───┐»\n",
       " «q_0: ┤ Tdg ├┤ H ├┤ Tdg ├┤ H ├┤ Tdg ├┤ H ├┤ Tdg ├┤ H ├┤ T ├┤ H ├┤ T ├┤ H ├┤ T ├»\n",
       " «     └─────┘└───┘└─────┘└───┘└─────┘└───┘└─────┘└───┘└───┘└───┘└───┘└───┘└───┘»\n",
       " «q_1: ─────────────────────────────────────────────────────────────────────────»\n",
       " «                                                                              »\n",
       " «q_2: ─────────────────────────────────────────────────────────────────────────»\n",
       " «                                                                              »\n",
       " «     ┌───┐┌─────┐┌───┐┌─────┐┌─────┐┌───┐┌───┐┌───┐┌───┐┌───┐┌───┐┌───┐┌───┐»\n",
       " «q_0: ┤ H ├┤ Tdg ├┤ H ├┤ Tdg ├┤ Tdg ├┤ H ├┤ T ├┤ H ├┤ T ├┤ H ├┤ T ├┤ H ├┤ T ├»\n",
       " «     └───┘└─────┘└───┘└─────┘└─────┘└───┘└───┘└───┘└───┘└───┘└───┘└───┘└───┘»\n",
       " «q_1: ───────────────────────────────────────────────────────────────────────»\n",
       " «                                                                            »\n",
       " «q_2: ───────────────────────────────────────────────────────────────────────»\n",
       " «                                                                            »\n",
       " «     ┌───┐┌───┐┌───┐┌───┐┌───┐┌───┐┌───┐┌─────┐┌───┐┌─────┐┌───┐┌─────┐┌─────┐»\n",
       " «q_0: ┤ H ├┤ T ├┤ T ├┤ T ├┤ H ├┤ T ├┤ H ├┤ Tdg ├┤ H ├┤ Tdg ├┤ H ├┤ Tdg ├┤ Tdg ├»\n",
       " «     └───┘└───┘└───┘└───┘└───┘└───┘└───┘└─────┘└───┘└─────┘└───┘└─────┘└─────┘»\n",
       " «q_1: ─────────────────────────────────────────────────────────────────────────»\n",
       " «                                                                              »\n",
       " «q_2: ─────────────────────────────────────────────────────────────────────────»\n",
       " «                                                                              »\n",
       " «     ┌───┐┌───┐┌───┐┌───┐┌───┐┌─────┐┌───┐┌─────┐┌─────┐┌───┐┌─────┐┌───┐┌───┐»\n",
       " «q_0: ┤ H ├┤ T ├┤ H ├┤ T ├┤ H ├┤ Tdg ├┤ H ├┤ Tdg ├┤ Tdg ├┤ H ├┤ Tdg ├┤ H ├┤ T ├»\n",
       " «     └───┘└───┘└───┘└───┘└───┘└─────┘└───┘└─────┘└─────┘└───┘└─────┘└───┘└───┘»\n",
       " «q_1: ─────────────────────────────────────────────────────────────────────────»\n",
       " «                                                                              »\n",
       " «q_2: ─────────────────────────────────────────────────────────────────────────»\n",
       " «                                                                              »\n",
       " «     ┌───┐┌───┐┌───┐┌───┐┌───┐┌───┐┌───┐┌───┐┌───┐┌─────┐┌───┐┌─────┐┌─────┐»\n",
       " «q_0: ┤ H ├┤ T ├┤ H ├┤ T ├┤ H ├┤ T ├┤ H ├┤ T ├┤ H ├┤ Tdg ├┤ H ├┤ Tdg ├┤ Tdg ├»\n",
       " «     └───┘└───┘└───┘└───┘└───┘└───┘└───┘└───┘└───┘└─────┘└───┘└─────┘└─────┘»\n",
       " «q_1: ───────────────────────────────────────────────────────────────────────»\n",
       " «                                                                            »\n",
       " «q_2: ───────────────────────────────────────────────────────────────────────»\n",
       " «                                                                            »\n",
       " «     ┌───┐┌─────┐┌───┐┌─────┐┌───┐┌─────┐┌───┐┌─────┐┌───┐┌───┐┌───┐┌───┐┌───┐»\n",
       " «q_0: ┤ H ├┤ Tdg ├┤ H ├┤ Tdg ├┤ H ├┤ Tdg ├┤ H ├┤ Tdg ├┤ H ├┤ T ├┤ H ├┤ T ├┤ T ├»\n",
       " «     └───┘└─────┘└───┘└─────┘└───┘└─────┘└───┘└─────┘└───┘└───┘└───┘└───┘└───┘»\n",
       " «q_1: ─────────────────────────────────────────────────────────────────────────»\n",
       " «                                                                              »\n",
       " «q_2: ─────────────────────────────────────────────────────────────────────────»\n",
       " «                                                                              »\n",
       " «     ┌───┐┌───┐┌───┐┌───┐┌───┐┌───┐┌───┐┌─────┐┌───┐┌─────┐┌───┐┌───┐┌───┐»\n",
       " «q_0: ┤ H ├┤ T ├┤ H ├┤ T ├┤ H ├┤ T ├┤ H ├┤ Tdg ├┤ H ├┤ Tdg ├┤ H ├┤ T ├┤ T ├»\n",
       " «     └───┘└───┘└───┘└───┘└───┘└───┘└───┘└─────┘└───┘└─────┘└───┘└───┘└───┘»\n",
       " «q_1: ─────────────────────────────────────────────────────────────────────»\n",
       " «                                                                          »\n",
       " «q_2: ─────────────────────────────────────────────────────────────────────»\n",
       " «                                                                          »\n",
       " «     ┌───┐┌───┐┌───┐┌───┐┌───┐┌─────┐┌───┐┌─────┐┌─────┐┌─────┐┌───┐┌─────┐»\n",
       " «q_0: ┤ H ├┤ T ├┤ H ├┤ T ├┤ H ├┤ Tdg ├┤ H ├┤ Tdg ├┤ Tdg ├┤ Tdg ├┤ H ├┤ Tdg ├»\n",
       " «     └───┘└───┘└───┘└───┘└───┘└─────┘└───┘└─────┘└─────┘└─────┘└───┘└─────┘»\n",
       " «q_1: ──────────────────────────────────────────────────────────────────────»\n",
       " «                                                                           »\n",
       " «q_2: ──────────────────────────────────────────────────────────────────────»\n",
       " «                                                                           »\n",
       " «     ┌───┐┌─────┐┌───┐┌─────┐┌───┐┌─────┐┌───┐┌───┐┌───┐┌───┐┌───┐┌───┐┌─────┐»\n",
       " «q_0: ┤ H ├┤ Tdg ├┤ H ├┤ Tdg ├┤ H ├┤ Tdg ├┤ H ├┤ T ├┤ T ├┤ H ├┤ T ├┤ H ├┤ Tdg ├»\n",
       " «     └───┘└─────┘└───┘└─────┘└───┘└─────┘└───┘└───┘└───┘└───┘└───┘└───┘└─────┘»\n",
       " «q_1: ─────────────────────────────────────────────────────────────────────────»\n",
       " «                                                                              »\n",
       " «q_2: ─────────────────────────────────────────────────────────────────────────»\n",
       " «                                                                              »\n",
       " «     ┌───┐┌─────┐┌───┐┌─────┐┌───┐┌───┐┌───┐┌───┐┌───┐┌───┐┌───┐┌───┐┌───┐»\n",
       " «q_0: ┤ H ├┤ Tdg ├┤ H ├┤ Tdg ├┤ H ├┤ T ├┤ H ├┤ T ├┤ H ├┤ T ├┤ H ├┤ T ├┤ H ├»\n",
       " «     └───┘└─────┘└───┘└─────┘└───┘└───┘└───┘└───┘└───┘└───┘└───┘└───┘└───┘»\n",
       " «q_1: ─────────────────────────────────────────────────────────────────────»\n",
       " «                                                                          »\n",
       " «q_2: ─────────────────────────────────────────────────────────────────────»\n",
       " «                                                                          »\n",
       " «     ┌───┐┌───┐┌───┐┌───┐┌───┐┌───┐┌───┐┌─────┐┌───┐┌─────┐┌─────┐┌───┐┌─────┐»\n",
       " «q_0: ┤ T ├┤ T ├┤ H ├┤ T ├┤ H ├┤ T ├┤ H ├┤ Tdg ├┤ H ├┤ Tdg ├┤ Tdg ├┤ H ├┤ Tdg ├»\n",
       " «     └───┘└───┘└───┘└───┘└───┘└───┘└───┘└─────┘└───┘└─────┘└─────┘└───┘└─────┘»\n",
       " «q_1: ─────────────────────────────────────────────────────────────────────────»\n",
       " «                                                                              »\n",
       " «q_2: ─────────────────────────────────────────────────────────────────────────»\n",
       " «                                                                              »\n",
       " «     ┌───┐┌─────┐┌───┐┌───┐┌───┐┌───┐┌───┐┌───┐┌───┐┌───┐┌───┐┌─────┐┌───┐»\n",
       " «q_0: ┤ H ├┤ Tdg ├┤ H ├┤ T ├┤ H ├┤ T ├┤ T ├┤ T ├┤ H ├┤ T ├┤ H ├┤ Tdg ├┤ H ├»\n",
       " «     └───┘└─────┘└───┘└───┘└───┘└───┘└───┘└───┘└───┘└───┘└───┘└─────┘└───┘»\n",
       " «q_1: ─────────────────────────────────────────────────────────────────────»\n",
       " «                                                                          »\n",
       " «q_2: ─────────────────────────────────────────────────────────────────────»\n",
       " «                                                                          »\n",
       " «     ┌─────┐┌───┐┌─────┐┌─────┐┌───┐┌─────┐┌───┐┌───┐┌───┐┌───┐┌───┐┌─────┐»\n",
       " «q_0: ┤ Tdg ├┤ H ├┤ Tdg ├┤ Tdg ├┤ H ├┤ Tdg ├┤ H ├┤ T ├┤ H ├┤ T ├┤ H ├┤ Tdg ├»\n",
       " «     └─────┘└───┘└─────┘└─────┘└───┘└─────┘└───┘└───┘└───┘└───┘└───┘└─────┘»\n",
       " «q_1: ──────────────────────────────────────────────────────────────────────»\n",
       " «                                                                           »\n",
       " «q_2: ──────────────────────────────────────────────────────────────────────»\n",
       " «                                                                           »\n",
       " «     ┌───┐┌─────┐┌───┐┌─────┐┌───┐┌─────┐┌───┐┌─────┐┌─────┐┌───┐┌─────┐┌───┐»\n",
       " «q_0: ┤ H ├┤ Tdg ├┤ H ├┤ Tdg ├┤ H ├┤ Tdg ├┤ H ├┤ Tdg ├┤ Tdg ├┤ H ├┤ Tdg ├┤ H ├»\n",
       " «     └───┘└─────┘└───┘└─────┘└───┘└─────┘└───┘└─────┘└─────┘└───┘└─────┘└───┘»\n",
       " «q_1: ────────────────────────────────────────────────────────────────────────»\n",
       " «                                                                             »\n",
       " «q_2: ────────────────────────────────────────────────────────────────────────»\n",
       " «                                                                             »\n",
       " «     ┌───┐┌───┐┌───┐┌───┐┌───┐┌───┐┌───┐┌───┐┌───┐┌───┐┌───┐┌───┐┌───┐┌─────┐»\n",
       " «q_0: ┤ T ├┤ H ├┤ T ├┤ H ├┤ T ├┤ H ├┤ T ├┤ H ├┤ T ├┤ T ├┤ H ├┤ T ├┤ H ├┤ Tdg ├»\n",
       " «     └───┘└───┘└───┘└───┘└───┘└───┘└───┘└───┘└───┘└───┘└───┘└───┘└───┘└─────┘»\n",
       " «q_1: ────────────────────────────────────────────────────────────────────────»\n",
       " «                                                                             »\n",
       " «q_2: ────────────────────────────────────────────────────────────────────────»\n",
       " «                                                                             »\n",
       " «     ┌───┐┌─────┐┌───┐┌─────┐┌───┐┌───┐┌───┐┌───┐┌───┐┌───┐┌───┐┌─────┐┌───┐»\n",
       " «q_0: ┤ H ├┤ Tdg ├┤ H ├┤ Tdg ├┤ H ├┤ T ├┤ H ├┤ T ├┤ H ├┤ T ├┤ H ├┤ Tdg ├┤ H ├»\n",
       " «     └───┘└─────┘└───┘└─────┘└───┘└───┘└───┘└───┘└───┘└───┘└───┘└─────┘└───┘»\n",
       " «q_1: ───────────────────────────────────────────────────────────────────────»\n",
       " «                                                                            »\n",
       " «q_2: ───────────────────────────────────────────────────────────────────────»\n",
       " «                                                                            »\n",
       " «     ┌─────┐┌───┐┌───┐┌───┐┌───┐┌───┐┌─────┐┌───┐┌─────┐┌───┐┌─────┐┌───┐┌───┐»\n",
       " «q_0: ┤ Tdg ├┤ H ├┤ T ├┤ H ├┤ T ├┤ H ├┤ Tdg ├┤ H ├┤ Tdg ├┤ H ├┤ Tdg ├┤ H ├┤ T ├»\n",
       " «     └─────┘└───┘└───┘└───┘└───┘└───┘└─────┘└───┘└─────┘└───┘└─────┘└───┘└───┘»\n",
       " «q_1: ─────────────────────────────────────────────────────────────────────────»\n",
       " «                                                                              »\n",
       " «q_2: ─────────────────────────────────────────────────────────────────────────»\n",
       " «                                                                              »\n",
       " «     ┌───┐┌───┐┌───┐┌───┐┌─────┐┌───┐┌───┐┌───┐┌───┐┌───┐┌───┐┌───┐┌─────┐»\n",
       " «q_0: ┤ H ├┤ T ├┤ T ├┤ H ├┤ Tdg ├┤ H ├┤ T ├┤ H ├┤ T ├┤ H ├┤ T ├┤ H ├┤ Tdg ├»\n",
       " «     └───┘└───┘└───┘└───┘└─────┘└───┘└───┘└───┘└───┘└───┘└───┘└───┘└─────┘»\n",
       " «q_1: ─────────────────────────────────────────────────────────────────────»\n",
       " «                                                                          »\n",
       " «q_2: ─────────────────────────────────────────────────────────────────────»\n",
       " «                                                                          »\n",
       " «     ┌───┐┌─────┐┌─────┐┌─────┐┌───┐┌─────┐┌───┐┌───┐┌───┐┌───┐┌───┐┌───┐┌───┐»\n",
       " «q_0: ┤ H ├┤ Tdg ├┤ Tdg ├┤ Tdg ├┤ H ├┤ Tdg ├┤ H ├┤ T ├┤ H ├┤ T ├┤ H ├┤ T ├┤ H ├»\n",
       " «     └───┘└─────┘└─────┘└─────┘└───┘└─────┘└───┘└───┘└───┘└───┘└───┘└───┘└───┘»\n",
       " «q_1: ─────────────────────────────────────────────────────────────────────────»\n",
       " «                                                                              »\n",
       " «q_2: ─────────────────────────────────────────────────────────────────────────»\n",
       " «                                                                              »\n",
       " «     ┌─────┐┌───┐┌─────┐┌─────┐┌───┐┌─────┐┌───┐┌─────┐┌───┐┌─────┐┌───┐»\n",
       " «q_0: ┤ Tdg ├┤ H ├┤ Tdg ├┤ Tdg ├┤ H ├┤ Tdg ├┤ H ├┤ Tdg ├┤ H ├┤ Tdg ├┤ H ├»\n",
       " «     └─────┘└───┘└─────┘└─────┘└───┘└─────┘└───┘└─────┘└───┘└─────┘└───┘»\n",
       " «q_1: ───────────────────────────────────────────────────────────────────»\n",
       " «                                                                        »\n",
       " «q_2: ───────────────────────────────────────────────────────────────────»\n",
       " «                                                                        »\n",
       " «     ┌─────┐┌───┐┌───┐┌───┐┌───┐┌───┐┌───┐┌───┐┌───┐┌───┐┌───┐┌───┐┌───┐┌───┐»\n",
       " «q_0: ┤ Tdg ├┤ H ├┤ T ├┤ H ├┤ T ├┤ T ├┤ H ├┤ T ├┤ H ├┤ T ├┤ H ├┤ T ├┤ H ├┤ T ├»\n",
       " «     └─────┘└───┘└───┘└───┘└───┘└───┘└───┘└───┘└───┘└───┘└───┘└───┘└───┘└───┘»\n",
       " «q_1: ────────────────────────────────────────────────────────────────────────»\n",
       " «                                                                             »\n",
       " «q_2: ────────────────────────────────────────────────────────────────────────»\n",
       " «                                                                             »\n",
       " «     ┌───┐┌───┐┌───┐┌───┐┌─────┐┌───┐┌─────┐┌───┐┌─────┐┌───┐┌───┐┌───┐┌─────┐»\n",
       " «q_0: ┤ T ├┤ H ├┤ T ├┤ H ├┤ Tdg ├┤ H ├┤ Tdg ├┤ H ├┤ Tdg ├┤ H ├┤ T ├┤ H ├┤ Tdg ├»\n",
       " «     └───┘└───┘└───┘└───┘└─────┘└───┘└─────┘└───┘└─────┘└───┘└───┘└───┘└─────┘»\n",
       " «q_1: ─────────────────────────────────────────────────────────────────────────»\n",
       " «                                                                              »\n",
       " «q_2: ─────────────────────────────────────────────────────────────────────────»\n",
       " «                                                                              »\n",
       " «     ┌─────┐┌───┐┌─────┐┌───┐┌───┐┌───┐┌───┐┌───┐┌───┐┌───┐┌─────┐┌───┐┌─────┐»\n",
       " «q_0: ┤ Tdg ├┤ H ├┤ Tdg ├┤ H ├┤ T ├┤ H ├┤ T ├┤ H ├┤ T ├┤ H ├┤ Tdg ├┤ H ├┤ Tdg ├»\n",
       " «     └─────┘└───┘└─────┘└───┘└───┘└───┘└───┘└───┘└───┘└───┘└─────┘└───┘└─────┘»\n",
       " «q_1: ─────────────────────────────────────────────────────────────────────────»\n",
       " «                                                                              »\n",
       " «q_2: ─────────────────────────────────────────────────────────────────────────»\n",
       " «                                                                              »\n",
       " «     ┌───┐┌───┐┌───┐┌───┐┌───┐┌─────┐┌─────┐┌───┐┌─────┐┌───┐┌─────┐┌───┐»\n",
       " «q_0: ┤ H ├┤ T ├┤ H ├┤ T ├┤ H ├┤ Tdg ├┤ Tdg ├┤ H ├┤ Tdg ├┤ H ├┤ Tdg ├┤ H ├»\n",
       " «     └───┘└───┘└───┘└───┘└───┘└─────┘└─────┘└───┘└─────┘└───┘└─────┘└───┘»\n",
       " «q_1: ────────────────────────────────────────────────────────────────────»\n",
       " «                                                                         »\n",
       " «q_2: ────────────────────────────────────────────────────────────────────»\n",
       " «                                                                         »\n",
       " «     ┌─────┐┌───┐┌─────┐┌───┐┌───┐┌───┐┌───┐┌───┐┌───┐┌───┐┌───┐┌───┐┌───┐»\n",
       " «q_0: ┤ Tdg ├┤ H ├┤ Tdg ├┤ H ├┤ T ├┤ H ├┤ T ├┤ T ├┤ H ├┤ T ├┤ H ├┤ T ├┤ H ├»\n",
       " «     └─────┘└───┘└─────┘└───┘└───┘└───┘└───┘└───┘└───┘└───┘└───┘└───┘└───┘»\n",
       " «q_1: ─────────────────────────────────────────────────────────────────────»\n",
       " «                                                                          »\n",
       " «q_2: ─────────────────────────────────────────────────────────────────────»\n",
       " «                                                                          »\n",
       " «     ┌───┐┌───┐┌───┐┌───┐┌─────┐┌───┐┌─────┐┌───┐┌───┐┌───┐┌─────┐┌───┐┌─────┐»\n",
       " «q_0: ┤ T ├┤ H ├┤ T ├┤ H ├┤ Tdg ├┤ H ├┤ Tdg ├┤ H ├┤ T ├┤ H ├┤ Tdg ├┤ H ├┤ Tdg ├»\n",
       " «     └───┘└───┘└───┘└───┘└─────┘└───┘└─────┘└───┘└───┘└───┘└─────┘└───┘└─────┘»\n",
       " «q_1: ─────────────────────────────────────────────────────────────────────────»\n",
       " «                                                                              »\n",
       " «q_2: ─────────────────────────────────────────────────────────────────────────»\n",
       " «                                                                              »\n",
       " «     ┌───┐┌───┐┌───┐┌───┐┌───┐┌───┐┌───┐┌───┐┌───┐┌───┐┌─────┐┌───┐┌─────┐»\n",
       " «q_0: ┤ H ├┤ T ├┤ H ├┤ T ├┤ T ├┤ H ├┤ T ├┤ H ├┤ T ├┤ H ├┤ Tdg ├┤ H ├┤ Tdg ├»\n",
       " «     └───┘└───┘└───┘└───┘└───┘└───┘└───┘└───┘└───┘└───┘└─────┘└───┘└─────┘»\n",
       " «q_1: ─────────────────────────────────────────────────────────────────────»\n",
       " «                                                                          »\n",
       " «q_2: ─────────────────────────────────────────────────────────────────────»\n",
       " «                                                                          »\n",
       " «     ┌─────┐┌─────┐┌───┐┌─────┐┌───┐┌───┐┌───┐┌───┐┌───┐┌───┐┌───┐┌───┐┌───┐»\n",
       " «q_0: ┤ Tdg ├┤ Tdg ├┤ H ├┤ Tdg ├┤ H ├┤ T ├┤ H ├┤ T ├┤ H ├┤ T ├┤ T ├┤ H ├┤ T ├»\n",
       " «     └─────┘└─────┘└───┘└─────┘└───┘└───┘└───┘└───┘└───┘└───┘└───┘└───┘└───┘»\n",
       " «q_1: ───────────────────────────────────────────────────────────────────────»\n",
       " «                                                                            »\n",
       " «q_2: ───────────────────────────────────────────────────────────────────────»\n",
       " «                                                                            »\n",
       " «     ┌───┐┌─────┐┌───┐┌─────┐┌───┐┌─────┐┌─────┐┌───┐┌─────┐┌───┐┌─────┐┌───┐»\n",
       " «q_0: ┤ H ├┤ Tdg ├┤ H ├┤ Tdg ├┤ H ├┤ Tdg ├┤ Tdg ├┤ H ├┤ Tdg ├┤ H ├┤ Tdg ├┤ H ├»\n",
       " «     └───┘└─────┘└───┘└─────┘└───┘└─────┘└─────┘└───┘└─────┘└───┘└─────┘└───┘»\n",
       " «q_1: ────────────────────────────────────────────────────────────────────────»\n",
       " «                                                                             »\n",
       " «q_2: ────────────────────────────────────────────────────────────────────────»\n",
       " «                                                                             »\n",
       " «     ┌─────┐┌───┐┌─────┐┌───┐┌───┐┌───┐┌───┐┌───┐┌───┐┌───┐┌─────┐┌───┐┌─────┐»\n",
       " «q_0: ┤ Tdg ├┤ H ├┤ Tdg ├┤ H ├┤ T ├┤ H ├┤ T ├┤ H ├┤ T ├┤ H ├┤ Tdg ├┤ H ├┤ Tdg ├»\n",
       " «     └─────┘└───┘└─────┘└───┘└───┘└───┘└───┘└───┘└───┘└───┘└─────┘└───┘└─────┘»\n",
       " «q_1: ─────────────────────────────────────────────────────────────────────────»\n",
       " «                                                                              »\n",
       " «q_2: ─────────────────────────────────────────────────────────────────────────»\n",
       " «                                                                              »\n",
       " «     ┌─────┐┌───┐┌───┐┌───┐┌───┐┌───┐┌───┐┌───┐┌───┐┌───┐┌───┐┌───┐┌───┐┌───┐»\n",
       " «q_0: ┤ Tdg ├┤ H ├┤ T ├┤ H ├┤ T ├┤ H ├┤ T ├┤ H ├┤ T ├┤ H ├┤ T ├┤ T ├┤ T ├┤ H ├»\n",
       " «     └─────┘└───┘└───┘└───┘└───┘└───┘└───┘└───┘└───┘└───┘└───┘└───┘└───┘└───┘»\n",
       " «q_1: ────────────────────────────────────────────────────────────────────────»\n",
       " «                                                                             »\n",
       " «q_2: ────────────────────────────────────────────────────────────────────────»\n",
       " «                                                                             »\n",
       " «     ┌───┐┌───┐┌─────┐┌───┐┌─────┐┌───┐┌─────┐┌─────┐┌───┐┌───┐┌───┐┌───┐┌───┐»\n",
       " «q_0: ┤ T ├┤ H ├┤ Tdg ├┤ H ├┤ Tdg ├┤ H ├┤ Tdg ├┤ Tdg ├┤ H ├┤ T ├┤ H ├┤ T ├┤ H ├»\n",
       " «     └───┘└───┘└─────┘└───┘└─────┘└───┘└─────┘└─────┘└───┘└───┘└───┘└───┘└───┘»\n",
       " «q_1: ─────────────────────────────────────────────────────────────────────────»\n",
       " «                                                                              »\n",
       " «q_2: ─────────────────────────────────────────────────────────────────────────»\n",
       " «                                                                              »\n",
       " «     ┌─────┐┌───┐┌─────┐┌───┐┌─────┐┌───┐┌─────┐┌─────┐┌───┐┌─────┐┌───┐┌───┐»\n",
       " «q_0: ┤ Tdg ├┤ H ├┤ Tdg ├┤ H ├┤ Tdg ├┤ H ├┤ Tdg ├┤ Tdg ├┤ H ├┤ Tdg ├┤ H ├┤ T ├»\n",
       " «     └─────┘└───┘└─────┘└───┘└─────┘└───┘└─────┘└─────┘└───┘└─────┘└───┘└───┘»\n",
       " «q_1: ────────────────────────────────────────────────────────────────────────»\n",
       " «                                                                             »\n",
       " «q_2: ────────────────────────────────────────────────────────────────────────»\n",
       " «                                                                             »\n",
       " «     ┌───┐┌───┐┌───┐┌───┐┌───┐┌───┐┌───┐┌───┐┌───┐┌───┐┌───┐┌───┐┌─────┐┌───┐»\n",
       " «q_0: ┤ H ├┤ T ├┤ H ├┤ T ├┤ H ├┤ T ├┤ H ├┤ T ├┤ T ├┤ H ├┤ T ├┤ H ├┤ Tdg ├┤ H ├»\n",
       " «     └───┘└───┘└───┘└───┘└───┘└───┘└───┘└───┘└───┘└───┘└───┘└───┘└─────┘└───┘»\n",
       " «q_1: ────────────────────────────────────────────────────────────────────────»\n",
       " «                                                                             »\n",
       " «q_2: ────────────────────────────────────────────────────────────────────────»\n",
       " «                                                                             »\n",
       " «     ┌─────┐┌───┐┌─────┐┌───┐┌─────┐┌───┐┌─────┐┌───┐┌───┐┌───┐┌───┐┌───┐┌───┐»\n",
       " «q_0: ┤ Tdg ├┤ H ├┤ Tdg ├┤ H ├┤ Tdg ├┤ H ├┤ Tdg ├┤ H ├┤ T ├┤ H ├┤ T ├┤ T ├┤ H ├»\n",
       " «     └─────┘└───┘└─────┘└───┘└─────┘└───┘└─────┘└───┘└───┘└───┘└───┘└───┘└───┘»\n",
       " «q_1: ─────────────────────────────────────────────────────────────────────────»\n",
       " «                                                                              »\n",
       " «q_2: ─────────────────────────────────────────────────────────────────────────»\n",
       " «                                                                              »\n",
       " «     ┌───┐┌───┐┌─────┐┌───┐┌─────┐┌───┐┌───┐┌───┐┌───┐┌───┐┌───┐┌───┐┌───┐»\n",
       " «q_0: ┤ T ├┤ H ├┤ Tdg ├┤ H ├┤ Tdg ├┤ H ├┤ T ├┤ T ├┤ H ├┤ T ├┤ H ├┤ T ├┤ H ├»\n",
       " «     └───┘└───┘└─────┘└───┘└─────┘└───┘└───┘└───┘└───┘└───┘└───┘└───┘└───┘»\n",
       " «q_1: ─────────────────────────────────────────────────────────────────────»\n",
       " «                                                                          »\n",
       " «q_2: ─────────────────────────────────────────────────────────────────────»\n",
       " «                                                                          »\n",
       " «     ┌─────┐┌───┐┌─────┐┌─────┐┌─────┐┌───┐┌─────┐┌───┐┌─────┐┌───┐┌─────┐»\n",
       " «q_0: ┤ Tdg ├┤ H ├┤ Tdg ├┤ Tdg ├┤ Tdg ├┤ H ├┤ Tdg ├┤ H ├┤ Tdg ├┤ H ├┤ Tdg ├»\n",
       " «     └─────┘└───┘└─────┘└─────┘└─────┘└───┘└─────┘└───┘└─────┘└───┘└─────┘»\n",
       " «q_1: ─────────────────────────────────────────────────────────────────────»\n",
       " «                                                                          »\n",
       " «q_2: ─────────────────────────────────────────────────────────────────────»\n",
       " «                                                                          »\n",
       " «     ┌───┐┌─────┐┌───┐┌───┐┌───┐┌───┐┌───┐┌───┐┌─────┐┌───┐┌─────┐┌───┐┌─────┐»\n",
       " «q_0: ┤ H ├┤ Tdg ├┤ H ├┤ T ├┤ T ├┤ H ├┤ T ├┤ H ├┤ Tdg ├┤ H ├┤ Tdg ├┤ H ├┤ Tdg ├»\n",
       " «     └───┘└─────┘└───┘└───┘└───┘└───┘└───┘└───┘└─────┘└───┘└─────┘└───┘└─────┘»\n",
       " «q_1: ─────────────────────────────────────────────────────────────────────────»\n",
       " «                                                                              »\n",
       " «q_2: ─────────────────────────────────────────────────────────────────────────»\n",
       " «                                                                              »\n",
       " «     ┌───┐┌───┐┌───┐┌───┐┌───┐┌───┐┌───┐┌───┐┌───┐┌─────┐┌───┐┌─────┐┌───┐»\n",
       " «q_0: ┤ H ├┤ T ├┤ H ├┤ T ├┤ H ├┤ T ├┤ H ├┤ T ├┤ H ├┤ Tdg ├┤ H ├┤ Tdg ├┤ H ├»\n",
       " «     └───┘└───┘└───┘└───┘└───┘└───┘└───┘└───┘└───┘└─────┘└───┘└─────┘└───┘»\n",
       " «q_1: ─────────────────────────────────────────────────────────────────────»\n",
       " «                                                                          »\n",
       " «q_2: ─────────────────────────────────────────────────────────────────────»\n",
       " «                                                                          »\n",
       " «     ┌───┐┌───┐┌───┐┌───┐┌───┐┌───┐┌───┐┌───┐┌───┐┌───┐┌─────┐┌───┐┌─────┐»\n",
       " «q_0: ┤ T ├┤ H ├┤ T ├┤ H ├┤ T ├┤ H ├┤ T ├┤ H ├┤ T ├┤ H ├┤ Tdg ├┤ H ├┤ Tdg ├»\n",
       " «     └───┘└───┘└───┘└───┘└───┘└───┘└───┘└───┘└───┘└───┘└─────┘└───┘└─────┘»\n",
       " «q_1: ─────────────────────────────────────────────────────────────────────»\n",
       " «                                                                          »\n",
       " «q_2: ─────────────────────────────────────────────────────────────────────»\n",
       " «                                                                          »\n",
       " «     ┌─────┐┌───┐┌─────┐┌───┐┌─────┐┌───┐┌─────┐┌───┐┌─────┐┌───┐┌───┐┌───┐»\n",
       " «q_0: ┤ Tdg ├┤ H ├┤ Tdg ├┤ H ├┤ Tdg ├┤ H ├┤ Tdg ├┤ H ├┤ Tdg ├┤ H ├┤ T ├┤ H ├»\n",
       " «     └─────┘└───┘└─────┘└───┘└─────┘└───┘└─────┘└───┘└─────┘└───┘└───┘└───┘»\n",
       " «q_1: ──────────────────────────────────────────────────────────────────────»\n",
       " «                                                                           »\n",
       " «q_2: ──────────────────────────────────────────────────────────────────────»\n",
       " «                                                                           »\n",
       " «     ┌───┐┌───┐┌───┐┌───┐┌───┐┌───┐┌───┐┌───┐┌─────┐┌───┐┌─────┐┌───┐┌─────┐»\n",
       " «q_0: ┤ T ├┤ T ├┤ H ├┤ T ├┤ T ├┤ H ├┤ T ├┤ H ├┤ Tdg ├┤ H ├┤ Tdg ├┤ H ├┤ Tdg ├»\n",
       " «     └───┘└───┘└───┘└───┘└───┘└───┘└───┘└───┘└─────┘└───┘└─────┘└───┘└─────┘»\n",
       " «q_1: ───────────────────────────────────────────────────────────────────────»\n",
       " «                                                                            »\n",
       " «q_2: ───────────────────────────────────────────────────────────────────────»\n",
       " «                                                                            »\n",
       " «     ┌───┐┌─────┐┌───┐┌─────┐┌─────┐┌───┐┌─────┐┌───┐┌───┐┌───┐┌───┐┌───┐┌───┐»\n",
       " «q_0: ┤ H ├┤ Tdg ├┤ H ├┤ Tdg ├┤ Tdg ├┤ H ├┤ Tdg ├┤ H ├┤ T ├┤ H ├┤ T ├┤ H ├┤ T ├»\n",
       " «     └───┘└─────┘└───┘└─────┘└─────┘└───┘└─────┘└───┘└───┘└───┘└───┘└───┘└───┘»\n",
       " «q_1: ─────────────────────────────────────────────────────────────────────────»\n",
       " «                                                                              »\n",
       " «q_2: ─────────────────────────────────────────────────────────────────────────»\n",
       " «                                                                              »\n",
       " «     ┌───┐┌───┐┌───┐┌───┐┌───┐┌───┐┌─────┐┌───┐┌─────┐┌───┐┌───┐┌───┐┌───┐»\n",
       " «q_0: ┤ H ├┤ T ├┤ H ├┤ T ├┤ T ├┤ H ├┤ Tdg ├┤ H ├┤ Tdg ├┤ H ├┤ T ├┤ H ├┤ T ├»\n",
       " «     └───┘└───┘└───┘└───┘└───┘└───┘└─────┘└───┘└─────┘└───┘└───┘└───┘└───┘»\n",
       " «q_1: ─────────────────────────────────────────────────────────────────────»\n",
       " «                                                                          »\n",
       " «q_2: ─────────────────────────────────────────────────────────────────────»\n",
       " «                                                                          »\n",
       " «     ┌───┐┌─────┐┌───┐┌─────┐┌───┐┌─────┐┌───┐┌───┐┌───┐┌───┐┌───┐┌───┐┌─────┐»\n",
       " «q_0: ┤ H ├┤ Tdg ├┤ H ├┤ Tdg ├┤ H ├┤ Tdg ├┤ H ├┤ T ├┤ H ├┤ T ├┤ T ├┤ H ├┤ Tdg ├»\n",
       " «     └───┘└─────┘└───┘└─────┘└───┘└─────┘└───┘└───┘└───┘└───┘└───┘└───┘└─────┘»\n",
       " «q_1: ─────────────────────────────────────────────────────────────────────────»\n",
       " «                                                                              »\n",
       " «q_2: ─────────────────────────────────────────────────────────────────────────»\n",
       " «                                                                              »\n",
       " «     ┌───┐┌───┐┌───┐┌───┐┌───┐┌───┐┌───┐┌─────┐┌───┐┌─────┐┌─────┐┌───┐┌─────┐»\n",
       " «q_0: ┤ H ├┤ T ├┤ H ├┤ T ├┤ H ├┤ T ├┤ H ├┤ Tdg ├┤ H ├┤ Tdg ├┤ Tdg ├┤ H ├┤ Tdg ├»\n",
       " «     └───┘└───┘└───┘└───┘└───┘└───┘└───┘└─────┘└───┘└─────┘└─────┘└───┘└─────┘»\n",
       " «q_1: ─────────────────────────────────────────────────────────────────────────»\n",
       " «                                                                              »\n",
       " «q_2: ─────────────────────────────────────────────────────────────────────────»\n",
       " «                                                                              »\n",
       " «     ┌───┐┌─────┐┌───┐┌─────┐┌───┐┌─────┐┌─────┐┌───┐┌─────┐┌───┐┌───┐┌───┐»\n",
       " «q_0: ┤ H ├┤ Tdg ├┤ H ├┤ Tdg ├┤ H ├┤ Tdg ├┤ Tdg ├┤ H ├┤ Tdg ├┤ H ├┤ T ├┤ H ├»\n",
       " «     └───┘└─────┘└───┘└─────┘└───┘└─────┘└─────┘└───┘└─────┘└───┘└───┘└───┘»\n",
       " «q_1: ──────────────────────────────────────────────────────────────────────»\n",
       " «                                                                           »\n",
       " «q_2: ──────────────────────────────────────────────────────────────────────»\n",
       " «                                                                           »\n",
       " «     ┌───┐┌───┐┌───┐┌───┐┌───┐┌───┐┌───┐┌───┐┌───┐┌───┐┌───┐┌─────┐┌───┐»\n",
       " «q_0: ┤ T ├┤ H ├┤ T ├┤ H ├┤ T ├┤ H ├┤ T ├┤ T ├┤ H ├┤ T ├┤ H ├┤ Tdg ├┤ H ├»\n",
       " «     └───┘└───┘└───┘└───┘└───┘└───┘└───┘└───┘└───┘└───┘└───┘└─────┘└───┘»\n",
       " «q_1: ───────────────────────────────────────────────────────────────────»\n",
       " «                                                                        »\n",
       " «q_2: ───────────────────────────────────────────────────────────────────»\n",
       " «                                                                        »\n",
       " «     ┌─────┐┌───┐┌─────┐┌───┐┌───┐┌───┐┌───┐┌───┐┌───┐┌───┐┌───┐┌───┐┌─────┐»\n",
       " «q_0: ┤ Tdg ├┤ H ├┤ Tdg ├┤ H ├┤ T ├┤ H ├┤ T ├┤ T ├┤ T ├┤ H ├┤ T ├┤ H ├┤ Tdg ├»\n",
       " «     └─────┘└───┘└─────┘└───┘└───┘└───┘└───┘└───┘└───┘└───┘└───┘└───┘└─────┘»\n",
       " «q_1: ───────────────────────────────────────────────────────────────────────»\n",
       " «                                                                            »\n",
       " «q_2: ───────────────────────────────────────────────────────────────────────»\n",
       " «                                                                            »\n",
       " «     ┌───┐┌─────┐┌───┐┌─────┐┌───┐┌───┐┌───┐┌─────┐┌─────┐┌───┐┌─────┐┌───┐»\n",
       " «q_0: ┤ H ├┤ Tdg ├┤ H ├┤ Tdg ├┤ H ├┤ T ├┤ H ├┤ Tdg ├┤ Tdg ├┤ H ├┤ Tdg ├┤ H ├»\n",
       " «     └───┘└─────┘└───┘└─────┘└───┘└───┘└───┘└─────┘└─────┘└───┘└─────┘└───┘»\n",
       " «q_1: ──────────────────────────────────────────────────────────────────────»\n",
       " «                                                                           »\n",
       " «q_2: ──────────────────────────────────────────────────────────────────────»\n",
       " «                                                                           »\n",
       " «     ┌───┐┌───┐┌───┐┌───┐┌───┐┌───┐┌─────┐┌───┐┌─────┐┌───┐┌───┐┌───┐┌───┐»\n",
       " «q_0: ┤ T ├┤ H ├┤ T ├┤ H ├┤ T ├┤ H ├┤ Tdg ├┤ H ├┤ Tdg ├┤ H ├┤ T ├┤ H ├┤ T ├»\n",
       " «     └───┘└───┘└───┘└───┘└───┘└───┘└─────┘└───┘└─────┘└───┘└───┘└───┘└───┘»\n",
       " «q_1: ─────────────────────────────────────────────────────────────────────»\n",
       " «                                                                          »\n",
       " «q_2: ─────────────────────────────────────────────────────────────────────»\n",
       " «                                                                          »\n",
       " «     ┌───┐┌─────┐┌───┐┌─────┐┌───┐┌─────┐┌───┐┌───┐┌───┐┌───┐┌───┐┌───┐┌───┐»\n",
       " «q_0: ┤ H ├┤ Tdg ├┤ H ├┤ Tdg ├┤ H ├┤ Tdg ├┤ H ├┤ T ├┤ H ├┤ T ├┤ H ├┤ T ├┤ H ├»\n",
       " «     └───┘└─────┘└───┘└─────┘└───┘└─────┘└───┘└───┘└───┘└───┘└───┘└───┘└───┘»\n",
       " «q_1: ───────────────────────────────────────────────────────────────────────»\n",
       " «                                                                            »\n",
       " «q_2: ───────────────────────────────────────────────────────────────────────»\n",
       " «                                                                            »\n",
       " «     ┌─────┐┌───┐┌─────┐┌─────┐┌───┐┌─────┐┌───┐┌─────┐┌───┐┌─────┐┌───┐»\n",
       " «q_0: ┤ Tdg ├┤ H ├┤ Tdg ├┤ Tdg ├┤ H ├┤ Tdg ├┤ H ├┤ Tdg ├┤ H ├┤ Tdg ├┤ H ├»\n",
       " «     └─────┘└───┘└─────┘└─────┘└───┘└─────┘└───┘└─────┘└───┘└─────┘└───┘»\n",
       " «q_1: ───────────────────────────────────────────────────────────────────»\n",
       " «                                                                        »\n",
       " «q_2: ───────────────────────────────────────────────────────────────────»\n",
       " «                                                                        »\n",
       " «     ┌─────┐┌───┐┌───┐┌───┐┌───┐┌───┐┌───┐┌───┐┌───┐┌───┐┌───┐┌───┐┌───┐┌───┐»\n",
       " «q_0: ┤ Tdg ├┤ H ├┤ T ├┤ H ├┤ T ├┤ T ├┤ H ├┤ T ├┤ H ├┤ T ├┤ H ├┤ T ├┤ H ├┤ T ├»\n",
       " «     └─────┘└───┘└───┘└───┘└───┘└───┘└───┘└───┘└───┘└───┘└───┘└───┘└───┘└───┘»\n",
       " «q_1: ────────────────────────────────────────────────────────────────────────»\n",
       " «                                                                             »\n",
       " «q_2: ────────────────────────────────────────────────────────────────────────»\n",
       " «                                                                             »\n",
       " «                                                                             »\n",
       " «q_0: ──■─────────────────────────────────────────────────────────────────────»\n",
       " «       │                                                                     »\n",
       " «q_1: ──┼─────────────────────────────────────────────────────────────────────»\n",
       " «     ┌─┴─┐┌───┐┌───┐┌───┐┌───┐┌───┐┌───┐┌───┐┌───┐┌───┐┌───┐┌───┐┌───┐┌─────┐»\n",
       " «q_2: ┤ X ├┤ H ├┤ T ├┤ H ├┤ T ├┤ H ├┤ T ├┤ T ├┤ H ├┤ T ├┤ H ├┤ T ├┤ H ├┤ Tdg ├»\n",
       " «     └───┘└───┘└───┘└───┘└───┘└───┘└───┘└───┘└───┘└───┘└───┘└───┘└───┘└─────┘»\n",
       " «                                                                            »\n",
       " «q_0: ───────────────────────────────────────────────────────────────────────»\n",
       " «                                                                            »\n",
       " «q_1: ───────────────────────────────────────────────────────────────────────»\n",
       " «     ┌───┐┌─────┐┌───┐┌───┐┌───┐┌─────┐┌───┐┌─────┐┌───┐┌───┐┌───┐┌───┐┌───┐»\n",
       " «q_2: ┤ H ├┤ Tdg ├┤ H ├┤ T ├┤ H ├┤ Tdg ├┤ H ├┤ Tdg ├┤ H ├┤ T ├┤ H ├┤ T ├┤ H ├»\n",
       " «     └───┘└─────┘└───┘└───┘└───┘└─────┘└───┘└─────┘└───┘└───┘└───┘└───┘└───┘»\n",
       " «                                                                            »\n",
       " «q_0: ───────────────────────────────────────────────────────────────────────»\n",
       " «                                                                            »\n",
       " «q_1: ───────────────────────────────────────────────────────────────────────»\n",
       " «     ┌─────┐┌───┐┌─────┐┌───┐┌─────┐┌───┐┌───┐┌───┐┌───┐┌───┐┌───┐┌───┐┌───┐»\n",
       " «q_2: ┤ Tdg ├┤ H ├┤ Tdg ├┤ H ├┤ Tdg ├┤ H ├┤ T ├┤ H ├┤ T ├┤ T ├┤ H ├┤ T ├┤ H ├»\n",
       " «     └─────┘└───┘└─────┘└───┘└─────┘└───┘└───┘└───┘└───┘└───┘└───┘└───┘└───┘»\n",
       " «                                                                          »\n",
       " «q_0: ─────────────────────────────────────────────────────────────────────»\n",
       " «                                                                          »\n",
       " «q_1: ─────────────────────────────────────────────────────────────────────»\n",
       " «     ┌───┐┌───┐┌─────┐┌───┐┌─────┐┌───┐┌───┐┌───┐┌───┐┌───┐┌───┐┌───┐┌───┐»\n",
       " «q_2: ┤ T ├┤ H ├┤ Tdg ├┤ H ├┤ Tdg ├┤ H ├┤ T ├┤ H ├┤ T ├┤ H ├┤ T ├┤ H ├┤ T ├»\n",
       " «     └───┘└───┘└─────┘└───┘└─────┘└───┘└───┘└───┘└───┘└───┘└───┘└───┘└───┘»\n",
       " «                                                                              »\n",
       " «q_0: ─────────────────────────────────────────────────────────────────────────»\n",
       " «                                                                              »\n",
       " «q_1: ─────────────────────────────────────────────────────────────────────────»\n",
       " «     ┌───┐┌───┐┌───┐┌───┐┌───┐┌───┐┌───┐┌─────┐┌───┐┌─────┐┌─────┐┌───┐┌─────┐»\n",
       " «q_2: ┤ H ├┤ T ├┤ H ├┤ T ├┤ H ├┤ T ├┤ H ├┤ Tdg ├┤ H ├┤ Tdg ├┤ Tdg ├┤ H ├┤ Tdg ├»\n",
       " «     └───┘└───┘└───┘└───┘└───┘└───┘└───┘└─────┘└───┘└─────┘└─────┘└───┘└─────┘»\n",
       " «                                                                              »\n",
       " «q_0: ─────────────────────────────────────────────────────────────────────────»\n",
       " «                                                                              »\n",
       " «q_1: ─────────────────────────────────────────────────────────────────────────»\n",
       " «     ┌───┐┌─────┐┌───┐┌─────┐┌───┐┌─────┐┌───┐┌───┐┌───┐┌───┐┌───┐┌─────┐┌───┐»\n",
       " «q_2: ┤ H ├┤ Tdg ├┤ H ├┤ Tdg ├┤ H ├┤ Tdg ├┤ H ├┤ T ├┤ H ├┤ T ├┤ H ├┤ Tdg ├┤ H ├»\n",
       " «     └───┘└─────┘└───┘└─────┘└───┘└─────┘└───┘└───┘└───┘└───┘└───┘└─────┘└───┘»\n",
       " «                                                                             »\n",
       " «q_0: ────────────────────────────────────────────────────────────────────────»\n",
       " «                                                                             »\n",
       " «q_1: ────────────────────────────────────────────────────────────────────────»\n",
       " «     ┌─────┐┌───┐┌─────┐┌───┐┌─────┐┌───┐┌─────┐┌───┐┌─────┐┌───┐┌─────┐┌───┐»\n",
       " «q_2: ┤ Tdg ├┤ H ├┤ Tdg ├┤ H ├┤ Tdg ├┤ H ├┤ Tdg ├┤ H ├┤ Tdg ├┤ H ├┤ Tdg ├┤ H ├»\n",
       " «     └─────┘└───┘└─────┘└───┘└─────┘└───┘└─────┘└───┘└─────┘└───┘└─────┘└───┘»\n",
       " «                                                                           »\n",
       " «q_0: ──────────────────────────────────────────────────────────────────────»\n",
       " «                                                                           »\n",
       " «q_1: ──────────────────────────────────────────────────────────────────────»\n",
       " «     ┌───┐┌───┐┌───┐┌───┐┌─────┐┌───┐┌─────┐┌───┐┌─────┐┌─────┐┌───┐┌─────┐»\n",
       " «q_2: ┤ T ├┤ H ├┤ T ├┤ H ├┤ Tdg ├┤ H ├┤ Tdg ├┤ H ├┤ Tdg ├┤ Tdg ├┤ H ├┤ Tdg ├»\n",
       " «     └───┘└───┘└───┘└───┘└─────┘└───┘└─────┘└───┘└─────┘└─────┘└───┘└─────┘»\n",
       " «                                                                          »\n",
       " «q_0: ─────────────────────────────────────────────────────────────────────»\n",
       " «                                                                          »\n",
       " «q_1: ─────────────────────────────────────────────────────────────────────»\n",
       " «     ┌───┐┌───┐┌───┐┌───┐┌───┐┌───┐┌───┐┌─────┐┌───┐┌─────┐┌───┐┌───┐┌───┐»\n",
       " «q_2: ┤ H ├┤ T ├┤ H ├┤ T ├┤ H ├┤ T ├┤ H ├┤ Tdg ├┤ H ├┤ Tdg ├┤ H ├┤ T ├┤ H ├»\n",
       " «     └───┘└───┘└───┘└───┘└───┘└───┘└───┘└─────┘└───┘└─────┘└───┘└───┘└───┘»\n",
       " «                                                                           »\n",
       " «q_0: ──────────────────────────────────────────────────────────────────────»\n",
       " «                                                                           »\n",
       " «q_1: ──────────────────────────────────────────────────────────────────────»\n",
       " «     ┌───┐┌───┐┌───┐┌───┐┌───┐┌───┐┌───┐┌───┐┌───┐┌───┐┌───┐┌───┐┌───┐┌───┐»\n",
       " «q_2: ┤ T ├┤ H ├┤ T ├┤ H ├┤ T ├┤ H ├┤ T ├┤ H ├┤ T ├┤ H ├┤ T ├┤ H ├┤ T ├┤ H ├»\n",
       " «     └───┘└───┘└───┘└───┘└───┘└───┘└───┘└───┘└───┘└───┘└───┘└───┘└───┘└───┘»\n",
       " «                                                                          »\n",
       " «q_0: ─────────────────────────────────────────────────────────────────────»\n",
       " «                                                                          »\n",
       " «q_1: ─────────────────────────────────────────────────────────────────────»\n",
       " «     ┌───┐┌───┐┌─────┐┌───┐┌─────┐┌───┐┌───┐┌───┐┌───┐┌───┐┌───┐┌───┐┌───┐»\n",
       " «q_2: ┤ T ├┤ H ├┤ Tdg ├┤ H ├┤ Tdg ├┤ H ├┤ T ├┤ H ├┤ T ├┤ H ├┤ T ├┤ H ├┤ T ├»\n",
       " «     └───┘└───┘└─────┘└───┘└─────┘└───┘└───┘└───┘└───┘└───┘└───┘└───┘└───┘»\n",
       " «                                                                              »\n",
       " «q_0: ─────────────────────────────────────────────────────────────────────────»\n",
       " «                                                                              »\n",
       " «q_1: ─────────────────────────────────────────────────────────────────────────»\n",
       " «     ┌───┐┌───┐┌───┐┌───┐┌───┐┌───┐┌─────┐┌───┐┌─────┐┌───┐┌─────┐┌───┐┌─────┐»\n",
       " «q_2: ┤ H ├┤ T ├┤ T ├┤ H ├┤ T ├┤ H ├┤ Tdg ├┤ H ├┤ Tdg ├┤ H ├┤ Tdg ├┤ H ├┤ Tdg ├»\n",
       " «     └───┘└───┘└───┘└───┘└───┘└───┘└─────┘└───┘└─────┘└───┘└─────┘└───┘└─────┘»\n",
       " «                                                                           »\n",
       " «q_0: ──────────────────────────────────────────────────────────────────────»\n",
       " «                                                                           »\n",
       " «q_1: ──────────────────────────────────────────────────────────────────────»\n",
       " «     ┌───┐┌─────┐┌───┐┌─────┐┌───┐┌─────┐┌───┐┌───┐┌───┐┌─────┐┌───┐┌─────┐»\n",
       " «q_2: ┤ H ├┤ Tdg ├┤ H ├┤ Tdg ├┤ H ├┤ Tdg ├┤ H ├┤ T ├┤ H ├┤ Tdg ├┤ H ├┤ Tdg ├»\n",
       " «     └───┘└─────┘└───┘└─────┘└───┘└─────┘└───┘└───┘└───┘└─────┘└───┘└─────┘»\n",
       " «                                                                          »\n",
       " «q_0: ─────────────────────────────────────────────────────────────────────»\n",
       " «                                                                          »\n",
       " «q_1: ─────────────────────────────────────────────────────────────────────»\n",
       " «     ┌───┐┌───┐┌───┐┌─────┐┌───┐┌─────┐┌───┐┌───┐┌───┐┌───┐┌───┐┌───┐┌───┐»\n",
       " «q_2: ┤ H ├┤ T ├┤ H ├┤ Tdg ├┤ H ├┤ Tdg ├┤ H ├┤ T ├┤ H ├┤ T ├┤ T ├┤ H ├┤ T ├»\n",
       " «     └───┘└───┘└───┘└─────┘└───┘└─────┘└───┘└───┘└───┘└───┘└───┘└───┘└───┘»\n",
       " «                                                                          »\n",
       " «q_0: ─────────────────────────────────────────────────────────────────────»\n",
       " «                                                                          »\n",
       " «q_1: ─────────────────────────────────────────────────────────────────────»\n",
       " «     ┌───┐┌───┐┌───┐┌───┐┌───┐┌───┐┌───┐┌───┐┌───┐┌─────┐┌───┐┌─────┐┌───┐»\n",
       " «q_2: ┤ H ├┤ T ├┤ H ├┤ T ├┤ H ├┤ T ├┤ T ├┤ T ├┤ H ├┤ Tdg ├┤ H ├┤ Tdg ├┤ H ├»\n",
       " «     └───┘└───┘└───┘└───┘└───┘└───┘└───┘└───┘└───┘└─────┘└───┘└─────┘└───┘»\n",
       " «                                                                              »\n",
       " «q_0: ─────────────────────────────────────────────────────────────────────────»\n",
       " «                                                                              »\n",
       " «q_1: ─────────────────────────────────────────────────────────────────────────»\n",
       " «     ┌───┐┌───┐┌───┐┌───┐┌─────┐┌───┐┌───┐┌───┐┌───┐┌───┐┌─────┐┌─────┐┌─────┐»\n",
       " «q_2: ┤ T ├┤ H ├┤ T ├┤ H ├┤ Tdg ├┤ H ├┤ T ├┤ H ├┤ T ├┤ H ├┤ Tdg ├┤ Tdg ├┤ Tdg ├»\n",
       " «     └───┘└───┘└───┘└───┘└─────┘└───┘└───┘└───┘└───┘└───┘└─────┘└─────┘└─────┘»\n",
       " «                                                                        »\n",
       " «q_0: ───────────────────────────────────────────────────────────────────»\n",
       " «                                                                        »\n",
       " «q_1: ───────────────────────────────────────────────────────────────────»\n",
       " «     ┌─────┐┌───┐┌─────┐┌───┐┌─────┐┌───┐┌─────┐┌───┐┌─────┐┌─────┐┌───┐»\n",
       " «q_2: ┤ Tdg ├┤ H ├┤ Tdg ├┤ H ├┤ Tdg ├┤ H ├┤ Tdg ├┤ H ├┤ Tdg ├┤ Tdg ├┤ H ├»\n",
       " «     └─────┘└───┘└─────┘└───┘└─────┘└───┘└─────┘└───┘└─────┘└─────┘└───┘»\n",
       " «                                                                          »\n",
       " «q_0: ─────────────────────────────────────────────────────────────────────»\n",
       " «                                                                          »\n",
       " «q_1: ─────────────────────────────────────────────────────────────────────»\n",
       " «     ┌─────┐┌───┐┌───┐┌───┐┌───┐┌───┐┌─────┐┌───┐┌───┐┌───┐┌───┐┌───┐┌───┐»\n",
       " «q_2: ┤ Tdg ├┤ H ├┤ T ├┤ H ├┤ T ├┤ H ├┤ Tdg ├┤ H ├┤ T ├┤ H ├┤ T ├┤ H ├┤ T ├»\n",
       " «     └─────┘└───┘└───┘└───┘└───┘└───┘└─────┘└───┘└───┘└───┘└───┘└───┘└───┘»\n",
       " «                                                                              »\n",
       " «q_0: ─────────────────────────────────────────────────────────────────────────»\n",
       " «                                                                              »\n",
       " «q_1: ─────────────────────────────────────────────────────────────────────────»\n",
       " «     ┌───┐┌───┐┌─────┐┌───┐┌─────┐┌───┐┌───┐┌───┐┌─────┐┌───┐┌─────┐┌───┐┌───┐»\n",
       " «q_2: ┤ T ├┤ H ├┤ Tdg ├┤ H ├┤ Tdg ├┤ H ├┤ T ├┤ H ├┤ Tdg ├┤ H ├┤ Tdg ├┤ H ├┤ T ├»\n",
       " «     └───┘└───┘└─────┘└───┘└─────┘└───┘└───┘└───┘└─────┘└───┘└─────┘└───┘└───┘»\n",
       " «                                                                             »\n",
       " «q_0: ────────────────────────────────────────────────────────────────────────»\n",
       " «                                                                             »\n",
       " «q_1: ────────────────────────────────────────────────────────────────────────»\n",
       " «     ┌───┐┌───┐┌───┐┌─────┐┌─────┐┌─────┐┌───┐┌─────┐┌───┐┌─────┐┌───┐┌─────┐»\n",
       " «q_2: ┤ H ├┤ T ├┤ H ├┤ Tdg ├┤ Tdg ├┤ Tdg ├┤ H ├┤ Tdg ├┤ H ├┤ Tdg ├┤ H ├┤ Tdg ├»\n",
       " «     └───┘└───┘└───┘└─────┘└─────┘└─────┘└───┘└─────┘└───┘└─────┘└───┘└─────┘»\n",
       " «                                                                            »\n",
       " «q_0: ───────────────────────────────────────────────────────────────────────»\n",
       " «                                                                            »\n",
       " «q_1: ───────────────────────────────────────────────────────────────────────»\n",
       " «     ┌───┐┌─────┐┌─────┐┌───┐┌─────┐┌───┐┌───┐┌───┐┌───┐┌───┐┌───┐┌───┐┌───┐»\n",
       " «q_2: ┤ H ├┤ Tdg ├┤ Tdg ├┤ H ├┤ Tdg ├┤ H ├┤ T ├┤ H ├┤ T ├┤ H ├┤ T ├┤ H ├┤ T ├»\n",
       " «     └───┘└─────┘└─────┘└───┘└─────┘└───┘└───┘└───┘└───┘└───┘└───┘└───┘└───┘»\n",
       " «                                                                            »\n",
       " «q_0: ───────────────────────────────────────────────────────────────────────»\n",
       " «                                                                            »\n",
       " «q_1: ───────────────────────────────────────────────────────────────────────»\n",
       " «     ┌───┐┌───┐┌───┐┌───┐┌───┐┌───┐┌─────┐┌─────┐┌───┐┌─────┐┌───┐┌───┐┌───┐»\n",
       " «q_2: ┤ H ├┤ T ├┤ T ├┤ H ├┤ T ├┤ H ├┤ Tdg ├┤ Tdg ├┤ H ├┤ Tdg ├┤ H ├┤ T ├┤ H ├»\n",
       " «     └───┘└───┘└───┘└───┘└───┘└───┘└─────┘└─────┘└───┘└─────┘└───┘└───┘└───┘»\n",
       " «                                                                            »\n",
       " «q_0: ───────────────────────────────────────────────────────────────────────»\n",
       " «                                                                            »\n",
       " «q_1: ───────────────────────────────────────────────────────────────────────»\n",
       " «     ┌───┐┌───┐┌───┐┌───┐┌───┐┌───┐┌───┐┌───┐┌─────┐┌───┐┌─────┐┌─────┐┌───┐»\n",
       " «q_2: ┤ T ├┤ H ├┤ T ├┤ H ├┤ T ├┤ H ├┤ T ├┤ H ├┤ Tdg ├┤ H ├┤ Tdg ├┤ Tdg ├┤ H ├»\n",
       " «     └───┘└───┘└───┘└───┘└───┘└───┘└───┘└───┘└─────┘└───┘└─────┘└─────┘└───┘»\n",
       " «                                                                            »\n",
       " «q_0: ───────────────────────────────────────────────────────────────────────»\n",
       " «                                                                            »\n",
       " «q_1: ───────────────────────────────────────────────────────────────────────»\n",
       " «     ┌─────┐┌───┐┌─────┐┌───┐┌───┐┌───┐┌───┐┌───┐┌───┐┌───┐┌───┐┌───┐┌─────┐»\n",
       " «q_2: ┤ Tdg ├┤ H ├┤ Tdg ├┤ H ├┤ T ├┤ H ├┤ T ├┤ T ├┤ T ├┤ H ├┤ T ├┤ H ├┤ Tdg ├»\n",
       " «     └─────┘└───┘└─────┘└───┘└───┘└───┘└───┘└───┘└───┘└───┘└───┘└───┘└─────┘»\n",
       " «                                                                             »\n",
       " «q_0: ────────────────────────────────────────────────────────────────────────»\n",
       " «                                                                             »\n",
       " «q_1: ────────────────────────────────────────────────────────────────────────»\n",
       " «     ┌───┐┌─────┐┌───┐┌─────┐┌───┐┌─────┐┌───┐┌─────┐┌───┐┌─────┐┌───┐┌─────┐»\n",
       " «q_2: ┤ H ├┤ Tdg ├┤ H ├┤ Tdg ├┤ H ├┤ Tdg ├┤ H ├┤ Tdg ├┤ H ├┤ Tdg ├┤ H ├┤ Tdg ├»\n",
       " «     └───┘└─────┘└───┘└─────┘└───┘└─────┘└───┘└─────┘└───┘└─────┘└───┘└─────┘»\n",
       " «                                                                              »\n",
       " «q_0: ─────────────────────────────────────────────────────────────────────────»\n",
       " «                                                                              »\n",
       " «q_1: ─────────────────────────────────────────────────────────────────────────»\n",
       " «     ┌───┐┌───┐┌───┐┌───┐┌─────┐┌───┐┌─────┐┌───┐┌───┐┌───┐┌─────┐┌───┐┌─────┐»\n",
       " «q_2: ┤ H ├┤ T ├┤ T ├┤ H ├┤ Tdg ├┤ H ├┤ Tdg ├┤ H ├┤ T ├┤ H ├┤ Tdg ├┤ H ├┤ Tdg ├»\n",
       " «     └───┘└───┘└───┘└───┘└─────┘└───┘└─────┘└───┘└───┘└───┘└─────┘└───┘└─────┘»\n",
       " «                                                                          »\n",
       " «q_0: ─────────────────────────────────────────────────────────────────────»\n",
       " «                                                                          »\n",
       " «q_1: ─────────────────────────────────────────────────────────────────────»\n",
       " «     ┌───┐┌─────┐┌───┐┌───┐┌───┐┌───┐┌───┐┌───┐┌─────┐┌───┐┌───┐┌───┐┌───┐»\n",
       " «q_2: ┤ H ├┤ Tdg ├┤ H ├┤ T ├┤ H ├┤ T ├┤ T ├┤ H ├┤ Tdg ├┤ H ├┤ T ├┤ H ├┤ T ├»\n",
       " «     └───┘└─────┘└───┘└───┘└───┘└───┘└───┘└───┘└─────┘└───┘└───┘└───┘└───┘»\n",
       " «                                                                              »\n",
       " «q_0: ─────────────────────────────────────────────────────────────────────────»\n",
       " «                                                                              »\n",
       " «q_1: ─────────────────────────────────────────────────────────────────────────»\n",
       " «     ┌───┐┌─────┐┌─────┐┌─────┐┌───┐┌─────┐┌───┐┌───┐┌───┐┌───┐┌───┐┌───┐┌───┐»\n",
       " «q_2: ┤ H ├┤ Tdg ├┤ Tdg ├┤ Tdg ├┤ H ├┤ Tdg ├┤ H ├┤ T ├┤ H ├┤ T ├┤ T ├┤ H ├┤ T ├»\n",
       " «     └───┘└─────┘└─────┘└─────┘└───┘└─────┘└───┘└───┘└───┘└───┘└───┘└───┘└───┘»\n",
       " «                                                                        »\n",
       " «q_0: ───────────────────────────────────────────────────────────────────»\n",
       " «                                                                        »\n",
       " «q_1: ───────────────────────────────────────────────────────────────────»\n",
       " «     ┌───┐┌───┐┌───┐┌───┐┌───┐┌───┐┌───┐┌───┐┌───┐┌───┐┌───┐┌─────┐┌───┐»\n",
       " «q_2: ┤ H ├┤ T ├┤ H ├┤ T ├┤ H ├┤ T ├┤ H ├┤ T ├┤ H ├┤ T ├┤ H ├┤ Tdg ├┤ H ├»\n",
       " «     └───┘└───┘└───┘└───┘└───┘└───┘└───┘└───┘└───┘└───┘└───┘└─────┘└───┘»\n",
       " «                                                                              »\n",
       " «q_0: ─────────────────────────────────────────────────────────────────────────»\n",
       " «                                                                              »\n",
       " «q_1: ─────────────────────────────────────────────────────────────────────────»\n",
       " «     ┌─────┐┌─────┐┌─────┐┌───┐┌─────┐┌───┐┌───┐┌───┐┌───┐┌───┐┌───┐┌───┐┌───┐»\n",
       " «q_2: ┤ Tdg ├┤ Tdg ├┤ Tdg ├┤ H ├┤ Tdg ├┤ H ├┤ T ├┤ H ├┤ T ├┤ H ├┤ T ├┤ T ├┤ H ├»\n",
       " «     └─────┘└─────┘└─────┘└───┘└─────┘└───┘└───┘└───┘└───┘└───┘└───┘└───┘└───┘»\n",
       " «                                                                           »\n",
       " «q_0: ──────────────────────────────────────────────────────────────────────»\n",
       " «                                                                           »\n",
       " «q_1: ──────────────────────────────────────────────────────────────────────»\n",
       " «     ┌───┐┌───┐┌─────┐┌───┐┌─────┐┌───┐┌─────┐┌───┐┌─────┐┌───┐┌─────┐┌───┐»\n",
       " «q_2: ┤ T ├┤ H ├┤ Tdg ├┤ H ├┤ Tdg ├┤ H ├┤ Tdg ├┤ H ├┤ Tdg ├┤ H ├┤ Tdg ├┤ H ├»\n",
       " «     └───┘└───┘└─────┘└───┘└─────┘└───┘└─────┘└───┘└─────┘└───┘└─────┘└───┘»\n",
       " «                                                                          »\n",
       " «q_0: ─────────────────────────────────────────────────────────────────────»\n",
       " «                                                                          »\n",
       " «q_1: ─────────────────────────────────────────────────────────────────────»\n",
       " «     ┌───┐┌───┐┌───┐┌───┐┌───┐┌─────┐┌───┐┌─────┐┌───┐┌───┐┌───┐┌───┐┌───┐»\n",
       " «q_2: ┤ T ├┤ H ├┤ T ├┤ T ├┤ H ├┤ Tdg ├┤ H ├┤ Tdg ├┤ H ├┤ T ├┤ H ├┤ T ├┤ T ├»\n",
       " «     └───┘└───┘└───┘└───┘└───┘└─────┘└───┘└─────┘└───┘└───┘└───┘└───┘└───┘»\n",
       " «                                                                           »\n",
       " «q_0: ──────────────────────────────────────────────────────────────────────»\n",
       " «                                                                           »\n",
       " «q_1: ──────────────────────────────────────────────────────────────────────»\n",
       " «     ┌───┐┌───┐┌─────┐┌───┐┌─────┐┌───┐┌───┐┌───┐┌─────┐┌─────┐┌───┐┌─────┐»\n",
       " «q_2: ┤ T ├┤ H ├┤ Tdg ├┤ H ├┤ Tdg ├┤ H ├┤ T ├┤ H ├┤ Tdg ├┤ Tdg ├┤ H ├┤ Tdg ├»\n",
       " «     └───┘└───┘└─────┘└───┘└─────┘└───┘└───┘└───┘└─────┘└─────┘└───┘└─────┘»\n",
       " «                                                                        »\n",
       " «q_0: ───────────────────────────────────────────────────────────────────»\n",
       " «                                                                        »\n",
       " «q_1: ───────────────────────────────────────────────────────────────────»\n",
       " «     ┌───┐┌───┐┌───┐┌───┐┌───┐┌───┐┌───┐┌─────┐┌───┐┌───┐┌───┐┌───┐┌───┐»\n",
       " «q_2: ┤ H ├┤ T ├┤ H ├┤ T ├┤ H ├┤ T ├┤ H ├┤ Tdg ├┤ H ├┤ T ├┤ H ├┤ T ├┤ H ├»\n",
       " «     └───┘└───┘└───┘└───┘└───┘└───┘└───┘└─────┘└───┘└───┘└───┘└───┘└───┘»\n",
       " «                                                                             »\n",
       " «q_0: ────────────────────────────────────────────────────────────────────────»\n",
       " «                                                                             »\n",
       " «q_1: ────────────────────────────────────────────────────────────────────────»\n",
       " «     ┌─────┐┌─────┐┌───┐┌─────┐┌───┐┌─────┐┌───┐┌─────┐┌───┐┌─────┐┌───┐┌───┐»\n",
       " «q_2: ┤ Tdg ├┤ Tdg ├┤ H ├┤ Tdg ├┤ H ├┤ Tdg ├┤ H ├┤ Tdg ├┤ H ├┤ Tdg ├┤ H ├┤ T ├»\n",
       " «     └─────┘└─────┘└───┘└─────┘└───┘└─────┘└───┘└─────┘└───┘└─────┘└───┘└───┘»\n",
       " «                                                                             »\n",
       " «q_0: ────────────────────────────────────────────────────────────────────────»\n",
       " «                                                                             »\n",
       " «q_1: ────────────────────────────────────────────────────────────────────────»\n",
       " «     ┌───┐┌───┐┌───┐┌───┐┌───┐┌───┐┌───┐┌───┐┌───┐┌───┐┌───┐┌───┐┌─────┐┌───┐»\n",
       " «q_2: ┤ H ├┤ T ├┤ T ├┤ H ├┤ T ├┤ H ├┤ T ├┤ H ├┤ T ├┤ H ├┤ T ├┤ H ├┤ Tdg ├┤ H ├»\n",
       " «     └───┘└───┘└───┘└───┘└───┘└───┘└───┘└───┘└───┘└───┘└───┘└───┘└─────┘└───┘»\n",
       " «                                                                          »\n",
       " «q_0: ─────────────────────────────────────────────────────────────────────»\n",
       " «                                                                          »\n",
       " «q_1: ─────────────────────────────────────────────────────────────────────»\n",
       " «     ┌─────┐┌─────┐┌───┐┌─────┐┌───┐┌─────┐┌─────┐┌───┐┌─────┐┌───┐┌─────┐»\n",
       " «q_2: ┤ Tdg ├┤ Tdg ├┤ H ├┤ Tdg ├┤ H ├┤ Tdg ├┤ Tdg ├┤ H ├┤ Tdg ├┤ H ├┤ Tdg ├»\n",
       " «     └─────┘└─────┘└───┘└─────┘└───┘└─────┘└─────┘└───┘└─────┘└───┘└─────┘»\n",
       " «                                                                          »\n",
       " «q_0: ─────────────────────────────────────────────────────────────────────»\n",
       " «                                                                          »\n",
       " «q_1: ─────────────────────────────────────────────────────────────────────»\n",
       " «     ┌───┐┌─────┐┌───┐┌─────┐┌───┐┌───┐┌───┐┌───┐┌───┐┌───┐┌───┐┌───┐┌───┐»\n",
       " «q_2: ┤ H ├┤ Tdg ├┤ H ├┤ Tdg ├┤ H ├┤ T ├┤ H ├┤ T ├┤ T ├┤ H ├┤ T ├┤ H ├┤ T ├»\n",
       " «     └───┘└─────┘└───┘└─────┘└───┘└───┘└───┘└───┘└───┘└───┘└───┘└───┘└───┘»\n",
       " «                                                                          »\n",
       " «q_0: ─────────────────────────────────────────────────────────────────────»\n",
       " «                                                                          »\n",
       " «q_1: ─────────────────────────────────────────────────────────────────────»\n",
       " «     ┌───┐┌───┐┌───┐┌───┐┌───┐┌───┐┌───┐┌─────┐┌───┐┌─────┐┌───┐┌───┐┌───┐»\n",
       " «q_2: ┤ H ├┤ T ├┤ H ├┤ T ├┤ T ├┤ T ├┤ H ├┤ Tdg ├┤ H ├┤ Tdg ├┤ H ├┤ T ├┤ H ├»\n",
       " «     └───┘└───┘└───┘└───┘└───┘└───┘└───┘└─────┘└───┘└─────┘└───┘└───┘└───┘»\n",
       " «                                                                              »\n",
       " «q_0: ─────────────────────────────────────────────────────────────────────────»\n",
       " «                                                                              »\n",
       " «q_1: ─────────────────────────────────────────────────────────────────────────»\n",
       " «     ┌───┐┌───┐┌─────┐┌───┐┌───┐┌───┐┌───┐┌───┐┌─────┐┌─────┐┌───┐┌─────┐┌───┐»\n",
       " «q_2: ┤ T ├┤ H ├┤ Tdg ├┤ H ├┤ T ├┤ H ├┤ T ├┤ H ├┤ Tdg ├┤ Tdg ├┤ H ├┤ Tdg ├┤ H ├»\n",
       " «     └───┘└───┘└─────┘└───┘└───┘└───┘└───┘└───┘└─────┘└─────┘└───┘└─────┘└───┘»\n",
       " «                                                                            »\n",
       " «q_0: ───────────────────────────────────────────────────────────────────────»\n",
       " «                                                                            »\n",
       " «q_1: ───────────────────────────────────────────────────────────────────────»\n",
       " «     ┌─────┐┌───┐┌───┐┌───┐┌─────┐┌───┐┌─────┐┌───┐┌───┐┌───┐┌───┐┌───┐┌───┐»\n",
       " «q_2: ┤ Tdg ├┤ H ├┤ T ├┤ H ├┤ Tdg ├┤ H ├┤ Tdg ├┤ H ├┤ T ├┤ H ├┤ T ├┤ T ├┤ H ├»\n",
       " «     └─────┘└───┘└───┘└───┘└─────┘└───┘└─────┘└───┘└───┘└───┘└───┘└───┘└───┘»\n",
       " «                                                                        »\n",
       " «q_0: ───────────────────────────────────────────────────────────────────»\n",
       " «                                                                        »\n",
       " «q_1: ───────────────────────────────────────────────────────────────────»\n",
       " «     ┌───┐┌───┐┌───┐┌───┐┌───┐┌───┐┌───┐┌───┐┌───┐┌───┐┌───┐┌─────┐┌───┐»\n",
       " «q_2: ┤ T ├┤ H ├┤ T ├┤ H ├┤ T ├┤ H ├┤ T ├┤ T ├┤ T ├┤ T ├┤ H ├┤ Tdg ├┤ H ├»\n",
       " «     └───┘└───┘└───┘└───┘└───┘└───┘└───┘└───┘└───┘└───┘└───┘└─────┘└───┘»\n",
       " «                                                                              »\n",
       " «q_0: ─────────────────────────────────────────────────────────────────────────»\n",
       " «                                                                              »\n",
       " «q_1: ─────────────────────────────────────────────────────────────────────────»\n",
       " «     ┌─────┐┌───┐┌───┐┌───┐┌─────┐┌───┐┌─────┐┌───┐┌───┐┌───┐┌───┐┌───┐┌─────┐»\n",
       " «q_2: ┤ Tdg ├┤ H ├┤ T ├┤ H ├┤ Tdg ├┤ H ├┤ Tdg ├┤ H ├┤ T ├┤ H ├┤ T ├┤ H ├┤ Tdg ├»\n",
       " «     └─────┘└───┘└───┘└───┘└─────┘└───┘└─────┘└───┘└───┘└───┘└───┘└───┘└─────┘»\n",
       " «                                                                          »\n",
       " «q_0: ─────────────────────────────────────────────────────────────────────»\n",
       " «                                                                          »\n",
       " «q_1: ─────────────────────────────────────────────────────────────────────»\n",
       " «     ┌─────┐┌─────┐┌───┐┌─────┐┌───┐┌─────┐┌───┐┌─────┐┌───┐┌─────┐┌─────┐»\n",
       " «q_2: ┤ Tdg ├┤ Tdg ├┤ H ├┤ Tdg ├┤ H ├┤ Tdg ├┤ H ├┤ Tdg ├┤ H ├┤ Tdg ├┤ Tdg ├»\n",
       " «     └─────┘└─────┘└───┘└─────┘└───┘└─────┘└───┘└─────┘└───┘└─────┘└─────┘»\n",
       " «                                                                          »\n",
       " «q_0: ─────────────────────────────────────────────────────────────────────»\n",
       " «                                                                          »\n",
       " «q_1: ─────────────────────────────────────────────────────────────────────»\n",
       " «     ┌───┐┌─────┐┌───┐┌───┐┌───┐┌───┐┌───┐┌─────┐┌───┐┌───┐┌───┐┌───┐┌───┐»\n",
       " «q_2: ┤ H ├┤ Tdg ├┤ H ├┤ T ├┤ H ├┤ T ├┤ H ├┤ Tdg ├┤ H ├┤ T ├┤ H ├┤ T ├┤ H ├»\n",
       " «     └───┘└─────┘└───┘└───┘└───┘└───┘└───┘└─────┘└───┘└───┘└───┘└───┘└───┘»\n",
       " «                                                                         »\n",
       " «q_0: ────────────────────────────────────────────────────────────────────»\n",
       " «                                                                         »\n",
       " «q_1: ────────────────────────────────────────────────────────────────────»\n",
       " «     ┌───┐┌───┐┌───┐┌───┐┌─────┐┌───┐┌─────┐┌───┐┌─────┐┌───┐┌─────┐┌───┐»\n",
       " «q_2: ┤ T ├┤ H ├┤ T ├┤ H ├┤ Tdg ├┤ H ├┤ Tdg ├┤ H ├┤ Tdg ├┤ H ├┤ Tdg ├┤ H ├»\n",
       " «     └───┘└───┘└───┘└───┘└─────┘└───┘└─────┘└───┘└─────┘└───┘└─────┘└───┘»\n",
       " «                                                                            »\n",
       " «q_0: ───────────────────────────────────────────────────────────────────────»\n",
       " «                                                                            »\n",
       " «q_1: ───────────────────────────────────────────────────────────────────────»\n",
       " «     ┌─────┐┌─────┐┌───┐┌─────┐┌───┐┌───┐┌───┐┌───┐┌───┐┌───┐┌───┐┌───┐┌───┐»\n",
       " «q_2: ┤ Tdg ├┤ Tdg ├┤ H ├┤ Tdg ├┤ H ├┤ T ├┤ H ├┤ T ├┤ H ├┤ T ├┤ H ├┤ T ├┤ H ├»\n",
       " «     └─────┘└─────┘└───┘└─────┘└───┘└───┘└───┘└───┘└───┘└───┘└───┘└───┘└───┘»\n",
       " «                                                                              »\n",
       " «q_0: ─────────────────────────────────────────────────────────────────────────»\n",
       " «                                                                              »\n",
       " «q_1: ─────────────────────────────────────────────────────────────────────────»\n",
       " «     ┌───┐┌───┐┌───┐┌─────┐┌───┐┌─────┐┌───┐┌───┐┌───┐┌─────┐┌───┐┌─────┐┌───┐»\n",
       " «q_2: ┤ T ├┤ T ├┤ H ├┤ Tdg ├┤ H ├┤ Tdg ├┤ H ├┤ T ├┤ H ├┤ Tdg ├┤ H ├┤ Tdg ├┤ H ├»\n",
       " «     └───┘└───┘└───┘└─────┘└───┘└─────┘└───┘└───┘└───┘└─────┘└───┘└─────┘└───┘»\n",
       " «                                                                          »\n",
       " «q_0: ─────────────────────────────────────────────────────────────────────»\n",
       " «                                                                          »\n",
       " «q_1: ─────────────────────────────────────────────────────────────────────»\n",
       " «     ┌─────┐┌───┐┌───┐┌───┐┌───┐┌───┐┌───┐┌─────┐┌───┐┌───┐┌───┐┌───┐┌───┐»\n",
       " «q_2: ┤ Tdg ├┤ H ├┤ T ├┤ H ├┤ T ├┤ T ├┤ H ├┤ Tdg ├┤ H ├┤ T ├┤ H ├┤ T ├┤ H ├»\n",
       " «     └─────┘└───┘└───┘└───┘└───┘└───┘└───┘└─────┘└───┘└───┘└───┘└───┘└───┘»\n",
       " «                                                                             »\n",
       " «q_0: ────────────────────────────────────────────────────────────────────────»\n",
       " «                                                                             »\n",
       " «q_1: ────────────────────────────────────────────────────────────────────────»\n",
       " «     ┌─────┐┌─────┐┌─────┐┌───┐┌─────┐┌───┐┌───┐┌───┐┌───┐┌───┐┌─────┐┌─────┐»\n",
       " «q_2: ┤ Tdg ├┤ Tdg ├┤ Tdg ├┤ H ├┤ Tdg ├┤ H ├┤ T ├┤ H ├┤ T ├┤ H ├┤ Tdg ├┤ Tdg ├»\n",
       " «     └─────┘└─────┘└─────┘└───┘└─────┘└───┘└───┘└───┘└───┘└───┘└─────┘└─────┘»\n",
       " «                                                                        »\n",
       " «q_0: ───────────────────────────────────────────────────────────────────»\n",
       " «                                                                        »\n",
       " «q_1: ───────────────────────────────────────────────────────────────────»\n",
       " «     ┌───┐┌─────┐┌───┐┌───┐┌───┐┌───┐┌───┐┌───┐┌───┐┌───┐┌───┐┌───┐┌───┐»\n",
       " «q_2: ┤ H ├┤ Tdg ├┤ H ├┤ T ├┤ H ├┤ T ├┤ H ├┤ T ├┤ H ├┤ T ├┤ H ├┤ T ├┤ H ├»\n",
       " «     └───┘└─────┘└───┘└───┘└───┘└───┘└───┘└───┘└───┘└───┘└───┘└───┘└───┘»\n",
       " «                                                                           »\n",
       " «q_0: ──────────────────────────────────────────────────────────────────────»\n",
       " «                                                                           »\n",
       " «q_1: ──────────────────────────────────────────────────────────────────────»\n",
       " «     ┌─────┐┌───┐┌─────┐┌─────┐┌───┐┌─────┐┌───┐┌─────┐┌───┐┌───┐┌───┐┌───┐»\n",
       " «q_2: ┤ Tdg ├┤ H ├┤ Tdg ├┤ Tdg ├┤ H ├┤ Tdg ├┤ H ├┤ Tdg ├┤ H ├┤ T ├┤ H ├┤ T ├»\n",
       " «     └─────┘└───┘└─────┘└─────┘└───┘└─────┘└───┘└─────┘└───┘└───┘└───┘└───┘»\n",
       " «                                                                              »\n",
       " «q_0: ─────────────────────────────────────────────────────────────────────────»\n",
       " «                                                                              »\n",
       " «q_1: ─────────────────────────────────────────────────────────────────────────»\n",
       " «     ┌───┐┌───┐┌───┐┌───┐┌───┐┌─────┐┌───┐┌─────┐┌───┐┌─────┐┌───┐┌─────┐┌───┐»\n",
       " «q_2: ┤ T ├┤ T ├┤ H ├┤ T ├┤ H ├┤ Tdg ├┤ H ├┤ Tdg ├┤ H ├┤ Tdg ├┤ H ├┤ Tdg ├┤ H ├»\n",
       " «     └───┘└───┘└───┘└───┘└───┘└─────┘└───┘└─────┘└───┘└─────┘└───┘└─────┘└───┘»\n",
       " «                                                                           »\n",
       " «q_0: ──────────────────────────────────────────────────────────────────────»\n",
       " «                                                                           »\n",
       " «q_1: ──────────────────────────────────────────────────────────────────────»\n",
       " «     ┌─────┐┌───┐┌─────┐┌───┐┌─────┐┌─────┐┌───┐┌─────┐┌───┐┌───┐┌───┐┌───┐»\n",
       " «q_2: ┤ Tdg ├┤ H ├┤ Tdg ├┤ H ├┤ Tdg ├┤ Tdg ├┤ H ├┤ Tdg ├┤ H ├┤ T ├┤ H ├┤ T ├»\n",
       " «     └─────┘└───┘└─────┘└───┘└─────┘└─────┘└───┘└─────┘└───┘└───┘└───┘└───┘»\n",
       " «                                                                         »\n",
       " «q_0: ────────────────────────────────────────────────────────────────────»\n",
       " «                                                                         »\n",
       " «q_1: ────────────────────────────────────────────────────────────────────»\n",
       " «     ┌───┐┌───┐┌───┐┌─────┐┌───┐┌─────┐┌───┐┌───┐┌───┐┌─────┐┌─────┐┌───┐»\n",
       " «q_2: ┤ T ├┤ T ├┤ H ├┤ Tdg ├┤ H ├┤ Tdg ├┤ H ├┤ T ├┤ H ├┤ Tdg ├┤ Tdg ├┤ H ├»\n",
       " «     └───┘└───┘└───┘└─────┘└───┘└─────┘└───┘└───┘└───┘└─────┘└─────┘└───┘»\n",
       " «                                                                          »\n",
       " «q_0: ─────────────────────────────────────────────────────────────────────»\n",
       " «                                                                          »\n",
       " «q_1: ─────────────────────────────────────────────────────────────────────»\n",
       " «     ┌─────┐┌───┐┌───┐┌───┐┌───┐┌───┐┌───┐┌───┐┌─────┐┌───┐┌───┐┌───┐┌───┐»\n",
       " «q_2: ┤ Tdg ├┤ H ├┤ T ├┤ H ├┤ T ├┤ H ├┤ T ├┤ H ├┤ Tdg ├┤ H ├┤ T ├┤ H ├┤ T ├»\n",
       " «     └─────┘└───┘└───┘└───┘└───┘└───┘└───┘└───┘└─────┘└───┘└───┘└───┘└───┘»\n",
       " «                                                                          »\n",
       " «q_0: ─────────────────────────────────────────────────────────────────────»\n",
       " «                                                                          »\n",
       " «q_1: ─────────────────────────────────────────────────────────────────────»\n",
       " «     ┌───┐┌─────┐┌─────┐┌───┐┌───┐┌───┐┌───┐┌───┐┌───┐┌───┐┌───┐┌───┐┌───┐»\n",
       " «q_2: ┤ H ├┤ Tdg ├┤ Tdg ├┤ H ├┤ T ├┤ H ├┤ T ├┤ H ├┤ T ├┤ H ├┤ T ├┤ H ├┤ T ├»\n",
       " «     └───┘└─────┘└─────┘└───┘└───┘└───┘└───┘└───┘└───┘└───┘└───┘└───┘└───┘»\n",
       " «                                                                           »\n",
       " «q_0: ──────────────────────────────────────────────────────────────────────»\n",
       " «                                                                           »\n",
       " «q_1: ──────────────────────────────────────────────────────────────────────»\n",
       " «     ┌───┐┌───┐┌───┐┌───┐┌───┐┌─────┐┌───┐┌─────┐┌─────┐┌─────┐┌───┐┌─────┐»\n",
       " «q_2: ┤ H ├┤ T ├┤ H ├┤ T ├┤ H ├┤ Tdg ├┤ H ├┤ Tdg ├┤ Tdg ├┤ Tdg ├┤ H ├┤ Tdg ├»\n",
       " «     └───┘└───┘└───┘└───┘└───┘└─────┘└───┘└─────┘└─────┘└─────┘└───┘└─────┘»\n",
       " «                                                                          »\n",
       " «q_0: ─────────────────────────────────────────────────────────────────────»\n",
       " «                                                                          »\n",
       " «q_1: ─────────────────────────────────────────────────────────────────────»\n",
       " «     ┌───┐┌───┐┌───┐┌───┐┌───┐┌───┐┌───┐┌───┐┌───┐┌───┐┌─────┐┌───┐┌─────┐»\n",
       " «q_2: ┤ H ├┤ T ├┤ H ├┤ T ├┤ H ├┤ T ├┤ T ├┤ H ├┤ T ├┤ H ├┤ Tdg ├┤ H ├┤ Tdg ├»\n",
       " «     └───┘└───┘└───┘└───┘└───┘└───┘└───┘└───┘└───┘└───┘└─────┘└───┘└─────┘»\n",
       " «                                                                            »\n",
       " «q_0: ───────────────────────────────────────────────────────────────■───────»\n",
       " «                                                                    │       »\n",
       " «q_1: ───────────────────────────────────────────────────────────────┼───────»\n",
       " «     ┌───┐┌─────┐┌───┐┌─────┐┌───┐┌─────┐┌───┐┌───┐┌───┐┌───┐┌───┐┌─┴─┐┌───┐»\n",
       " «q_2: ┤ H ├┤ Tdg ├┤ H ├┤ Tdg ├┤ H ├┤ Tdg ├┤ H ├┤ T ├┤ H ├┤ T ├┤ T ├┤ X ├┤ H ├»\n",
       " «     └───┘└─────┘└───┘└─────┘└───┘└─────┘└───┘└───┘└───┘└───┘└───┘└───┘└───┘»\n",
       " «                                                                             »\n",
       " «q_0: ────────────────────────────────────────────────────────────────────────»\n",
       " «                                                                             »\n",
       " «q_1: ────────────────────────────────────────────────────────────────────────»\n",
       " «     ┌─────┐┌───┐┌─────┐┌───┐┌─────┐┌───┐┌─────┐┌───┐┌─────┐┌─────┐┌───┐┌───┐»\n",
       " «q_2: ┤ Tdg ├┤ H ├┤ Tdg ├┤ H ├┤ Tdg ├┤ H ├┤ Tdg ├┤ H ├┤ Tdg ├┤ Tdg ├┤ H ├┤ T ├»\n",
       " «     └─────┘└───┘└─────┘└───┘└─────┘└───┘└─────┘└───┘└─────┘└─────┘└───┘└───┘»\n",
       " «                                                                           »\n",
       " «q_0: ──────────────────────────────────────────────────────────────────────»\n",
       " «                                                                           »\n",
       " «q_1: ──────────────────────────────────────────────────────────────────────»\n",
       " «     ┌───┐┌───┐┌───┐┌─────┐┌───┐┌─────┐┌───┐┌─────┐┌───┐┌─────┐┌───┐┌─────┐»\n",
       " «q_2: ┤ H ├┤ T ├┤ H ├┤ Tdg ├┤ H ├┤ Tdg ├┤ H ├┤ Tdg ├┤ H ├┤ Tdg ├┤ H ├┤ Tdg ├»\n",
       " «     └───┘└───┘└───┘└─────┘└───┘└─────┘└───┘└─────┘└───┘└─────┘└───┘└─────┘»\n",
       " «                                                                          »\n",
       " «q_0: ─────────────────────────────────────────────────────────────────────»\n",
       " «                                                                          »\n",
       " «q_1: ─────────────────────────────────────────────────────────────────────»\n",
       " «     ┌─────┐┌───┐┌─────┐┌───┐┌───┐┌───┐┌───┐┌───┐┌───┐┌───┐┌───┐┌───┐┌───┐»\n",
       " «q_2: ┤ Tdg ├┤ H ├┤ Tdg ├┤ H ├┤ T ├┤ H ├┤ T ├┤ H ├┤ T ├┤ H ├┤ T ├┤ T ├┤ H ├»\n",
       " «     └─────┘└───┘└─────┘└───┘└───┘└───┘└───┘└───┘└───┘└───┘└───┘└───┘└───┘»\n",
       " «                                                                            »\n",
       " «q_0: ───────────────────────────────────────────────────────────────────────»\n",
       " «                                                                            »\n",
       " «q_1: ───────────────────────────────────────────────────────────────────────»\n",
       " «     ┌───┐┌───┐┌─────┐┌───┐┌─────┐┌───┐┌─────┐┌───┐┌───┐┌───┐┌───┐┌───┐┌───┐»\n",
       " «q_2: ┤ T ├┤ H ├┤ Tdg ├┤ H ├┤ Tdg ├┤ H ├┤ Tdg ├┤ H ├┤ T ├┤ H ├┤ T ├┤ T ├┤ H ├»\n",
       " «     └───┘└───┘└─────┘└───┘└─────┘└───┘└─────┘└───┘└───┘└───┘└───┘└───┘└───┘»\n",
       " «                                                                          »\n",
       " «q_0: ─────────────────────────────────────────────────────────────────────»\n",
       " «                                                                          »\n",
       " «q_1: ─────────────────────────────────────────────────────────────────────»\n",
       " «     ┌───┐┌───┐┌───┐┌───┐┌─────┐┌───┐┌─────┐┌───┐┌───┐┌───┐┌───┐┌───┐┌───┐»\n",
       " «q_2: ┤ T ├┤ H ├┤ T ├┤ H ├┤ Tdg ├┤ H ├┤ Tdg ├┤ H ├┤ T ├┤ H ├┤ T ├┤ H ├┤ T ├»\n",
       " «     └───┘└───┘└───┘└───┘└─────┘└───┘└─────┘└───┘└───┘└───┘└───┘└───┘└───┘»\n",
       " «                                                                            »\n",
       " «q_0: ───────────────────────────────────────────────────────────────────────»\n",
       " «                                                                            »\n",
       " «q_1: ───────────────────────────────────────────────────────────────────────»\n",
       " «     ┌───┐┌───┐┌───┐┌───┐┌───┐┌───┐┌───┐┌───┐┌───┐┌─────┐┌───┐┌─────┐┌─────┐»\n",
       " «q_2: ┤ H ├┤ T ├┤ H ├┤ T ├┤ H ├┤ T ├┤ H ├┤ T ├┤ H ├┤ Tdg ├┤ H ├┤ Tdg ├┤ Tdg ├»\n",
       " «     └───┘└───┘└───┘└───┘└───┘└───┘└───┘└───┘└───┘└─────┘└───┘└─────┘└─────┘»\n",
       " «                                                                              »\n",
       " «q_0: ─────────────────────────────────────────────────────────────────────────»\n",
       " «                                                                              »\n",
       " «q_1: ─────────────────────────────────────────────────────────────────────────»\n",
       " «     ┌───┐┌─────┐┌───┐┌─────┐┌───┐┌─────┐┌───┐┌─────┐┌───┐┌───┐┌───┐┌───┐┌───┐»\n",
       " «q_2: ┤ H ├┤ Tdg ├┤ H ├┤ Tdg ├┤ H ├┤ Tdg ├┤ H ├┤ Tdg ├┤ H ├┤ T ├┤ H ├┤ T ├┤ H ├»\n",
       " «     └───┘└─────┘└───┘└─────┘└───┘└─────┘└───┘└─────┘└───┘└───┘└───┘└───┘└───┘»\n",
       " «                                                                             »\n",
       " «q_0: ────────────────────────────────────────────────────────────────────────»\n",
       " «                                                                             »\n",
       " «q_1: ────────────────────────────────────────────────────────────────────────»\n",
       " «     ┌─────┐┌───┐┌─────┐┌───┐┌─────┐┌───┐┌─────┐┌───┐┌─────┐┌───┐┌─────┐┌───┐»\n",
       " «q_2: ┤ Tdg ├┤ H ├┤ Tdg ├┤ H ├┤ Tdg ├┤ H ├┤ Tdg ├┤ H ├┤ Tdg ├┤ H ├┤ Tdg ├┤ H ├»\n",
       " «     └─────┘└───┘└─────┘└───┘└─────┘└───┘└─────┘└───┘└─────┘└───┘└─────┘└───┘»\n",
       " «                                                                           »\n",
       " «q_0: ──────────────────────────────────────────────────────────────────────»\n",
       " «                                                                           »\n",
       " «q_1: ──────────────────────────────────────────────────────────────────────»\n",
       " «     ┌─────┐┌───┐┌───┐┌───┐┌───┐┌───┐┌─────┐┌───┐┌─────┐┌───┐┌─────┐┌─────┐»\n",
       " «q_2: ┤ Tdg ├┤ H ├┤ T ├┤ H ├┤ T ├┤ H ├┤ Tdg ├┤ H ├┤ Tdg ├┤ H ├┤ Tdg ├┤ Tdg ├»\n",
       " «     └─────┘└───┘└───┘└───┘└───┘└───┘└─────┘└───┘└─────┘└───┘└─────┘└─────┘»\n",
       " «                                                                            »\n",
       " «q_0: ───────────────────────────────────────────────────────────────────────»\n",
       " «                                                                            »\n",
       " «q_1: ───────────────────────────────────────────────────────────────────────»\n",
       " «     ┌───┐┌─────┐┌───┐┌───┐┌───┐┌───┐┌───┐┌───┐┌───┐┌─────┐┌───┐┌─────┐┌───┐»\n",
       " «q_2: ┤ H ├┤ Tdg ├┤ H ├┤ T ├┤ H ├┤ T ├┤ H ├┤ T ├┤ H ├┤ Tdg ├┤ H ├┤ Tdg ├┤ H ├»\n",
       " «     └───┘└─────┘└───┘└───┘└───┘└───┘└───┘└───┘└───┘└─────┘└───┘└─────┘└───┘»\n",
       " «                                                                           »\n",
       " «q_0: ──────────────────────────────────────────────────────────────────────»\n",
       " «                                                                           »\n",
       " «q_1: ──────────────────────────────────────────────────────────────────────»\n",
       " «     ┌───┐┌───┐┌───┐┌───┐┌───┐┌───┐┌───┐┌───┐┌───┐┌───┐┌───┐┌───┐┌───┐┌───┐»\n",
       " «q_2: ┤ T ├┤ H ├┤ T ├┤ H ├┤ T ├┤ H ├┤ T ├┤ H ├┤ T ├┤ H ├┤ T ├┤ H ├┤ T ├┤ H ├»\n",
       " «     └───┘└───┘└───┘└───┘└───┘└───┘└───┘└───┘└───┘└───┘└───┘└───┘└───┘└───┘»\n",
       " «                                                                          »\n",
       " «q_0: ─────────────────────────────────────────────────────────────────────»\n",
       " «                                                                          »\n",
       " «q_1: ─────────────────────────────────────────────────────────────────────»\n",
       " «     ┌───┐┌───┐┌───┐┌───┐┌─────┐┌───┐┌─────┐┌───┐┌───┐┌───┐┌───┐┌───┐┌───┐»\n",
       " «q_2: ┤ T ├┤ H ├┤ T ├┤ H ├┤ Tdg ├┤ H ├┤ Tdg ├┤ H ├┤ T ├┤ H ├┤ T ├┤ H ├┤ T ├»\n",
       " «     └───┘└───┘└───┘└───┘└─────┘└───┘└─────┘└───┘└───┘└───┘└───┘└───┘└───┘»\n",
       " «                                                                            »\n",
       " «q_0: ───────────────────────────────────────────────────────────────────────»\n",
       " «                                                                            »\n",
       " «q_1: ───────────────────────────────────────────────────────────────────────»\n",
       " «     ┌───┐┌───┐┌───┐┌───┐┌───┐┌───┐┌───┐┌───┐┌─────┐┌───┐┌─────┐┌───┐┌─────┐»\n",
       " «q_2: ┤ H ├┤ T ├┤ H ├┤ T ├┤ T ├┤ H ├┤ T ├┤ H ├┤ Tdg ├┤ H ├┤ Tdg ├┤ H ├┤ Tdg ├»\n",
       " «     └───┘└───┘└───┘└───┘└───┘└───┘└───┘└───┘└─────┘└───┘└─────┘└───┘└─────┘»\n",
       " «                                                                             »\n",
       " «q_0: ────────────────────────────────────────────────────────────────────────»\n",
       " «                                                                             »\n",
       " «q_1: ────────────────────────────────────────────────────────────────────────»\n",
       " «     ┌───┐┌─────┐┌───┐┌─────┐┌───┐┌─────┐┌───┐┌─────┐┌───┐┌─────┐┌───┐┌─────┐»\n",
       " «q_2: ┤ H ├┤ Tdg ├┤ H ├┤ Tdg ├┤ H ├┤ Tdg ├┤ H ├┤ Tdg ├┤ H ├┤ Tdg ├┤ H ├┤ Tdg ├»\n",
       " «     └───┘└─────┘└───┘└─────┘└───┘└─────┘└───┘└─────┘└───┘└─────┘└───┘└─────┘»\n",
       " «                                                                            »\n",
       " «q_0: ───────────────────────────────────────────────────────────────────────»\n",
       " «                                                                            »\n",
       " «q_1: ───────────────────────────────────────────────────────────────────────»\n",
       " «     ┌───┐┌─────┐┌─────┐┌───┐┌─────┐┌───┐┌───┐┌───┐┌───┐┌───┐┌───┐┌───┐┌───┐»\n",
       " «q_2: ┤ H ├┤ Tdg ├┤ Tdg ├┤ H ├┤ Tdg ├┤ H ├┤ T ├┤ H ├┤ T ├┤ H ├┤ T ├┤ H ├┤ T ├»\n",
       " «     └───┘└─────┘└─────┘└───┘└─────┘└───┘└───┘└───┘└───┘└───┘└───┘└───┘└───┘»\n",
       " «                                                                              »\n",
       " «q_0: ─────────────────────────────────────────────────────────────────────────»\n",
       " «                                                                              »\n",
       " «q_1: ─────────────────────────────────────────────────────────────────────────»\n",
       " «     ┌───┐┌───┐┌───┐┌───┐┌───┐┌───┐┌─────┐┌───┐┌─────┐┌───┐┌─────┐┌───┐┌─────┐»\n",
       " «q_2: ┤ H ├┤ T ├┤ T ├┤ H ├┤ T ├┤ H ├┤ Tdg ├┤ H ├┤ Tdg ├┤ H ├┤ Tdg ├┤ H ├┤ Tdg ├»\n",
       " «     └───┘└───┘└───┘└───┘└───┘└───┘└─────┘└───┘└─────┘└───┘└─────┘└───┘└─────┘»\n",
       " «                                                                              »\n",
       " «q_0: ─────────────────────────────────────────────────────────────────────────»\n",
       " «                                                                              »\n",
       " «q_1: ─────────────────────────────────────────────────────────────────────────»\n",
       " «     ┌───┐┌─────┐┌───┐┌───┐┌───┐┌───┐┌───┐┌─────┐┌───┐┌─────┐┌───┐┌─────┐┌───┐»\n",
       " «q_2: ┤ H ├┤ Tdg ├┤ H ├┤ T ├┤ H ├┤ T ├┤ H ├┤ Tdg ├┤ H ├┤ Tdg ├┤ H ├┤ Tdg ├┤ H ├»\n",
       " «     └───┘└─────┘└───┘└───┘└───┘└───┘└───┘└─────┘└───┘└─────┘└───┘└─────┘└───┘»\n",
       " «                                                                              »\n",
       " «q_0: ─────────────────────────────────────────────────────────────────────────»\n",
       " «                                                                              »\n",
       " «q_1: ─────────────────────────────────────────────────────────────────────────»\n",
       " «     ┌─────┐┌───┐┌───┐┌───┐┌───┐┌───┐┌───┐┌───┐┌─────┐┌───┐┌─────┐┌─────┐┌───┐»\n",
       " «q_2: ┤ Tdg ├┤ H ├┤ T ├┤ H ├┤ T ├┤ H ├┤ T ├┤ H ├┤ Tdg ├┤ H ├┤ Tdg ├┤ Tdg ├┤ H ├»\n",
       " «     └─────┘└───┘└───┘└───┘└───┘└───┘└───┘└───┘└─────┘└───┘└─────┘└─────┘└───┘»\n",
       " «                                                                           »\n",
       " «q_0: ──────────────────────────────────────────────────────────────────────»\n",
       " «                                                                           »\n",
       " «q_1: ──────────────────────────────────────────────────────────────────────»\n",
       " «     ┌───┐┌───┐┌───┐┌───┐┌───┐┌───┐┌───┐┌───┐┌───┐┌───┐┌───┐┌───┐┌───┐┌───┐»\n",
       " «q_2: ┤ T ├┤ H ├┤ T ├┤ H ├┤ T ├┤ H ├┤ T ├┤ H ├┤ T ├┤ T ├┤ T ├┤ H ├┤ T ├┤ H ├»\n",
       " «     └───┘└───┘└───┘└───┘└───┘└───┘└───┘└───┘└───┘└───┘└───┘└───┘└───┘└───┘»\n",
       " «                                                                           »\n",
       " «q_0: ──────────────────────────────────────────────────────────────────────»\n",
       " «                                                                           »\n",
       " «q_1: ──────────────────────────────────────────────────────────────────────»\n",
       " «     ┌─────┐┌───┐┌─────┐┌───┐┌─────┐┌─────┐┌───┐┌───┐┌───┐┌───┐┌───┐┌─────┐»\n",
       " «q_2: ┤ Tdg ├┤ H ├┤ Tdg ├┤ H ├┤ Tdg ├┤ Tdg ├┤ H ├┤ T ├┤ H ├┤ T ├┤ H ├┤ Tdg ├»\n",
       " «     └─────┘└───┘└─────┘└───┘└─────┘└─────┘└───┘└───┘└───┘└───┘└───┘└─────┘»\n",
       " «                                                                            »\n",
       " «q_0: ───────────────────────────────────────────────────────────────────────»\n",
       " «                                                                            »\n",
       " «q_1: ───────────────────────────────────────────────────────────────────────»\n",
       " «     ┌───┐┌─────┐┌─────┐┌───┐┌─────┐┌───┐┌───┐┌───┐┌───┐┌───┐┌───┐┌───┐┌───┐»\n",
       " «q_2: ┤ H ├┤ Tdg ├┤ Tdg ├┤ H ├┤ Tdg ├┤ H ├┤ T ├┤ H ├┤ T ├┤ H ├┤ T ├┤ H ├┤ T ├»\n",
       " «     └───┘└─────┘└─────┘└───┘└─────┘└───┘└───┘└───┘└───┘└───┘└───┘└───┘└───┘»\n",
       " «                                                                           »\n",
       " «q_0: ──────────────────────────────────────────────────────────────────────»\n",
       " «                                                                           »\n",
       " «q_1: ──────────────────────────────────────────────────────────────────────»\n",
       " «     ┌───┐┌───┐┌───┐┌─────┐┌───┐┌─────┐┌─────┐┌───┐┌─────┐┌───┐┌─────┐┌───┐»\n",
       " «q_2: ┤ H ├┤ T ├┤ H ├┤ Tdg ├┤ H ├┤ Tdg ├┤ Tdg ├┤ H ├┤ Tdg ├┤ H ├┤ Tdg ├┤ H ├»\n",
       " «     └───┘└───┘└───┘└─────┘└───┘└─────┘└─────┘└───┘└─────┘└───┘└─────┘└───┘»\n",
       " «                                                                          »\n",
       " «q_0: ─────────────────────────────────────────────────────────────────────»\n",
       " «                                                                          »\n",
       " «q_1: ─────────────────────────────────────────────────────────────────────»\n",
       " «     ┌─────┐┌───┐┌─────┐┌───┐┌───┐┌───┐┌───┐┌───┐┌───┐┌───┐┌───┐┌───┐┌───┐»\n",
       " «q_2: ┤ Tdg ├┤ H ├┤ Tdg ├┤ H ├┤ T ├┤ H ├┤ T ├┤ T ├┤ H ├┤ T ├┤ H ├┤ T ├┤ H ├»\n",
       " «     └─────┘└───┘└─────┘└───┘└───┘└───┘└───┘└───┘└───┘└───┘└───┘└───┘└───┘»\n",
       " «                                                                          »\n",
       " «q_0: ─────────────────────────────────────────────────────────────────────»\n",
       " «                                                                          »\n",
       " «q_1: ─────────────────────────────────────────────────────────────────────»\n",
       " «     ┌───┐┌───┐┌─────┐┌───┐┌─────┐┌───┐┌───┐┌───┐┌───┐┌───┐┌───┐┌───┐┌───┐»\n",
       " «q_2: ┤ T ├┤ H ├┤ Tdg ├┤ H ├┤ Tdg ├┤ H ├┤ T ├┤ T ├┤ H ├┤ T ├┤ H ├┤ T ├┤ H ├»\n",
       " «     └───┘└───┘└─────┘└───┘└─────┘└───┘└───┘└───┘└───┘└───┘└───┘└───┘└───┘»\n",
       " «                                                                          »\n",
       " «q_0: ─────────────────────────────────────────────────────────────────────»\n",
       " «                                                                          »\n",
       " «q_1: ─────────────────────────────────────────────────────────────────────»\n",
       " «     ┌─────┐┌───┐┌─────┐┌─────┐┌─────┐┌───┐┌─────┐┌───┐┌─────┐┌───┐┌─────┐»\n",
       " «q_2: ┤ Tdg ├┤ H ├┤ Tdg ├┤ Tdg ├┤ Tdg ├┤ H ├┤ Tdg ├┤ H ├┤ Tdg ├┤ H ├┤ Tdg ├»\n",
       " «     └─────┘└───┘└─────┘└─────┘└─────┘└───┘└─────┘└───┘└─────┘└───┘└─────┘»\n",
       " «                                                                              »\n",
       " «q_0: ─────────────────────────────────────────────────────────────────────────»\n",
       " «                                                                              »\n",
       " «q_1: ─────────────────────────────────────────────────────────────────────────»\n",
       " «     ┌───┐┌─────┐┌───┐┌───┐┌───┐┌───┐┌───┐┌───┐┌─────┐┌───┐┌─────┐┌───┐┌─────┐»\n",
       " «q_2: ┤ H ├┤ Tdg ├┤ H ├┤ T ├┤ T ├┤ H ├┤ T ├┤ H ├┤ Tdg ├┤ H ├┤ Tdg ├┤ H ├┤ Tdg ├»\n",
       " «     └───┘└─────┘└───┘└───┘└───┘└───┘└───┘└───┘└─────┘└───┘└─────┘└───┘└─────┘»\n",
       " «                                                                           »\n",
       " «q_0: ──────────────────────────────────────────────────────────────────────»\n",
       " «                                                                           »\n",
       " «q_1: ──────────────────────────────────────────────────────────────────────»\n",
       " «     ┌───┐┌───┐┌───┐┌───┐┌───┐┌───┐┌───┐┌───┐┌───┐┌───┐┌───┐┌───┐┌───┐┌───┐»\n",
       " «q_2: ┤ H ├┤ T ├┤ H ├┤ T ├┤ H ├┤ T ├┤ H ├┤ T ├┤ H ├┤ T ├┤ T ├┤ H ├┤ T ├┤ H ├»\n",
       " «     └───┘└───┘└───┘└───┘└───┘└───┘└───┘└───┘└───┘└───┘└───┘└───┘└───┘└───┘»\n",
       " «                                                                           »\n",
       " «q_0: ──────────────────────────────────────────────────────────────────────»\n",
       " «                                                                           »\n",
       " «q_1: ──────────────────────────────────────────────────────────────────────»\n",
       " «     ┌───┐┌───┐┌─────┐┌───┐┌─────┐┌─────┐┌───┐┌─────┐┌───┐┌─────┐┌───┐┌───┐»\n",
       " «q_2: ┤ T ├┤ H ├┤ Tdg ├┤ H ├┤ Tdg ├┤ Tdg ├┤ H ├┤ Tdg ├┤ H ├┤ Tdg ├┤ H ├┤ T ├»\n",
       " «     └───┘└───┘└─────┘└───┘└─────┘└─────┘└───┘└─────┘└───┘└─────┘└───┘└───┘»\n",
       " «                                                                              »\n",
       " «q_0: ─────────────────────────────────────────────────────────────────────────»\n",
       " «                                                                              »\n",
       " «q_1: ─────────────────────────────────────────────────────────────────────────»\n",
       " «     ┌───┐┌───┐┌───┐┌───┐┌───┐┌───┐┌───┐┌─────┐┌───┐┌─────┐┌───┐┌─────┐┌─────┐»\n",
       " «q_2: ┤ H ├┤ T ├┤ T ├┤ T ├┤ H ├┤ T ├┤ H ├┤ Tdg ├┤ H ├┤ Tdg ├┤ H ├┤ Tdg ├┤ Tdg ├»\n",
       " «     └───┘└───┘└───┘└───┘└───┘└───┘└───┘└─────┘└───┘└─────┘└───┘└─────┘└─────┘»\n",
       " «                                                                              »\n",
       " «q_0: ─────────────────────────────────────────────────────────────────────────»\n",
       " «                                                                              »\n",
       " «q_1: ─────────────────────────────────────────────────────────────────────────»\n",
       " «     ┌───┐┌─────┐┌───┐┌───┐┌───┐┌───┐┌───┐┌─────┐┌───┐┌─────┐┌───┐┌─────┐┌───┐»\n",
       " «q_2: ┤ H ├┤ Tdg ├┤ H ├┤ T ├┤ H ├┤ T ├┤ H ├┤ Tdg ├┤ H ├┤ Tdg ├┤ H ├┤ Tdg ├┤ H ├»\n",
       " «     └───┘└─────┘└───┘└───┘└───┘└───┘└───┘└─────┘└───┘└─────┘└───┘└─────┘└───┘»\n",
       " «                                                                              »\n",
       " «q_0: ─────────────────────────────────────────────────────────────────────────»\n",
       " «                                                                              »\n",
       " «q_1: ─────────────────────────────────────────────────────────────────────────»\n",
       " «     ┌─────┐┌───┐┌─────┐┌─────┐┌───┐┌─────┐┌───┐┌───┐┌───┐┌───┐┌───┐┌───┐┌───┐»\n",
       " «q_2: ┤ Tdg ├┤ H ├┤ Tdg ├┤ Tdg ├┤ H ├┤ Tdg ├┤ H ├┤ T ├┤ H ├┤ T ├┤ H ├┤ T ├┤ H ├»\n",
       " «     └─────┘└───┘└─────┘└─────┘└───┘└─────┘└───┘└───┘└───┘└───┘└───┘└───┘└───┘»\n",
       " «                                                                            »\n",
       " «q_0: ───────────────────────────────────────────────────────────────────────»\n",
       " «                                                                            »\n",
       " «q_1: ───────────────────────────────────────────────────────────────────────»\n",
       " «     ┌───┐┌───┐┌───┐┌───┐┌───┐┌───┐┌───┐┌─────┐┌───┐┌─────┐┌───┐┌─────┐┌───┐»\n",
       " «q_2: ┤ T ├┤ H ├┤ T ├┤ T ├┤ H ├┤ T ├┤ H ├┤ Tdg ├┤ H ├┤ Tdg ├┤ H ├┤ Tdg ├┤ H ├»\n",
       " «     └───┘└───┘└───┘└───┘└───┘└───┘└───┘└─────┘└───┘└─────┘└───┘└─────┘└───┘»\n",
       " «                                                                          »\n",
       " «q_0: ─────────────────────────────────────────────────────────────────────»\n",
       " «                                                                          »\n",
       " «q_1: ─────────────────────────────────────────────────────────────────────»\n",
       " «     ┌───┐┌───┐┌───┐┌───┐┌───┐┌───┐┌─────┐┌───┐┌─────┐┌───┐┌───┐┌───┐┌───┐»\n",
       " «q_2: ┤ T ├┤ H ├┤ T ├┤ H ├┤ T ├┤ H ├┤ Tdg ├┤ H ├┤ Tdg ├┤ H ├┤ T ├┤ H ├┤ T ├»\n",
       " «     └───┘└───┘└───┘└───┘└───┘└───┘└─────┘└───┘└─────┘└───┘└───┘└───┘└───┘»\n",
       " «                                                                              »\n",
       " «q_0: ─────────────────────────────────────────────────────────────────────────»\n",
       " «                                                                              »\n",
       " «q_1: ─────────────────────────────────────────────────────────────────────────»\n",
       " «     ┌───┐┌─────┐┌───┐┌─────┐┌───┐┌─────┐┌───┐┌───┐┌───┐┌───┐┌───┐┌───┐┌─────┐»\n",
       " «q_2: ┤ H ├┤ Tdg ├┤ H ├┤ Tdg ├┤ H ├┤ Tdg ├┤ H ├┤ T ├┤ H ├┤ T ├┤ T ├┤ H ├┤ Tdg ├»\n",
       " «     └───┘└─────┘└───┘└─────┘└───┘└─────┘└───┘└───┘└───┘└───┘└───┘└───┘└─────┘»\n",
       " «                                                                              »\n",
       " «q_0: ─────────────────────────────────────────────────────────────────────────»\n",
       " «                                                                              »\n",
       " «q_1: ─────────────────────────────────────────────────────────────────────────»\n",
       " «     ┌───┐┌───┐┌───┐┌───┐┌───┐┌───┐┌───┐┌─────┐┌───┐┌─────┐┌─────┐┌─────┐┌───┐»\n",
       " «q_2: ┤ H ├┤ T ├┤ H ├┤ T ├┤ H ├┤ T ├┤ H ├┤ Tdg ├┤ H ├┤ Tdg ├┤ Tdg ├┤ Tdg ├┤ H ├»\n",
       " «     └───┘└───┘└───┘└───┘└───┘└───┘└───┘└─────┘└───┘└─────┘└─────┘└─────┘└───┘»\n",
       " «                                                                              »\n",
       " «q_0: ─────────────────────────────────────────────────────────────────────────»\n",
       " «                                                                              »\n",
       " «q_1: ─────────────────────────────────────────────────────────────────────────»\n",
       " «     ┌─────┐┌───┐┌───┐┌───┐┌───┐┌───┐┌───┐┌───┐┌─────┐┌───┐┌─────┐┌─────┐┌───┐»\n",
       " «q_2: ┤ Tdg ├┤ H ├┤ T ├┤ H ├┤ T ├┤ H ├┤ T ├┤ H ├┤ Tdg ├┤ H ├┤ Tdg ├┤ Tdg ├┤ H ├»\n",
       " «     └─────┘└───┘└───┘└───┘└───┘└───┘└───┘└───┘└─────┘└───┘└─────┘└─────┘└───┘»\n",
       " «                                                                              »\n",
       " «q_0: ─────────────────────────────────────────────────────────────────────────»\n",
       " «                                                                              »\n",
       " «q_1: ─────────────────────────────────────────────────────────────────────────»\n",
       " «     ┌─────┐┌───┐┌─────┐┌───┐┌─────┐┌───┐┌─────┐┌───┐┌───┐┌───┐┌───┐┌───┐┌───┐»\n",
       " «q_2: ┤ Tdg ├┤ H ├┤ Tdg ├┤ H ├┤ Tdg ├┤ H ├┤ Tdg ├┤ H ├┤ T ├┤ H ├┤ T ├┤ T ├┤ H ├»\n",
       " «     └─────┘└───┘└─────┘└───┘└─────┘└───┘└─────┘└───┘└───┘└───┘└───┘└───┘└───┘»\n",
       " «                                                                        »\n",
       " «q_0: ───────────────────────────────────────────────────────────────────»\n",
       " «                                                                        »\n",
       " «q_1: ───────────────────────────────────────────────────────────────────»\n",
       " «     ┌───┐┌───┐┌───┐┌───┐┌───┐┌───┐┌───┐┌───┐┌───┐┌───┐┌───┐┌─────┐┌───┐»\n",
       " «q_2: ┤ T ├┤ H ├┤ T ├┤ H ├┤ T ├┤ H ├┤ T ├┤ T ├┤ H ├┤ T ├┤ H ├┤ Tdg ├┤ H ├»\n",
       " «     └───┘└───┘└───┘└───┘└───┘└───┘└───┘└───┘└───┘└───┘└───┘└─────┘└───┘»\n",
       " «                                                                           »\n",
       " «q_0: ──────────────────────────────────────────────────────────────────────»\n",
       " «                                                                           »\n",
       " «q_1: ──────────────────────────────────────────────────────────────────────»\n",
       " «     ┌─────┐┌───┐┌─────┐┌───┐┌───┐┌───┐┌─────┐┌─────┐┌───┐┌─────┐┌───┐┌───┐»\n",
       " «q_2: ┤ Tdg ├┤ H ├┤ Tdg ├┤ H ├┤ T ├┤ H ├┤ Tdg ├┤ Tdg ├┤ H ├┤ Tdg ├┤ H ├┤ T ├»\n",
       " «     └─────┘└───┘└─────┘└───┘└───┘└───┘└─────┘└─────┘└───┘└─────┘└───┘└───┘»\n",
       " «                                                                          »\n",
       " «q_0: ─────────────────────────────────────────────────────────────────────»\n",
       " «                                                                          »\n",
       " «q_1: ─────────────────────────────────────────────────────────────────────»\n",
       " «     ┌───┐┌───┐┌───┐┌───┐┌───┐┌─────┐┌───┐┌─────┐┌───┐┌───┐┌───┐┌───┐┌───┐»\n",
       " «q_2: ┤ H ├┤ T ├┤ H ├┤ T ├┤ H ├┤ Tdg ├┤ H ├┤ Tdg ├┤ H ├┤ T ├┤ H ├┤ T ├┤ H ├»\n",
       " «     └───┘└───┘└───┘└───┘└───┘└─────┘└───┘└─────┘└───┘└───┘└───┘└───┘└───┘»\n",
       " «                                                                             »\n",
       " «q_0: ────────────────────────────────────────────────────────────────────────»\n",
       " «                                                                             »\n",
       " «q_1: ────────────────────────────────────────────────────────────────────────»\n",
       " «     ┌─────┐┌─────┐┌───┐┌─────┐┌───┐┌─────┐┌───┐┌─────┐┌───┐┌─────┐┌───┐┌───┐»\n",
       " «q_2: ┤ Tdg ├┤ Tdg ├┤ H ├┤ Tdg ├┤ H ├┤ Tdg ├┤ H ├┤ Tdg ├┤ H ├┤ Tdg ├┤ H ├┤ T ├»\n",
       " «     └─────┘└─────┘└───┘└─────┘└───┘└─────┘└───┘└─────┘└───┘└─────┘└───┘└───┘»\n",
       " «                                                                             »\n",
       " «q_0: ────────────────────────────────────────────────────────────────────────»\n",
       " «                                                                             »\n",
       " «q_1: ────────────────────────────────────────────────────────────────────────»\n",
       " «     ┌───┐┌───┐┌───┐┌───┐┌───┐┌───┐┌───┐┌───┐┌───┐┌───┐┌───┐┌───┐┌─────┐┌───┐»\n",
       " «q_2: ┤ H ├┤ T ├┤ T ├┤ H ├┤ T ├┤ H ├┤ T ├┤ H ├┤ T ├┤ H ├┤ T ├┤ H ├┤ Tdg ├┤ H ├»\n",
       " «     └───┘└───┘└───┘└───┘└───┘└───┘└───┘└───┘└───┘└───┘└───┘└───┘└─────┘└───┘»\n",
       " «                                                                            »\n",
       " «q_0: ───────────────────────────────────────────────────────────────────────»\n",
       " «                                                                            »\n",
       " «q_1: ───────────────────────────────────────────────────────────────────────»\n",
       " «     ┌─────┐┌───┐┌───┐┌───┐┌─────┐┌───┐┌─────┐┌───┐┌───┐┌───┐┌───┐┌───┐┌───┐»\n",
       " «q_2: ┤ Tdg ├┤ H ├┤ T ├┤ H ├┤ Tdg ├┤ H ├┤ Tdg ├┤ H ├┤ T ├┤ H ├┤ T ├┤ T ├┤ H ├»\n",
       " «     └─────┘└───┘└───┘└───┘└─────┘└───┘└─────┘└───┘└───┘└───┘└───┘└───┘└───┘»\n",
       " «                                                                           »\n",
       " «q_0: ──────────────────────────────────────────────────────────────────────»\n",
       " «                                                                           »\n",
       " «q_1: ──────────────────────────────────────────────────────────────────────»\n",
       " «     ┌───┐┌───┐┌───┐┌───┐┌─────┐┌───┐┌─────┐┌─────┐┌─────┐┌───┐┌─────┐┌───┐»\n",
       " «q_2: ┤ T ├┤ H ├┤ T ├┤ H ├┤ Tdg ├┤ H ├┤ Tdg ├┤ Tdg ├┤ Tdg ├┤ H ├┤ Tdg ├┤ H ├»\n",
       " «     └───┘└───┘└───┘└───┘└─────┘└───┘└─────┘└─────┘└─────┘└───┘└─────┘└───┘»\n",
       " «                                                                          »\n",
       " «q_0: ─────────────────────────────────────────────────────────────────────»\n",
       " «                                                                          »\n",
       " «q_1: ─────────────────────────────────────────────────────────────────────»\n",
       " «     ┌───┐┌───┐┌───┐┌───┐┌───┐┌───┐┌───┐┌───┐┌───┐┌─────┐┌───┐┌─────┐┌───┐»\n",
       " «q_2: ┤ T ├┤ H ├┤ T ├┤ H ├┤ T ├┤ T ├┤ H ├┤ T ├┤ H ├┤ Tdg ├┤ H ├┤ Tdg ├┤ H ├»\n",
       " «     └───┘└───┘└───┘└───┘└───┘└───┘└───┘└───┘└───┘└─────┘└───┘└─────┘└───┘»\n",
       " «                                                                             »\n",
       " «q_0: ────────────────────────────────────────────────────────────────────────»\n",
       " «                                                                             »\n",
       " «q_1: ────────────────────────────────────────────────────────────────────────»\n",
       " «     ┌─────┐┌─────┐┌───┐┌─────┐┌───┐┌─────┐┌───┐┌─────┐┌───┐┌─────┐┌───┐┌───┐»\n",
       " «q_2: ┤ Tdg ├┤ Tdg ├┤ H ├┤ Tdg ├┤ H ├┤ Tdg ├┤ H ├┤ Tdg ├┤ H ├┤ Tdg ├┤ H ├┤ T ├»\n",
       " «     └─────┘└─────┘└───┘└─────┘└───┘└─────┘└───┘└─────┘└───┘└─────┘└───┘└───┘»\n",
       " «                                                                            »\n",
       " «q_0: ───────────────────────────────────────────────────────────────────────»\n",
       " «                                                                            »\n",
       " «q_1: ───────────────────────────────────────────────────────────────────────»\n",
       " «     ┌───┐┌───┐┌───┐┌───┐┌───┐┌─────┐┌───┐┌─────┐┌─────┐┌───┐┌───┐┌───┐┌───┐»\n",
       " «q_2: ┤ H ├┤ T ├┤ H ├┤ T ├┤ H ├┤ Tdg ├┤ H ├┤ Tdg ├┤ Tdg ├┤ H ├┤ T ├┤ H ├┤ T ├»\n",
       " «     └───┘└───┘└───┘└───┘└───┘└─────┘└───┘└─────┘└─────┘└───┘└───┘└───┘└───┘»\n",
       " «                                                                        »\n",
       " «q_0: ───────────────────────────────────────────────────────────────────»\n",
       " «                                                                        »\n",
       " «q_1: ───────────────────────────────────────────────────────────────────»\n",
       " «     ┌───┐┌───┐┌───┐┌───┐┌───┐┌───┐┌───┐┌───┐┌───┐┌───┐┌───┐┌─────┐┌───┐»\n",
       " «q_2: ┤ H ├┤ T ├┤ H ├┤ T ├┤ H ├┤ T ├┤ T ├┤ T ├┤ H ├┤ T ├┤ H ├┤ Tdg ├┤ H ├»\n",
       " «     └───┘└───┘└───┘└───┘└───┘└───┘└───┘└───┘└───┘└───┘└───┘└─────┘└───┘»\n",
       " «                                                                           »\n",
       " «q_0: ──────────────────────────────────────────────────────────────────────»\n",
       " «                                                                           »\n",
       " «q_1: ──────────────────────────────────────────────────────────────────────»\n",
       " «     ┌─────┐┌───┐┌─────┐┌─────┐┌───┐┌───┐┌───┐┌───┐┌───┐┌─────┐┌───┐┌─────┐»\n",
       " «q_2: ┤ Tdg ├┤ H ├┤ Tdg ├┤ Tdg ├┤ H ├┤ T ├┤ H ├┤ T ├┤ H ├┤ Tdg ├┤ H ├┤ Tdg ├»\n",
       " «     └─────┘└───┘└─────┘└─────┘└───┘└───┘└───┘└───┘└───┘└─────┘└───┘└─────┘»\n",
       " «                                                                              »\n",
       " «q_0: ─────────────────────────────────────────────────────────────────────────»\n",
       " «                                                                              »\n",
       " «q_1: ─────────────────────────────────────────────────────────────────────────»\n",
       " «     ┌───┐┌─────┐┌───┐┌─────┐┌─────┐┌───┐┌─────┐┌───┐┌───┐┌───┐┌───┐┌───┐┌───┐»\n",
       " «q_2: ┤ H ├┤ Tdg ├┤ H ├┤ Tdg ├┤ Tdg ├┤ H ├┤ Tdg ├┤ H ├┤ T ├┤ H ├┤ T ├┤ H ├┤ T ├»\n",
       " «     └───┘└─────┘└───┘└─────┘└─────┘└───┘└─────┘└───┘└───┘└───┘└───┘└───┘└───┘»\n",
       " «                                                                            »\n",
       " «q_0: ───────────────────────────────────────────────────────────────────────»\n",
       " «                                                                            »\n",
       " «q_1: ───────────────────────────────────────────────────────────────────────»\n",
       " «     ┌───┐┌───┐┌───┐┌───┐┌───┐┌───┐┌───┐┌───┐┌─────┐┌───┐┌─────┐┌───┐┌─────┐»\n",
       " «q_2: ┤ H ├┤ T ├┤ H ├┤ T ├┤ T ├┤ H ├┤ T ├┤ H ├┤ Tdg ├┤ H ├┤ Tdg ├┤ H ├┤ Tdg ├»\n",
       " «     └───┘└───┘└───┘└───┘└───┘└───┘└───┘└───┘└─────┘└───┘└─────┘└───┘└─────┘»\n",
       " «                                                                            »\n",
       " «q_0: ───────────────────────────────────────────────────────────────────────»\n",
       " «                                                                            »\n",
       " «q_1: ───────────────────────────────────────────────────────────────────────»\n",
       " «     ┌───┐┌─────┐┌───┐┌─────┐┌───┐┌───┐┌───┐┌───┐┌───┐┌───┐┌───┐┌───┐┌─────┐»\n",
       " «q_2: ┤ H ├┤ Tdg ├┤ H ├┤ Tdg ├┤ H ├┤ T ├┤ H ├┤ T ├┤ T ├┤ H ├┤ T ├┤ H ├┤ Tdg ├»\n",
       " «     └───┘└─────┘└───┘└─────┘└───┘└───┘└───┘└───┘└───┘└───┘└───┘└───┘└─────┘»\n",
       " «                                                                            »\n",
       " «q_0: ───────────────────────────────────────────────────────────────────────»\n",
       " «                                                                            »\n",
       " «q_1: ───────────────────────────────────────────────────────────────────────»\n",
       " «     ┌───┐┌─────┐┌───┐┌───┐┌───┐┌───┐┌───┐┌───┐┌───┐┌───┐┌─────┐┌───┐┌─────┐»\n",
       " «q_2: ┤ H ├┤ Tdg ├┤ H ├┤ T ├┤ T ├┤ H ├┤ T ├┤ H ├┤ T ├┤ H ├┤ Tdg ├┤ H ├┤ Tdg ├»\n",
       " «     └───┘└─────┘└───┘└───┘└───┘└───┘└───┘└───┘└───┘└───┘└─────┘└───┘└─────┘»\n",
       " «                                                                             »\n",
       " «q_0: ────────────────────────────────────────────────────────────────────────»\n",
       " «                                                                             »\n",
       " «q_1: ────────────────────────────────────────────────────────────────────────»\n",
       " «     ┌─────┐┌─────┐┌───┐┌─────┐┌───┐┌─────┐┌───┐┌─────┐┌───┐┌─────┐┌───┐┌───┐»\n",
       " «q_2: ┤ Tdg ├┤ Tdg ├┤ H ├┤ Tdg ├┤ H ├┤ Tdg ├┤ H ├┤ Tdg ├┤ H ├┤ Tdg ├┤ H ├┤ T ├»\n",
       " «     └─────┘└─────┘└───┘└─────┘└───┘└─────┘└───┘└─────┘└───┘└─────┘└───┘└───┘»\n",
       " «                                                                            »\n",
       " «q_0: ───────────────────────────────────────────────────────────────────────»\n",
       " «                                                                            »\n",
       " «q_1: ───────────────────────────────────────────────────────────────────────»\n",
       " «     ┌───┐┌───┐┌───┐┌───┐┌─────┐┌───┐┌─────┐┌───┐┌─────┐┌───┐┌───┐┌───┐┌───┐»\n",
       " «q_2: ┤ T ├┤ H ├┤ T ├┤ H ├┤ Tdg ├┤ H ├┤ Tdg ├┤ H ├┤ Tdg ├┤ H ├┤ T ├┤ H ├┤ T ├»\n",
       " «     └───┘└───┘└───┘└───┘└─────┘└───┘└─────┘└───┘└─────┘└───┘└───┘└───┘└───┘»\n",
       " «                                                                          »\n",
       " «q_0: ─────────────────────────────────────────────────────────────────────»\n",
       " «                                                                          »\n",
       " «q_1: ─────────────────────────────────────────────────────────────────────»\n",
       " «     ┌───┐┌───┐┌───┐┌───┐┌───┐┌─────┐┌───┐┌─────┐┌───┐┌───┐┌───┐┌───┐┌───┐»\n",
       " «q_2: ┤ H ├┤ T ├┤ H ├┤ T ├┤ H ├┤ Tdg ├┤ H ├┤ Tdg ├┤ H ├┤ T ├┤ H ├┤ T ├┤ H ├»\n",
       " «     └───┘└───┘└───┘└───┘└───┘└─────┘└───┘└─────┘└───┘└───┘└───┘└───┘└───┘»\n",
       " «                                                                              »\n",
       " «q_0: ─────────────────────────────────────────────────────────────────────────»\n",
       " «                                                                              »\n",
       " «q_1: ─────────────────────────────────────────────────────────────────────────»\n",
       " «     ┌───┐┌───┐┌───┐┌───┐┌───┐┌───┐┌─────┐┌───┐┌─────┐┌─────┐┌───┐┌─────┐┌───┐»\n",
       " «q_2: ┤ T ├┤ H ├┤ T ├┤ H ├┤ T ├┤ H ├┤ Tdg ├┤ H ├┤ Tdg ├┤ Tdg ├┤ H ├┤ Tdg ├┤ H ├»\n",
       " «     └───┘└───┘└───┘└───┘└───┘└───┘└─────┘└───┘└─────┘└─────┘└───┘└─────┘└───┘»\n",
       " «                                                                            »\n",
       " «q_0: ───────────────────────────────────────────────────────────────────────»\n",
       " «                                                                            »\n",
       " «q_1: ───────────────────────────────────────────────────────────────────────»\n",
       " «     ┌─────┐┌───┐┌─────┐┌───┐┌─────┐┌───┐┌───┐┌───┐┌───┐┌───┐┌───┐┌───┐┌───┐»\n",
       " «q_2: ┤ Tdg ├┤ H ├┤ Tdg ├┤ H ├┤ Tdg ├┤ H ├┤ T ├┤ H ├┤ T ├┤ T ├┤ H ├┤ T ├┤ T ├»\n",
       " «     └─────┘└───┘└─────┘└───┘└─────┘└───┘└───┘└───┘└───┘└───┘└───┘└───┘└───┘»\n",
       " «                                                                           »\n",
       " «q_0: ──────────────────────────────────────────────────────────────────────»\n",
       " «                                                                           »\n",
       " «q_1: ──────────────────────────────────────────────────────────────────────»\n",
       " «     ┌───┐┌───┐┌───┐┌─────┐┌───┐┌─────┐┌───┐┌─────┐┌───┐┌─────┐┌───┐┌─────┐»\n",
       " «q_2: ┤ H ├┤ T ├┤ H ├┤ Tdg ├┤ H ├┤ Tdg ├┤ H ├┤ Tdg ├┤ H ├┤ Tdg ├┤ H ├┤ Tdg ├»\n",
       " «     └───┘└───┘└───┘└─────┘└───┘└─────┘└───┘└─────┘└───┘└─────┘└───┘└─────┘»\n",
       " «                                                                          »\n",
       " «q_0: ─────────────────────────────────────────────────────────────────────»\n",
       " «                                                                          »\n",
       " «q_1: ─────────────────────────────────────────────────────────────────────»\n",
       " «     ┌─────┐┌───┐┌─────┐┌───┐┌───┐┌───┐┌───┐┌───┐┌───┐┌───┐┌───┐┌───┐┌───┐»\n",
       " «q_2: ┤ Tdg ├┤ H ├┤ Tdg ├┤ H ├┤ T ├┤ H ├┤ T ├┤ H ├┤ T ├┤ H ├┤ T ├┤ H ├┤ T ├»\n",
       " «     └─────┘└───┘└─────┘└───┘└───┘└───┘└───┘└───┘└───┘└───┘└───┘└───┘└───┘»\n",
       " «                                                                              »\n",
       " «q_0: ─────────────────────────────────────────────────────────────────────────»\n",
       " «                                                                              »\n",
       " «q_1: ─────────────────────────────────────────────────────────────────────────»\n",
       " «     ┌───┐┌───┐┌─────┐┌───┐┌─────┐┌───┐┌───┐┌───┐┌───┐┌───┐┌─────┐┌───┐┌─────┐»\n",
       " «q_2: ┤ T ├┤ H ├┤ Tdg ├┤ H ├┤ Tdg ├┤ H ├┤ T ├┤ H ├┤ T ├┤ H ├┤ Tdg ├┤ H ├┤ Tdg ├»\n",
       " «     └───┘└───┘└─────┘└───┘└─────┘└───┘└───┘└───┘└───┘└───┘└─────┘└───┘└─────┘»\n",
       " «                                                                          »\n",
       " «q_0: ─────────────────────────────────────────────────────────────────────»\n",
       " «                                                                          »\n",
       " «q_1: ─────────────────────────────────────────────────────────────────────»\n",
       " «     ┌───┐┌─────┐┌───┐┌───┐┌───┐┌───┐┌───┐┌───┐┌─────┐┌───┐┌───┐┌───┐┌───┐»\n",
       " «q_2: ┤ H ├┤ Tdg ├┤ H ├┤ T ├┤ H ├┤ T ├┤ T ├┤ H ├┤ Tdg ├┤ H ├┤ T ├┤ H ├┤ T ├»\n",
       " «     └───┘└─────┘└───┘└───┘└───┘└───┘└───┘└───┘└─────┘└───┘└───┘└───┘└───┘»\n",
       " «                                                                           »\n",
       " «q_0: ──────────────────────────────────────────────────────────────────────»\n",
       " «                                                                           »\n",
       " «q_1: ──────────────────────────────────────────────────────────────────────»\n",
       " «     ┌───┐┌───┐┌───┐┌─────┐┌───┐┌─────┐┌─────┐┌───┐┌─────┐┌───┐┌─────┐┌───┐»\n",
       " «q_2: ┤ H ├┤ T ├┤ H ├┤ Tdg ├┤ H ├┤ Tdg ├┤ Tdg ├┤ H ├┤ Tdg ├┤ H ├┤ Tdg ├┤ H ├»\n",
       " «     └───┘└───┘└───┘└─────┘└───┘└─────┘└─────┘└───┘└─────┘└───┘└─────┘└───┘»\n",
       " «                                                                              »\n",
       " «q_0: ─────────────────────────────────────────────────────────────────────────»\n",
       " «                                                                              »\n",
       " «q_1: ─────────────────────────────────────────────────────────────────────────»\n",
       " «     ┌─────┐┌───┐┌─────┐┌─────┐┌───┐┌─────┐┌───┐┌───┐┌───┐┌───┐┌───┐┌───┐┌───┐»\n",
       " «q_2: ┤ Tdg ├┤ H ├┤ Tdg ├┤ Tdg ├┤ H ├┤ Tdg ├┤ H ├┤ T ├┤ H ├┤ T ├┤ H ├┤ T ├┤ H ├»\n",
       " «     └─────┘└───┘└─────┘└─────┘└───┘└─────┘└───┘└───┘└───┘└───┘└───┘└───┘└───┘»\n",
       " «                                                                            »\n",
       " «q_0: ───────────────────────────────────────────────────────────────────────»\n",
       " «                                                                            »\n",
       " «q_1: ───────────────────────────────────────────────────────────────────────»\n",
       " «     ┌───┐┌───┐┌───┐┌───┐┌───┐┌───┐┌───┐┌─────┐┌───┐┌─────┐┌───┐┌─────┐┌───┐»\n",
       " «q_2: ┤ T ├┤ H ├┤ T ├┤ T ├┤ H ├┤ T ├┤ H ├┤ Tdg ├┤ H ├┤ Tdg ├┤ H ├┤ Tdg ├┤ H ├»\n",
       " «     └───┘└───┘└───┘└───┘└───┘└───┘└───┘└─────┘└───┘└─────┘└───┘└─────┘└───┘»\n",
       " «                                                                            »\n",
       " «q_0: ───────────────────────────────────────────────────────────────────────»\n",
       " «                                                                            »\n",
       " «q_1: ───────────────────────────────────────────────────────────────────────»\n",
       " «     ┌───┐┌───┐┌───┐┌───┐┌───┐┌───┐┌───┐┌───┐┌─────┐┌───┐┌─────┐┌───┐┌─────┐»\n",
       " «q_2: ┤ T ├┤ H ├┤ T ├┤ T ├┤ T ├┤ H ├┤ T ├┤ H ├┤ Tdg ├┤ H ├┤ Tdg ├┤ H ├┤ Tdg ├»\n",
       " «     └───┘└───┘└───┘└───┘└───┘└───┘└───┘└───┘└─────┘└───┘└─────┘└───┘└─────┘»\n",
       " «                                                                            »\n",
       " «q_0: ───────────────────────────────────────────────────────────────────────»\n",
       " «                                                                            »\n",
       " «q_1: ───────────────────────────────────────────────────────────────────────»\n",
       " «     ┌───┐┌───┐┌───┐┌─────┐┌─────┐┌───┐┌─────┐┌───┐┌───┐┌───┐┌───┐┌───┐┌───┐»\n",
       " «q_2: ┤ H ├┤ T ├┤ H ├┤ Tdg ├┤ Tdg ├┤ H ├┤ Tdg ├┤ H ├┤ T ├┤ H ├┤ T ├┤ H ├┤ T ├»\n",
       " «     └───┘└───┘└───┘└─────┘└─────┘└───┘└─────┘└───┘└───┘└───┘└───┘└───┘└───┘»\n",
       " «                                                                              »\n",
       " «q_0: ─────────────────────────────────────────────────────────────────────────»\n",
       " «                                                                              »\n",
       " «q_1: ─────────────────────────────────────────────────────────────────────────»\n",
       " «     ┌───┐┌─────┐┌───┐┌─────┐┌───┐┌───┐┌───┐┌───┐┌───┐┌─────┐┌───┐┌─────┐┌───┐»\n",
       " «q_2: ┤ H ├┤ Tdg ├┤ H ├┤ Tdg ├┤ H ├┤ T ├┤ H ├┤ T ├┤ H ├┤ Tdg ├┤ H ├┤ Tdg ├┤ H ├»\n",
       " «     └───┘└─────┘└───┘└─────┘└───┘└───┘└───┘└───┘└───┘└─────┘└───┘└─────┘└───┘»\n",
       " «                                                                              »\n",
       " «q_0: ─────────────────────────────────────────────────────────────────────────»\n",
       " «                                                                              »\n",
       " «q_1: ─────────────────────────────────────────────────────────────────────────»\n",
       " «     ┌─────┐┌───┐┌───┐┌───┐┌───┐┌───┐┌───┐┌───┐┌─────┐┌───┐┌─────┐┌─────┐┌───┐»\n",
       " «q_2: ┤ Tdg ├┤ H ├┤ T ├┤ H ├┤ T ├┤ H ├┤ T ├┤ H ├┤ Tdg ├┤ H ├┤ Tdg ├┤ Tdg ├┤ H ├»\n",
       " «     └─────┘└───┘└───┘└───┘└───┘└───┘└───┘└───┘└─────┘└───┘└─────┘└─────┘└───┘»\n",
       " «                                                                              »\n",
       " «q_0: ─────────────────────────────────────────────────────────────────────────»\n",
       " «                                                                              »\n",
       " «q_1: ─────────────────────────────────────────────────────────────────────────»\n",
       " «     ┌─────┐┌───┐┌─────┐┌───┐┌─────┐┌───┐┌─────┐┌───┐┌───┐┌───┐┌───┐┌───┐┌───┐»\n",
       " «q_2: ┤ Tdg ├┤ H ├┤ Tdg ├┤ H ├┤ Tdg ├┤ H ├┤ Tdg ├┤ H ├┤ T ├┤ H ├┤ T ├┤ T ├┤ H ├»\n",
       " «     └─────┘└───┘└─────┘└───┘└─────┘└───┘└─────┘└───┘└───┘└───┘└───┘└───┘└───┘»\n",
       " «                                                                      \n",
       " «q_0: ───────────────────────────────────────────────────────────────X─\n",
       " «                                                                    │ \n",
       " «q_1: ─────────────────────────────────────■───────────■─────────────┼─\n",
       " «     ┌───┐┌───┐┌───┐┌───┐┌───┐┌───┐┌───┐┌─┴─┐┌─────┐┌─┴─┐┌───┐┌───┐ │ \n",
       " «q_2: ┤ T ├┤ H ├┤ T ├┤ H ├┤ T ├┤ H ├┤ T ├┤ X ├┤ Tdg ├┤ X ├┤ T ├┤ H ├─X─\n",
       " «     └───┘└───┘└───┘└───┘└───┘└───┘└───┘└───┘└─────┘└───┘└───┘└───┘   )"
      ]
     },
     "execution_count": 2,
     "metadata": {},
     "output_type": "execute_result"
    }
   ],
   "source": [
    "## WE NEED CP(pi/8) FOR QFT!\n",
    "# It works but it is huge!\n",
    "with QiskitTester(3) as QT:\n",
    "    QT.circuit.append(qk.circuit.library.QFT(3), (QT.q(0), QT.q(1), QT.q(2)))\n",
    "transpiled = qk.transpile(QT.circuit, backend)\n",
    "circuit2 = pm.run(transpiled)\n",
    "discretized = skd(circuit2)\n",
    "QT.circuit.draw(), transpiled.draw(), discretized.draw()"
   ]
  },
  {
   "cell_type": "code",
   "execution_count": null,
   "metadata": {},
   "outputs": [],
   "source": [
    "## WE NEED CP(pi/8) FOR QFT!\n",
    "# It works but it is huge!\n",
    "with QiskitTester(4) as QT:\n",
    "    QT.circuit.append(qk.circuit.library.QFT(4), (QT.q(0), QT.q(1), QT.q(2), QT.q(3)))\n",
    "QT.circuit.draw(), QT.transpile().draw()"
   ]
  },
  {
   "cell_type": "code",
   "execution_count": null,
   "metadata": {},
   "outputs": [],
   "source": [
    "# very long!\n",
    "with QiskitTester(5) as QT:\n",
    "    QT.circuit.append(\n",
    "        qk.circuit.library.QuadraticForm(\n",
    "            2, linear=[1, -2], quadratic=[[1, 2], [2, 0.5]]\n",
    "        ),\n",
    "        (\n",
    "            QT.q(0),\n",
    "            QT.q(1),\n",
    "            QT.q(2),\n",
    "            QT.q(3),\n",
    "        ),\n",
    "    )\n",
    "QT.circuit.draw(), QT.transpile().draw()"
   ]
  },
  {
   "cell_type": "code",
   "execution_count": null,
   "metadata": {},
   "outputs": [],
   "source": [
    "# Too long\n",
    "with QiskitTester(4) as QT:\n",
    "    QT.circuit.append(\n",
    "        qk.circuit.library.IQP([[6, 5, 3], [5, 4, 5], [3, 5, 1]]),\n",
    "        (QT.q(0), QT.q(1), QT.q(2)),\n",
    "    )\n",
    "QT.circuit.draw(), QT.transpile().draw()"
   ]
  },
  {
   "cell_type": "code",
   "execution_count": null,
   "metadata": {},
   "outputs": [],
   "source": [
    "# Huge\n",
    "# U(π/2,0,π,0)  not found\n",
    "with QiskitTester(9) as QT:\n",
    "    QT.circuit.append(\n",
    "        qk.circuit.library.HRSCumulativeMultiplier(2),\n",
    "        (\n",
    "            QT.q(0),\n",
    "            QT.q(1),\n",
    "            QT.q(2),\n",
    "            QT.q(3),\n",
    "            QT.q(4),\n",
    "            QT.q(5),\n",
    "            QT.q(6),\n",
    "            QT.q(7),\n",
    "            QT.q(8),\n",
    "        ),\n",
    "    )\n",
    "transpiled = qk.transpile(QT.circuit, backend)\n",
    "circuit2 = pm.run(transpiled)\n",
    "discretized = skd(circuit2)\n",
    "QT.circuit.draw(), transpiled.draw(), discretized.draw()"
   ]
  },
  {
   "cell_type": "code",
   "execution_count": null,
   "metadata": {},
   "outputs": [],
   "source": [
    "#!Huge\n",
    "with QiskitTester(8) as QT:\n",
    "    QT.circuit.append(\n",
    "        qk.circuit.library.RGQFTMultiplier(2),\n",
    "        (QT.q(0), QT.q(1), QT.q(2), QT.q(3), QT.q(4), QT.q(5), QT.q(6), QT.q(7)),\n",
    "    )\n",
    "transpiled = qk.transpile(QT.circuit, backend)\n",
    "circuit2 = pm.run(transpiled)\n",
    "discretized = skd(circuit2)\n",
    "QT.circuit.draw(), transpiled.draw(), discretized.draw()"
   ]
  },
  {
   "cell_type": "code",
   "execution_count": null,
   "metadata": {},
   "outputs": [],
   "source": [
    "# incredibly huge\n",
    "from qiskit import algorithms\n",
    "\n",
    "circuit = qk.algorithms.Shor().construct_circuit(7)\n",
    "transpiled = qk.transpile(circuit, backend)\n",
    "circuit2 = pm.run(transpiled)\n",
    "discretized = skd(circuit2)\n",
    "circuit.draw(), transpiled.draw(), discretized.draw()"
   ]
  },
  {
   "cell_type": "code",
   "execution_count": null,
   "metadata": {},
   "outputs": [],
   "source": [
    "# Other algorithms - but should be evaluated with reasonable arguments!\n",
    "# https://qiskit.org/documentation/apidoc/algorithms.html\n"
   ]
  },
  {
   "cell_type": "code",
   "execution_count": null,
   "metadata": {},
   "outputs": [],
   "source": [
    "# Quantum Volume (seems to be unfeasible)\n"
   ]
  },
  {
   "cell_type": "code",
   "execution_count": null,
   "metadata": {},
   "outputs": [],
   "source": []
  },
  {
   "attachments": {},
   "cell_type": "markdown",
   "metadata": {},
   "source": [
    "# Invalid"
   ]
  },
  {
   "cell_type": "code",
   "execution_count": null,
   "metadata": {},
   "outputs": [
    {
     "name": "stdout",
     "output_type": "stream",
     "text": [
      "csx []\n"
     ]
    },
    {
     "data": {
      "text/plain": [
       "(     ┌────┐\n",
       " q_0: ┤ Sx ├\n",
       "      └─┬──┘\n",
       " q_1: ──■───\n",
       "            ,\n",
       "      ┌────┐\n",
       " q_0: ┤ Sx ├\n",
       "      └─┬──┘\n",
       " q_1: ──■───\n",
       "            ,\n",
       "      ┌────┐\n",
       " q_0: ┤ Sx ├\n",
       "      └─┬──┘\n",
       " q_1: ──■───\n",
       "            )"
      ]
     },
     "metadata": {},
     "output_type": "display_data"
    }
   ],
   "source": [
    "with QiskitTester(2) as QT:\n",
    "    QT.circuit.csx(QT.q(0), QT.q(1))\n",
    "QT.result\n",
    "transpiled = qk.transpile(QT.circuit, backend)\n",
    "circuit2 = pm.run(transpiled)\n",
    "discretized = skd(circuit2)\n",
    "QT.circuit.draw(), transpiled.draw(), discretized.draw()"
   ]
  },
  {
   "cell_type": "code",
   "execution_count": null,
   "metadata": {},
   "outputs": [],
   "source": [
    "# Too long\n",
    "with QiskitTester(1) as QT:\n",
    "    QT.circuit.p(np.pi / 8, QT.q(0))\n",
    "QT.circuit.draw(), QT.transpile().draw()"
   ]
  },
  {
   "cell_type": "code",
   "execution_count": null,
   "metadata": {},
   "outputs": [],
   "source": [
    "with QiskitTester(4) as QT:\n",
    "    QT.circuit.append(qk.circuit.library.C3XGate(), (0, 1, 2, 3))\n",
    "QT.circuit.draw()\n",
    "transpiled = qk.transpile(QT.circuit, backend)\n",
    "circuit2 = pm.run(transpiled)\n",
    "discretized = skd(circuit2)\n",
    "QT.circuit.draw(), transpiled.draw(), discretized.draw()"
   ]
  },
  {
   "cell_type": "code",
   "execution_count": null,
   "metadata": {},
   "outputs": [],
   "source": [
    "with QiskitTester(2) as QT:\n",
    "    QT.circuit.ecr(QT.q(0), QT.q(1))\n",
    "transpiled = qk.transpile(QT.circuit, backend)\n",
    "circuit2 = pm.run(transpiled)\n",
    "discretized = skd(circuit2)\n",
    "QT.circuit.draw(), transpiled.draw(), discretized.draw()"
   ]
  },
  {
   "cell_type": "code",
   "execution_count": null,
   "metadata": {},
   "outputs": [],
   "source": [
    "# no idea of how this works\n",
    "with QiskitTester(2) as QT:\n",
    "    QT.circuit.append(qk.circuit.library.Diagonal([1, 1]), (QT.q(0),))\n",
    "transpiled = qk.transpile(QT.circuit, backend)\n",
    "circuit2 = pm.run(transpiled)\n",
    "discretized = skd(circuit2)\n",
    "QT.circuit.draw(), transpiled.draw(), discretized.draw()"
   ]
  },
  {
   "cell_type": "code",
   "execution_count": null,
   "metadata": {},
   "outputs": [],
   "source": [
    "with QiskitTester(3) as QT:\n",
    "    QT.circuit.append(\n",
    "        qk.circuit.library.FourierChecking(\n",
    "            [1, -1, 1, 1, 1, -1, 1, -1], [-1, -1, -1, -1, 1, 1, 1, 1]\n",
    "        ),\n",
    "        (QT.q(0), QT.q(1), QT.q(2)),\n",
    "    )\n",
    "QT.circuit.draw(), QT.transpile().draw()"
   ]
  },
  {
   "cell_type": "code",
   "execution_count": null,
   "metadata": {},
   "outputs": [],
   "source": [
    "with QiskitTester(3) as QT:\n",
    "    QT.circuit.append(\n",
    "        qk.circuit.library.PhaseEstimation(2, qk.circuit.library.XGate()),\n",
    "        (QT.q(0), QT.q(1), QT.q(2)),\n",
    "    )\n",
    "QT.circuit.draw(), QT.transpile().draw()"
   ]
  },
  {
   "attachments": {},
   "cell_type": "markdown",
   "metadata": {},
   "source": [
    "## Program comparison"
   ]
  },
  {
   "cell_type": "code",
   "execution_count": null,
   "metadata": {},
   "outputs": [],
   "source": []
  },
  {
   "attachments": {},
   "cell_type": "markdown",
   "metadata": {},
   "source": [
    " H ├┤ T ├┤ T ├┤ H ├┤ Tdg ├┤ Tdg ├┤ H ├┤ T ├┤ T "
   ]
  },
  {
   "cell_type": "code",
   "execution_count": null,
   "metadata": {},
   "outputs": [
    {
     "data": {
      "text/plain": [
       "-8.688307511644464"
      ]
     },
     "metadata": {},
     "output_type": "display_data"
    }
   ],
   "source": [
    "code = \"(lambda (lambda (lambda (lambda (h $0 $1)))))\"\n",
    "program = dc.program.Program.parse(code)\n",
    "results.grammars[-1].logLikelihood(program.infer(), program)\n"
   ]
  },
  {
   "cell_type": "code",
   "execution_count": null,
   "metadata": {},
   "outputs": [],
   "source": [
    "code = \"(lambda (lambda (lambda (lambda (t (t (h (tdg (tdg (h (t (t (h $0 $1) $1) $1) $1) $1) $1) $1) $1) $1)))))\"\n",
    "program = dc.program.Program.parse(code)\n",
    "circuit = execute_program(program, arguments)\n",
    "mat = circuit_to_mat(circuit)\n"
   ]
  },
  {
   "cell_type": "code",
   "execution_count": null,
   "metadata": {},
   "outputs": [],
   "source": [
    "code = \"(lambda (lambda (lambda (lambda (y $0 $1)))))\"\n",
    "program = dc.program.Program.parse(code)\n",
    "circuit = execute_program(program, arguments)\n",
    "mat2 = circuit_to_mat(circuit)\n"
   ]
  },
  {
   "cell_type": "code",
   "execution_count": null,
   "metadata": {},
   "outputs": [
    {
     "name": "stdout",
     "output_type": "stream",
     "text": [
      "y []\n"
     ]
    },
    {
     "data": {
      "text/plain": [
       "(          \n",
       " q_0: ─────\n",
       "           \n",
       " q_1: ─────\n",
       "      ┌───┐\n",
       " q_2: ┤ Y ├\n",
       "      └───┘,\n",
       " global phase: 3π/4\n",
       "                                                       \n",
       " q_0: ─────────────────────────────────────────────────\n",
       "                                                       \n",
       " q_1: ─────────────────────────────────────────────────\n",
       "      ┌───┐┌───┐┌───┐┌───┐┌─────┐┌─────┐┌───┐┌───┐┌───┐\n",
       " q_2: ┤ H ├┤ T ├┤ T ├┤ H ├┤ Tdg ├┤ Tdg ├┤ H ├┤ T ├┤ T ├\n",
       "      └───┘└───┘└───┘└───┘└─────┘└─────┘└───┘└───┘└───┘)"
      ]
     },
     "metadata": {},
     "output_type": "display_data"
    }
   ],
   "source": [
    "# Y\n",
    "with QiskitTester(circuit=circuit) as QT:\n",
    "    QT.circuit.y(QT.q(0))\n",
    "QT.circuit.draw(), QT.transpile().draw()\n"
   ]
  },
  {
   "cell_type": "code",
   "execution_count": null,
   "metadata": {},
   "outputs": [],
   "source": [
    "proposed_circuit = circuit_to_mat(circuit)"
   ]
  },
  {
   "cell_type": "code",
   "execution_count": null,
   "metadata": {},
   "outputs": [
    {
     "data": {
      "text/plain": [
       "array([[0.+0.j, 0.+1.j, 0.+0.j, 0.+0.j, 0.+0.j, 0.+0.j, 0.+0.j, 0.+0.j],\n",
       "       [0.-1.j, 0.+0.j, 0.+0.j, 0.+0.j, 0.+0.j, 0.+0.j, 0.+0.j, 0.+0.j],\n",
       "       [0.+0.j, 0.+0.j, 0.+0.j, 0.+1.j, 0.+0.j, 0.+0.j, 0.+0.j, 0.+0.j],\n",
       "       [0.+0.j, 0.+0.j, 0.-1.j, 0.+0.j, 0.+0.j, 0.+0.j, 0.+0.j, 0.+0.j],\n",
       "       [0.+0.j, 0.+0.j, 0.+0.j, 0.+0.j, 0.+0.j, 0.+1.j, 0.+0.j, 0.+0.j],\n",
       "       [0.+0.j, 0.+0.j, 0.+0.j, 0.+0.j, 0.-1.j, 0.+0.j, 0.+0.j, 0.+0.j],\n",
       "       [0.+0.j, 0.+0.j, 0.+0.j, 0.+0.j, 0.+0.j, 0.+0.j, 0.+0.j, 0.+1.j],\n",
       "       [0.+0.j, 0.+0.j, 0.+0.j, 0.+0.j, 0.+0.j, 0.+0.j, 0.-1.j, 0.+0.j]])"
      ]
     },
     "metadata": {},
     "output_type": "display_data"
    }
   ],
   "source": [
    "task, sol = list(results.taskSolutions.items())[5]\n",
    "task.target_circuit_evaluation\n"
   ]
  },
  {
   "cell_type": "code",
   "execution_count": null,
   "metadata": {},
   "outputs": [
    {
     "data": {
      "text/plain": [
       "-inf"
      ]
     },
     "metadata": {},
     "output_type": "display_data"
    }
   ],
   "source": [
    "task.logLikelihood(program)\n"
   ]
  },
  {
   "cell_type": "code",
   "execution_count": null,
   "metadata": {},
   "outputs": [
    {
     "data": {
      "text/plain": [
       "array([[1., 0., 0., 0., 0., 0., 0., 0.],\n",
       "       [0., 1., 0., 0., 0., 0., 0., 0.],\n",
       "       [0., 0., 1., 0., 0., 0., 0., 0.],\n",
       "       [0., 0., 0., 1., 0., 0., 0., 0.],\n",
       "       [0., 0., 0., 0., 1., 0., 0., 0.],\n",
       "       [0., 0., 0., 0., 0., 1., 0., 0.],\n",
       "       [0., 0., 0., 0., 0., 0., 1., 0.],\n",
       "       [0., 0., 0., 0., 0., 0., 0., 1.]])"
      ]
     },
     "metadata": {},
     "output_type": "display_data"
    }
   ],
   "source": [
    "np.abs(proposed_circuit @ task.target_circuit_evaluation.conj().T).round(3)"
   ]
  },
  {
   "cell_type": "code",
   "execution_count": null,
   "metadata": {},
   "outputs": [],
   "source": []
  },
  {
   "cell_type": "code",
   "execution_count": null,
   "metadata": {},
   "outputs": [
    {
     "data": {
      "image/png": "[encoded data removed]",
      "text/plain": [
       "<Figure size 432x288 with 1 Axes>"
      ]
     },
     "metadata": {},
     "output_type": "display_data"
    }
   ],
   "source": [
    "plt.figure()\n",
    "[\n",
    "    plt.scatter(\n",
    "        i, results.grammars[i].logLikelihood(program.infer(), program), c=\"blue\"\n",
    "    )\n",
    "    for i in range(len(results.grammars))\n",
    "]\n",
    "plt.show()"
   ]
  },
  {
   "cell_type": "code",
   "execution_count": 87,
   "metadata": {},
   "outputs": [
    {
     "data": {
      "text/plain": [
       "array([[ 1.+0.j,  0.+0.j,  0.+0.j,  0.+0.j,  0.-0.j,  0.-0.j,  0.-0.j,\n",
       "         0.-0.j],\n",
       "       [ 0.+0.j,  0.+1.j,  0.+0.j,  0.+0.j,  0.-0.j,  0.-0.j,  0.-0.j,\n",
       "         0.-0.j],\n",
       "       [ 0.+0.j,  0.+0.j,  1.+0.j,  0.+0.j,  0.-0.j,  0.-0.j,  0.-0.j,\n",
       "         0.-0.j],\n",
       "       [ 0.+0.j,  0.+0.j,  0.+0.j,  0.+1.j,  0.-0.j,  0.-0.j,  0.-0.j,\n",
       "         0.-0.j],\n",
       "       [ 0.+0.j,  0.+0.j,  0.+0.j,  0.+0.j, -1.-0.j,  0.-0.j,  0.-0.j,\n",
       "         0.-0.j],\n",
       "       [ 0.+0.j,  0.+0.j,  0.+0.j,  0.+0.j,  0.-0.j,  0.-1.j,  0.-0.j,\n",
       "         0.-0.j],\n",
       "       [ 0.+0.j,  0.+0.j,  0.+0.j,  0.+0.j,  0.-0.j,  0.-0.j, -1.-0.j,\n",
       "         0.-0.j],\n",
       "       [ 0.+0.j,  0.+0.j,  0.+0.j,  0.+0.j,  0.-0.j,  0.-0.j,  0.-0.j,\n",
       "         0.-1.j]])"
      ]
     },
     "execution_count": 87,
     "metadata": {},
     "output_type": "execute_result"
    }
   ],
   "source": [
    "program = dc.program.Program.parse(\n",
    "    \"(lambda (lambda (lambda (lambda (t(t (t (t (t (t $0 $3) $3) $3) $3) $1)$1)))))\"\n",
    ")\n",
    "circuit = execute_program(program, (0, 1, 2, no_op(3)))\n",
    "q = get_qiskit_circuit(circuit)\n",
    "q.result.round(3)"
   ]
  },
  {
   "cell_type": "code",
   "execution_count": 89,
   "metadata": {},
   "outputs": [
    {
     "data": {
      "text/plain": [
       "array([[0.+0.j, 0.+0.j, 0.+0.j, 0.+0.j, 0.-0.j, 0.-0.j, 0.-0.j, 0.-0.j],\n",
       "       [0.+0.j, 0.+0.j, 0.+0.j, 0.+0.j, 0.-0.j, 0.-0.j, 0.-0.j, 0.-0.j],\n",
       "       [0.+0.j, 0.+0.j, 0.+0.j, 0.+0.j, 0.-0.j, 0.-0.j, 0.-0.j, 0.-0.j],\n",
       "       [0.+0.j, 0.+0.j, 0.+0.j, 0.+0.j, 0.-0.j, 0.-0.j, 0.-0.j, 0.-0.j],\n",
       "       [0.+0.j, 0.+0.j, 0.+0.j, 0.+0.j, 0.-0.j, 0.-0.j, 0.-0.j, 0.-0.j],\n",
       "       [0.+0.j, 0.+0.j, 0.+0.j, 0.+0.j, 0.-0.j, 0.+0.j, 0.-0.j, 0.-0.j],\n",
       "       [0.+0.j, 0.+0.j, 0.+0.j, 0.+0.j, 0.-0.j, 0.-0.j, 0.-0.j, 0.-0.j],\n",
       "       [0.+0.j, 0.+0.j, 0.+0.j, 0.+0.j, 0.-0.j, 0.-0.j, 0.-0.j, 0.+0.j]])"
      ]
     },
     "execution_count": 89,
     "metadata": {},
     "output_type": "execute_result"
    }
   ],
   "source": [
    "program = dc.program.Program.parse(\n",
    "    \"(lambda (lambda (lambda (lambda (s (z $0 $3) $1)))))\"\n",
    ")\n",
    "circuit = execute_program(program, (0, 1, 2, no_op(3)))\n",
    "q_2 = get_qiskit_circuit(circuit)"
   ]
  },
  {
   "cell_type": "code",
   "execution_count": null,
   "metadata": {},
   "outputs": [],
   "source": []
  },
  {
   "cell_type": "code",
   "execution_count": null,
   "metadata": {},
   "outputs": [
    {
     "ename": "QuantumCircuitException",
     "evalue": "Invalid selected qubit",
     "output_type": "error",
     "traceback": [
      "\u001b[0;31m---------------------------------------------------------------------------\u001b[0m\n",
      "\u001b[0;31mQuantumCircuitException\u001b[0m                   Traceback (most recent call last)\n",
      "\u001b[1;32m/Users/lsarra/ownCloud/topics/artificial-scientific-discovery/2021_Unitary-Synthesis/ec/quantum_notebook-2.ipynb Cell 10'\u001b[0m in \u001b[0;36m<cell line: 1>\u001b[0;34m()\u001b[0m\n",
      "\u001b[1;32m      <a href='vscode-notebook-cell:/Users/lsarra/ownCloud/topics/artificial-scientific-discovery/2021_Unitary-Synthesis/ec/quantum_notebook-2.ipynb#ch0000198?line=0'>1</a>\u001b[0m \u001b[39mfor\u001b[39;00m i \u001b[39min\u001b[39;00m \u001b[39mrange\u001b[39m(\u001b[39mlen\u001b[39m(dc\u001b[39m.\u001b[39mgrammar\u001b[39m.\u001b[39mENUMERATED_LIST)):\n",
      "\u001b[1;32m      <a href='vscode-notebook-cell:/Users/lsarra/ownCloud/topics/artificial-scientific-discovery/2021_Unitary-Synthesis/ec/quantum_notebook-2.ipynb#ch0000198?line=1'>2</a>\u001b[0m     np\u001b[39m.\u001b[39mtesting\u001b[39m.\u001b[39massert_allclose(tasks[i]\u001b[39m.\u001b[39mtarget_circuit_evaluation,\n",
      "\u001b[0;32m----> <a href='vscode-notebook-cell:/Users/lsarra/ownCloud/topics/artificial-scientific-discovery/2021_Unitary-Synthesis/ec/quantum_notebook-2.ipynb#ch0000198?line=2'>3</a>\u001b[0m                                circuit_to_mat(execute_program(dc\u001b[39m.\u001b[39;49mgrammar\u001b[39m.\u001b[39;49mENUMERATED_LIST[i],(\u001b[39m0\u001b[39;49m,\u001b[39m1\u001b[39;49m,\u001b[39m2\u001b[39;49m,(no_op(\u001b[39m3\u001b[39;49m))))))\n",
      "\n",
      "File \u001b[0;32m~/ownCloud/topics/artificial-scientific-discovery/2021_Unitary-Synthesis/ec/dreamcoder/domains/quantum_circuits/primitives.py:714\u001b[0m, in \u001b[0;36mexecute_program\u001b[0;34m(program, arguments)\u001b[0m\n",
      "\u001b[1;32m    712\u001b[0m circuit \u001b[39m=\u001b[39m program\u001b[39m.\u001b[39mevaluate([])\n",
      "\u001b[1;32m    713\u001b[0m \u001b[39mfor\u001b[39;00m arg \u001b[39min\u001b[39;00m arguments:\n",
      "\u001b[0;32m--> 714\u001b[0m     circuit \u001b[39m=\u001b[39m circuit(arg)\n",
      "\u001b[1;32m    715\u001b[0m \u001b[39mreturn\u001b[39;00m circuit\n",
      "\n",
      "File \u001b[0;32m~/ownCloud/topics/artificial-scientific-discovery/2021_Unitary-Synthesis/ec/dreamcoder/program.py:562\u001b[0m, in \u001b[0;36mAbstraction.evaluate.<locals>.<lambda>\u001b[0;34m(x)\u001b[0m\n",
      "\u001b[1;32m    561\u001b[0m \u001b[39mdef\u001b[39;00m \u001b[39mevaluate\u001b[39m(\u001b[39mself\u001b[39m, environment):\n",
      "\u001b[0;32m--> 562\u001b[0m     \u001b[39mreturn\u001b[39;00m \u001b[39mlambda\u001b[39;00m x: \u001b[39mself\u001b[39;49m\u001b[39m.\u001b[39;49mbody\u001b[39m.\u001b[39;49mevaluate([x] \u001b[39m+\u001b[39;49m environment)\n",
      "\n",
      "File \u001b[0;32m~/ownCloud/topics/artificial-scientific-discovery/2021_Unitary-Synthesis/ec/dreamcoder/program.py:344\u001b[0m, in \u001b[0;36mApplication.evaluate\u001b[0;34m(self, environment)\u001b[0m\n",
      "\u001b[1;32m    342\u001b[0m         \u001b[39mreturn\u001b[39;00m \u001b[39mself\u001b[39m\u001b[39m.\u001b[39mfalseBranch\u001b[39m.\u001b[39mevaluate(environment)\n",
      "\u001b[1;32m    343\u001b[0m \u001b[39melse\u001b[39;00m:\n",
      "\u001b[0;32m--> 344\u001b[0m     \u001b[39mreturn\u001b[39;00m \u001b[39mself\u001b[39;49m\u001b[39m.\u001b[39;49mf\u001b[39m.\u001b[39;49mevaluate(environment)(\u001b[39mself\u001b[39;49m\u001b[39m.\u001b[39;49mx\u001b[39m.\u001b[39;49mevaluate(environment))\n",
      "\n",
      "File \u001b[0;32m~/ownCloud/topics/artificial-scientific-discovery/2021_Unitary-Synthesis/ec/dreamcoder/utilities.py:97\u001b[0m, in \u001b[0;36mCurried.__call__\u001b[0;34m(self, x)\u001b[0m\n",
      "\u001b[1;32m     95\u001b[0m arguments \u001b[39m=\u001b[39m \u001b[39mself\u001b[39m\u001b[39m.\u001b[39marguments \u001b[39m+\u001b[39m [x]\n",
      "\u001b[1;32m     96\u001b[0m \u001b[39mif\u001b[39;00m \u001b[39mlen\u001b[39m(arguments) \u001b[39m==\u001b[39m \u001b[39mself\u001b[39m\u001b[39m.\u001b[39marity:\n",
      "\u001b[0;32m---> 97\u001b[0m     \u001b[39mreturn\u001b[39;00m \u001b[39mself\u001b[39;49m\u001b[39m.\u001b[39;49mf(\u001b[39m*\u001b[39;49marguments)\n",
      "\u001b[1;32m     98\u001b[0m \u001b[39melse\u001b[39;00m:\n",
      "\u001b[1;32m     99\u001b[0m     \u001b[39mreturn\u001b[39;00m Curried(\u001b[39mself\u001b[39m\u001b[39m.\u001b[39mf, arguments\u001b[39m=\u001b[39marguments, arity\u001b[39m=\u001b[39m\u001b[39mself\u001b[39m\u001b[39m.\u001b[39marity)\n",
      "\n",
      "File \u001b[0;32m~/ownCloud/topics/artificial-scientific-discovery/2021_Unitary-Synthesis/ec/dreamcoder/domains/quantum_circuits/primitives.py:598\u001b[0m, in \u001b[0;36mcnot_func\u001b[0;34m(old_circuit, qubit_1, qubit_2)\u001b[0m\n",
      "\u001b[0;32m--> 598\u001b[0m \u001b[39mdef\u001b[39;00m \u001b[39mcnot_func\u001b[39m(old_circuit, qubit_1,qubit_2): \u001b[39mreturn\u001b[39;00m two_qubit_gate(old_circuit, qubit_1, qubit_2, \u001b[39m\"\u001b[39;49m\u001b[39mcnot\u001b[39;49m\u001b[39m\"\u001b[39;49m)\n",
      "\n",
      "File \u001b[0;32m~/ownCloud/topics/artificial-scientific-discovery/2021_Unitary-Synthesis/ec/dreamcoder/domains/quantum_circuits/primitives.py:519\u001b[0m, in \u001b[0;36mtwo_qubit_gate\u001b[0;34m(old_circuit, qubit_1, qubit_2, operation_name)\u001b[0m\n",
      "\u001b[1;32m    516\u001b[0m     \u001b[39mraise\u001b[39;00m QuantumCircuitException(\u001b[39m\"\u001b[39m\u001b[39mInvalid selected qubit\u001b[39m\u001b[39m\"\u001b[39m)\n",
      "\u001b[1;32m    518\u001b[0m \u001b[39mif\u001b[39;00m qubit_1 \u001b[39m==\u001b[39m qubit_2:\n",
      "\u001b[0;32m--> 519\u001b[0m     \u001b[39mraise\u001b[39;00m QuantumCircuitException(\u001b[39m\"\u001b[39m\u001b[39mInvalid selected qubit\u001b[39m\u001b[39m\"\u001b[39m)\n",
      "\u001b[1;32m    522\u001b[0m \u001b[39mif\u001b[39;00m GLOBAL_LIMITED_CONNECTIVITY \u001b[39mand\u001b[39;00m \u001b[39mabs\u001b[39m(qubit_1\u001b[39m-\u001b[39mqubit_2)\u001b[39m!=\u001b[39m\u001b[39m1\u001b[39m:\n",
      "\u001b[1;32m    523\u001b[0m     eprint(\u001b[39m\"\u001b[39m\u001b[39mREJECTED\u001b[39m\u001b[39m\"\u001b[39m)\n",
      "\n",
      "\u001b[0;31mQuantumCircuitException\u001b[0m: Invalid selected qubit"
     ]
    }
   ],
   "source": [
    "for i in range(len(dc.grammar.ENUMERATED_LIST)):\n",
    "    np.testing.assert_allclose(\n",
    "        tasks[i].target_circuit_evaluation,\n",
    "        circuit_to_mat(\n",
    "            execute_program(dc.grammar.ENUMERATED_LIST[i], (0, 1, 2, (no_op(3))))\n",
    "        ),\n",
    "    )"
   ]
  }
 ],
 "metadata": {
  "kernelspec": {
   "display_name": "Python 3.8.13 ('dc2')",
   "language": "python",
   "name": "python3"
  },
  "language_info": {
   "codemirror_mode": {
    "name": "ipython",
    "version": 3
   },
   "file_extension": ".py",
   "mimetype": "text/x-python",
   "name": "python",
   "nbconvert_exporter": "python",
   "pygments_lexer": "ipython3",
   "version": "3.9.19"
  },
  "orig_nbformat": 4,
  "vscode": {
   "interpreter": {
    "hash": "21ea1a886259afbd8a118ef6898db29b8a19fae78d92613d0ae3d877be73df6a"
   }
  }
 },
 "nbformat": 4,
 "nbformat_minor": 2
}
